{
 "cells": [
  {
   "cell_type": "code",
   "execution_count": 6,
   "id": "d72fd972",
   "metadata": {},
   "outputs": [],
   "source": [
    "from Bio import Entrez\n",
    "from Bio import Medline\n",
    "from tqdm import tqdm\n",
    "import pandas as pd\n",
    "import sqlite3\n",
    "import pandas as pd\n",
    "import geopandas as gpd\n",
    "from shapely.geometry import Point\n",
    "import xlrd\n",
    "import plotly.graph_objects as go\n",
    "%matplotlib inline"
   ]
  },
  {
   "cell_type": "code",
   "execution_count": 8,
   "id": "3a7419e4",
   "metadata": {},
   "outputs": [
    {
     "data": {
      "text/plain": [
       "'\\n# deprecated geocoding experiments, if did pursue this would start with named entity recognition\\n# we wanna know which author affiliations are LMIC countries\\n# initial tack, let\\'s geocode then use country boundaries.... \\n\\n# Import the geocoding tool\\nfrom geopandas.tools import geocode\\n\\n# Geocode addresses using Nominatim. Remember to provide a custom \"application name\" in the user_agent parameter!\\ngeo = geocode(df[\\'author_affiliation\\'][0][-10:], provider=\\'nominatim\\', user_agent=\\'drcjar_geotimes\\', timeout=4)\\n\\ngeocode(\"Imperial College London\", provider=\\'nominatim\\', user_agent=\\'drcjar_geotimes\\', timeout=4).values\\n\\ngeocode(\"From the American College of Occupational and Environmental Medicine, ElkGrove, Illinois.\", provider=\\'nominatim\\', user_agent=\\'drcjar_geotimes\\', timeout=4)\\n\\n# our datas author_affiliation field is not readily geocoded\\n# it gets pretty hacky fast e.g https://pypi.org/project/pubmed-author-affiliation/ chopping strings based on \\n# prescence of \\'university\\' or \\'institution\\' to make geocodeable\\n# more sensible approach is to search for LMIC names in strings\\n'"
      ]
     },
     "execution_count": 8,
     "metadata": {},
     "output_type": "execute_result"
    }
   ],
   "source": [
    "def get_count(term):\n",
    "    \"\"\"\n",
    "    Use pubmed api to get a count of number of results for a search term\n",
    "    \"\"\"\n",
    "    \n",
    "    Entrez.email = \"carl.reynolds@imperial.ac.uk\"\n",
    "    count_handle = Entrez.esearch(db=\"pubmed\",\n",
    "                                  sort=\"relevance\",\n",
    "                                  retmode=\"xml\",\n",
    "                                  rettype=\"count\",\n",
    "                                  #field=\"DP\",\n",
    "                                  term=term)\n",
    "    count_results = Entrez.read(count_handle)\n",
    "    count = int(count_results[\"Count\"])\n",
    "    \n",
    "    return count\n",
    "\n",
    "def chunked_pmids(term, chunksize=1000):\n",
    "    \"\"\"\n",
    "    Use pubmed api to fetch blocks of pmids for a search term\n",
    "    \"\"\"\n",
    "    \n",
    "    count = get_count(term)\n",
    "    \n",
    "    retmax_requests = list(range(0, count, chunksize))\n",
    "                \n",
    "    pmids = []\n",
    "    \n",
    "    print(\"{} blocks of to process\".format(len(retmax_requests)))\n",
    "    \n",
    "    for i, retmax in enumerate(retmax_requests):\n",
    "        \n",
    "        print(\"Processing block {}\".format(i))\n",
    "        \n",
    "        pmid_handle = Entrez.esearch(db=\"pubmed\",\n",
    "                                     sort=\"relevance\",\n",
    "                                     retmode=\"xml\",\n",
    "                                     usehistory='y',\n",
    "                                     retstart=retmax,\n",
    "                                     retmax=chunksize,\n",
    "                                     #field=\"DP\",\n",
    "                                     term=term)\n",
    "        pmids.append(Entrez.read(pmid_handle)[\"IdList\"])\n",
    "            \n",
    "    return pmids\n",
    "\n",
    "def fetch_medline(pmids):\n",
    "    \"\"\"\n",
    "    Use pubmed api to fetch medline record for pmids\n",
    "    \"\"\"\n",
    "    \n",
    "    Entrez.email = \"carl.reynolds@imperial.ac.uk\"\n",
    "    handle = Entrez.efetch(db='pubmed',\n",
    "                           id=pmids,\n",
    "                           rettype='medline',\n",
    "                           retmode='text')\n",
    "    records = Medline.parse(handle)\n",
    "    \n",
    "    return records\n",
    "\n",
    "def getpapers(pmid_chunks):\n",
    "    \"\"\"\n",
    "    Fetch_medline(chunk) returns a generator object of medline records. we iterate through it saving the records \n",
    "    to a list. We make a dict of the list indexed by the pubmed id. \n",
    "    \"\"\"\n",
    "    \n",
    "    papers = []\n",
    "    notpapers = []\n",
    "    \n",
    "    print(\"fetching medline records:\")\n",
    "    \n",
    "    for chunk in tqdm(pmid_chunks):\n",
    "        records = fetch_medline(chunk)\n",
    "        for record in records:\n",
    "            try:\n",
    "                  papers.append((record['PMID'], (', '.join(record['AU'])),(', '.join(record['AD'])),\n",
    "                                 record['DP'], record['TI'], record['JT'], \n",
    "                                 (', '.join(record['PT']))))            \n",
    "            except: \n",
    "                notpapers.append(record)\n",
    "                continue\n",
    "            \n",
    "    return papers, notpapers\n",
    "\n",
    "\n",
    "def save_papers(papers):\n",
    "    \"\"\"\n",
    "    Save our papers to an sqlite database\n",
    "    \"\"\"\n",
    "    conn = sqlite3.connect('papers.db')\n",
    "    c = conn.cursor()\n",
    "    \n",
    "    # Drop table if already exists\n",
    "    c.execute(\"DROP TABLE IF EXISTS papers\")\n",
    "    \n",
    "    # Create table\n",
    "    c.execute('''CREATE TABLE papers\n",
    "             (pmid, author, author_affiliation, date, title, journal, pub_type)''')\n",
    "\n",
    "    # Insert a rows of data\n",
    "    c.executemany('INSERT INTO papers VALUES (?,?,?,?,?,?,?)', papers)\n",
    "\n",
    "    # Save (commit) the changes\n",
    "    conn.commit()\n",
    "\n",
    "    # We can also close the connection if we are done with it.\n",
    "    # Just be sure any changes have been committed or they will be lost.\n",
    "    conn.close()\n",
    "    \n",
    "def df_from_papers_database():\n",
    "    \"\"\"\n",
    "    Load our papers\n",
    "    \"\"\"\n",
    "    conn = sqlite3.connect('papers.db')\n",
    "    df = pd.read_sql_query('SELECT * FROM papers', conn)\n",
    "    return df\n",
    "\n",
    "def fetch_papers(year):\n",
    "    \"\"\"\n",
    "    Fetch our papers\n",
    "    \"\"\"\n",
    "    print(\"{} records to fetch\".format(get_count(year)))\n",
    "    pmid_chunks = chunked_pmids(year, 500)\n",
    "    papers, notpapers = getpapers(pmid_chunks)\n",
    "    \n",
    "    return papers, notpapers\n",
    "\n",
    "def results(df):\n",
    "    \"\"\"\n",
    "    Make some results\n",
    "    \"\"\"\n",
    "    print(df['journal'].unique())\n",
    "    print('\\n')\n",
    "    \n",
    "    print(df['author_affiliation'].str.contains('|'.join(list_of_lmics)).value_counts())\n",
    "    print('contains lmic\\n')\n",
    "\n",
    "    print(df['author_affiliation'].str.contains('|'.join(list_of_lmics)).value_counts(normalize=True))\n",
    "    print('contains lmic\\n')\n",
    "\n",
    "\"\"\"\n",
    "# deprecated geocoding experiments, if did pursue this would start with named entity recognition\n",
    "# we wanna know which author affiliations are LMIC countries\n",
    "# initial tack, let's geocode then use country boundaries.... \n",
    "\n",
    "# Import the geocoding tool\n",
    "from geopandas.tools import geocode\n",
    "\n",
    "# Geocode addresses using Nominatim. Remember to provide a custom \"application name\" in the user_agent parameter!\n",
    "geo = geocode(df['author_affiliation'][0][-10:], provider='nominatim', user_agent='drcjar_geotimes', timeout=4)\n",
    "\n",
    "geocode(\"Imperial College London\", provider='nominatim', user_agent='drcjar_geotimes', timeout=4).values\n",
    "\n",
    "geocode(\"From the American College of Occupational and Environmental Medicine, ElkGrove, Illinois.\", provider='nominatim', user_agent='drcjar_geotimes', timeout=4)\n",
    "\n",
    "# our datas author_affiliation field is not readily geocoded\n",
    "# it gets pretty hacky fast e.g https://pypi.org/project/pubmed-author-affiliation/ chopping strings based on \n",
    "# prescence of 'university' or 'institution' to make geocodeable\n",
    "# more sensible approach is to search for LMIC names in strings\n",
    "\"\"\""
   ]
  },
  {
   "cell_type": "code",
   "execution_count": 10,
   "id": "9cd78c02",
   "metadata": {},
   "outputs": [
    {
     "name": "stdout",
     "output_type": "stream",
     "text": [
      "['journal of occupational and environmental medicine [Journal]', 'occupational medicine [Journal]', 'the american journal of industrial medicine [journal]', 'occupational environmental medicine [journal]']\n",
      "\n",
      "\n",
      "fetching journal of occupational and environmental medicine [Journal]\n",
      "\n",
      "6107 records to fetch\n",
      "13 blocks of to process\n",
      "Processing block 0\n",
      "Processing block 1\n",
      "Processing block 2\n",
      "Processing block 3\n",
      "Processing block 4\n",
      "Processing block 5\n",
      "Processing block 6\n",
      "Processing block 7\n",
      "Processing block 8\n",
      "Processing block 9\n",
      "Processing block 10\n",
      "Processing block 11\n",
      "Processing block 12\n",
      "fetching medline records:\n"
     ]
    },
    {
     "name": "stderr",
     "output_type": "stream",
     "text": [
      "100%|███████████████████████████████████████████| 13/13 [00:41<00:00,  3.18s/it]\n"
     ]
    },
    {
     "name": "stdout",
     "output_type": "stream",
     "text": [
      "fetching occupational medicine [Journal]\n",
      "\n",
      "4859 records to fetch\n",
      "10 blocks of to process\n",
      "Processing block 0\n",
      "Processing block 1\n",
      "Processing block 2\n",
      "Processing block 3\n",
      "Processing block 4\n",
      "Processing block 5\n",
      "Processing block 6\n",
      "Processing block 7\n",
      "Processing block 8\n",
      "Processing block 9\n",
      "fetching medline records:\n"
     ]
    },
    {
     "name": "stderr",
     "output_type": "stream",
     "text": [
      "100%|███████████████████████████████████████████| 10/10 [00:29<00:00,  2.99s/it]\n"
     ]
    },
    {
     "name": "stdout",
     "output_type": "stream",
     "text": [
      "fetching the american journal of industrial medicine [journal]\n",
      "\n",
      "5869 records to fetch\n",
      "12 blocks of to process\n",
      "Processing block 0\n",
      "Processing block 1\n",
      "Processing block 2\n",
      "Processing block 3\n",
      "Processing block 4\n",
      "Processing block 5\n",
      "Processing block 6\n",
      "Processing block 7\n",
      "Processing block 8\n",
      "Processing block 9\n",
      "Processing block 10\n",
      "Processing block 11\n",
      "fetching medline records:\n"
     ]
    },
    {
     "name": "stderr",
     "output_type": "stream",
     "text": [
      "100%|███████████████████████████████████████████| 12/12 [00:34<00:00,  2.90s/it]\n"
     ]
    },
    {
     "name": "stdout",
     "output_type": "stream",
     "text": [
      "fetching occupational environmental medicine [journal]\n",
      "\n",
      "4747 records to fetch\n",
      "10 blocks of to process\n",
      "Processing block 0\n",
      "Processing block 1\n",
      "Processing block 2\n",
      "Processing block 3\n",
      "Processing block 4\n",
      "Processing block 5\n",
      "Processing block 6\n",
      "Processing block 7\n",
      "Processing block 8\n",
      "Processing block 9\n",
      "fetching medline records:\n"
     ]
    },
    {
     "name": "stderr",
     "output_type": "stream",
     "text": [
      "100%|███████████████████████████████████████████| 10/10 [00:30<00:00,  3.07s/it]\n"
     ]
    }
   ],
   "source": [
    "# make a dict of journal papers retrieved using our pubmed paper fetching function and save them\n",
    "# we currently save them to a sqllite database which is overkill for small number of results; could use \n",
    "# .csv instead but might be helpful for scaling or web apps\n",
    "# uncommment to run; commented out so we don't download afresh each run\n",
    "\n",
    "# target occ lung dis journals\n",
    "\n",
    "\n",
    "target_journals = [\"journal of occupational and environmental medicine [Journal]\", \"occupational medicine [Journal]\",\"the american journal of industrial medicine [journal]\",\"occupational environmental medicine [journal]\"]\n",
    "print(target_journals)\n",
    "print(\"\\n\")\n",
    "\n",
    "\n",
    "papers = {}\n",
    "notpapers = {}\n",
    "\n",
    "for journal in target_journals:\n",
    "    print(\"fetching {}\\n\".format(journal))\n",
    "    papers[journal], notpapers[journal] = fetch_papers(journal)\n",
    "    \n",
    "# smash together our dict of lists into a single list\n",
    "papers = list(set().union(*papers.values()))\n",
    "# notpapers = list(set().union(*notpapers.values()))\n",
    "\n",
    "save_papers(papers)\n"
   ]
  },
  {
   "cell_type": "code",
   "execution_count": 12,
   "id": "e581dfe2",
   "metadata": {},
   "outputs": [
    {
     "data": {
      "text/plain": [
       "\"\\nexample of 'not a paper' for our purposes this is a pubmed record that does not have all the fields \\nof interest for our analysis. \\n\\nthis is why N of records in pubmed search is not equal to N of records in our analysis.  \\n\\nwe consider records that have the following fields: AU, AD, DP, TI, JT, and PT. These correspond to \\nauthor, affiliation, date of publication, title, journal title, and publication type.\\n\\n                                 \\nsee https://www.nlm.nih.gov/bsd/mms/medlineelements.html for more information.\\n\""
      ]
     },
     "execution_count": 12,
     "metadata": {},
     "output_type": "execute_result"
    }
   ],
   "source": [
    "\"\"\"\n",
    "example of 'not a paper' for our purposes this is a pubmed record that does not have all the fields \n",
    "of interest for our analysis. \n",
    "\n",
    "this is why N of records in pubmed search is not equal to N of records in our analysis.  \n",
    "\n",
    "we consider records that have the following fields: AU, AD, DP, TI, JT, and PT. These correspond to \n",
    "author, affiliation, date of publication, title, journal title, and publication type.\n",
    "\n",
    "                                 \n",
    "see https://www.nlm.nih.gov/bsd/mms/medlineelements.html for more information.\n",
    "\"\"\"\n",
    "\n",
    "# notpapers['journal of occupational and environmental medicine [Journal]'][9]"
   ]
  },
  {
   "cell_type": "code",
   "execution_count": 14,
   "id": "c5d973bd",
   "metadata": {},
   "outputs": [],
   "source": [
    "# load our papers database as a dataframe\n",
    "df = df_from_papers_database()"
   ]
  },
  {
   "cell_type": "code",
   "execution_count": 16,
   "id": "2a9b2367",
   "metadata": {},
   "outputs": [
    {
     "data": {
      "text/plain": [
       "16389"
      ]
     },
     "execution_count": 16,
     "metadata": {},
     "output_type": "execute_result"
    }
   ],
   "source": [
    "len(df)"
   ]
  },
  {
   "cell_type": "code",
   "execution_count": 18,
   "id": "d4ec566d",
   "metadata": {},
   "outputs": [
    {
     "data": {
      "text/plain": [
       "array(['Environment and Lifestyle Epidemiology Branch, International Agency for Research on Cancer (IARC), Lyon, France., Cancer Research Center, Cancer Institute of the Islamic Republic of Iran, Tehran, The Islamic Republic of Iran., Environment and Lifestyle Epidemiology Branch, International Agency for Research on Cancer (IARC), Lyon, France., Environment and Lifestyle Epidemiology Branch, International Agency for Research on Cancer (IARC), Lyon, France., Research Directorate, Veterans Affairs Canada, Charlottetown, Prince Edward Island, Canada., Cancer Research Center, Cancer Institute of the Islamic Republic of Iran, Tehran, The Islamic Republic of Iran., Health Sciences Unit, Faculty of Social Sciences, University of Tampere Faculty of Social Sciences, Tampere, Finland., Cancer Research Center, Cancer Institute of the Islamic Republic of Iran, Tehran, The Islamic Republic of Iran., Department of Epidemiology and Biostatistics, Kerman University of Medical Sciences, Kerman, The Islamic Republic of Iran., Social Determinants of Health Research Center, Institute for Futures Studies in Health, Kerman University of Medical Sciences, Kerman, The Islamic Republic of Iran., Clinical Research Development Center, The Persian Gulf Martyrs, Boushehr University of Medical Sciences, Bushehr, The Islamic Republic of Iran., Research Center for Environmental Determinants of Health, School of Public Health, Kermanshah University of Medical Sciences, Kermanshah, The Islamic Republic of Iran., Social Development and Health Promotion Research Center, Kermanshah University of Medical Sciences, Kermanshah, The Islamic Republic of Iran., Kerman University of Medical Sciences Department of Epidemiology and Biostatistics, Kerman, The Islamic Republic of Iran., Stony Brook Cancer Center, Stony Brook University, Stony Brook, New York, USA., Department of Medical and Surgical Sciences, University of Bologna, Bologna, Italy., Department of Biology, Morgan State University School of Computer Mathematical and Natural Sciences, Baltimore, Maryland, USA., Health Sciences Unit, Faculty of Social Sciences, Tampere University, Tampere, Finland., Finnish Cancer Registry, Cancer Society of Finland Institute for Statistical and Epidemiological Cancer Research, Helsinki, Finland., National Cancer Institute Division of Cancer Epidemiology and Genetics, Bethesda, Maryland, USA., Environment and Lifestyle Epidemiology Branch, International Agency for Research on Cancer (IARC), Lyon, France., Environment and Lifestyle Epidemiology Branch, International Agency for Research on Cancer (IARC), Lyon, France schuzj@iarc.fr., Cancer Research Center, Cancer Institute of the Islamic Republic of Iran, Tehran, The Islamic Republic of Iran., Cancer Biology Research Center, Cancer Institute of the Islamic Republic of Iran, Tehran, The Islamic Republic of Iran.'],\n",
       "      dtype=object)"
      ]
     },
     "execution_count": 18,
     "metadata": {},
     "output_type": "execute_result"
    }
   ],
   "source": [
    "df[df.pmid == \"36379677\"].author_affiliation.values"
   ]
  },
  {
   "cell_type": "code",
   "execution_count": 20,
   "id": "579bdaeb",
   "metadata": {},
   "outputs": [
    {
     "data": {
      "text/plain": [
       "array(['International Agency for Research on Cancer, Lyon, France. straif@iarc.fr',\n",
       "       'Institute of Occupational Health, University of Birmingham, Edgbaston, Birmingham, UK. T.M.Sorahan@bham.ac.uk',\n",
       "       'The HEART (Hypertension and Endothelial Function with Aerobic and Resistance Training) Laboratory, Health & Exercise Physiology Department, Ursinus College, Collegeville (Ms Derella, Ms Aichele, Ms Chavis, Mr Perez, Ms Getty, Ms Wisdo, Dr Feairheller); Temple School of Medicine, Temple University (Ms Oakman); Physical Therapy Division, Duke University, Durham, North Carolina (Ms Cromwell); Physical Therapy Division, Drexel University (Ms Hill), Philadelphia, Pennsylvania.',\n",
       "       'Department of Orthopaedics, Royal Lancaster Infirmary, UK.',\n",
       "       'School of Sport, Exercise and Health Sciences, Loughborough University, Loughborough (Dr Varela-Mato, Dr Clemes, Dr King, Dr Munir); National Institute of Health Research Leicester-Loughborough Diet, Lifestyle and Physical Activity Biomedical Research Centre (Dr Varela-Mato, Dr Clemes, Dr King, Dr Munir), United Kingdom.'],\n",
       "      dtype=object)"
      ]
     },
     "execution_count": 20,
     "metadata": {},
     "output_type": "execute_result"
    }
   ],
   "source": [
    "df['author_affiliation'].head().values"
   ]
  },
  {
   "cell_type": "code",
   "execution_count": 22,
   "id": "95ac46f2",
   "metadata": {},
   "outputs": [],
   "source": [
    "# seems like a reasonable source of countries\n",
    "countries = pd.read_excel('https://datacatalogfiles.worldbank.org/ddh-published/0037712/DR0090755/CLASS.xlsx')\n",
    "countries = countries.head(218) # junk we don't need after this row\n",
    "countries = countries[['Economy', 'Code', 'Income group']] # lose columns we don't need\n",
    "countries['Economy'] = countries['Economy'].str.replace(\"(\",\"\") # it's best not to have brackets for later regex \n",
    "countries['Economy'] = countries['Economy'].str.replace(\")\",\"\")"
   ]
  },
  {
   "cell_type": "code",
   "execution_count": 24,
   "id": "d389909f",
   "metadata": {},
   "outputs": [
    {
     "data": {
      "text/plain": [
       "array(['Low income', 'Upper middle income', 'High income',\n",
       "       'Lower middle income', nan], dtype=object)"
      ]
     },
     "execution_count": 24,
     "metadata": {},
     "output_type": "execute_result"
    }
   ],
   "source": [
    "countries['Income group'].unique()"
   ]
  },
  {
   "cell_type": "code",
   "execution_count": 26,
   "id": "2b408ad9",
   "metadata": {},
   "outputs": [],
   "source": [
    "# low and middle == 'Low income' or 'Lower middle income'\n",
    "list_of_lmics = countries[((countries['Income group'] == \"Low income\") | (countries['Income group'] == \"Lower middle income\"))].dropna().Economy.to_list()\n",
    "list_of_hics = countries[countries['Income group'] == 'High income'].dropna().Economy.to_list()"
   ]
  },
  {
   "cell_type": "code",
   "execution_count": 28,
   "id": "ab0758ed",
   "metadata": {},
   "outputs": [],
   "source": [
    "list_of_lmics_codes = countries[((countries['Income group'] == \"Low income\") | (countries['Income group'] == \"Lower middle income\"))].dropna().Code.to_list()"
   ]
  },
  {
   "cell_type": "code",
   "execution_count": 30,
   "id": "5ad1090a",
   "metadata": {},
   "outputs": [
    {
     "data": {
      "text/html": [
       "<div>\n",
       "<style scoped>\n",
       "    .dataframe tbody tr th:only-of-type {\n",
       "        vertical-align: middle;\n",
       "    }\n",
       "\n",
       "    .dataframe tbody tr th {\n",
       "        vertical-align: top;\n",
       "    }\n",
       "\n",
       "    .dataframe thead th {\n",
       "        text-align: right;\n",
       "    }\n",
       "</style>\n",
       "<table border=\"1\" class=\"dataframe\">\n",
       "  <thead>\n",
       "    <tr style=\"text-align: right;\">\n",
       "      <th></th>\n",
       "      <th>Economy</th>\n",
       "      <th>Code</th>\n",
       "      <th>Income group</th>\n",
       "    </tr>\n",
       "  </thead>\n",
       "  <tbody>\n",
       "    <tr>\n",
       "      <th>91</th>\n",
       "      <td>Iran, Islamic Rep.</td>\n",
       "      <td>IRN</td>\n",
       "      <td>Upper middle income</td>\n",
       "    </tr>\n",
       "  </tbody>\n",
       "</table>\n",
       "</div>"
      ],
      "text/plain": [
       "               Economy Code         Income group\n",
       "91  Iran, Islamic Rep.  IRN  Upper middle income"
      ]
     },
     "execution_count": 30,
     "metadata": {},
     "output_type": "execute_result"
    }
   ],
   "source": [
    "countries[countries['Economy'] =='Iran, Islamic Rep.']"
   ]
  },
  {
   "cell_type": "code",
   "execution_count": 32,
   "id": "07a13b3a",
   "metadata": {},
   "outputs": [
    {
     "data": {
      "text/plain": [
       "['Afghanistan',\n",
       " 'Angola',\n",
       " 'Bangladesh',\n",
       " 'Benin',\n",
       " 'Bhutan',\n",
       " 'Bolivia',\n",
       " 'Burkina Faso',\n",
       " 'Burundi',\n",
       " 'Cabo Verde',\n",
       " 'Cambodia',\n",
       " 'Cameroon',\n",
       " 'Central African Republic',\n",
       " 'Chad',\n",
       " 'Comoros',\n",
       " 'Congo, Dem. Rep.',\n",
       " 'Congo, Rep.',\n",
       " 'Côte d’Ivoire',\n",
       " 'Djibouti',\n",
       " 'Egypt, Arab Rep.',\n",
       " 'Eritrea',\n",
       " 'Eswatini',\n",
       " 'Ethiopia',\n",
       " 'Gambia, The',\n",
       " 'Ghana',\n",
       " 'Guinea',\n",
       " 'Guinea-Bissau',\n",
       " 'Haiti',\n",
       " 'Honduras',\n",
       " 'India',\n",
       " 'Jordan',\n",
       " 'Kenya',\n",
       " 'Kiribati',\n",
       " \"Korea, Dem. People's Rep.\",\n",
       " 'Kyrgyz Republic',\n",
       " 'Lao PDR',\n",
       " 'Lebanon',\n",
       " 'Lesotho',\n",
       " 'Liberia',\n",
       " 'Madagascar',\n",
       " 'Malawi',\n",
       " 'Mali',\n",
       " 'Mauritania',\n",
       " 'Micronesia, Fed. Sts.',\n",
       " 'Morocco',\n",
       " 'Mozambique',\n",
       " 'Myanmar',\n",
       " 'Nepal',\n",
       " 'Nicaragua',\n",
       " 'Niger',\n",
       " 'Nigeria',\n",
       " 'Pakistan',\n",
       " 'Papua New Guinea',\n",
       " 'Philippines',\n",
       " 'Rwanda',\n",
       " 'Samoa',\n",
       " 'São Tomé and Príncipe',\n",
       " 'Senegal',\n",
       " 'Sierra Leone',\n",
       " 'Solomon Islands',\n",
       " 'Somalia',\n",
       " 'South Sudan',\n",
       " 'Sri Lanka',\n",
       " 'Sudan',\n",
       " 'Syrian Arab Republic',\n",
       " 'Tajikistan',\n",
       " 'Tanzania',\n",
       " 'Timor-Leste',\n",
       " 'Togo',\n",
       " 'Tunisia',\n",
       " 'Uganda',\n",
       " 'Uzbekistan',\n",
       " 'Vanuatu',\n",
       " 'Vietnam',\n",
       " 'West Bank and Gaza',\n",
       " 'Yemen, Rep.',\n",
       " 'Zambia',\n",
       " 'Zimbabwe']"
      ]
     },
     "execution_count": 32,
     "metadata": {},
     "output_type": "execute_result"
    }
   ],
   "source": [
    "list_of_lmics"
   ]
  },
  {
   "cell_type": "code",
   "execution_count": 33,
   "id": "dc5f1ab2",
   "metadata": {},
   "outputs": [],
   "source": [
    "# v probably don't need to do this / doesn't help\n",
    "list_of_lmics = [i.split(',')[0] for i in list_of_lmics] # simplify names (i.e throw away sting after ',')"
   ]
  },
  {
   "cell_type": "code",
   "execution_count": 34,
   "id": "d2b3a51b",
   "metadata": {},
   "outputs": [
    {
     "data": {
      "text/plain": [
       "['Afghanistan',\n",
       " 'Angola',\n",
       " 'Bangladesh',\n",
       " 'Benin',\n",
       " 'Bhutan',\n",
       " 'Bolivia',\n",
       " 'Burkina Faso',\n",
       " 'Burundi',\n",
       " 'Cabo Verde',\n",
       " 'Cambodia',\n",
       " 'Cameroon',\n",
       " 'Central African Republic',\n",
       " 'Chad',\n",
       " 'Comoros',\n",
       " 'Congo',\n",
       " 'Congo',\n",
       " 'Côte d’Ivoire',\n",
       " 'Djibouti',\n",
       " 'Egypt',\n",
       " 'Eritrea',\n",
       " 'Eswatini',\n",
       " 'Ethiopia',\n",
       " 'Gambia',\n",
       " 'Ghana',\n",
       " 'Guinea',\n",
       " 'Guinea-Bissau',\n",
       " 'Haiti',\n",
       " 'Honduras',\n",
       " 'India',\n",
       " 'Jordan',\n",
       " 'Kenya',\n",
       " 'Kiribati',\n",
       " 'Korea',\n",
       " 'Kyrgyz Republic',\n",
       " 'Lao PDR',\n",
       " 'Lebanon',\n",
       " 'Lesotho',\n",
       " 'Liberia',\n",
       " 'Madagascar',\n",
       " 'Malawi',\n",
       " 'Mali',\n",
       " 'Mauritania',\n",
       " 'Micronesia',\n",
       " 'Morocco',\n",
       " 'Mozambique',\n",
       " 'Myanmar',\n",
       " 'Nepal',\n",
       " 'Nicaragua',\n",
       " 'Niger',\n",
       " 'Nigeria',\n",
       " 'Pakistan',\n",
       " 'Papua New Guinea',\n",
       " 'Philippines',\n",
       " 'Rwanda',\n",
       " 'Samoa',\n",
       " 'São Tomé and Príncipe',\n",
       " 'Senegal',\n",
       " 'Sierra Leone',\n",
       " 'Solomon Islands',\n",
       " 'Somalia',\n",
       " 'South Sudan',\n",
       " 'Sri Lanka',\n",
       " 'Sudan',\n",
       " 'Syrian Arab Republic',\n",
       " 'Tajikistan',\n",
       " 'Tanzania',\n",
       " 'Timor-Leste',\n",
       " 'Togo',\n",
       " 'Tunisia',\n",
       " 'Uganda',\n",
       " 'Uzbekistan',\n",
       " 'Vanuatu',\n",
       " 'Vietnam',\n",
       " 'West Bank and Gaza',\n",
       " 'Yemen',\n",
       " 'Zambia',\n",
       " 'Zimbabwe']"
      ]
     },
     "execution_count": 34,
     "metadata": {},
     "output_type": "execute_result"
    }
   ],
   "source": [
    "# this is list we're using for matching\n",
    "# obviously it'll go wrong for korea\n",
    "list_of_lmics"
   ]
  },
  {
   "cell_type": "code",
   "execution_count": 35,
   "id": "4bcfce27",
   "metadata": {},
   "outputs": [
    {
     "data": {
      "text/plain": [
       "array(['Department of Preventive Medicine, College of Medicine, Seoul National University, 103 Daehangno, Jongno-gu, Seoul 110-799, Republic of Korea.',\n",
       "       \"From the Department of Urology, Sanggye Paik Hospital, Inje University College of Medicine, Seoul, Republic of Korea (J.Y.K.); From the Department of Preventive Medicine, Yonsei University College of Medicine, Seoul, Republic of Korea (J.Y.); Division of Health Administration, College of Software and Digital Healthcare Convergence, Yonsei University, Wonju, Republic of Korea (K.Y.); Department of Research and Analysis, National Health Insurance Service Ilsan Hospital, Goyang, Republic of Korea (W.R.L.); Department of Occupational and Environmental Medicine, Gil Medical Center, Gachon University College of Medicine, Incheon, Republic of Korea (W.L.); and Department of Occupational and Environmental Medicine, Seoul St Mary's Hospital, College of Medicine, The Catholic University of Korea, Seoul, Republic of Korea (M.Y.K.).\",\n",
       "       'Department of Occupational and Environmental Medicine, Hallym University Sacred Heart Hospital, Anyang, Korea (Drs Cho, Ju); Department of Occupational & Environmental Health, Graduate School of Public Health, Seoul National University, Seoul, Korea (Drs Cho, Paek); Department of Occupational & Environmental Medicine, Ewha Womans University Mokdong Hospital, Seoul, Korea (Dr Kim); and Department of Occupational and Environmental Medicine, Ewha Womans University School of Medicine, Seoul, Korea (Dr Jung-Choi).',\n",
       "       'Division of Colorectal Surgery, Department of Surgery, Chonnam National University Hospital, Gwangju, Republic of Korea., Division of Colorectal Surgery, Department of Surgery, Korea University Anam Hospital, Seoul, Republic of Korea., Division of Gastroenterology and Hepatology, Department of Internal Medicine, Korea University College of Medicine, Seoul, Republic of Korea., Department of Microbiology, Korea University College of Medicine, Seoul, Republic of Korea.',\n",
       "       'From the Department of Emergency Medicine, Chungbuk National University Hospital, Seowon-gu, Cheongju-si, Chungcheongbuk-do, South Korea (Shin, Dr Park, Dr Chai, Dr Kim, Dr Lee, and Dr Kim); Strategic Research, Laerdal Medical, Stavanger, Norway (Dr Kong); Department of Paramedic Science, Korea National University of Transportation, Jeungpyeong-gun, Chungcheongbuk-do, South Korea (Shin); Department of Emergency Medicine, College of Medicine, Chungbuk National University, Seowongu, Cheongjusi, Chungcheongbuk-do, South Korea (Dr Kim, Dr Lee, and Dr Kim).',\n",
       "       \"Department of Occupational and Environmental Medicine, Seoul St. Mary's Hospital, Seocho-gu, Seoul, Republic of Korea., Department of Occupational and Environmental Medicine, Seoul St. Mary's Hospital, Seocho-gu, Seoul, Republic of Korea., Department of Occupational and Environmental Medicine, College of Medicine, The Catholic University of Korea, Seoul, Republic of Korea., Department of Occupational and Environmental Medicine, Hanyang University College of Medicine, Seoul, Republic of Korea., Department of Preventive Medicine, Seoul National University College of Medicine, Seoul, Republic of Korea., Department of Occupational and Environmental Medicine, Seoul St. Mary's Hospital, Seocho-gu, Seoul, Republic of Korea., Department of Occupational and Environmental Medicine, Seoul St. Mary's Hospital, Seocho-gu, Seoul, Republic of Korea snaptoon@naver.com., Department of Occupational and Environmental Medicine, College of Medicine, The Catholic University of Korea, Seoul, Republic of Korea.\",\n",
       "       'Department of Occupational Health, Catholic University of Daegu, Gyeongsan, South Korea., Department of Occupational and Environmental Medicine, Ulsan University Hospital, University of Ulsan College of Medicine, Ulsan, South Korea., Department of Occupational and Environmental Medicine, Ulsan University Hospital, University of Ulsan College of Medicine, Ulsan, South Korea.',\n",
       "       'Department of Occupational and Environmental Medicine, Ulsan University Hospital, Dong-Gu, Ulsan, South Korea. chungang@dreamwiz.com',\n",
       "       'From the Korea Energy Economics Institute (Dr Chung), Seoul, South Korea; and Center for Healthcare Policy and Research and Department of Public Health Sciences (Dr Leigh), University of California Davis School of Medicine.',\n",
       "       'University of Iowa, College of Nursing, Iowa City, Iowa (Drs Ramey and Perkhounkova, Ms Hein), University of Iowa College of Public Health, Iowa City, Iowa (Dr Ramey), University of Ulsan, Ulsan, South Korea (Dr Chung), and Iowa State University, Department of Kinesiology, Ames, Iowa (Dr Franke and Ms Anderson).',\n",
       "       'National Cancer Control Institute, National Cancer Center, Goyang 410-769, Korea., Department of Occupational and Environmental Medicine, Dong-A University, Busan 602-715, Korea, kimji@dau.ac.kr., Department of Occupational and Environmental Medicine, Busan Paik Hospital, Inje University, Busan 614-735, Korea., Occupational Safety and Health Research Institute, Korea Occupational Safety and Health Agency, Incheon 403-711, Korea.',\n",
       "       'Department of Occupational and Environmental Medicine, Soonchunhyang University Hospital, Seoul, Republic of Korea (Dr Lee); Department of Occupational and Environmental Medicine, College of Medicine, The Catholic University of Korea, Seoul, Republic of Korea (Dr Kang).',\n",
       "       'Department of Occupational Health, Catholic University of Daegu, Gyeongsan, South Korea., Department of Sociology, Yonsei University, Seoul, South Korea., Department of Occupational and Environmental Medicine, Ulsan University Hospital, University of Ulsan College of Medicine, Ulsan, South Korea.',\n",
       "       'Department of Occupational Health, Catholic University of Daegu, Gyeongsan (Dr Park); Department of Occupational and Environmental Medicine, Ulsan University Hospital, University of Ulsan College of Medicine, Ulsan (Dr Kim), South Korea.',\n",
       "       'Department of Occupational and Environmental Medicine, Gil Medical Center, Gachon University College of Medicine, Incheon (Dr Lee, Dr Lee, Dr Kim, Dr Choi, Dr Ham, Dr Kang); The Institute for Occupational Health, Department of Preventive Medicine, Yonsei University College of Medicine, Seoul (Dr Yoon); and Professional Engineer Work Environment Research Bureau, the Occupational Safety and Health Research Institute, Ulsan, Republic of Korea (Dr Chung).',\n",
       "       \"Department of Occupational and Environmental Medicine, Seoul St. Mary's Hospital, College of Medicine, Catholic University of Korea, Seoul, Republic of Korea., Department of Occupational and Environmental Medicine, Seoul St. Mary's Hospital, College of Medicine, Catholic University of Korea, Seoul, Republic of Korea., Department of Occupational and Environmental Medicine, Seoul St. Mary's Hospital, College of Medicine, Catholic University of Korea, Seoul, Republic of Korea., Department of Preventive Medicine, Occupational & Environmental Medicine, Seoul National University College of Medicine, Seoul, Republic of Korea., Department of Occupational and Environmental Medicine, Seoul St. Mary's Hospital, College of Medicine, Catholic University of Korea, Seoul, Republic of Korea., Department of Occupational and Environmental Medicine, Seoul St. Mary's Hospital, College of Medicine, Catholic University of Korea, Seoul, Republic of Korea snaptoon@naver.com.\",\n",
       "       'Department of Occupational and Environmental Medicine, Dongguk University Gyeongju Hospital, Gyeongju-si, South Korea., Department of Occupational and Environmental Medicine, Dongguk University Ilsan Hospital, Goyang-si, South Korea.',\n",
       "       'Department of Occupational and Environmental Medicine, Seegene Medical Foundation, Seoul, Korea., Department of Occupational and Environmental Medicine, Hallym University Sacred Heart Hospital, Seoul, Korea., Department of Occupational and Environmental Medicine, Hallym University Sacred Heart Hospital, Seoul, Korea., Department of Occupational and Environmental Medicine, Changwon Samsung Hospital, Sungkyunkwan College of Medicine, Changwon, Korea., Department of Occupational Medicine, Graduate School of Public Health, School of medicine, the Catholic University of Korea, Seoul, Korea.',\n",
       "       'From the Department of Emergency Medicine, Chonnam National University Medical School, Gwangju, Republic of Korea (E.J., H.H.R.); Department of Nursing, Nambu University, Gwangju, Republic of Korea (H.Y.K.); and Department of Obstetrics and Gynecology, Chonnam National University Medical School, Gwangju, Republic of Korea (U.C.J.).',\n",
       "       'Department of Preventive Medicine, Inha University College of Medicine, Inchon, Korea. ychong@dragon.inha.ac.kr',\n",
       "       'Department of Preventive Medicine, College of Medicine, Korea University, Seoul, South Korea. leewj@korea.ac.kr.',\n",
       "       'Department of Occupational and Environmental Medicine, Inha University, Incheon, Republic of Korea.',\n",
       "       'Department of Occupational Health, Catholic University of Daegu, Gyeongsan, South Korea., Department of Sociology, Yonsei University, Seoul, South Korea., Department of Sociology, Yonsei University, Seoul, South Korea., Environmental Health Center, Ulsan University Hospital, University of Ulsan College of Medicine, Ulsan, South Korea., Department of Occupational and Environmental Medicine, Ulsan University Hospital, University of Ulsan College of Medicine, Ulsan, South Korea.',\n",
       "       'Division of Cancer Epidemiology and Genetics, National Cancer Institute, National Institutes of Health, Department of Health and Human Services, Bethesda, MD, USA., Division of Cancer Epidemiology and Genetics, National Cancer Institute, National Institutes of Health, Department of Health and Human Services, Bethesda, MD, USA., Stewart Exposure Assessments, LLC, Arlington, VA, USA., Korea National Open University, Seoul, Republic of Korea., Vermont Cancer Registry, Burlington, VT, USA., Maine Cancer Registry, Augusta, ME, USA., Geisel School of Medicine at Dartmouth, Hanover, NH, USA., New Hampshire Department of Health and Human Services, Concord, NH, USA., Geisel School of Medicine at Dartmouth, Hanover, NH, USA., Maine Cancer Registry, Augusta, ME, USA., Division of Cancer Epidemiology and Genetics, National Cancer Institute, National Institutes of Health, Department of Health and Human Services, Bethesda, MD, USA., Division of Cancer Epidemiology and Genetics, National Cancer Institute, National Institutes of Health, Department of Health and Human Services, Bethesda, MD, USA., Division of Cancer Epidemiology and Genetics, National Cancer Institute, National Institutes of Health, Department of Health and Human Services, Bethesda, MD, USA., Division of Cancer Epidemiology and Genetics, National Cancer Institute, National Institutes of Health, Department of Health and Human Services, Bethesda, MD, USA., Division of Cancer Epidemiology and Genetics, National Cancer Institute, National Institutes of Health, Department of Health and Human Services, Bethesda, MD, USA.',\n",
       "       'Department of Occupational and Environmental Medicine, Dongguk University Seoul, Graduate School of Medicine, Goyang, South Korea.',\n",
       "       \"The Institute for Occupational Health, Yonsei University College of Medicine, Seoul, Korea., Graduate School of Public Health, Yonsei University College of Medicine, Seoul, Korea., Incheon Worker's Health Center, Incheon, Korea., Department of Preventive Medicine, Yonsei University College of Medicine, Seoul, Korea., The Institute for Occupational Health, Yonsei University College of Medicine, Seoul, Korea., Graduate School of Public Health, Yonsei University College of Medicine, Seoul, Korea., Incheon Worker's Health Center, Incheon, Korea., Department of Preventive Medicine, Yonsei University College of Medicine, Seoul, Korea., The Institute for Occupational Health, Yonsei University College of Medicine, Seoul, Korea., Graduate School of Public Health, Yonsei University College of Medicine, Seoul, Korea., Incheon Worker's Health Center, Incheon, Korea., Department of Preventive Medicine, Yonsei University College of Medicine, Seoul, Korea., Department of Occupational and Environmental Medicine, Sahmyook Medical Center, Seoul, Korea., Department of Occupational and Environmental Medicine, Soon Chun Hyang University Hospital, Seoul, Korea., The Institute for Occupational Health, Yonsei University College of Medicine, Seoul, Korea., Graduate School of Public Health, Yonsei University College of Medicine, Seoul, Korea., Incheon Worker's Health Center, Incheon, Korea., The Institute for Occupational Health, Yonsei University College of Medicine, Seoul, Korea., Graduate School of Public Health, Yonsei University College of Medicine, Seoul, Korea., Incheon Worker's Health Center, Incheon, Korea., Department of Preventive Medicine, Yonsei University College of Medicine, Seoul, Korea.\",\n",
       "       'Department of Preventive Medicine, College of Medicine, Seoul National University, Seoul, Republic of Korea., Department of Preventive Medicine, College of Medicine, Seoul National University, Seoul, Republic of Korea., Institute of Health Policy and Management, Medical Research Center, Seoul National University, Seoul, Republic of Korea., Department of Preventive Medicine, College of Medicine, Seoul National University, Seoul, Republic of Korea., Veterans Medical Research Institute, Veterans Health Service Medical Center, Seoul, Republic of Korea.',\n",
       "       'Human Anti-Aging Standards Research Institute, Uiryeong-gun, Gyeongsangnam-do, Republic of Korea (Dr Choi, Mr Cha); Department of Preventive Medicine, College of Medicine, Dong-A University, Busan, Republic of Korea (Dr Hong); Heavy Metal Exposure Environmental Health Center, Dong-A University, Busan, Republic of Korea (Dr Hong); Department of Plant Quarantine, Animal and Plant Quarantine Agency (APQA), Gyeongsangbuk-do, Republic of Korea (Dr Mo, Mr Park); Institute of Agriculture and Life Science, Gyeongsang National University, Gyeongsangnam-do, Republic of Korea (Mr Park).',\n",
       "       'Institute of Health and Environment, Seoul National University, Seoul, Republic of Korea.',\n",
       "       'Department of Human Systems Medicine, Seoul National University College of Medicine, Seoul, Korea (Dr Yun, Ms Choi, and Ms Chae); Department of Family Medicine, Seoul National University College of Medicine, Seoul, Korea (Dr Yun); Department of Health Policy and Management, Seoul National University College of Medicine, Seoul, Korea (Ms Choi).',\n",
       "       'Department of Public Health, Graduate School, Yonsei University, Seoul 03722, Republic of Korea., Institute of Health Services Research, Yonsei University, Seoul 03722, Republic of Korea., Institute of Health Services Research, Yonsei University, Seoul 03722, Republic of Korea., Graduate School of Public Heath, Yonsei University, Seoul 03722, Republic of Korea., Department of Public Health, Graduate School, Yonsei University, Seoul 03722, Republic of Korea., Institute of Health Services Research, Yonsei University, Seoul 03722, Republic of Korea., Department of Public Health, Graduate School, Yonsei University, Seoul 03722, Republic of Korea., Institute of Health Services Research, Yonsei University, Seoul 03722, Republic of Korea., Department of Public Health, Graduate School, Yonsei University, Seoul 03722, Republic of Korea., Institute of Health Services Research, Yonsei University, Seoul 03722, Republic of Korea., Institute of Health Services Research, Yonsei University, Seoul 03722, Republic of Korea., Department of Preventive Medicine, Yonsei University College of Medicine, Seoul 03722, Republic of Korea.',\n",
       "       'Universidad Loyola Andalucia, Spain (Dr Ariza-Montes); The University of Faisalabad, Faisalabad (Dr Mahmood); College of Hospitality and Tourism Management, Sejong University, Seoul, Republic of Korea (Dr Han); and The University of Lahore, Lahore (Dr Saleem), Pakistan.',\n",
       "       'Occupational Safety and Health Research Institute (OSHRI) Korea Occupational Safety and Health Agency (KOSHA), Incheon, Republic of Korea. koh.donghee@gmail.com',\n",
       "       'Occupational Safety and Health Research Institute, Korea Occupational Safety and Health Agency, Ulsan, Korea.',\n",
       "       \"From the Department of Rehabilitation Medicine, Seoul National University Hospital, Seoul 03080, Korea (S.W.B., M.-Y.L., S.W.P., J-H.L.); Rehabilitation Medical Center, Korea Workers' Compensation and Welfare Service Incheon Hospital, Incheon 21417, Korea (M.-Y.L., S.W.P., G.L.); Rehabilitation Medical Research Center, Korea Workers' Compensation and Welfare Service Incheon Hospital, Incheon 21417, Korea (G.L.); National Traffic Injury Rehabilitation Research Institute, National Traffic Injury Rehabilitation Hospital, Yangpyeong 12564, Korea (J.-H.L.).\",\n",
       "       'Department of Occupational Health, Korea Occupational Safety and Health Agency, Inchon, South Korea. jsunpark@chol.com',\n",
       "       'From the Department of Human Ecology (Drs Yorifuji and Tsuda), Okayama University Graduate School of Environmental and Life Science, Japan; Public Health Medical Service (Dr Bae), Seoul National University Hospital, Korea; Department of Public Health and Health Policy (Dr Kashima), Institute of Biomedical & Health Sciences, Hiroshima University; Department of Epidemiology (Dr Doi), Okayama University Graduate School of Medicine, Dentistry and Pharmaceutical Sciences; Department of Health Care Policy and Health Economics (Dr Honda), Faculty of Medicine, University of Tsukuba, Japan; Department of Epidemiology and Biostatistics (Dr Kim), Graduate School of Public Health, Seoul National University; and Institute of Environmental Medicine (Dr Hong), Seoul National University Medical Research Center, Korea.',\n",
       "       'Department of Occupational and Environmental Medicine, College of Medicine, The Catholic University of Korea, Seoul, Republic of Korea., Department of Occupational and Environmental Medicine, College of Medicine, The Catholic University of Korea, Seoul, Republic of Korea., Department of Occupational and Environmental Medicine, Hallym University Sacred Heart Hospital, Republic of Korea., Korea Occupational Safety and Health Agency, Ulsan, Republic of Korea., Occupational Safety and Health Research Institute, Korea Occupational Safety and Health Agency, Ulsan, Republic of Korea.',\n",
       "       \"Division of Sleep and Circadian Disorders, Departments of Medicine and Neurology, Brigham and Women's Hospital, Boston, Massachusetts, USA., Division of Sleep Medicine, Department of Medicine, Harvard Medical School, Boston, Massachusetts, USA., Warfighter Performance Department, Naval Health Research Center, San Diego, California, USAdouble dagger., Division of Sleep and Circadian Disorders, Departments of Medicine and Neurology, Brigham and Women's Hospital, Boston, Massachusetts, USA., Division of Sleep and Circadian Disorders, Departments of Medicine and Neurology, Brigham and Women's Hospital, Boston, Massachusetts, USA., Division of Sleep Medicine, Department of Medicine, Harvard Medical School, Boston, Massachusetts, USA., Department of Neurology, Davos Hospital, Yongin, Koreadouble dagger., Division of Sleep and Circadian Disorders, Departments of Medicine and Neurology, Brigham and Women's Hospital, Boston, Massachusetts, USA., Division of Sleep Medicine, Department of Medicine, Harvard Medical School, Boston, Massachusetts, USA., Division of Sleep and Circadian Disorders, Departments of Medicine and Neurology, Brigham and Women's Hospital, Boston, Massachusetts, USA., Division of Sleep Medicine, Department of Medicine, Harvard Medical School, Boston, Massachusetts, USA.\",\n",
       "       'Occupational Safety and Health Research Institute, Korea Occupational Safety and Health Agency, Ulsan, Korea., Occupational Safety and Health Research Institute, Korea Occupational Safety and Health Agency, Ulsan, Korea., Occupational Safety and Health Research Institute, Korea Occupational Safety and Health Agency, Ulsan, Korea.',\n",
       "       'Department of Occupational and Environmental Medicine, Korea University Ansan Hospital, Ansan, Republic of Korea., Department of Occupational and Environmental Medicine, Pusan National University Yangsan Hospital, Yangsan, Republic of Korea., Department of Preventive, Occupational and Environmental Medicine, Pusan National University College of Medicine, Yangsan, Republic of Korea., Department of Environmental Health Sciences, Seoul National University Graduate School of Public Health, Seoul, Republic of Korea paekdm@snu.ac.kr., Institute of Health and Environment, Seoul National University, Seoul, Republic of Korea.',\n",
       "       'From the Department of Occupational and Environmental Medicine, Kangbuk Samsung Hospital, Sungkyunkwan University School of Medicine, Seoul, Republic of Korea.',\n",
       "       'Department of Preventive Medicine, Seoul National University College of Medicine, Seoul, South Korea., Public Health Medical Service, Seoul National University Hospital, Seoul, South Korea., Department of Preventive Medicine, Seoul National University College of Medicine, Seoul, South Korea., Institute of Environmental Medicine, Seoul National University Medical Research Center, Seoul, South Korea., Environmental Health Center, Seoul National University College of Medicine, Seoul, South Korea., Department of Preventive Medicine, Seoul National University College of Medicine, Seoul, South Korea., Institute of Environmental Medicine, Seoul National University Medical Research Center, Seoul, South Korea., Environmental Health Center, Seoul National University College of Medicine, Seoul, South Korea.',\n",
       "       'Kyonggi University, Seoul, South Korea.',\n",
       "       'Department of Occupational and Environmental Medicine, Pusan National University Yangsan Hospital, Yangsan, Republic of Korea., Medical Research Institute, Pusan National University, Yangsan, Republic of Korea., Department of Preventive and Occupational & Environmental Medicine, School of Medicine, Pusan National University, Yangsan, Republic of Korea., Department of Occupational and Environmental Medicine, Pusan National University Yangsan Hospital, Yangsan, Republic of Korea., Department of Preventive and Occupational & Environmental Medicine, School of Medicine, Pusan National University, Yangsan, Republic of Korea., Department of Occupational and Environmental Medicine, Pusan National University Yangsan Hospital, Yangsan, Republic of Korea., Department of Preventive and Occupational & Environmental Medicine, School of Medicine, Pusan National University, Yangsan, Republic of Korea., Department of Occupational and Environmental Medicine, Pusan National University Yangsan Hospital, Yangsan, Republic of Korea., Department of Preventive and Occupational & Environmental Medicine, School of Medicine, Pusan National University, Yangsan, Republic of Korea.',\n",
       "       'Department of Biomedical Science (Dr Yun, Ms Sim, and Ms Lim), Cancer Research Institute, Seoul National University College of Medicine (Drs Yun, Noh); Institute of Health Policy and Management, Seoul National University College of Medicine and Hospital (Dr Yun); Department of Educational Technology, Seoul National University College of Education (Dr Lim); Department of Business Administration, Seoul National University Business School (Dr Kang); Department of Physical Education, Seoul National University College of Education (Dr Kang); Department of Pediatrics (Dr Park); Department of Surgery, Seoul National University College of Medicine and Hospital (Dr Noh), Republic of Korea.',\n",
       "       \"From the Department of Dental Hygiene, Hanyang Women's University (Dr Jeung); Task Force for Launching Non-benefit Service Reporting, National Health Insurance Service (Dr Hyun); Department of Occupational and Environmental Medicine, Hanyang University College of Medicine (Dr Kim), Seoul; Department of Preventive Medicine & Institute of Occupational Environmental Medicine, Yonsei University Wonju College of Medicine (Dr Chang), Wonju, Republic of Korea..\",\n",
       "       'Institute of Health and Environment, Seoul National University, Seoul, Republic of Korea., Department of Occupational & Environmental Medicine, Inha University Hospital, Incheon, Republic of Korea., Department of Dentistry, Keimyung University School of Medicine, Dalseo-Gu, Daegu, Republic of Korea., Department of Preventive Medicine, College of Medicine, Seoul National University, Seoul, Republic of Korea.',\n",
       "       'From the School of Nursing, Gachon University, Incheon, Republic of Korea (Dr Kim); Red Cross College of Nursing, Chung-Ang University, Seoul, Republic of Korea (Dr Choi).',\n",
       "       'Department of Occupational and Environmental Medicine, Soonchunhyang University Cheonan Hospital (Dr Park, Dr Nam); and Department of Preventive Medicine, College of Medicine, Soonchunhyang University (Dr Hwangbo), Dongnam-gu, Cheonan-si, Republic of Korea.',\n",
       "       'Department of Preventive Medicine, Seoul National University College of Medicine, Seoul, Republic of Korea., Institute of Environmental Medicine, Seoul National University Medical Research Center, Seoul, Republic of Korea Environmental Health Center, Seoul National University College of Medicine, Seoul, Republic of Korea., Department of Preventive Medicine, Seoul National University College of Medicine, Seoul, Republic of Korea Institute of Environmental Medicine, Seoul National University Medical Research Center, Seoul, Republic of Korea Environmental Health Center, Seoul National University College of Medicine, Seoul, Republic of Korea.',\n",
       "       'Department of Community, Environment and Policy, Mel and Enid Zuckerman College of Public Health, University of Arizona, Tucson, Arizona (Dr Jeong, Dr Griffin, Ms Dearmon-Moore, Ms Littau, Dr Burgess); Department of Occupational and Environmental Medicine, Graduate School of Medicine Dongguk University-Seoul, Dongguk University Ilsan Hospital, Goyang, Republic of Korea (Dr Jeong); Department of Epidemiology and Biostatistics, Mel and Enid Zuckerman College of Public Health, University of Arizona, Tucson, Arizona (Drs Zhou, Jacobs, Ms Zhai); Tucson Fire Department, Tucson, Arizona (Mr Gulotta, Mr Moore); WellAmerica, Tucson, Arizona (Dr Peate); University of Arizona Genetics Core, Arizona Research Laboratories, University of Arizona, Tucson, Arizona (Richt).',\n",
       "       'From the Division of Sport Science, Pusan National University, Busan, Republic of Korea (J.-B.K., Y.-Y.X., C.-B.K., J.-J.P.); Department of Physical Education, College of Education, Gyeongsang National University, Jinju, Republic of Korea (Y.-Y.X.); Department of Sports Science, Dongguk University, Gyeongju, Republic of Korea (D.S.); Department of Physical Education, Institute of Sport Science, Seoul National University, Seoul, Republic of Korea (W.S., C.G.L.); Institute on Aging, Seoul National University, Seoul, Republic of Korea (W.S.); School of Sport Science, University of Ulsan, Ulsan, Republic of Korea (H.L.); Department of Sports Medicine, Soonchunhyang University, Asan, Republic of Korea (H.K.); and Department of Preventive Medicine and Genomic Cohort Institute, Yonsei Wonju College of Medicine, Yonsei University, Wonju, Republic of Korea (Y.-S.A.).',\n",
       "       'Department of Preventive Medicine and Public Health, College of Medicine, Chungnam National University, Taejeon, Korea.',\n",
       "       'College of Nursing, Korea University, Seoul, Republic of Korea.',\n",
       "       'Department of Dose Assessment, National Radiation Emergency Medical Center, Korea Institute of Radiological and Medical Sciences, Seoul, South Korea., Department of Dose Assessment, National Radiation Emergency Medical Center, Korea Institute of Radiological and Medical Sciences, Seoul, South Korea Department of Laboratory Medicine, Korea Cancer Center Hospital, Korea Institute of Radiological and Medical Sciences, Seoul, South Korea., Department of Dose Assessment, National Radiation Emergency Medical Center, Korea Institute of Radiological and Medical Sciences, Seoul, South Korea., Department of Dose Assessment, National Radiation Emergency Medical Center, Korea Institute of Radiological and Medical Sciences, Seoul, South Korea., Department of Dose Assessment, National Radiation Emergency Medical Center, Korea Institute of Radiological and Medical Sciences, Seoul, South Korea., Division of Radiation Regulation, Korea Institute of Nuclear Safety, Daejeon, South Korea.',\n",
       "       \"Incheon Hospital, Korea Workers' Compensation & Welfare Service, Incheon (Dr Kang); Health Care Center, SMG-SNU Boramae Medical Center, College of Medicine, Seoul National University (Dr Kim); Department of Preventive Medicine, Seoul National University College of Medicine (Dr Lee); Department of Occupational and Environmental Medicine, Seoul St. Mary's Hospital, College of Medicine, The Catholic University of Korea (Dr Kang), Seoul, Republic of Korea.\",\n",
       "       'Yonsei University Graduate School, Seoul (Dr Park); Department of Occupational and Environmental Medicine, Hongseong Medical Center, Hongseong (Dr Park); Division of Cardiology, Korea University Medical Center, Seoul (Dr S-k Oh); Department of Occupational and Environmental Medicine, Busan Adventist Hospital, Sahmyook Medical Center, Busan (Dr Seok); Department of Occupational and Environmental Medicine, Wonju Severance Christian Hospital (Drs Kim, S-S Oh, Koh); Department of Preventive Medicine and Institute of Occupational and Environmental Medicine (Drs Kim, S-S Oh, Koh); Institute of Genomic Cohort (Drs Choi, Koh), Wonju College of Medicine; Center for Global Health and Social Medicine, Institute of Poverty Alleviation and International Development (Dr Koh), Yonsei University, Wonju, Republic of Korea.',\n",
       "       'Department of Occupational and Environmental Medicine, Kangbuk Samsung Hospital, School of Medicine, Sungkyunkwan University, Seoul, Republic of Korea.',\n",
       "       'Department of Occupational and Environmental Medicine, Samsung Changwon Hospital, Sungkyunkwan University School of Medicine, Changwon, Republic of Korea., Department of Occupational and Environmental Medicine, Inha University Hospital, Incheon, Republic of Korea.',\n",
       "       'Department of Medical IT Engineering, College of Medical Sciences (Dr Ahn); Institute of Occupational and Environmental Medicine (Dr Kim), Soonchunhyang University, Asan; Department of Preventive Medicine, Soonchunhyang University, Asan (Dr Lee); Department of Occupational Health, Daegu Catholic University, Gyeongsan (Dr Park); Department of Occupational and Environmental Medicine, Ulsan University Hospital, University of Ulsan College of Medicine, Ulsan (Dr Kim), Republic of Korea.',\n",
       "       \"Department of Preventive Medicine, Occupational and Environmental Medicine, Seoul National University, Seoul, Korea (the Republic of)., Department of Occupational and Environmental Medicine, Seoul St. Mary's Hospital, College of Medicine, The Catholic University of Korea, Seoul, Korea (the Republic of)., Department of Occupational and Environmental Medicine, Seoul St. Mary's Hospital, College of Medicine, The Catholic University of Korea, Seoul, Korea (the Republic of)., Occupational Safety and Health Research Institute, Korea Occupational Safety and Health Agency, Incheon, Korea (the Republic of)., Department of Occupational and Environmental Medicine, Seoul St. Mary's Hospital, College of Medicine, The Catholic University of Korea, Seoul, Korea (the Republic of) snaptoon@naver.com.\",\n",
       "       'Department of Preventive Medicine, Korea University College of Medicine, Seoul, South Korea., Department of Epidemiology and Health Informatics, Graduate School of Public Health, Korea University, Seoul, South Korea., Department of Preventive Medicine, Korea University College of Medicine, Seoul, South Korea., Department of Epidemiology and Health Informatics, Graduate School of Public Health, Korea University, Seoul, South Korea., Department of Preventive Medicine, Korea University College of Medicine, Seoul, South Korea., Department of Epidemiology and Health Informatics, Graduate School of Public Health, Korea University, Seoul, South Korea., Department of Preventive Medicine, Korea University College of Medicine, Seoul, South Korea., Department of Epidemiology and Health Informatics, Graduate School of Public Health, Korea University, Seoul, South Korea., Department of Environmental Health, Korea National Open University, Seoul, South Korea.',\n",
       "       'From the Department of Surgery, Yonsei University Wonju College of Medicine, Wonju, Republic of Korea (Pf An); Department of Occupational and Environmental Medicine, Incheon Nasaret International Hospital, Incheon, Republic of Korea (Dr Park).',\n",
       "       'Department of Occupational and Environmental Medicine, Ulsan University Hospital, University of Ulsan College of Medicine, Dong-Ku, Ulsan, South Korea. yanghokm@nuri.net',\n",
       "       'School of Medicine, Eulji University, Jung-gu, Daejeon, South Korea (Dr Kim); Department of Healthcare Management, Graduate School of Public Health, Yonsei University, Seodaemun-gu, Seoul, South Korea (Dr Jang).',\n",
       "       'National Cancer Control Institute, National Cancer Center, Goyang-si, Gyeonggi-do, South Korea (Dr Hwang); Department of Occupational and Environmental Medicine, Ajou University, School of Medicine, Yeongtong-gu, Suwon, South Korea (Drs Lee, Park).',\n",
       "       'From the Center for Tobacco Research and Education (Dr Dutra), University of California San Francisco; Department of Epidemiology (Dr Kim), Korea University, Seoul, South Korea; and Department of Social and Behavioral Sciences (Drs Williams, Kawachi, and Okechukwu), Harvard School of Public Health, Boston, Mass.',\n",
       "       'Department of Emergency Medicine, Chungbuk National University Hospital, 776, 1st Sunhwan-ro, Seowon-gu, Cheongju-si, Chungcheongbuk-do 28646, South Korea (Dr Park and Dr Kim); Strategic Research, Laerdal Medical Tanke Svilandsgate 30, 4002 Stavanger, Norway (Dr Kong); Department of Paramedic Science, Korea National University of Transportation, 61, Daehak-ro, Jeungpyeong-gun, Chungcheongbuk-do, 27909, South of Korea (Dr Shin); Division of Cardiology, Chungbuk National University Hospital, 776, 1st Sunhwan-ro, Seowon-gu, Cheongju-si, Chungcheongbuk-do 28646, South Korea (Dr Lee); Department of Fire Investigation and Analysis, Yongin Fire Station, 45, Myongji-ro, Cheoin-gu, Yongin-si, Gyeonggi-do, 17057, South Korea (Mr Ku); Icheon Fire Station, 2739, Gyeongchung-daero, Icheon-si, Gyeonggi-do, 17379, South Korea (Mr Oh); Department of Emergency Medicine, College of Medicine, Chungbuk National University, 1 Chungdae-ro, Seowongu, Cheongju-si, Chungcheongbuk-do 28646, South Korea (Dr Kim).',\n",
       "       'Department of Preventive Medicine, School of Medicine, Ewha Womans University, Seoul, South Korea (Ms Kwon, Drs Kim, Kulkarni, Park, Ha); Department of Pediatrics, School of Medicine, Ewha Womans University, Seoul, South Korea (Dr Park); Department of Obstetrics and Gynecology, School of Medicine, Ewha Womans University, Seoul, South Korea (Ms Kwon, Dr Kim); Department of Health, Environment & Safety, Eulji University, Seongnam, South Korea (Dr Kho); Cancer Policy Branch (Dr Kim), National Cancer Center, Goyang, South Korea; and Chicago Medical School (Mr Shin), Rosalind Franklin University of Medicine and Science, Lake County, Illinois.',\n",
       "       \"Department of Social and Behavioral Sciences, Harvard T.H. Chan School of Public Health (Dr Kim, Dr Zaitsu, Dr Tsuno, Dr Li, Dr Jang, Dr Kawachi); Department of Public Health, Graduate School of Medicine, The University of Tokyo, Tokyo (Dr Zaitsu); School of Health Innovation, Kanagawa University of Human Services, Kanagawa (Dr Tsuno), Japan; Division of Sleep and Circadian Disorders, Departments of Medicine and Neurology, Brigham and Women's Hospital (Dr Li), Boston, Massachusetts; Department of Epidemiology and Biostatistics, University of Maryland School of Public Health, Maryland (Dr Lee); Red Cross College of Nursing, Chung-Ang University, Seoul, Republic of Korea (Dr Jang).\",\n",
       "       'College of Nursing, Korea University, Seoul, South Korea (Dr Jung, Dr Choo, Dr Park, Dr Moon, and Dr Noh); Transdisciplinary Major in Learning Health Systems, Graduate School, Korea University, South Korea (Dr Choo).',\n",
       "       'Department of Public Health and Hygiene, Andong Public Health Center, Andong, Korea (Dr Lee); Department of Medicine, Graduate School, The Catholic University of Korea, Seoul, Korea (Dr Lee); and Department of Occupational and Environmental Medicine, College of Medicine, The Catholic University of Korea, Seoul, Korea (Dr Kim).',\n",
       "       'From the Division of Cancer Prevention, National Cancer Control Institute, Goyang, Republic of Korea (Dr Choi); School of the Environment, Yale University, New Haven, CT (Dr Choi); Department of Public Health Science, Seoul National University, Seoul, Republic of Korea (Dr Choi); Occupational and Environmental Medicine, Hanyang University College of Medicine, Seoul, Republic of Korea (Dr Kim); and Department of Public Health Sciences, Graduate School of Public Health, Seoul National University, Seoul, Republic of Korea (Dr Hwang).',\n",
       "       'Department of Community Health Systems, School of Nursing, University of California, San Francisco, California, USA., Department of Community Health Systems, School of Nursing, University of California, San Francisco, California, USA., Department of Nursing, Chodang University, Jeollanamdo, South Korea., Division of Occupational and Environmental Medicine, School of Medicine, University of California, San Francisco, California, USA.',\n",
       "       'Department of Occupational and Environmental Medicine, Ajou University School of Medicine, Suwon, Republic of Korea.',\n",
       "       'Department of Occupational and Environmental Medicine, Inha University College of Medicine, 7-241, 3rd Street Shinheung-Dong, Jung-Gu, Incheon 400-103, South Korea. ychong@inha.ac.kr',\n",
       "       'Department of Environmental Health, Korea National Open University, Seoul, The Republic of Korea., Division of Cancer Epidemiology and Genetics, National Cancer Institute, NIH, Rockville, Maryland, USA., School of Public Health, University of California Berkeley, Berkeley, California, USA., Department of IRAS, Utrecht University, Utrecht, The Netherlands., National Cancer Institute, Rockville, Maryland, USA., National Cancer Institute, Rockville, Maryland, USA., Division of Cancer Epidemiology and Genetics, National Cancer Institute, NIH, Rockville, Maryland, USA., Division of Cancer Epidemiology and Genetics, National Cancer Institute, NIH, Rockville, Maryland, USA., Guangdong Poison Control Center, Guangzhou, China., DCEG/NCI/NIH, Bethesda, Maryland, USA., Guangdong Poison Control Center, Guangzhou, China., Department of Environmental Medicine and Public Health, Icahn School of Medicine at Mount Sinai, New York, New York, USA., Division of Pulmonary, Allergy and Critical Medicine, Emory University, Atlanta, Georgia., Guangdong Medical Laboratory Animal Center, Foshan City, Guangdong, China., Guangdong Poison Control Center, Guangzhou, China., Division of Cancer Epidemiology and Genetics, National Cancer Institute, NIH, Rockville, Maryland, USA., Division of Environmental Health Sciences, School of Public Health, University of California, Berkeley, Georgia, USA., Division of Cancer Epidemiology and Genetics, National Cancer Institute, NIH, Rockville, Maryland, USA.',\n",
       "       'Korea Insurance Research Institutes, Seoul, Korea.',\n",
       "       'Department of Rehabilitation Medicine, Asan Medical Center, University of Ulsan College of Medicine, Songpa-gu, Seoul, Republic of Korea.',\n",
       "       'Occupational Safety and Health Research Institute, Korea Occupational Safety and Health Agency, Ulsan, Korea., Occupational Safety and Health Research Institute, Korea Occupational Safety and Health Agency, Ulsan, Korea., Occupational Safety and Health Research Institute, Korea Occupational Safety and Health Agency, Ulsan, Korea.',\n",
       "       'Department of Occupational and Environmental Medicine, Korea University Ansan Hospital, Ansan, Republic of Korea., Department of Environmental Sciences, Seoul National University Graduate School of Public Health, Seoul, Republic of Korea., Department of Environmental Sciences, Seoul National University Graduate School of Public Health, Seoul, Republic of Korea., Institute of Health and Environment, Seoul National University, Seoul, Republic of Korea., Department of Occupational and Environmental Medicine, Korea University Ansan Hospital, Ansan, Republic of Korea.',\n",
       "       'Tilburg University, Tilburg School of Social and Behavioral Sciences, Tranzo Scientific Center for Care and Welfare, Tilburg, The Netherlands., Tilburg University, Tilburg School of Social and Behavioral Sciences, Tranzo Scientific Center for Care and Welfare, Tilburg, The Netherlands., Tilburg University, Tilburg School of Social and Behavioral Sciences, Tranzo Scientific Center for Care and Welfare, Tilburg, The Netherlands., Department of General Practice and Elderly Care Medicine, VU University Medical Center Amsterdam, EMGO Institute for Health and Care Research, Amsterdam, The Netherlands., Cochrane Occupational Safety and Health Review Group, Finnish Institute of Occupational Health, Kuopio, Finland., Department of Psychiatry and Stress Research Institute, Seoul Paik Hospital, Inje University School of Medicine, Seoul, Republic of Korea., Department of Neuropsychiatry, Eulji University Hospital, Eulji University School of Medicine, Daejeon, Republic of Korea., Department of Public Health, Kitasto University School of Medicine, Sagamihara, Kanagawa, Japan., Department of Occupational Health Promotion, Kyoto Industrial Health Association, Kyoto, Japan., Tilburg University, Tilburg School of Social and Behavioral Sciences, Tranzo Scientific Center for Care and Welfare, Tilburg, The Netherlands Department of Health Sciences, Division of Community and Occupational Medicine, University Medical Center Groningen, University of Groningen, Groningen, The Netherlands., Tilburg University, Tilburg School of Social and Behavioral Sciences, Tranzo Scientific Center for Care and Welfare, Tilburg, The Netherlands Phrenos Centre of Expertise, Utrecht, The Netherlands Parnassia Group, Dijk en Duin Mental Health Center, Castricum, The Netherlands.',\n",
       "       \"Department of Occupational and Environmental Medicine, Seoul St. Mary's Hospital, College of Medicine, The Catholic University of Korea, Seoul, Republic of Korea., Department of Occupational and Environmental Medicine, Inha University Hospital, Incheon, Republic of Korea., Department of Global Economics, Sungkyunkwan University, Seoul, Republic of Korea., Department of Occupational and Environmental Medicine, H plus Yangji Hospital, Seoul, Republic of Korea., Department of Occupational and Environmental Medicine, Seoul St. Mary's Hospital, College of Medicine, The Catholic University of Korea, Seoul, Republic of Korea.\",\n",
       "       \"Division of Business, Hallym University, Chuncheon, Gangwon-do, South Korea., Institute on the Environment, University of Minnesota, St. Paul, Minnesota, USA Department of Epidemiology, Biostatistics and Occupational Health, Institute for Health and Social Policy, McGill University, Montreal, Quebec, Canada., Division of Biostatistics, School of Public Health, University of Minnesota, Minneapolis, Minnesota, USA., Division of Environmental Health Sciences, School of Public Health, University of Minnesota, Minneapolis, Minnesota, USA., Department of Health Care Management, The Wharton School, University of Pennsylvania, Philadelphia, Pennsylvania, USA National Bureau of Economic Research, Cambridge, Massachusetts, USA., Department of Chest Diseases, St John's Medical College Hospital, Bangalore, Karnataka, India., Division of Environmental Health Sciences, School of Public Health, University of Minnesota, Minneapolis, Minnesota, USA.\",\n",
       "       'Department of Preventive Medicine, Korea University College of Medicine, Seoul, Republic of Korea leewj@korea.ac.kr., Graduate School of Public Health, Korea University, Seoul, Republic of Korea., Department of Preventive Medicine, Korea University College of Medicine, Seoul, Republic of Korea., Department of Preventive Medicine, Korea University College of Medicine, Seoul, Republic of Korea., Department of Psychiatry, Wan Fang Hospital, Taipei Medical University, Taipei, Taiwan., Department of Psychiatry, School of Medicine, College of Medicine, Taipei Medical University, Taipei, Taiwan., Psychiatric Research Center, Wan Fang Hospital, Taipei Medical University, Taipei, Taiwan., Psychiatric Research Center, Wan Fang Hospital, Taipei Medical University, Taipei, Taiwan., Institute of Health Behaviors and Community Sciences and Department of Public Health, College of Public Health, National Taiwan University, Taipei, Taiwan.',\n",
       "       'Department of Occupational Health, Catholic University of Daegu, Gyeongsan, South Korea (Dr Park), Department of Occupational and Environmental Medicine, Ulsan University Hospital, University of Ulsan College of Medicine, Ulsan, South Korea (Dr Kim).',\n",
       "       'Department of Preventive Medicine, Seoul National University College of Medicine, Seoul, Republic of Korea., Institute of Environmental Medicine, Seoul National University Medical Research Center, Seoul, Republic of Korea Environmental Health Center, Seoul National University College of Medicine, Seoul, Republic of Korea., Department of Preventive Medicine, Seoul National University College of Medicine, Seoul, Republic of Korea Institute of Environmental Medicine, Seoul National University Medical Research Center, Seoul, Republic of Korea Environmental Health Center, Seoul National University College of Medicine, Seoul, Republic of Korea.',\n",
       "       'Department of Occupational and Environmental Medicine, Kangbuk Samsung Hospital, Sungkyunkwan University School of Medicine, Seoul, Republic of Korea., Department of Medical Humanities and Social Sciences, Yonsei University College of Medicine, Seoul, Republic of Korea., Division of Biostatistics, Department of R&D Management, Kangbuk Samsung Hospital, Sungkyunkwan University School of Medicine, Seoul, Republic of Korea., Department of Occupational and Environmental Medicine, Kangbuk Samsung Hospital, Sungkyunkwan University School of Medicine, Seoul, Republic of Korea., Center for Cohort Studies, Total Healthcare Center, Kangbuk Samsung Hospital, Sungkyunkwan University School of Medicine, Seoul, Republic of Korea., Department of Clinical Research Design & Evaluation, SAIHST, Sungkyunkwan University, Seoul, Republic of Korea., Department of Occupational and Environmental Medicine, Kangbuk Samsung Hospital, Sungkyunkwan University School of Medicine, Seoul, Republic of Korea., Center for Cohort Studies, Total Healthcare Center, Kangbuk Samsung Hospital, Sungkyunkwan University School of Medicine, Seoul, Republic of Korea., Department of Clinical Research Design & Evaluation, SAIHST, Sungkyunkwan University, Seoul, Republic of Korea.',\n",
       "       'Department of Occupational Health, Catholic University of Daegu, Gyeongsan (Dr Park), South Korea; Department of Occupational and Environmental Medicine, Ulsan University Hospital, University of Ulsan College of Medicine, Ulsan (Dr Kim), South Korea.',\n",
       "       'Department of Occupational and Environmental Medicine, Cheonan Medical Center, Cheonan (Dr Park); Department of Occupational and Environmental Medicine, The Catholic University College of Medicine (Dr Kang); Department of Occupational and Environmental Medicine, Soonchunhyang University College of Medicine (Dr Lee), Seoul, Republic of Korea.',\n",
       "       \"Gachon University College of Medicine, Gil Medical Center, Incheon, Republic of Korea (Dr Na); Korea Workers' Compensation & Welfare Service Ansan Hospital, Ansan, Republic of Korea (Dr Kim).\",\n",
       "       'Environmental & Occupational Medicine and Epidemiology Program, Department of Environmental Health, Harvard T.H. Chan School of Public Health Department of Medicine, Boston University School of Medicine Department of Medicine, University of Massachusetts Medical School, Worcester, MA School of Public Health, Seoul National University, Seoul, Korea.',\n",
       "       'Department of Health and Human Services, Division of Cancer Epidemiology and Genetics, National Cancer Institute, National Institutes of Health, Bethesda, Maryland, USA., Department of Health and Human Services, Division of Cancer Epidemiology and Genetics, National Cancer Institute, National Institutes of Health, Bethesda, Maryland, USA., Department of Health and Human Services, Division of Cancer Epidemiology and Genetics, National Cancer Institute, National Institutes of Health, Bethesda, Maryland, USA Stewart Exposure Assessments, LLC, Arlington, Virginia, USA., Korea National Open University, Seoul, Korea., Vermont Cancer Registry, Burlington, Vermont, USA., Maine Cancer Registry, Augusta, Maine, USA., Geisel School of Medicine at Dartmouth, Hanover, New Hampshire, USA., New Hampshire Department of Health and Human Services, Concord, New Hampshire, USA., Geisel School of Medicine at Dartmouth, Hanover, New Hampshire, USA., Maine Cancer Registry, Augusta, Maine, USA., Department of Health and Human Services, Division of Cancer Epidemiology and Genetics, National Cancer Institute, National Institutes of Health, Bethesda, Maryland, USA., Department of Health and Human Services, Division of Cancer Epidemiology and Genetics, National Cancer Institute, National Institutes of Health, Bethesda, Maryland, USA., Department of Health and Human Services, Division of Cancer Epidemiology and Genetics, National Cancer Institute, National Institutes of Health, Bethesda, Maryland, USA., Department of Health and Human Services, Division of Cancer Epidemiology and Genetics, National Cancer Institute, National Institutes of Health, Bethesda, Maryland, USA., Department of Health and Human Services, Division of Cancer Epidemiology and Genetics, National Cancer Institute, National Institutes of Health, Bethesda, Maryland, USA., Department of Health and Human Services, Division of Cancer Epidemiology and Genetics, National Cancer Institute, National Institutes of Health, Bethesda, Maryland, USA.',\n",
       "       \"Department of Research for Occupational Health, Institute of Occupation and Environment, Korea Workers' compensation & Welfare Service, Incheon, Republic of Korea.\",\n",
       "       \"Department of Occupational and Environmental Medicine, Seoul St. Mary's Hospital, College of Medicine, The Catholic University of Korea, Seoul, Republic of Korea (Dr Ahn, Dr Kang); Incheon Hospital, Korea Workers' Compensation & Welfare Service, Incheon, Republic of Korea (Prof Kang); Health Care Center, Boramae Medical Center, College of Medicine, Seoul National University, Seoul, Republic of Korea (Dr Kim).\",\n",
       "       'School of Public Health, Seoul National University, 28 Yeunkun-Dong, Chongno-Ku, Seoul 110-799, Korea.',\n",
       "       'Department of Occupational and Environmental Medicine, Ulsan University Hospital, University of Ulsan College of Medicine, Ulsan, South Korea. yanghokm@nuri.net',\n",
       "       \"Korea Institute of Labor Safety and Health, Seoul, The Republic of Korea., Department of Social and Behavioral Sciences, Harvard T.H. Chan School of Public Health, Boston, Massachusetts, USA., Occupational and Environmental Medicine, Hanyang University College of Medicine, Seongdong-gu, The Republic of Korea inahkim@hanyang.ac.kr., People's Health Institute, Seoul, The Republic of Korea., Department of Social and Behavioral Sciences, Harvard T.H. Chan School of Public Health, Boston, Massachusetts, USA.\",\n",
       "       'Institute of Environmental & Occupational Medicine, Soonchunhyang University, 646 Eupnae-ri, Shinchang-myun, Asan-si, Choongnam 336-745, South Korea.',\n",
       "       'Department of Molecular Medicine, Kyungpook National University College of Medicine, Kyungpook National University Hospital, Daegu, South Korea.',\n",
       "       'School of Public Health and Institute of Health and Environment, Seoul National University, Seoul, Korea.',\n",
       "       \"Occupational and Environmental Epidemiology Branch, Division of Cancer Epidemiology and Genetics, National Cancer Institute, Rockville, Maryland., Department of Occupational and Environmental Medicine, International St.Mary's Hospital, Catholic Kwandong University, Incheon, Korea., Department of Occupational and Environmental Medicine, International St.Mary's Hospital, Catholic Kwandong University, Incheon, Korea., Occupational and Environmental Epidemiology Branch, Division of Cancer Epidemiology and Genetics, National Cancer Institute, Rockville, Maryland., National Environmental Health Research Center, National Health Research Institutes, Zhunan, Taiwan., Occupational and Environmental Epidemiology Branch, Division of Cancer Epidemiology and Genetics, National Cancer Institute, Rockville, Maryland., Occupational and Environmental Epidemiology Branch, Division of Cancer Epidemiology and Genetics, National Cancer Institute, Rockville, Maryland.\",\n",
       "       'From the Division of Sport Science, Pusan National University, Busan, Republic of Korea (J.-B.K., C.-B.K., Y.-Y.X., J.-J.P.); Department of Sports Science, Dongguk University, Gyeongju, Republic of Korea (S.D.-i.); Department of Physical Education, Institute of Sport Science, Seoul National University, Seoul, Republic of Korea (S.W., C.-G.L.); Institute on Aging, Seoul National University, Seoul, Republic of Korea (S.W.); School of Sport Science, University of Ulsan, Ulsan, Republic of Korea (H.-J.L.); Department of Sports Medicine, Soonchunhyang University, Asan, Republic of Korea (H.-J.K.); Department of Preventive Medicine and Genomic Cohort Institute, Yonsei Wonju College of Medicine, Yonsei University, Wonju, Republic of Korea (Y.S.A.).',\n",
       "       \"Division of Cancer Epidemiology and Genetics, Occupational and Environmental Epidemiology Branch, National Cancer Institute, Bethesda, Maryland., Yale School of Public Health, Yale University, New Haven, Connecticut., Department of Occupational and Environmental Medicine, International St. Mary's Hospital, Catholic Kwandong University, Incheon, Korea., Division of Cancer Epidemiology and Genetics, Biostatistics Branch, National Cancer Institute, Bethesda, Maryland., Division of Cancer Epidemiology and Genetics, Occupational and Environmental Epidemiology Branch, National Cancer Institute, Bethesda, Maryland., Division of Cancer Epidemiology and Genetics, Occupational and Environmental Epidemiology Branch, National Cancer Institute, Bethesda, Maryland.\",\n",
       "       'School of Nursing, University of Virginia, Charlottesville, Virginia., Korea Armed Forces Nursing Academy, Daejeon, Republic of Korea., David Grant Medical Center, Fairfield, California., College of Nursing, University of Tennessee Knoxville, Knoxville, Tennessee., School of Nursing, University of Virginia, Charlottesville, Virginia., Schools of Nursing and Medicine, University of Maryland, Baltimore, Maryland.',\n",
       "       'Samsung Health Research Institute, Samsung Electronics, Yongin-City 446-711, Korea., Department of Occupational Medicine, Kangbuk Samsung Hospital, Sungkyunkwan University School of Medicine, Seoul 110-746, Korea, k01052683211@gmail.com soogeun.kim@samsung.com., Department of Occupational Medicine, Myong Ji Hospital, Seonam University School of Medicine, Gyeonggi 412-826, Korea. k01052683211@gmail.com soogeun.kim@samsung.com.',\n",
       "       \"Graduate School of Public Health (Mr Park); Public Health Center, Seoul National University College of Medicine (Dr Lee); Department of Occupational and Environmental Medicine, Soonchunhyang University College of Medicine (Dr Lee); Department of Occupational and Environmental Medicine, Dong-A University College of Medicine, Pusan (Dr Cho); Department of Occupational and Environmental Medicine, Seoul St. Mary's Hospital, College of Medicine, The Catholic University of Korea, Seoul, Republic of Korea (Dr Kim, Dr Kang).\",\n",
       "       'Department of Occupational and Environmental Medicine, Soonchunhyang University Cheonan Hospital, Cheonan-si, South Korea., Department of Occupational and Environmental Medicine, Dongguk University Gyeongju Hospital, Gyeongju-si, South Korea., Department of Occupational and Environmental Medicine, Dankook University Cheonan Hospital, Cheonan-si, South Korea., Department of Preventive Medicine and Genomic Cohort Institute, Yonsei University Wonju College of Medicine, Wonju, South Korea.',\n",
       "       'Department of Preventive Medicine, Seoul National University College of Medicine, Seoul, Republic of Korea., Department of Preventive Medicine, Seoul National University College of Medicine, Seoul, Republic of Korea., Institute of Environmental Medicine, Seoul National University Medical Research Center, Seoul, Republic of Korea.',\n",
       "       'Department of Preventive Medicine and Institute of Occupational Medicine, Wonju College of Medicine, Yonsei University, Wonju, Gangwondo 220-701, South Korea. chang@wonju.yonsei.ac.kr',\n",
       "       'Department of Public Health Sciences, Korea University, Seoul, Republic of Korea., Department of Public Health, Keimyung University, Daegu, Republic of Korea., Department of Public Health Sciences, Korea University, Seoul, Republic of Korea., Department of Public Health Sciences, Korea University, Seoul, Republic of Korea., Interdisciplinary Program in Precision Public Health, Department of Public Health Sciences, Korea University, Seoul, Republic of Korea., Department of Social and Behavioral Sciences, Harvard T.H. Chan School of Public Health, Boston, Massachusetts, USA.',\n",
       "       'Department of Surgery, Yonsei University Wonju College of Medicine, Wonju, Republic of Korea., Department of Occupational and Environmental Medicine, Gangnam Giein Hospital, Seoul, Republic of Korea.',\n",
       "       \"Asian Citizen's Center for Environment and Health, Department of Occupational and Environmental Health, School of Public Health, Seoul National University, Seoul, Korea.\",\n",
       "       'From the Department of Preventive Medicine, College of Medicine, Seoul National University, Seoul, Republic of Korea (Dr Kim); Department of Human Systems Medicine, College of Medicine, Seoul National University, Seoul, Republic of Korea (Dr Hong, Dr N. Lee); Public Healthcare Center, Seoul National University Hospital, Seoul, Republic of Korea (Dr N. Lee, Dr D-W. Lee); Human Rights Center, Seoul National University Hospital, Seoul, Republic of Korea (Dr N. Lee); Department of Big Data Medical Convergence, Eulji University, Seongnam, Republic of Korea (Dr Park); Research Institute for Public Healthcare, National Medical Center, Seoul, Korea (Dr K-S. Lee); and Yeongeon Student Support Center, Seoul National University College of Medicine, Seoul, Republic of Korea (Dr Yun).',\n",
       "       \"Department of Preventive Medicine, Korea University College of Medicine, Seoul, South Korea leewj@korea.ac.kr., Department of Preventive Medicine, Korea University College of Medicine, Seoul, South Korea., Department of Preventive Medicine, Korea University College of Medicine, Seoul, South Korea., Department of Preventive Medicine, Korea University College of Medicine, Seoul, South Korea., Seoul Workers' Health Center, Ewha Womans University, Seoul, South Korea., Hirosoft International, Eureka, California, USA.\",\n",
       "       'Department of Preventive Medicine, College of Medicine, Seoul National University, Seoul, Republic of Korea., Institute of Health and Environment, Seoul National University, Seoul, Republic of Korea., Department of Preventive Medicine, College of Medicine, Seoul National University, Seoul, Republic of Korea.',\n",
       "       'School of Public Health, Seoul National University, Seoul, Korea.',\n",
       "       'Department of Occupational and Environmental Medicine, College of Medicine, Hanyang University, Seoul, South Korea.',\n",
       "       'Department of Nursing, College of Medicine, Wonkwang University, Iksan, Korea (Dr Min), Division of Nursing, Hyejeon College, Chungcheongnam-do, Korea (Dr Lee).',\n",
       "       'Department of Occupational and Environmental Medicine, Chonnam National University Hwasun Hospital, Hwasun, Jeollanam-do, Republic of Korea., Department of Occupational and Environmental Medicine, Chonnam National University Hwasun Hospital, Hwasun, Jeollanam-do, Republic of Korea., Department of Occupational and Environmental Medicine, Chonnam National University Hwasun Hospital, Hwasun, Jeollanam-do, Republic of Korea.',\n",
       "       \"Department of Occupational and Enviornmental Medicine, Seoul Saint Mary's Hospital, The Catholic Uinversity of Korea, Seoul, Korea (the Republic of)., Department of Urology, Inje University Sanggye Paik Hospital, Seoul, Korea (the Republic of)., Department of Occupational and Environmental Medicine, Severance Hospital, Yonsei University College of Medicine, Seoul, Korea (the Republic of)., Department of Occupational and Enviornmental Medicine, Seoul Saint Mary's Hospital, The Catholic Uinversity of Korea, Seoul, Korea (the Republic of) snaptoon@naver.com.\",\n",
       "       'From the Red Cross College of Nursing, Chung-Ang University, Seoul, Republic of Korea (S.C.); and Department of Health Care Policy Research, Korea Institute for Health and Social Affairs, Sejong, Republic of Korea (Y.J.).',\n",
       "       'From the Institute of Health and Environment, Seoul National University, Seoul, Republic of Korea (J.H.K., J.Y.K., S.S.K.), Department of Rehabilitation Medicine, Seoul National University Hospital, Seoul, Republic of Korea (J.Y.); National Traffic Injury Rehabilitation Research Institute, National Traffic Injury Rehabilitation Hospital, Yangpyeong, Republic of Korea (J.Y.); Department of Paramedicine, College of Health Sciences, Eulji University, Seongnam, Republic of Korea (S.J.K.); and Department of Environmental Health Sciences, Graduate School of Public Health, Seoul National University, Republic of Korea (S.S.K.).',\n",
       "       'Department of Occupational and Environmental Medicine, Cheonan Medical Center, Cheonan (Dr Park); Department of Occupational and Environmental Medicine, Gil Medical Center, Gachon University College of Medicine, Incheon (Dr Lee); Department of Occupational and Environmental Medicine, Soonchunhyang University College of Medicine, Seoul (Dr Lee), Republic of Korea.',\n",
       "       'Department of Occupational & Environmental Medicine, Soonchunhyang University Hospital, Seoul, Republic of Korea.',\n",
       "       'Department of Occupational and Environmental Medicine, Ajou University School of Medicine, Woncheon-dong, Yeongtong-gu, Suwon, South Korea.',\n",
       "       'Department of Occupational Health, Catholic University of Daegu, Gyeongsan (Dr Park); Department of Sociology, Yonsei University, Seoul (Ms Han); Department of Occupational and Environmental Medicine, Ulsan University Hospital, University of Ulsan College of Medicine, Ulsan (Dr Kim), South Korea.',\n",
       "       \"COMWEL Incheon Hospital, Korea Workers' Compensation & Welfare Service, Incheon (Dr Kang); Department of Preventive Medicine, Seoul National University College of Medicine (Dr Lee); Department of Occupational and Environmental Medicine, Seoul St. Mary's Hospital, College of Medicine, The Catholic University of Korea (Dr Park, Dr Kang), Seoul, Republic of Korea.\",\n",
       "       'Department of Public Health Sciences, Graduate School of Korea University, Seoul, South Korea., Department of Public Health Sciences, Graduate School of Korea University, Seoul, South Korea.',\n",
       "       'From the Department of Occupational and Environmental Medicine, Soonchunhyang University Hospital, Seoul, South Korea.',\n",
       "       'Department of Public Health, Graduate School (Mr Kim, Mr Jeong, Mr Kim); Institute of Health Services Research (Mr Kim, Mr Jeong, Ms Kim, Dr Jang, Dr Park), Yonsei University; Department of Preventive Medicine, Yonsei University College of Medicine (Dr Jang, Dr Park), Seoul, Republic of Korea.',\n",
       "       \"College of Nursing, Ewha Womans University, Seoul, South Korea., College of Nursing, Ewha Womans University, Seoul, South Korea., Department of Psychology, Ewha Womans University, Seoul, South Korea., Department of Dermatology and Epidemiology, Brown University, Providence, Rhode Island, USA., Channing Division of Network Medicine, Brigham and Women's Hospital and Harvard Medical School, Boston, Massachusetts, USA., Department of Nursing, Doowon Technical University, Anseong, South Korea., College of Nursing, Ewha Womans University, Seoul, South Korea., Department of Nursing Science, Seojeong University, Yangju, South Korea., Department of Psychology, Ewha Womans University, Seoul, South Korea., Department of Sports Industry Studies, Yonsei University, Seoul, South Korea., Department of Nutrition, Harvard T.H. Chan School of Public Health, Boston, Massachusetts, USA., Department of Nutrition and Epidemiology, Harvard T.H. Chan School of Public Health, Boston, Massachusetts, USA., Department of Precision Medicine, Korea National Institute of Health, Korea Disease Control and Prevention Agency, Cheongju, South Korea., College of Nursing, Mo-Im Kim Nursing Research Institute, Yonsei University, Seoul, South Korea suekim@yuhs.ac.\",\n",
       "       'Department of Preventive Medicine (Ms Jung, Dr Chang, Dr Kim, Dr Koh); Department of Psychiatry (Dr Min); National Academy of Agricultural Science, Rural Development Administration, Jeonju (Dr Lee); and Institute of Genomic Cohort (Dr Koh, Dr Choi), Yonsei University Wonju College of Medicine, Wonju, Republic of Korea.',\n",
       "       'Department of Anesthesiology and Pain Medicine, Seoul National University Bundang Hospital, Seongnam, Republic of Korea.',\n",
       "       'Department of Internal Medicine, Seonam University College of Medicine, Kwangju, Korea.',\n",
       "       'Department of Preventive Medicine, College of Medicine, Korea University, Seoul, Korea. eunil@korea.ac.kr',\n",
       "       'Rural Development Administration (RDA), Jeonju, The Republic of Korea., Department of Preventive Medicine, University of Alberta, Edmonton, Alberta, Canada., School of Public Health, University of Alberta, Edmonton, Alberta, Canada., School of Geography and Earth Sciences, McMaster University, Hamilton, Ontario, Canada., Alberta Health, Edmonton, Canada., Rural Development Administration (RDA), Jeonju, The Republic of Korea., School of Public Health, University of Alberta, Edmonton, Alberta, Canada., The Injury Prevention Center, Edmonton, Alberta, Canada.',\n",
       "       'Department of Occupational and Environmental Medicine, Chonnam National University Hwasun Hospital, Hwasun, Jeollanam-do, Republic of Korea., Department of Occupational and Environmental Medicine, Chonnam National University Hwasun Hospital, Hwasun, Jeollanam-do, Republic of Korea., Department of Occupational and Environmental Medicine, Mokpo Christian Hospital, Mokpo, Jeollanam-do, Republic of Korea., Department of Occupational and Environmental Medicine, Chonnam National University Hwasun Hospital, Hwasun, Jeollanam-do, Republic of Korea., Department of Occupational and Environmental Medicine, Chonnam National University Hwasun Hospital, Hwasun, Jeollanam-do, Republic of Korea., Department of Occupational and Environmental Medicine, Chonnam National University Hwasun Hospital, Hwasun, Jeollanam-do, Republic of Korea., Department of Occupational and Environmental Medicine, Chonnam National University Hwasun Hospital, Hwasun, Jeollanam-do, Republic of Korea., Department of Occupational and Environmental Medicine, Chonnam National University Hwasun Hospital, Hwasun, Jeollanam-do, Republic of Korea.',\n",
       "       'Department of Pharmaceutical Toxicology, Faculty of Pharmacy (Ms Cetin, Mrs Karacan Dincer, Dr Sabuncuoglu); Department of Biochemistry, Faculty of Medicine (Dr Yalcinkaya, Dr Oztas Dr Lay); Department of Analytical Chemistry, Faculty of Pharmacy (Ms Recber, Dr Nemutlu), Hacettepe University; Research and Development Center, University of Health Sciences (Ms Eser), Ankara, Turkey; and Korea Institute of Science and Technology Europe (KIST EU), Joint Laboratory of Applied Ecotoxicology, Saarbrucken, Germany (Dr Samadi).',\n",
       "       'Department of Occupational and Environmental Medicine, Cheonan Medical Center, Cheonan, Republic of Korea (Dr Park); Department of Preventive Medicine, Yonsei University College of Medicine, Seodaemun-gu, Seoul, Republic of Korea (Dr Lee and Dr Jung); Department of Emergency Medicine, Cheonan Medical Center, Cheonan, Republic of Korea (Dr Kim); Department of Emergency Medicine, College of Medicine, Dankook University, Cheonan, Republic of Korea (Dr Kim); Department of Epidemiology, Harvard T.H. Chan School of Public Health, Boston, Massachusetts (Dr Jung).',\n",
       "       'Center for Sport Marketing Research, Sport Management, School of Kinesiology, University of Michigan, Ann Arbor, Michigan (Dr Kwon); Department of Sports Industry, College of Physical Education, Chosun University, Dong-gu, Gwangju-si, South Korea (Dr Seo).',\n",
       "       'Department of Family Medicine, Gil Medical Center, Gachon University College of Medicine, Incheon, South Korea., Department of Statistics, Dongguk University, Seoul, South Korea., Department of Family Medicine, Gil Medical Center, Gachon University College of Medicine, Incheon, South Korea.',\n",
       "       \"Department of Occupational and Environmental Medicine, Seoul St. Mary's Hospital, College of Medicine, The Catholic University of Korea, Seoul, Republic of Korea (Dr Jung, Dr J. Lee, Dr Y.M. Lee, Dr Kim, Dr Kang); Department of Preventive Medicine, College of Medicine, Seoul National University, Seoul, Republic of Korea (Dr D.W. Lee).\",\n",
       "       'Department of Occupational and Environmental Medicine, Gumi CHA Medical Center, College of Medicine, Pochon CHA University, Gumi, Korea (South). ycy4@korea.com',\n",
       "       'Department of Preventive Medicine, College of Medicine, Korea University, Seoul, South Korea. leewj@korea.ac.kr',\n",
       "       'Department of Occupational Health, Catholic University of Daegu, Gyeongsan, South Korea., Department of Sociology, Yonsei University, Seoul, South Korea., Department of Sociology, Yonsei University, Seoul, South Korea., Department of Occupational and Environmental Medicine, Ulsan University Hospital, University of Ulsan College of Medicine, Ulsan, South Korea.',\n",
       "       'Department of Internal Medicine, Yonsei University College of Medicine, CPO Box 8044, Seoul, Korea.',\n",
       "       \"From the Department of Rehabilitation Medicine, Seoul National University Hospital, Seoul, Republic of Korea (S.W.B., H.-I.S., M.S.B., M.-Y.L.); Department of Rehabilitation Medicine, Seoul National University College of Medicine, Seoul, Republic of Korea (H.-I.S., M.S.B.); Department of Rehabilitation Medicine, National Traffic Injury Rehabilitation Hospital, Yangpyeong, Republic of Korea (M.S.B.); Rehabilitation Medical Center, Korea Workers' Compensation and Welfare Service Incheon Hospital, Incheon, Republic of Korea (M.-Y.L.).\",\n",
       "       'Department of Occupational & Environmental Medicine, College of Medicine, The Catholic University of Korea, Seoul, Republic of Korea.',\n",
       "       'Division of Cardiology, Department of Internal Medicine (Drs Ahn, Choe, Shin, Park, Lee, Oh, Choi, Lee, Cha, Hong); Biomedical Research Institute (Dr Ahn), Pusan National University Hospital; Department of Statistics, Pukyong National University (Dr Uhm); Department of Atmospheric Sciences, Pusan National University (Dr Won), Busan; Department of Statistics and Institute of Statistics, Hallym University, Chuncheon (Dr Han); and Division of Cardiology, Department of Internal Medicine, Korea University Medical Center, Seoul (Dr Kim), Republic of Korea.',\n",
       "       'Department of Neurology, Keimyung University School of Medicine, Daegu, South Korea., Department of Neurology, Keimyung University School of Medicine, Daegu, South Korea.',\n",
       "       'Department of Occupational and Environmental Medicine, Kangbuk Samsung Hospital, Sungkyunkwan University School of Medicine, Seoul, Republic of Korea.',\n",
       "       'Institute of Health and Environment, Seoul National University, Seoul, Republic of Korea., Department of Preventive Medicine, College of Medicine, Seoul National University, Seoul, Republic of Korea., Department of Occupational and Environmental Medicine, Inha University Hospital, Incheon, Republic of Korea., Department of Dentistry, Keimyung University School of Medicine, Daegu, Republic of Korea., Department of Preventive Medicine, College of Medicine, Seoul National University, Seoul, Republic of Korea.',\n",
       "       'Department of Public Health, Graduate School, Yonsei University, Seoul, Republic of Korea (Mr Jeong, Ms Kim, Ms Oh); Institute of Health Services Research, Yonsei University, Seoul, Republic of Korea (Mr Jeong, Ms Kim, Ms Oh, Dr Park); Institute of Occupational Health, Yonsei University, Seoul, Republic of Korea (Ms Yoon) and Department of Preventive Medicine, Yonsei University College of Medicine, Seoul, Republic of Korea (Ms Yoon, Dr Park).',\n",
       "       'Industrial Health Research Institute, Korea Industrial Safety Corporation (KISCO) 34-6, Incheon, South Korea.',\n",
       "       \"Department of Occupational and Environmental Medicine, COMWEL Incheon Hospital, Incheon, Republic of Korea., Department of Occupational and Environmental Medicine, Seoul St. Mary's Hospital, College of Medicine, The Catholic University of Korea, Seoul, Republic of Korea.\",\n",
       "       'College of Nursing, ShinHan University, Dongducheon-si, Republic of Korea.',\n",
       "       'From the Department of Anesthesiology and Pain Medicine, Seoul National University Bundang Hospital, Seongnam, South Korea (T.K., I.A.S.); Department of Anesthesiology and Pain Medicine, College of Medicine, Seoul National University, Seoul, South Korea (T.K., I.A.S.); and Department of Occupational and Environmental Medicine, Shihwa Medical Center, Siheumg-si, South Korea.',\n",
       "       'Department of Public Health Sciences, Graduate School of Korea University, Seoul, South Korea., Department of Public Health Sciences, Graduate School of Korea University, Seoul, South Korea., Department of Public Health Sciences, Graduate School of Korea University, Seoul, South Korea., Department of Public Health Sciences, Graduate School of Korea University, Seoul, South Korea., Department of Social and Behavioral Sciences, Harvard T.H. Chan School of Public Health, Boston, Massachusetts.',\n",
       "       \"Occupational Safety and Health Research Institute, Korea Occupational Safety and Health Agency, Ulsan, Korea [Current affiliation] Department of Occupational and Environmental Medicine, International St. Mary's Hospital, Catholic Kwandong University, Incheon, Korea., Occupational Safety and Health Research Institute, Korea Occupational Safety and Health Agency, Ulsan, Korea., Occupational Safety and Health Research Institute, Korea Occupational Safety and Health Agency, Ulsan, Korea., Occupational Safety and Health Research Institute, Korea Occupational Safety and Health Agency, Ulsan, Korea.\",\n",
       "       'Institute of Industrial Medicine, Soonchunhyang University, Chunan, Republic of Korea.',\n",
       "       \"Department of Occupational and Environmental Medicine, Gil Medical Center, Gachon University College of Medicine, Incheon, Republic of Korea (Dr Lee); Incheon Hospital, Korea Workers' Compensation & Welfare Service, Incheon, Republic of Korea (Dr YJ Kang); Health Care Center, SMG-SNU Boramae Medical Center, College of Medicine, Seoul National University, Seoul, Republic of Korea (Dr Kim); Department of Global Economics, Sungkyunkwan University, Seoul, Republic of Korea (Dr Choi); Department of Occupational and Environmental Medicine, Seoul St. Mary's Hospital, College of Medicine, The Catholic University of Korea, Seoul, Republic of Korea (Dr M-Y Kang).\",\n",
       "       \"National Institute for Occupational Safety and Health, Centers for Disease Control and Prevention, Morgantown, West Virginia., National Institute for Occupational Safety and Health, Centers for Disease Control and Prevention, Morgantown, West Virginia., National Institute for Occupational Safety and Health, Centers for Disease Control and Prevention, Morgantown, West Virginia., Institute of Health and Environment, Seoul National University, Seoul, Republic of Korea., National Institute for Occupational Safety and Health, Centers for Disease Control and Prevention, Morgantown, West Virginia., National Institute for Occupational Safety and Health, Centers for Disease Control and Prevention, Morgantown, West Virginia., Translational Pulmonary Science Center, Cincinnati Children's Hospital Medical Center, Cincinnati, Ohio., Division of Pulmonary, Critical Care, and Sleep Medicine, University of Cincinnati College of Medicine, Cincinnati, Ohio., Translational Pulmonary Science Center, Cincinnati Children's Hospital Medical Center, Cincinnati, Ohio., National Institute for Occupational Safety and Health, Centers for Disease Control and Prevention, Morgantown, West Virginia., National Institute for Occupational Safety and Health, Centers for Disease Control and Prevention, Morgantown, West Virginia.\",\n",
       "       'Department of Preventive Medicine, College of Medicine, Korea University, Seoul 136-705, South Korea.',\n",
       "       \"Department of Research for Occupational Health, Institute of Occupation and Environment, Korea Workers' Compensation & Welfare Service, Incheon, 21417, Republic of Korea., Department of Research for Occupational Health, Institute of Occupation and Environment, Korea Workers' Compensation & Welfare Service, Incheon, 21417, Republic of Korea., Department of Research for Occupational Health, Institute of Occupation and Environment, Korea Workers' Compensation & Welfare Service, Incheon, 21417, Republic of Korea., Department of Research for Occupational Health, Institute of Occupation and Environment, Korea Workers' Compensation & Welfare Service, Incheon, 21417, Republic of Korea.\",\n",
       "       \"The Institute for Occupational Health, Yonsei University College of Medicine, Seoul, Korea Graduate School of Public Health, Yonsei University College of Medicine, Seoul, Korea Incheon Worker's Health Center, Korea., Department of Occupational and Environmental Medicine, Dongguk University Ilsan Hospital, Goyang, Korea., The First Department of Internal Medicine, School of Medicine, University of Occupational and Environmental Health, Kitakyushu, Japan., Graduate School of Public Health, Yonsei University College of Medicine, Seoul, Korea Department of Preventive Medicine, Yonsei University College of Medicine, Seoul, Korea Cardiovascular and Metabolic Disease Etiology Research Center, Yonsei University College of Medicine, Seoul, Korea., Graduate School of Public Health, Yonsei University College of Medicine, Seoul, Korea Department of Preventive Medicine, Yonsei University College of Medicine, Seoul, Korea Institute for Health Promotion, Graduate School of Public Health, Yonsei University, Seoul, Korea., The Institute for Occupational Health, Yonsei University College of Medicine, Seoul, Korea Graduate School of Public Health, Yonsei University College of Medicine, Seoul, Korea Incheon Worker's Health Center, Korea Department of Preventive Medicine, Yonsei University College of Medicine, Seoul, Korea.\",\n",
       "       'Department of Public Health, Graduate School, Yonsei University, Seoul, Republic of Korea., Institute of Health Services Research, Yonsei University, Seoul, Republic of Korea., Institute of Health Services Research, Yonsei University, Seoul, Republic of Korea., Department of Preventive Medicine, Yonsei University College of Medicine, Seoul, Republic of Korea., Department of Public Health, Graduate School, Yonsei University, Seoul, Republic of Korea., Institute of Health Services Research, Yonsei University, Seoul, Republic of Korea., Institute of Health Services Research, Yonsei University, Seoul, Republic of Korea., Graduate School of Public Heath, Yonsei University, Seoul, Republic of Korea.',\n",
       "       \"Department of Occupational and Environmental Medicine, Seoul St. Mary's Hospital, College of Medicine, The Catholic University of Korea (Dr Park, Dr Lee, Dr Kim, Dr Lee, Dr Ahn, Dr Kang); Public Healthcare Center, Seoul National University Hospital, Seoul, Republic of Korea (Dr D.W. Lee).\",\n",
       "       'Department of Occupational Medicine, Hallym University Sacred Heart Hospital, Anyang, Korea.',\n",
       "       'Chonnam National University, College of Nursing, Gwangju 61469, Republic of Korea., Chonnam National University Hwasun Hospital, Hwasun 58128, Republic of Korea., Chonnam National University, College of Nursing, Gwangju 61469, Republic of Korea.',\n",
       "       'Department of Public Health Science, Graduate School of Public Health and Institute of Health and Environment, Seoul National University, Seoul, South Korea., Department of Public Health Science, Graduate School of Public Health and Institute of Health and Environment, Seoul National University, Seoul, South Korea.',\n",
       "       'Department of Preventive Medicine, Dongguk University College of Medicine, Gyeongju-si, South Korea., Department of Preventive Medicine, Dongguk University College of Medicine, Gyeongju-si, South Korea., Department of Preventive Medicine, College of Medicine and Medical Research Institute, Chungbuk National University, Cheongju-si, South Korea.',\n",
       "       \"Department of Occupational and Environmental Medicine, Gangnam Giein Hospital, Seoul, Republic of Korea., Department of Occupational and Environmental Medicine, Seoul St. Mary's Hospital, College of Medicine, The Catholic University of Korea, Seoul, Republic of Korea., Department of Occupational and Environmental Medicine, Soonchunhyang University Hospital, Seoul, Republic of Korea.\",\n",
       "       'Department of Preventive and Occupational Medicine, Pusan National University School of Medicine, Busan, Korea.',\n",
       "       \"Department of Occupational and Environmental Medicine, Seoul St. Mary's Hospital, College of Medicine, The Catholic University of Korea (Dr Lee, Dr Koo, Dr Kang); Department of Research for Occupational Health, Institute of Occupation and Environment, Korea Workers' Compensation & Welfare Service (Dr Lee); Department of Preventive Medicine, Yonsei University College of Medicine (Dr Yoon); Incheon Hospital, Korea Workers' Compensation & Welfare Service (Dr Kang), Incheon; Health Care Center, Boramae Medical Center, College of Medicine, Seoul National University (Dr Kim), Seoul, Republic of Korea.\",\n",
       "       \"Busan Workers' Health Center, Korea & Pusan National University (Dr Kim), Occupational and Environmental Medicine, Pusan National University Yangsan Hospital (Dr Kang), Division of Pulmonary and Critical Care Medicine, Department of Internal Medicine, Inje University Busan Paik Hospital (Dr Lee), Department of Occupational and Environmental Medicine & Institute of Environmental and Occupational Medicine, Pusan Paik Hospital, Inje University (Drs Kim, Choi), Gyeongsangnam-do, South Korea.\",\n",
       "       \"Division of Sleep and Circadian Disorders, Department of Medicine, Brigham and Women's Hospital, Boston, Massachusetts, USA., Division of Sleep Medicine, Harvard Medical School, Boston, Massachusetts, USA., Division of Sleep and Circadian Disorders, Department of Medicine, Brigham and Women's Hospital, Boston, Massachusetts, USA., Division of Sleep Medicine, Harvard Medical School, Boston, Massachusetts, USA., Division of Sleep and Circadian Disorders, Department of Medicine, Brigham and Women's Hospital, Boston, Massachusetts, USA., Division of Sleep and Circadian Disorders, Department of Medicine, Brigham and Women's Hospital, Boston, Massachusetts, USA., Division of Sleep Medicine, Harvard Medical School, Boston, Massachusetts, USA., Department of Neurology, Dankook University College of Medicine, Dankook University Hospital, Cheonan, Republic of Korea., Division of Sleep and Circadian Disorders, Department of Medicine, Brigham and Women's Hospital, Boston, Massachusetts, USA., Division of Sleep Medicine, Harvard Medical School, Boston, Massachusetts, USA., Division of Sleep and Circadian Disorders, Department of Medicine, Brigham and Women's Hospital, Boston, Massachusetts, USA jduffy@research.bwh.harvard.edu., Division of Sleep Medicine, Harvard Medical School, Boston, Massachusetts, USA.\",\n",
       "       'Department of Occupational and Environmental Medicine, Inha University Hospital, Inha University, 3 Shinheung-dong, Jung-gu, Incheon 400-700, Republic of Korea.',\n",
       "       'Occupational Safety and Health Research Institute (OSHRI), Korea Safety and Health Agency (KOSHA), #34-4, Gusan-dong, Bupyeong-gu, Incheon, 403-711, Republic of Korea. koh.donghee@gmail.com',\n",
       "       'Department of Biomedical Science (Dr Yun, Ms Sim, Ms Park); Cancer Research Institute, Seoul National University College of Medicine (Dr Yun, Dr Noh); Integrated Care Center (Dr Yun), Department of Pediatrics (Dr Park), and Department of Surgery (Dr Noh), Seoul National University Hospital, Republic of Korea.',\n",
       "       'Institute of Social Sciences, Kookmin University (Dr Han); Department of Public Administration, The Catholic University of Korea (Dr Park, Dr Lee), Seoul, South Korea.',\n",
       "       'Korea Institute for Health and Social Affairs, Sejong, Republic of Korea., Department of Public Health Sciences, Korea University, Seoul, Republic of Korea., Gyeonggi public health policy institute, Seongnam, Gyeonggi, Republic of Korea., Department of Public Health Sciences, Korea University, Seoul, Republic of Korea., Department of Social and Behavioral Sciences, Harvard T.H. Chan School of Public Health, Boston, Massachusetts.',\n",
       "       'Korea Occupational Safety and Health Agency, Incheon, South Korea.',\n",
       "       'Department of Preventive Medicine, College of Medicine, Seoul National University, Seoul, Republic of Korea (Dr Lee, Dr Hong, and Dr Park); Public Health Medical Service, Seoul National University Hospital, Seoul, Republic of Korea (Dr Seo); Department of Psychiatry, Kangbuk Samsung Hospital, Sungkyunkwan University School of Medicine, Seoul, Republic of Korea (Dr Cho); Human Rights Center, Seoul National University Hospital, Seoul, Republic of Korea (Ms Nam and Dr Lee); and Department of Psychiatry, Seoul National University Hospital, Seoul, Republic of Korea (Dr Lee).',\n",
       "       \"From the Department of Rehabilitation Medicine, Seoul National University Hospital, Seoul, South Korea (Dr Bae, Dr Lee); and Rehabilitation Medicine Center, Korea Workers' Compensation and Welfare Service Incheon Hospital, Incheon, South Korea (Dr Lee).\",\n",
       "       \"First Department of Internal Medicine, School of Medicine, University of Occupational and Environmental Health, Kitakyushu, Japan (Lee); The Institute for Occupational Health (Drs Lee, Roh, Won, Yoon); Graduate School of Public Health, Yonsei University College of Medicine, Seoul (Drs Roh, Won, Yoon); Incheon Worker's Health Center, Namdong-gu (Drs Lee, Roh, Won, Yoon); and Department of Preventive Medicine, Yonsei University College of Medicine, Seoul, Republic of Korea (Drs Roh, Won, Yoon).\",\n",
       "       'Department of Environmental Health Sciences, Seoul National University Graduate School of Public Health, Seoul, Republic of Korea., Department of Occupational and Environmental Medicine, Korea University Ansan Hospital, Ansan, Republic of Korea., Department of Environmental Health Sciences, Seoul National University Graduate School of Public Health, Seoul, Republic of Korea., Institute of Health and Environment, Seoul National University, Seoul, Republic of Korea., Department of Environmental Health Sciences, Seoul National University Graduate School of Public Health, Seoul, Republic of Korea kezoh@snu.ac.kr.',\n",
       "       'Department of Nephrology, Ulsan University Hospital, University of Ulsan College of Medicine, Ulsan, South Korea., Department of Neurology, Ulsan University Hospital, University of Ulsan College of Medicine, Ulsan, South Korea., Department of Laboratory Medicine, Ulsan University Hospital, University of Ulsan College of Medicine, Ulsan, South Korea., Department of Plastic Surgery, Ulsan University Hospital, University of Ulsan College of Medicine, Ulsan, South Korea., Department of Occupational and Environmental Medicine, Ulsan University Hospital, University of Ulsan College of Medicine, Ulsan, South Korea., Department of Occupational and Environmental Medicine, Ulsan University Hospital, University of Ulsan College of Medicine, Ulsan, South Korea., Department of Occupational and Environmental Medicine, Ulsan University Hospital, University of Ulsan College of Medicine, Ulsan, South Korea.',\n",
       "       'Interdepartment of Critical Care Medicine (Dr Im); Department of Surgery (Dr Im); Department of Occupational and Environmental Medicine, Shihwa Medical Center, Siheumg-si (Dr Kim); Department of Anesthesiology and Pain Medicine (Dr Oh), Seoul National University Bundang Hospital, Seongnam, South Korea.',\n",
       "       'Graduate School of Public Health, Korea University, Seoul, South Korea., Department of Preventive Medicine, Korea University College of Medicine, Seoul, South Korea., Department of Radiology, Seoul National University Bundang Hospital, Gyeonggi-do, South Korea., Program in Biomedical Radiation Sciences, Department of Transdisciplinary Studies, Graduate School of Convergence Science and Technology, Seoul National University, Seoul, South Korea., Graduate School of Public Health, Korea University, Seoul, South Korea., Department of Preventive Medicine, Korea University College of Medicine, Seoul, South Korea., Graduate School of Public Health, Korea University, Seoul, South Korea., Department of Preventive Medicine, Korea University College of Medicine, Seoul, South Korea.',\n",
       "       'Center for Occupational and Environmental Health, University of California Irvine, Irvine, California., Enviromental Health Sciences Graduate Program, University of California Irvine, Irvine, California., Program in Public Health, University of California Irvine, Irvine, California., Center for Occupational and Environmental Health, University of California Irvine, Irvine, California., Department of Preventive Medicine, Yonsei University Wonju College of Medicine, Wonju, South Korea., Center for Occupational and Environmental Health, University of California Irvine, Irvine, California.',\n",
       "       'Department of Occupational Health, Catholic University of Daegu, Daegu, South Korea., Department of Sociology, Yonsei University, Seoul, South Korea., Department of Occupational and Environmental Medicine, Ulsan University Hospital, University of Ulsan College of Medicine, Ulsan, South Korea.'],\n",
       "      dtype=object)"
      ]
     },
     "execution_count": 35,
     "metadata": {},
     "output_type": "execute_result"
    }
   ],
   "source": [
    "# none of these relate to north korea so we can remove 'korea' as an lmic\n",
    "df[df['author_affiliation'].str.contains('Korea')]['author_affiliation'].values"
   ]
  },
  {
   "cell_type": "code",
   "execution_count": 36,
   "id": "bd7e144f",
   "metadata": {},
   "outputs": [],
   "source": [
    "list_of_lmics.remove('Korea')"
   ]
  },
  {
   "cell_type": "code",
   "execution_count": 37,
   "id": "a1848e0b",
   "metadata": {},
   "outputs": [
    {
     "data": {
      "text/plain": [
       "['Afghanistan',\n",
       " 'Angola',\n",
       " 'Bangladesh',\n",
       " 'Benin',\n",
       " 'Bhutan',\n",
       " 'Bolivia',\n",
       " 'Burkina Faso',\n",
       " 'Burundi',\n",
       " 'Cabo Verde',\n",
       " 'Cambodia',\n",
       " 'Cameroon',\n",
       " 'Central African Republic',\n",
       " 'Chad',\n",
       " 'Comoros',\n",
       " 'Congo',\n",
       " 'Congo',\n",
       " 'Côte d’Ivoire',\n",
       " 'Djibouti',\n",
       " 'Egypt',\n",
       " 'Eritrea',\n",
       " 'Eswatini',\n",
       " 'Ethiopia',\n",
       " 'Gambia',\n",
       " 'Ghana',\n",
       " 'Guinea',\n",
       " 'Guinea-Bissau',\n",
       " 'Haiti',\n",
       " 'Honduras',\n",
       " 'India',\n",
       " 'Jordan',\n",
       " 'Kenya',\n",
       " 'Kiribati',\n",
       " 'Kyrgyz Republic',\n",
       " 'Lao PDR',\n",
       " 'Lebanon',\n",
       " 'Lesotho',\n",
       " 'Liberia',\n",
       " 'Madagascar',\n",
       " 'Malawi',\n",
       " 'Mali',\n",
       " 'Mauritania',\n",
       " 'Micronesia',\n",
       " 'Morocco',\n",
       " 'Mozambique',\n",
       " 'Myanmar',\n",
       " 'Nepal',\n",
       " 'Nicaragua',\n",
       " 'Niger',\n",
       " 'Nigeria',\n",
       " 'Pakistan',\n",
       " 'Papua New Guinea',\n",
       " 'Philippines',\n",
       " 'Rwanda',\n",
       " 'Samoa',\n",
       " 'São Tomé and Príncipe',\n",
       " 'Senegal',\n",
       " 'Sierra Leone',\n",
       " 'Solomon Islands',\n",
       " 'Somalia',\n",
       " 'South Sudan',\n",
       " 'Sri Lanka',\n",
       " 'Sudan',\n",
       " 'Syrian Arab Republic',\n",
       " 'Tajikistan',\n",
       " 'Tanzania',\n",
       " 'Timor-Leste',\n",
       " 'Togo',\n",
       " 'Tunisia',\n",
       " 'Uganda',\n",
       " 'Uzbekistan',\n",
       " 'Vanuatu',\n",
       " 'Vietnam',\n",
       " 'West Bank and Gaza',\n",
       " 'Yemen',\n",
       " 'Zambia',\n",
       " 'Zimbabwe']"
      ]
     },
     "execution_count": 37,
     "metadata": {},
     "output_type": "execute_result"
    }
   ],
   "source": [
    "list_of_lmics"
   ]
  },
  {
   "cell_type": "code",
   "execution_count": 38,
   "id": "bd5899b5",
   "metadata": {},
   "outputs": [
    {
     "data": {
      "text/html": [
       "<div>\n",
       "<style scoped>\n",
       "    .dataframe tbody tr th:only-of-type {\n",
       "        vertical-align: middle;\n",
       "    }\n",
       "\n",
       "    .dataframe tbody tr th {\n",
       "        vertical-align: top;\n",
       "    }\n",
       "\n",
       "    .dataframe thead th {\n",
       "        text-align: right;\n",
       "    }\n",
       "</style>\n",
       "<table border=\"1\" class=\"dataframe\">\n",
       "  <thead>\n",
       "    <tr style=\"text-align: right;\">\n",
       "      <th></th>\n",
       "      <th>pmid</th>\n",
       "      <th>author</th>\n",
       "      <th>author_affiliation</th>\n",
       "      <th>date</th>\n",
       "      <th>title</th>\n",
       "      <th>journal</th>\n",
       "      <th>pub_type</th>\n",
       "    </tr>\n",
       "  </thead>\n",
       "  <tbody>\n",
       "    <tr>\n",
       "      <th>1888</th>\n",
       "      <td>19671533</td>\n",
       "      <td>Fullerton DG, Semple S, Kalambo F, Suseno A, M...</td>\n",
       "      <td>Malawi-Liverpool-Wellcome Clinical Research La...</td>\n",
       "      <td>2009 Nov</td>\n",
       "      <td>Biomass fuel use and indoor air pollution in h...</td>\n",
       "      <td>Occupational and environmental medicine</td>\n",
       "      <td>Journal Article, Research Support, Non-U.S. Gov't</td>\n",
       "    </tr>\n",
       "    <tr>\n",
       "      <th>1958</th>\n",
       "      <td>15613613</td>\n",
       "      <td>Saha A, Kulkarni PK, Shah A, Patel M, Saiyed HN</td>\n",
       "      <td>Occupational Medicine Division, National Insti...</td>\n",
       "      <td>2005 Jan</td>\n",
       "      <td>Ocular morbidity and fuel use: an experience f...</td>\n",
       "      <td>Occupational and environmental medicine</td>\n",
       "      <td>Journal Article</td>\n",
       "    </tr>\n",
       "    <tr>\n",
       "      <th>2956</th>\n",
       "      <td>36280382</td>\n",
       "      <td>Rabbani G, Nimmi N, Benke GP, Dharmage SC, Bui...</td>\n",
       "      <td>Bangladesh Betar, Dhaka, Bangladesh., Institut...</td>\n",
       "      <td>2023 Jan</td>\n",
       "      <td>Ever and cumulative occupational exposure and ...</td>\n",
       "      <td>Occupational and environmental medicine</td>\n",
       "      <td>Journal Article, Meta-Analysis, Review, System...</td>\n",
       "    </tr>\n",
       "    <tr>\n",
       "      <th>6734</th>\n",
       "      <td>36572527</td>\n",
       "      <td>Das D, Dutta HK, Borbora D, Brahma RC, Das JM</td>\n",
       "      <td>Department of Surgery, Assam Medical College a...</td>\n",
       "      <td>2023 Feb</td>\n",
       "      <td>Assessing the relationship between hypospadias...</td>\n",
       "      <td>Occupational and environmental medicine</td>\n",
       "      <td>Journal Article</td>\n",
       "    </tr>\n",
       "    <tr>\n",
       "      <th>7895</th>\n",
       "      <td>36379677</td>\n",
       "      <td>Hosseini B, Olsson A, Bouaoun L, Hall A, Hadji...</td>\n",
       "      <td>Environment and Lifestyle Epidemiology Branch,...</td>\n",
       "      <td>2022 Dec</td>\n",
       "      <td>Lung cancer risk in relation to jobs held in a...</td>\n",
       "      <td>Occupational and environmental medicine</td>\n",
       "      <td>Journal Article, Research Support, Non-U.S. Gov't</td>\n",
       "    </tr>\n",
       "    <tr>\n",
       "      <th>8973</th>\n",
       "      <td>35228261</td>\n",
       "      <td>Lee MS, Eum KD, Golam M, Quamruzzaman Q, Kile ...</td>\n",
       "      <td>Department of Environmental Health, Harvard T....</td>\n",
       "      <td>2022 May</td>\n",
       "      <td>Household use of crop residues and fuelwood fo...</td>\n",
       "      <td>Occupational and environmental medicine</td>\n",
       "      <td>Journal Article, Research Support, N.I.H., Ext...</td>\n",
       "    </tr>\n",
       "    <tr>\n",
       "      <th>12671</th>\n",
       "      <td>25794507</td>\n",
       "      <td>Phung D, Rutherford S, Chu C, Wang X, Nguyen M...</td>\n",
       "      <td>Centre for Environment and Population Health (...</td>\n",
       "      <td>2015 Jul</td>\n",
       "      <td>Temperature as a risk factor for hospitalisati...</td>\n",
       "      <td>Occupational and environmental medicine</td>\n",
       "      <td>Journal Article, Research Support, Non-U.S. Gov't</td>\n",
       "    </tr>\n",
       "  </tbody>\n",
       "</table>\n",
       "</div>"
      ],
      "text/plain": [
       "           pmid                                             author  \\\n",
       "1888   19671533  Fullerton DG, Semple S, Kalambo F, Suseno A, M...   \n",
       "1958   15613613    Saha A, Kulkarni PK, Shah A, Patel M, Saiyed HN   \n",
       "2956   36280382  Rabbani G, Nimmi N, Benke GP, Dharmage SC, Bui...   \n",
       "6734   36572527      Das D, Dutta HK, Borbora D, Brahma RC, Das JM   \n",
       "7895   36379677  Hosseini B, Olsson A, Bouaoun L, Hall A, Hadji...   \n",
       "8973   35228261  Lee MS, Eum KD, Golam M, Quamruzzaman Q, Kile ...   \n",
       "12671  25794507  Phung D, Rutherford S, Chu C, Wang X, Nguyen M...   \n",
       "\n",
       "                                      author_affiliation      date  \\\n",
       "1888   Malawi-Liverpool-Wellcome Clinical Research La...  2009 Nov   \n",
       "1958   Occupational Medicine Division, National Insti...  2005 Jan   \n",
       "2956   Bangladesh Betar, Dhaka, Bangladesh., Institut...  2023 Jan   \n",
       "6734   Department of Surgery, Assam Medical College a...  2023 Feb   \n",
       "7895   Environment and Lifestyle Epidemiology Branch,...  2022 Dec   \n",
       "8973   Department of Environmental Health, Harvard T....  2022 May   \n",
       "12671  Centre for Environment and Population Health (...  2015 Jul   \n",
       "\n",
       "                                                   title  \\\n",
       "1888   Biomass fuel use and indoor air pollution in h...   \n",
       "1958   Ocular morbidity and fuel use: an experience f...   \n",
       "2956   Ever and cumulative occupational exposure and ...   \n",
       "6734   Assessing the relationship between hypospadias...   \n",
       "7895   Lung cancer risk in relation to jobs held in a...   \n",
       "8973   Household use of crop residues and fuelwood fo...   \n",
       "12671  Temperature as a risk factor for hospitalisati...   \n",
       "\n",
       "                                       journal  \\\n",
       "1888   Occupational and environmental medicine   \n",
       "1958   Occupational and environmental medicine   \n",
       "2956   Occupational and environmental medicine   \n",
       "6734   Occupational and environmental medicine   \n",
       "7895   Occupational and environmental medicine   \n",
       "8973   Occupational and environmental medicine   \n",
       "12671  Occupational and environmental medicine   \n",
       "\n",
       "                                                pub_type  \n",
       "1888   Journal Article, Research Support, Non-U.S. Gov't  \n",
       "1958                                     Journal Article  \n",
       "2956   Journal Article, Meta-Analysis, Review, System...  \n",
       "6734                                     Journal Article  \n",
       "7895   Journal Article, Research Support, Non-U.S. Gov't  \n",
       "8973   Journal Article, Research Support, N.I.H., Ext...  \n",
       "12671  Journal Article, Research Support, Non-U.S. Gov't  "
      ]
     },
     "execution_count": 38,
     "metadata": {},
     "output_type": "execute_result"
    }
   ],
   "source": [
    "# papers to check that Asaad gave us, now all present, Iran wasn't previously due to issue above\n",
    "df[df.pmid.isin([\"35228261\",\n",
    "\"36280382\",\n",
    "\"30530485\",\n",
    "\"15613613\",\n",
    "\"36572527\",\n",
    "\"36379677\",\n",
    "\"19671533\",\n",
    "\"34799440\",\n",
    "\"25794507\"])]"
   ]
  },
  {
   "cell_type": "code",
   "execution_count": 39,
   "id": "9cc53850",
   "metadata": {},
   "outputs": [
    {
     "data": {
      "text/plain": [
       "16389"
      ]
     },
     "execution_count": 39,
     "metadata": {},
     "output_type": "execute_result"
    }
   ],
   "source": [
    "len(df)"
   ]
  },
  {
   "cell_type": "code",
   "execution_count": 40,
   "id": "1bdf58f0",
   "metadata": {},
   "outputs": [
    {
     "name": "stdout",
     "output_type": "stream",
     "text": [
      "['Occupational medicine (Oxford, England)'\n",
      " 'American journal of industrial medicine'\n",
      " 'Journal of occupational and environmental medicine'\n",
      " 'Occupational and environmental medicine'\n",
      " 'Occupational medicine (Philadelphia, Pa.)']\n",
      "\n",
      "\n",
      "author_affiliation\n",
      "False    3977\n",
      "True       40\n",
      "Name: count, dtype: int64\n",
      "contains lmic\n",
      "\n",
      "author_affiliation\n",
      "False    0.990042\n",
      "True     0.009958\n",
      "Name: proportion, dtype: float64\n",
      "contains lmic\n",
      "\n"
     ]
    }
   ],
   "source": [
    "# pre 2000\n",
    "results(df[df['date'] < \"2000\"])"
   ]
  },
  {
   "cell_type": "code",
   "execution_count": 41,
   "id": "df20a364",
   "metadata": {},
   "outputs": [
    {
     "name": "stdout",
     "output_type": "stream",
     "text": [
      "['Occupational and environmental medicine'\n",
      " 'Journal of occupational and environmental medicine'\n",
      " 'Occupational medicine (Philadelphia, Pa.)'\n",
      " 'Occupational medicine (Oxford, England)'\n",
      " 'American journal of industrial medicine']\n",
      "\n",
      "\n",
      "author_affiliation\n",
      "False    12169\n",
      "True       203\n",
      "Name: count, dtype: int64\n",
      "contains lmic\n",
      "\n",
      "author_affiliation\n",
      "False    0.983592\n",
      "True     0.016408\n",
      "Name: proportion, dtype: float64\n",
      "contains lmic\n",
      "\n"
     ]
    }
   ],
   "source": [
    "# 2000 and later\n",
    "results(df[df['date'] >= \"2000\"])"
   ]
  },
  {
   "cell_type": "code",
   "execution_count": 42,
   "id": "a62046dc",
   "metadata": {},
   "outputs": [
    {
     "data": {
      "text/plain": [
       "array(['Occupational and environmental medicine',\n",
       "       'Journal of occupational and environmental medicine',\n",
       "       'Occupational medicine (Oxford, England)',\n",
       "       'Occupational medicine (Philadelphia, Pa.)',\n",
       "       'American journal of industrial medicine'], dtype=object)"
      ]
     },
     "execution_count": 42,
     "metadata": {},
     "output_type": "execute_result"
    }
   ],
   "source": [
    "df['journal'].unique()"
   ]
  },
  {
   "cell_type": "code",
   "execution_count": 43,
   "id": "95210e97",
   "metadata": {},
   "outputs": [],
   "source": [
    "# lets call OM Pa OM Ox.... \n",
    "df = df.replace('Occupational medicine (Philadelphia, Pa.)', 'Occupational medicine (Oxford, England)' )\n",
    "journals = df['journal'].unique()\n",
    "df.to_csv('for_asaad.csv')"
   ]
  },
  {
   "cell_type": "code",
   "execution_count": 44,
   "id": "9830b47d",
   "metadata": {},
   "outputs": [
    {
     "name": "stdout",
     "output_type": "stream",
     "text": [
      "['Occupational medicine (Oxford, England)'\n",
      " 'American journal of industrial medicine'\n",
      " 'Journal of occupational and environmental medicine'\n",
      " 'Occupational and environmental medicine']\n",
      "\n",
      "\n",
      "author_affiliation\n",
      "False    3977\n",
      "True       40\n",
      "Name: count, dtype: int64\n",
      "contains lmic\n",
      "\n",
      "author_affiliation\n",
      "False    0.990042\n",
      "True     0.009958\n",
      "Name: proportion, dtype: float64\n",
      "contains lmic\n",
      "\n"
     ]
    }
   ],
   "source": [
    "# pre 2000\n",
    "results(df[df['date'] < \"2000\"])"
   ]
  },
  {
   "cell_type": "code",
   "execution_count": 45,
   "id": "75858216",
   "metadata": {},
   "outputs": [
    {
     "name": "stdout",
     "output_type": "stream",
     "text": [
      "['Occupational and environmental medicine']\n",
      "\n",
      "\n",
      "author_affiliation\n",
      "False    707\n",
      "True       3\n",
      "Name: count, dtype: int64\n",
      "contains lmic\n",
      "\n",
      "author_affiliation\n",
      "False    0.995775\n",
      "True     0.004225\n",
      "Name: proportion, dtype: float64\n",
      "contains lmic\n",
      "\n",
      "['Journal of occupational and environmental medicine']\n",
      "\n",
      "\n",
      "author_affiliation\n",
      "False    558\n",
      "True       5\n",
      "Name: count, dtype: int64\n",
      "contains lmic\n",
      "\n",
      "author_affiliation\n",
      "False    0.991119\n",
      "True     0.008881\n",
      "Name: proportion, dtype: float64\n",
      "contains lmic\n",
      "\n",
      "['Occupational medicine (Oxford, England)']\n",
      "\n",
      "\n",
      "author_affiliation\n",
      "False    1063\n",
      "True       15\n",
      "Name: count, dtype: int64\n",
      "contains lmic\n",
      "\n",
      "author_affiliation\n",
      "False    0.986085\n",
      "True     0.013915\n",
      "Name: proportion, dtype: float64\n",
      "contains lmic\n",
      "\n",
      "['American journal of industrial medicine']\n",
      "\n",
      "\n",
      "author_affiliation\n",
      "False    1649\n",
      "True       17\n",
      "Name: count, dtype: int64\n",
      "contains lmic\n",
      "\n",
      "author_affiliation\n",
      "False    0.989796\n",
      "True     0.010204\n",
      "Name: proportion, dtype: float64\n",
      "contains lmic\n",
      "\n"
     ]
    },
    {
     "data": {
      "text/plain": [
       "[None, None, None, None]"
      ]
     },
     "execution_count": 45,
     "metadata": {},
     "output_type": "execute_result"
    }
   ],
   "source": [
    "# pre 2000 by journal\n",
    "[results(df[(df['date'] < \"2000\") & (df['journal'] == journal)]) for journal in journals]"
   ]
  },
  {
   "cell_type": "code",
   "execution_count": 46,
   "id": "656beee1",
   "metadata": {},
   "outputs": [
    {
     "name": "stdout",
     "output_type": "stream",
     "text": [
      "['Occupational and environmental medicine'\n",
      " 'Journal of occupational and environmental medicine'\n",
      " 'Occupational medicine (Oxford, England)'\n",
      " 'American journal of industrial medicine']\n",
      "\n",
      "\n",
      "author_affiliation\n",
      "False    12169\n",
      "True       203\n",
      "Name: count, dtype: int64\n",
      "contains lmic\n",
      "\n",
      "author_affiliation\n",
      "False    0.983592\n",
      "True     0.016408\n",
      "Name: proportion, dtype: float64\n",
      "contains lmic\n",
      "\n"
     ]
    }
   ],
   "source": [
    "# after 2000 by journal\n",
    "results(df[(df['date'] >= \"2000\")])"
   ]
  },
  {
   "cell_type": "code",
   "execution_count": 47,
   "id": "8eac2cb6",
   "metadata": {},
   "outputs": [
    {
     "name": "stdout",
     "output_type": "stream",
     "text": [
      "['Occupational and environmental medicine']\n",
      "\n",
      "\n",
      "author_affiliation\n",
      "False    3155\n",
      "True       46\n",
      "Name: count, dtype: int64\n",
      "contains lmic\n",
      "\n",
      "author_affiliation\n",
      "False    0.985629\n",
      "True     0.014371\n",
      "Name: proportion, dtype: float64\n",
      "contains lmic\n",
      "\n",
      "['Journal of occupational and environmental medicine']\n",
      "\n",
      "\n",
      "author_affiliation\n",
      "False    4163\n",
      "True       82\n",
      "Name: count, dtype: int64\n",
      "contains lmic\n",
      "\n",
      "author_affiliation\n",
      "False    0.980683\n",
      "True     0.019317\n",
      "Name: proportion, dtype: float64\n",
      "contains lmic\n",
      "\n",
      "['Occupational medicine (Oxford, England)']\n",
      "\n",
      "\n",
      "author_affiliation\n",
      "False    2123\n",
      "True       35\n",
      "Name: count, dtype: int64\n",
      "contains lmic\n",
      "\n",
      "author_affiliation\n",
      "False    0.983781\n",
      "True     0.016219\n",
      "Name: proportion, dtype: float64\n",
      "contains lmic\n",
      "\n",
      "['American journal of industrial medicine']\n",
      "\n",
      "\n",
      "author_affiliation\n",
      "False    2728\n",
      "True       40\n",
      "Name: count, dtype: int64\n",
      "contains lmic\n",
      "\n",
      "author_affiliation\n",
      "False    0.985549\n",
      "True     0.014451\n",
      "Name: proportion, dtype: float64\n",
      "contains lmic\n",
      "\n"
     ]
    },
    {
     "data": {
      "text/plain": [
       "[None, None, None, None]"
      ]
     },
     "execution_count": 47,
     "metadata": {},
     "output_type": "execute_result"
    }
   ],
   "source": [
    "# after 2000 by journal\n",
    "[results(df[(df['date'] >= \"2000\") & (df['journal'] == journal)]) for journal in journals]"
   ]
  },
  {
   "cell_type": "code",
   "execution_count": 48,
   "id": "73cf067a",
   "metadata": {},
   "outputs": [
    {
     "name": "stdout",
     "output_type": "stream",
     "text": [
      "Afghanistan 0\n",
      "Angola 0\n",
      "Bangladesh 6\n",
      "Benin 3\n",
      "Bhutan 2\n",
      "Bolivia 0\n",
      "Burkina Faso 0\n",
      "Burundi 0\n",
      "Cabo Verde 0\n",
      "Cambodia 0\n",
      "Cameroon 0\n",
      "Central African Republic 0\n",
      "Chad 0\n",
      "Comoros 0\n",
      "Congo 1\n",
      "Congo 1\n",
      "Côte d’Ivoire 0\n",
      "Djibouti 0\n",
      "Egypt 14\n",
      "Eritrea 0\n",
      "Eswatini 0\n",
      "Ethiopia 8\n",
      "Gambia 0\n",
      "Ghana 4\n",
      "Guinea 0\n",
      "Guinea-Bissau 0\n",
      "Haiti 0\n",
      "Honduras 0\n",
      "India 101\n",
      "Jordan 5\n",
      "Kenya 1\n",
      "Kiribati 0\n",
      "Kyrgyz Republic 0\n",
      "Lao PDR 0\n",
      "Lebanon 18\n",
      "Lesotho 0\n",
      "Liberia 0\n",
      "Madagascar 0\n",
      "Malawi 1\n",
      "Mali 6\n",
      "Mauritania 0\n",
      "Micronesia 0\n",
      "Morocco 1\n",
      "Mozambique 0\n",
      "Myanmar 0\n",
      "Nepal 3\n",
      "Nicaragua 7\n",
      "Niger 12\n",
      "Nigeria 12\n",
      "Pakistan 15\n",
      "Papua New Guinea 0\n",
      "Philippines 4\n",
      "Rwanda 0\n",
      "Samoa 0\n",
      "São Tomé and Príncipe 0\n",
      "Senegal 1\n",
      "Sierra Leone 1\n",
      "Solomon Islands 0\n",
      "Somalia 0\n",
      "South Sudan 0\n",
      "Sri Lanka 15\n",
      "Sudan 5\n",
      "Syrian Arab Republic 0\n",
      "Tajikistan 0\n",
      "Tanzania 6\n",
      "Timor-Leste 0\n",
      "Togo 1\n",
      "Tunisia 3\n",
      "Uganda 1\n",
      "Uzbekistan 0\n",
      "Vanuatu 0\n",
      "Vietnam 4\n",
      "West Bank and Gaza 0\n",
      "Yemen 0\n",
      "Zambia 2\n",
      "Zimbabwe 1\n"
     ]
    }
   ],
   "source": [
    "# we use this data to make our Choropleth\n",
    "\n",
    "lmic_dict_papers = {}\n",
    "for lmic in list_of_lmics:\n",
    "    print(lmic,len(df) - df.author_affiliation.str.contains(lmic).value_counts()[0])\n",
    "    lmic_dict_papers[lmic] = len(df) - df.author_affiliation.str.contains(lmic).value_counts()[0]"
   ]
  },
  {
   "cell_type": "code",
   "execution_count": 49,
   "id": "3fd0d583",
   "metadata": {},
   "outputs": [
    {
     "data": {
      "text/html": [
       "<div>\n",
       "<style scoped>\n",
       "    .dataframe tbody tr th:only-of-type {\n",
       "        vertical-align: middle;\n",
       "    }\n",
       "\n",
       "    .dataframe tbody tr th {\n",
       "        vertical-align: top;\n",
       "    }\n",
       "\n",
       "    .dataframe thead th {\n",
       "        text-align: right;\n",
       "    }\n",
       "</style>\n",
       "<table border=\"1\" class=\"dataframe\">\n",
       "  <thead>\n",
       "    <tr style=\"text-align: right;\">\n",
       "      <th></th>\n",
       "      <th>pmid</th>\n",
       "      <th>author</th>\n",
       "      <th>author_affiliation</th>\n",
       "      <th>date</th>\n",
       "      <th>title</th>\n",
       "      <th>journal</th>\n",
       "      <th>pub_type</th>\n",
       "    </tr>\n",
       "  </thead>\n",
       "  <tbody>\n",
       "    <tr>\n",
       "      <th>2561</th>\n",
       "      <td>35608827</td>\n",
       "      <td>Ariza-Montes A, Mahmood F, Han H, Saleem M</td>\n",
       "      <td>Universidad Loyola Andalucia, Spain (Dr Ariza-...</td>\n",
       "      <td>2022 May 1</td>\n",
       "      <td>The Mental Well-Being of Health Care Professio...</td>\n",
       "      <td>Journal of occupational and environmental medi...</td>\n",
       "      <td>Journal Article</td>\n",
       "    </tr>\n",
       "    <tr>\n",
       "      <th>3969</th>\n",
       "      <td>32956236</td>\n",
       "      <td>Sarfraz A, Sarfraz Z, Anwer A, Sarfraz M, Sidd...</td>\n",
       "      <td>Aga Khan University, Karachi, Pakistan (Dr Azz...</td>\n",
       "      <td>2020 Nov</td>\n",
       "      <td>Availability, Use, and Satisfaction of Persona...</td>\n",
       "      <td>Journal of occupational and environmental medi...</td>\n",
       "      <td>Journal Article</td>\n",
       "    </tr>\n",
       "    <tr>\n",
       "      <th>4226</th>\n",
       "      <td>33234873</td>\n",
       "      <td>Kumar D, Saghir T, Ali G, Yasin U, Furnaz S, K...</td>\n",
       "      <td>National Institute of Cardiovascular Diseases ...</td>\n",
       "      <td>2021 Feb 1</td>\n",
       "      <td>Psychosocial Impact of COVID-19 on Healthcare ...</td>\n",
       "      <td>Journal of occupational and environmental medi...</td>\n",
       "      <td>Journal Article</td>\n",
       "    </tr>\n",
       "    <tr>\n",
       "      <th>5616</th>\n",
       "      <td>27032413</td>\n",
       "      <td>Khattak I, Mushtaq MH, Ahmad MU, Khan MS, Haid...</td>\n",
       "      <td>Department of Epidemiology and Public Health, ...</td>\n",
       "      <td>2016 Jul</td>\n",
       "      <td>Zoonotic tuberculosis in occupationally expose...</td>\n",
       "      <td>Occupational medicine (Oxford, England)</td>\n",
       "      <td>Journal Article</td>\n",
       "    </tr>\n",
       "    <tr>\n",
       "      <th>5677</th>\n",
       "      <td>35672913</td>\n",
       "      <td>Rabbani U, Razzaq S, Irfan M, Semple S, Nafees AA</td>\n",
       "      <td>From the Family Medicine Academy, Qassim Healt...</td>\n",
       "      <td>2022 Sep 1</td>\n",
       "      <td>Indoor Air Pollution and Respiratory Health in...</td>\n",
       "      <td>Journal of occupational and environmental medi...</td>\n",
       "      <td>Journal Article, Research Support, Non-U.S. Gov't</td>\n",
       "    </tr>\n",
       "    <tr>\n",
       "      <th>6475</th>\n",
       "      <td>26265670</td>\n",
       "      <td>Khan AW, Kundi M, Moshammer H</td>\n",
       "      <td>Institute for Environmental Health, Center for...</td>\n",
       "      <td>2015 Oct</td>\n",
       "      <td>Diminished pulmonary function in long-term wor...</td>\n",
       "      <td>Occupational and environmental medicine</td>\n",
       "      <td>Comparative Study, Journal Article, Research S...</td>\n",
       "    </tr>\n",
       "    <tr>\n",
       "      <th>6861</th>\n",
       "      <td>32890224</td>\n",
       "      <td>Khisroon M, Khan A, Hassan N, Zaidi F, Farooqi J</td>\n",
       "      <td>Department of Zoology, University of Peshawar,...</td>\n",
       "      <td>2020 Sep</td>\n",
       "      <td>Biomonitoring of DNA Damage in Photocopiers' W...</td>\n",
       "      <td>Journal of occupational and environmental medi...</td>\n",
       "      <td>Journal Article, Research Support, Non-U.S. Gov't</td>\n",
       "    </tr>\n",
       "    <tr>\n",
       "      <th>7278</th>\n",
       "      <td>14534448</td>\n",
       "      <td>Meo SA, Azeem MA, Subhan MM</td>\n",
       "      <td>Department of Physiology, Hamdard College of M...</td>\n",
       "      <td>2003 Oct</td>\n",
       "      <td>Lung function in Pakistani welding workers.</td>\n",
       "      <td>Journal of occupational and environmental medi...</td>\n",
       "      <td>Comparative Study, Journal Article</td>\n",
       "    </tr>\n",
       "    <tr>\n",
       "      <th>7497</th>\n",
       "      <td>33021515</td>\n",
       "      <td>Adnan S, Hanif M, Khan AH, Latif M, Ullah K, B...</td>\n",
       "      <td>Pakistan Meteorological Department (Dr Adnan, ...</td>\n",
       "      <td>2021 Feb 1</td>\n",
       "      <td>Impact of Heat Index and Ultraviolet Index on ...</td>\n",
       "      <td>Journal of occupational and environmental medi...</td>\n",
       "      <td>Journal Article, Multicenter Study</td>\n",
       "    </tr>\n",
       "    <tr>\n",
       "      <th>11805</th>\n",
       "      <td>23155188</td>\n",
       "      <td>Nafees AA, Fatmi Z, Kadir MM, Sathiakumar N</td>\n",
       "      <td>Division of Environmental Health Sciences, Dep...</td>\n",
       "      <td>2013 Feb</td>\n",
       "      <td>Pattern and predictors for respiratory illness...</td>\n",
       "      <td>Occupational and environmental medicine</td>\n",
       "      <td>Journal Article, Research Support, N.I.H., Ext...</td>\n",
       "    </tr>\n",
       "    <tr>\n",
       "      <th>12205</th>\n",
       "      <td>36717255</td>\n",
       "      <td>Nafees AA, Muneer MZ, Irfan M, Kadir MM, Sempl...</td>\n",
       "      <td>Department of Community Health Sciences, Aga K...</td>\n",
       "      <td>2023 Mar</td>\n",
       "      <td>Byssinosis and lung health among cotton textil...</td>\n",
       "      <td>Occupational and environmental medicine</td>\n",
       "      <td>Journal Article, Research Support, Non-U.S. Gov't</td>\n",
       "    </tr>\n",
       "    <tr>\n",
       "      <th>12657</th>\n",
       "      <td>22996806</td>\n",
       "      <td>Yousafzai MT, Siddiqui AR, Janjua NZ</td>\n",
       "      <td>Department of Community Health Sciences, The A...</td>\n",
       "      <td>2013 Apr</td>\n",
       "      <td>Health belief model to predict sharps injuries...</td>\n",
       "      <td>American journal of industrial medicine</td>\n",
       "      <td>Journal Article, Research Support, Non-U.S. Gov't</td>\n",
       "    </tr>\n",
       "    <tr>\n",
       "      <th>13574</th>\n",
       "      <td>35673262</td>\n",
       "      <td>Cui L, Huang N, Bai Y, Fu M, Zia S, Guo J</td>\n",
       "      <td>From the School of Sociology, Huazhong Univers...</td>\n",
       "      <td>2022 Aug 1</td>\n",
       "      <td>The Relationship Between Job Burnout and Depre...</td>\n",
       "      <td>Journal of occupational and environmental medi...</td>\n",
       "      <td>Journal Article</td>\n",
       "    </tr>\n",
       "    <tr>\n",
       "      <th>15987</th>\n",
       "      <td>32719018</td>\n",
       "      <td>Khisroon M, Humayun M, Khan A, Farooqi J, Huma...</td>\n",
       "      <td>Department of Zoology, University of Peshawar,...</td>\n",
       "      <td>2020 Nov</td>\n",
       "      <td>Polymorphism in GSTM1 and GSTT1 genes influenc...</td>\n",
       "      <td>Occupational and environmental medicine</td>\n",
       "      <td>Journal Article</td>\n",
       "    </tr>\n",
       "    <tr>\n",
       "      <th>16037</th>\n",
       "      <td>26185127</td>\n",
       "      <td>Awais M, Hafeez S, Rehman A, Baloch NU</td>\n",
       "      <td>Department of Radiology, Aga Khan University H...</td>\n",
       "      <td>2015 Sep</td>\n",
       "      <td>Vibration-induced multifocal carpal osteonecro...</td>\n",
       "      <td>Occupational and environmental medicine</td>\n",
       "      <td>Case Reports, Letter</td>\n",
       "    </tr>\n",
       "  </tbody>\n",
       "</table>\n",
       "</div>"
      ],
      "text/plain": [
       "           pmid                                             author  \\\n",
       "2561   35608827         Ariza-Montes A, Mahmood F, Han H, Saleem M   \n",
       "3969   32956236  Sarfraz A, Sarfraz Z, Anwer A, Sarfraz M, Sidd...   \n",
       "4226   33234873  Kumar D, Saghir T, Ali G, Yasin U, Furnaz S, K...   \n",
       "5616   27032413  Khattak I, Mushtaq MH, Ahmad MU, Khan MS, Haid...   \n",
       "5677   35672913  Rabbani U, Razzaq S, Irfan M, Semple S, Nafees AA   \n",
       "6475   26265670                      Khan AW, Kundi M, Moshammer H   \n",
       "6861   32890224   Khisroon M, Khan A, Hassan N, Zaidi F, Farooqi J   \n",
       "7278   14534448                        Meo SA, Azeem MA, Subhan MM   \n",
       "7497   33021515  Adnan S, Hanif M, Khan AH, Latif M, Ullah K, B...   \n",
       "11805  23155188        Nafees AA, Fatmi Z, Kadir MM, Sathiakumar N   \n",
       "12205  36717255  Nafees AA, Muneer MZ, Irfan M, Kadir MM, Sempl...   \n",
       "12657  22996806               Yousafzai MT, Siddiqui AR, Janjua NZ   \n",
       "13574  35673262          Cui L, Huang N, Bai Y, Fu M, Zia S, Guo J   \n",
       "15987  32719018  Khisroon M, Humayun M, Khan A, Farooqi J, Huma...   \n",
       "16037  26185127             Awais M, Hafeez S, Rehman A, Baloch NU   \n",
       "\n",
       "                                      author_affiliation        date  \\\n",
       "2561   Universidad Loyola Andalucia, Spain (Dr Ariza-...  2022 May 1   \n",
       "3969   Aga Khan University, Karachi, Pakistan (Dr Azz...    2020 Nov   \n",
       "4226   National Institute of Cardiovascular Diseases ...  2021 Feb 1   \n",
       "5616   Department of Epidemiology and Public Health, ...    2016 Jul   \n",
       "5677   From the Family Medicine Academy, Qassim Healt...  2022 Sep 1   \n",
       "6475   Institute for Environmental Health, Center for...    2015 Oct   \n",
       "6861   Department of Zoology, University of Peshawar,...    2020 Sep   \n",
       "7278   Department of Physiology, Hamdard College of M...    2003 Oct   \n",
       "7497   Pakistan Meteorological Department (Dr Adnan, ...  2021 Feb 1   \n",
       "11805  Division of Environmental Health Sciences, Dep...    2013 Feb   \n",
       "12205  Department of Community Health Sciences, Aga K...    2023 Mar   \n",
       "12657  Department of Community Health Sciences, The A...    2013 Apr   \n",
       "13574  From the School of Sociology, Huazhong Univers...  2022 Aug 1   \n",
       "15987  Department of Zoology, University of Peshawar,...    2020 Nov   \n",
       "16037  Department of Radiology, Aga Khan University H...    2015 Sep   \n",
       "\n",
       "                                                   title  \\\n",
       "2561   The Mental Well-Being of Health Care Professio...   \n",
       "3969   Availability, Use, and Satisfaction of Persona...   \n",
       "4226   Psychosocial Impact of COVID-19 on Healthcare ...   \n",
       "5616   Zoonotic tuberculosis in occupationally expose...   \n",
       "5677   Indoor Air Pollution and Respiratory Health in...   \n",
       "6475   Diminished pulmonary function in long-term wor...   \n",
       "6861   Biomonitoring of DNA Damage in Photocopiers' W...   \n",
       "7278         Lung function in Pakistani welding workers.   \n",
       "7497   Impact of Heat Index and Ultraviolet Index on ...   \n",
       "11805  Pattern and predictors for respiratory illness...   \n",
       "12205  Byssinosis and lung health among cotton textil...   \n",
       "12657  Health belief model to predict sharps injuries...   \n",
       "13574  The Relationship Between Job Burnout and Depre...   \n",
       "15987  Polymorphism in GSTM1 and GSTT1 genes influenc...   \n",
       "16037  Vibration-induced multifocal carpal osteonecro...   \n",
       "\n",
       "                                                 journal  \\\n",
       "2561   Journal of occupational and environmental medi...   \n",
       "3969   Journal of occupational and environmental medi...   \n",
       "4226   Journal of occupational and environmental medi...   \n",
       "5616             Occupational medicine (Oxford, England)   \n",
       "5677   Journal of occupational and environmental medi...   \n",
       "6475             Occupational and environmental medicine   \n",
       "6861   Journal of occupational and environmental medi...   \n",
       "7278   Journal of occupational and environmental medi...   \n",
       "7497   Journal of occupational and environmental medi...   \n",
       "11805            Occupational and environmental medicine   \n",
       "12205            Occupational and environmental medicine   \n",
       "12657            American journal of industrial medicine   \n",
       "13574  Journal of occupational and environmental medi...   \n",
       "15987            Occupational and environmental medicine   \n",
       "16037            Occupational and environmental medicine   \n",
       "\n",
       "                                                pub_type  \n",
       "2561                                     Journal Article  \n",
       "3969                                     Journal Article  \n",
       "4226                                     Journal Article  \n",
       "5616                                     Journal Article  \n",
       "5677   Journal Article, Research Support, Non-U.S. Gov't  \n",
       "6475   Comparative Study, Journal Article, Research S...  \n",
       "6861   Journal Article, Research Support, Non-U.S. Gov't  \n",
       "7278                  Comparative Study, Journal Article  \n",
       "7497                  Journal Article, Multicenter Study  \n",
       "11805  Journal Article, Research Support, N.I.H., Ext...  \n",
       "12205  Journal Article, Research Support, Non-U.S. Gov't  \n",
       "12657  Journal Article, Research Support, Non-U.S. Gov't  \n",
       "13574                                    Journal Article  \n",
       "15987                                    Journal Article  \n",
       "16037                               Case Reports, Letter  "
      ]
     },
     "execution_count": 49,
     "metadata": {},
     "output_type": "execute_result"
    }
   ],
   "source": [
    "# e.g\n",
    "df[df.author_affiliation.str.contains('Pakistan')]"
   ]
  },
  {
   "cell_type": "code",
   "execution_count": 50,
   "id": "7157f622",
   "metadata": {},
   "outputs": [],
   "source": [
    "df_lmic_count = pd.DataFrame([lmic_dict_papers]).melt()\n",
    "df_lmic_count.columns = ['Economy','N']\n",
    "\n",
    "# use dataframe ealier \n",
    "countriesdf = countries[((countries['Income group'] == \"Low income\") | (countries['Income group'] == \"Lower middle income\"))]\n",
    "countriesdf.loc[:,'Economy'] = countriesdf['Economy'].str.split(\",\").str[0] #simplify names for consistency\n",
    "\n",
    "gdf = pd.merge(countriesdf.dropna(), df_lmic_count)"
   ]
  },
  {
   "cell_type": "code",
   "execution_count": 51,
   "id": "fccf946e",
   "metadata": {},
   "outputs": [],
   "source": [
    "# gdf = gdf[gdf['N'] > 0] # lets not include LMICS with zero papers"
   ]
  },
  {
   "cell_type": "code",
   "execution_count": 70,
   "id": "e33fab55",
   "metadata": {},
   "outputs": [
    {
     "name": "stdout",
     "output_type": "stream",
     "text": [
      "Number of papers where the author affiliation includes one or more instances of the country name. Low and lower middle income countries, as defined by the world bank, shown for four occupational lung disease journals (Journal of occupational and environmental medicine, Occupational medicine, American journal of industrial medicine, Occupational and environmental medicine) accessed via PubMed 1987-2024\n"
     ]
    }
   ],
   "source": [
    "print('Number of papers where the author affiliation includes one or more instances of the country name. Low and lower middle income countries, as defined by the world bank, shown for four occupational lung disease journals (Journal of occupational and environmental medicine, Occupational medicine, American journal of industrial medicine, Occupational and environmental medicine) accessed via PubMed 1987-2024')"
   ]
  },
  {
   "cell_type": "code",
   "execution_count": 63,
   "id": "b0fc50f4",
   "metadata": {},
   "outputs": [
    {
     "data": {
      "application/vnd.plotly.v1+json": {
       "config": {
        "plotlyServerURL": "https://plot.ly"
       },
       "data": [
        {
         "autocolorscale": false,
         "colorbar": {
          "title": {
           "text": "N of papers per LMIC"
          }
         },
         "colorscale": [
          [
           0,
           "#440154"
          ],
          [
           0.1111111111111111,
           "#482878"
          ],
          [
           0.2222222222222222,
           "#3e4989"
          ],
          [
           0.3333333333333333,
           "#31688e"
          ],
          [
           0.4444444444444444,
           "#26828e"
          ],
          [
           0.5555555555555556,
           "#1f9e89"
          ],
          [
           0.6666666666666666,
           "#35b779"
          ],
          [
           0.7777777777777778,
           "#6ece58"
          ],
          [
           0.8888888888888888,
           "#b5de2b"
          ],
          [
           1,
           "#fde725"
          ]
         ],
         "locations": [
          "AFG",
          "AGO",
          "BGD",
          "BEN",
          "BTN",
          "BOL",
          "BFA",
          "BDI",
          "CPV",
          "KHM",
          "CMR",
          "CAF",
          "TCD",
          "COM",
          "COD",
          "COG",
          "CIV",
          "DJI",
          "EGY",
          "ERI",
          "SWZ",
          "ETH",
          "GMB",
          "GHA",
          "GIN",
          "GNB",
          "HTI",
          "HND",
          "IND",
          "JOR",
          "KEN",
          "KIR",
          "KGZ",
          "LAO",
          "LBN",
          "LSO",
          "LBR",
          "MDG",
          "MWI",
          "MLI",
          "MRT",
          "FSM",
          "MAR",
          "MOZ",
          "MMR",
          "NPL",
          "NIC",
          "NER",
          "NGA",
          "PAK",
          "PNG",
          "PHL",
          "RWA",
          "WSM",
          "STP",
          "SEN",
          "SLE",
          "SLB",
          "SOM",
          "SSD",
          "LKA",
          "SDN",
          "SYR",
          "TJK",
          "TZA",
          "TLS",
          "TGO",
          "TUN",
          "UGA",
          "UZB",
          "VUT",
          "VNM",
          "PSE",
          "YEM",
          "ZMB",
          "ZWE"
         ],
         "marker": {
          "line": {
           "color": "darkgray",
           "width": 0.5
          }
         },
         "reversescale": true,
         "text": [
          "Afghanistan",
          "Angola",
          "Bangladesh",
          "Benin",
          "Bhutan",
          "Bolivia",
          "Burkina Faso",
          "Burundi",
          "Cabo Verde",
          "Cambodia",
          "Cameroon",
          "Central African Republic",
          "Chad",
          "Comoros",
          "Congo",
          "Congo",
          "Côte d’Ivoire",
          "Djibouti",
          "Egypt",
          "Eritrea",
          "Eswatini",
          "Ethiopia",
          "Gambia",
          "Ghana",
          "Guinea",
          "Guinea-Bissau",
          "Haiti",
          "Honduras",
          "India",
          "Jordan",
          "Kenya",
          "Kiribati",
          "Kyrgyz Republic",
          "Lao PDR",
          "Lebanon",
          "Lesotho",
          "Liberia",
          "Madagascar",
          "Malawi",
          "Mali",
          "Mauritania",
          "Micronesia",
          "Morocco",
          "Mozambique",
          "Myanmar",
          "Nepal",
          "Nicaragua",
          "Niger",
          "Nigeria",
          "Pakistan",
          "Papua New Guinea",
          "Philippines",
          "Rwanda",
          "Samoa",
          "São Tomé and Príncipe",
          "Senegal",
          "Sierra Leone",
          "Solomon Islands",
          "Somalia",
          "South Sudan",
          "Sri Lanka",
          "Sudan",
          "Syrian Arab Republic",
          "Tajikistan",
          "Tanzania",
          "Timor-Leste",
          "Togo",
          "Tunisia",
          "Uganda",
          "Uzbekistan",
          "Vanuatu",
          "Vietnam",
          "West Bank and Gaza",
          "Yemen",
          "Zambia",
          "Zimbabwe"
         ],
         "type": "choropleth",
         "z": [
          0,
          0,
          6,
          3,
          2,
          0,
          0,
          0,
          0,
          0,
          0,
          0,
          0,
          0,
          1,
          1,
          0,
          0,
          14,
          0,
          0,
          8,
          0,
          4,
          0,
          0,
          0,
          0,
          101,
          5,
          1,
          0,
          0,
          0,
          18,
          0,
          0,
          0,
          1,
          6,
          0,
          0,
          1,
          0,
          0,
          3,
          7,
          12,
          12,
          15,
          0,
          4,
          0,
          0,
          0,
          1,
          1,
          0,
          0,
          0,
          15,
          5,
          0,
          0,
          6,
          0,
          1,
          3,
          1,
          0,
          0,
          4,
          0,
          0,
          2,
          1
         ]
        }
       ],
       "layout": {
        "template": {
         "data": {
          "bar": [
           {
            "error_x": {
             "color": "#2a3f5f"
            },
            "error_y": {
             "color": "#2a3f5f"
            },
            "marker": {
             "line": {
              "color": "#E5ECF6",
              "width": 0.5
             },
             "pattern": {
              "fillmode": "overlay",
              "size": 10,
              "solidity": 0.2
             }
            },
            "type": "bar"
           }
          ],
          "barpolar": [
           {
            "marker": {
             "line": {
              "color": "#E5ECF6",
              "width": 0.5
             },
             "pattern": {
              "fillmode": "overlay",
              "size": 10,
              "solidity": 0.2
             }
            },
            "type": "barpolar"
           }
          ],
          "carpet": [
           {
            "aaxis": {
             "endlinecolor": "#2a3f5f",
             "gridcolor": "white",
             "linecolor": "white",
             "minorgridcolor": "white",
             "startlinecolor": "#2a3f5f"
            },
            "baxis": {
             "endlinecolor": "#2a3f5f",
             "gridcolor": "white",
             "linecolor": "white",
             "minorgridcolor": "white",
             "startlinecolor": "#2a3f5f"
            },
            "type": "carpet"
           }
          ],
          "choropleth": [
           {
            "colorbar": {
             "outlinewidth": 0,
             "ticks": ""
            },
            "type": "choropleth"
           }
          ],
          "contour": [
           {
            "colorbar": {
             "outlinewidth": 0,
             "ticks": ""
            },
            "colorscale": [
             [
              0,
              "#0d0887"
             ],
             [
              0.1111111111111111,
              "#46039f"
             ],
             [
              0.2222222222222222,
              "#7201a8"
             ],
             [
              0.3333333333333333,
              "#9c179e"
             ],
             [
              0.4444444444444444,
              "#bd3786"
             ],
             [
              0.5555555555555556,
              "#d8576b"
             ],
             [
              0.6666666666666666,
              "#ed7953"
             ],
             [
              0.7777777777777778,
              "#fb9f3a"
             ],
             [
              0.8888888888888888,
              "#fdca26"
             ],
             [
              1,
              "#f0f921"
             ]
            ],
            "type": "contour"
           }
          ],
          "contourcarpet": [
           {
            "colorbar": {
             "outlinewidth": 0,
             "ticks": ""
            },
            "type": "contourcarpet"
           }
          ],
          "heatmap": [
           {
            "colorbar": {
             "outlinewidth": 0,
             "ticks": ""
            },
            "colorscale": [
             [
              0,
              "#0d0887"
             ],
             [
              0.1111111111111111,
              "#46039f"
             ],
             [
              0.2222222222222222,
              "#7201a8"
             ],
             [
              0.3333333333333333,
              "#9c179e"
             ],
             [
              0.4444444444444444,
              "#bd3786"
             ],
             [
              0.5555555555555556,
              "#d8576b"
             ],
             [
              0.6666666666666666,
              "#ed7953"
             ],
             [
              0.7777777777777778,
              "#fb9f3a"
             ],
             [
              0.8888888888888888,
              "#fdca26"
             ],
             [
              1,
              "#f0f921"
             ]
            ],
            "type": "heatmap"
           }
          ],
          "heatmapgl": [
           {
            "colorbar": {
             "outlinewidth": 0,
             "ticks": ""
            },
            "colorscale": [
             [
              0,
              "#0d0887"
             ],
             [
              0.1111111111111111,
              "#46039f"
             ],
             [
              0.2222222222222222,
              "#7201a8"
             ],
             [
              0.3333333333333333,
              "#9c179e"
             ],
             [
              0.4444444444444444,
              "#bd3786"
             ],
             [
              0.5555555555555556,
              "#d8576b"
             ],
             [
              0.6666666666666666,
              "#ed7953"
             ],
             [
              0.7777777777777778,
              "#fb9f3a"
             ],
             [
              0.8888888888888888,
              "#fdca26"
             ],
             [
              1,
              "#f0f921"
             ]
            ],
            "type": "heatmapgl"
           }
          ],
          "histogram": [
           {
            "marker": {
             "pattern": {
              "fillmode": "overlay",
              "size": 10,
              "solidity": 0.2
             }
            },
            "type": "histogram"
           }
          ],
          "histogram2d": [
           {
            "colorbar": {
             "outlinewidth": 0,
             "ticks": ""
            },
            "colorscale": [
             [
              0,
              "#0d0887"
             ],
             [
              0.1111111111111111,
              "#46039f"
             ],
             [
              0.2222222222222222,
              "#7201a8"
             ],
             [
              0.3333333333333333,
              "#9c179e"
             ],
             [
              0.4444444444444444,
              "#bd3786"
             ],
             [
              0.5555555555555556,
              "#d8576b"
             ],
             [
              0.6666666666666666,
              "#ed7953"
             ],
             [
              0.7777777777777778,
              "#fb9f3a"
             ],
             [
              0.8888888888888888,
              "#fdca26"
             ],
             [
              1,
              "#f0f921"
             ]
            ],
            "type": "histogram2d"
           }
          ],
          "histogram2dcontour": [
           {
            "colorbar": {
             "outlinewidth": 0,
             "ticks": ""
            },
            "colorscale": [
             [
              0,
              "#0d0887"
             ],
             [
              0.1111111111111111,
              "#46039f"
             ],
             [
              0.2222222222222222,
              "#7201a8"
             ],
             [
              0.3333333333333333,
              "#9c179e"
             ],
             [
              0.4444444444444444,
              "#bd3786"
             ],
             [
              0.5555555555555556,
              "#d8576b"
             ],
             [
              0.6666666666666666,
              "#ed7953"
             ],
             [
              0.7777777777777778,
              "#fb9f3a"
             ],
             [
              0.8888888888888888,
              "#fdca26"
             ],
             [
              1,
              "#f0f921"
             ]
            ],
            "type": "histogram2dcontour"
           }
          ],
          "mesh3d": [
           {
            "colorbar": {
             "outlinewidth": 0,
             "ticks": ""
            },
            "type": "mesh3d"
           }
          ],
          "parcoords": [
           {
            "line": {
             "colorbar": {
              "outlinewidth": 0,
              "ticks": ""
             }
            },
            "type": "parcoords"
           }
          ],
          "pie": [
           {
            "automargin": true,
            "type": "pie"
           }
          ],
          "scatter": [
           {
            "fillpattern": {
             "fillmode": "overlay",
             "size": 10,
             "solidity": 0.2
            },
            "type": "scatter"
           }
          ],
          "scatter3d": [
           {
            "line": {
             "colorbar": {
              "outlinewidth": 0,
              "ticks": ""
             }
            },
            "marker": {
             "colorbar": {
              "outlinewidth": 0,
              "ticks": ""
             }
            },
            "type": "scatter3d"
           }
          ],
          "scattercarpet": [
           {
            "marker": {
             "colorbar": {
              "outlinewidth": 0,
              "ticks": ""
             }
            },
            "type": "scattercarpet"
           }
          ],
          "scattergeo": [
           {
            "marker": {
             "colorbar": {
              "outlinewidth": 0,
              "ticks": ""
             }
            },
            "type": "scattergeo"
           }
          ],
          "scattergl": [
           {
            "marker": {
             "colorbar": {
              "outlinewidth": 0,
              "ticks": ""
             }
            },
            "type": "scattergl"
           }
          ],
          "scattermapbox": [
           {
            "marker": {
             "colorbar": {
              "outlinewidth": 0,
              "ticks": ""
             }
            },
            "type": "scattermapbox"
           }
          ],
          "scatterpolar": [
           {
            "marker": {
             "colorbar": {
              "outlinewidth": 0,
              "ticks": ""
             }
            },
            "type": "scatterpolar"
           }
          ],
          "scatterpolargl": [
           {
            "marker": {
             "colorbar": {
              "outlinewidth": 0,
              "ticks": ""
             }
            },
            "type": "scatterpolargl"
           }
          ],
          "scatterternary": [
           {
            "marker": {
             "colorbar": {
              "outlinewidth": 0,
              "ticks": ""
             }
            },
            "type": "scatterternary"
           }
          ],
          "surface": [
           {
            "colorbar": {
             "outlinewidth": 0,
             "ticks": ""
            },
            "colorscale": [
             [
              0,
              "#0d0887"
             ],
             [
              0.1111111111111111,
              "#46039f"
             ],
             [
              0.2222222222222222,
              "#7201a8"
             ],
             [
              0.3333333333333333,
              "#9c179e"
             ],
             [
              0.4444444444444444,
              "#bd3786"
             ],
             [
              0.5555555555555556,
              "#d8576b"
             ],
             [
              0.6666666666666666,
              "#ed7953"
             ],
             [
              0.7777777777777778,
              "#fb9f3a"
             ],
             [
              0.8888888888888888,
              "#fdca26"
             ],
             [
              1,
              "#f0f921"
             ]
            ],
            "type": "surface"
           }
          ],
          "table": [
           {
            "cells": {
             "fill": {
              "color": "#EBF0F8"
             },
             "line": {
              "color": "white"
             }
            },
            "header": {
             "fill": {
              "color": "#C8D4E3"
             },
             "line": {
              "color": "white"
             }
            },
            "type": "table"
           }
          ]
         },
         "layout": {
          "annotationdefaults": {
           "arrowcolor": "#2a3f5f",
           "arrowhead": 0,
           "arrowwidth": 1
          },
          "autotypenumbers": "strict",
          "coloraxis": {
           "colorbar": {
            "outlinewidth": 0,
            "ticks": ""
           }
          },
          "colorscale": {
           "diverging": [
            [
             0,
             "#8e0152"
            ],
            [
             0.1,
             "#c51b7d"
            ],
            [
             0.2,
             "#de77ae"
            ],
            [
             0.3,
             "#f1b6da"
            ],
            [
             0.4,
             "#fde0ef"
            ],
            [
             0.5,
             "#f7f7f7"
            ],
            [
             0.6,
             "#e6f5d0"
            ],
            [
             0.7,
             "#b8e186"
            ],
            [
             0.8,
             "#7fbc41"
            ],
            [
             0.9,
             "#4d9221"
            ],
            [
             1,
             "#276419"
            ]
           ],
           "sequential": [
            [
             0,
             "#0d0887"
            ],
            [
             0.1111111111111111,
             "#46039f"
            ],
            [
             0.2222222222222222,
             "#7201a8"
            ],
            [
             0.3333333333333333,
             "#9c179e"
            ],
            [
             0.4444444444444444,
             "#bd3786"
            ],
            [
             0.5555555555555556,
             "#d8576b"
            ],
            [
             0.6666666666666666,
             "#ed7953"
            ],
            [
             0.7777777777777778,
             "#fb9f3a"
            ],
            [
             0.8888888888888888,
             "#fdca26"
            ],
            [
             1,
             "#f0f921"
            ]
           ],
           "sequentialminus": [
            [
             0,
             "#0d0887"
            ],
            [
             0.1111111111111111,
             "#46039f"
            ],
            [
             0.2222222222222222,
             "#7201a8"
            ],
            [
             0.3333333333333333,
             "#9c179e"
            ],
            [
             0.4444444444444444,
             "#bd3786"
            ],
            [
             0.5555555555555556,
             "#d8576b"
            ],
            [
             0.6666666666666666,
             "#ed7953"
            ],
            [
             0.7777777777777778,
             "#fb9f3a"
            ],
            [
             0.8888888888888888,
             "#fdca26"
            ],
            [
             1,
             "#f0f921"
            ]
           ]
          },
          "colorway": [
           "#636efa",
           "#EF553B",
           "#00cc96",
           "#ab63fa",
           "#FFA15A",
           "#19d3f3",
           "#FF6692",
           "#B6E880",
           "#FF97FF",
           "#FECB52"
          ],
          "font": {
           "color": "#2a3f5f"
          },
          "geo": {
           "bgcolor": "white",
           "lakecolor": "white",
           "landcolor": "#E5ECF6",
           "showlakes": true,
           "showland": true,
           "subunitcolor": "white"
          },
          "hoverlabel": {
           "align": "left"
          },
          "hovermode": "closest",
          "mapbox": {
           "style": "light"
          },
          "paper_bgcolor": "white",
          "plot_bgcolor": "#E5ECF6",
          "polar": {
           "angularaxis": {
            "gridcolor": "white",
            "linecolor": "white",
            "ticks": ""
           },
           "bgcolor": "#E5ECF6",
           "radialaxis": {
            "gridcolor": "white",
            "linecolor": "white",
            "ticks": ""
           }
          },
          "scene": {
           "xaxis": {
            "backgroundcolor": "#E5ECF6",
            "gridcolor": "white",
            "gridwidth": 2,
            "linecolor": "white",
            "showbackground": true,
            "ticks": "",
            "zerolinecolor": "white"
           },
           "yaxis": {
            "backgroundcolor": "#E5ECF6",
            "gridcolor": "white",
            "gridwidth": 2,
            "linecolor": "white",
            "showbackground": true,
            "ticks": "",
            "zerolinecolor": "white"
           },
           "zaxis": {
            "backgroundcolor": "#E5ECF6",
            "gridcolor": "white",
            "gridwidth": 2,
            "linecolor": "white",
            "showbackground": true,
            "ticks": "",
            "zerolinecolor": "white"
           }
          },
          "shapedefaults": {
           "line": {
            "color": "#2a3f5f"
           }
          },
          "ternary": {
           "aaxis": {
            "gridcolor": "white",
            "linecolor": "white",
            "ticks": ""
           },
           "baxis": {
            "gridcolor": "white",
            "linecolor": "white",
            "ticks": ""
           },
           "bgcolor": "#E5ECF6",
           "caxis": {
            "gridcolor": "white",
            "linecolor": "white",
            "ticks": ""
           }
          },
          "title": {
           "x": 0.05
          },
          "xaxis": {
           "automargin": true,
           "gridcolor": "white",
           "linecolor": "white",
           "ticks": "",
           "title": {
            "standoff": 15
           },
           "zerolinecolor": "white",
           "zerolinewidth": 2
          },
          "yaxis": {
           "automargin": true,
           "gridcolor": "white",
           "linecolor": "white",
           "ticks": "",
           "title": {
            "standoff": 15
           },
           "zerolinecolor": "white",
           "zerolinewidth": 2
          }
         }
        }
       }
      },
      "text/html": [
       "<div>                            <div id=\"a5e14d1b-3099-4ad1-b5c9-0929954c0038\" class=\"plotly-graph-div\" style=\"height:525px; width:100%;\"></div>            <script type=\"text/javascript\">                require([\"plotly\"], function(Plotly) {                    window.PLOTLYENV=window.PLOTLYENV || {};                                    if (document.getElementById(\"a5e14d1b-3099-4ad1-b5c9-0929954c0038\")) {                    Plotly.newPlot(                        \"a5e14d1b-3099-4ad1-b5c9-0929954c0038\",                        [{\"autocolorscale\":false,\"colorbar\":{\"title\":{\"text\":\"N of papers per LMIC\"}},\"colorscale\":[[0.0,\"#440154\"],[0.1111111111111111,\"#482878\"],[0.2222222222222222,\"#3e4989\"],[0.3333333333333333,\"#31688e\"],[0.4444444444444444,\"#26828e\"],[0.5555555555555556,\"#1f9e89\"],[0.6666666666666666,\"#35b779\"],[0.7777777777777778,\"#6ece58\"],[0.8888888888888888,\"#b5de2b\"],[1.0,\"#fde725\"]],\"locations\":[\"AFG\",\"AGO\",\"BGD\",\"BEN\",\"BTN\",\"BOL\",\"BFA\",\"BDI\",\"CPV\",\"KHM\",\"CMR\",\"CAF\",\"TCD\",\"COM\",\"COD\",\"COG\",\"CIV\",\"DJI\",\"EGY\",\"ERI\",\"SWZ\",\"ETH\",\"GMB\",\"GHA\",\"GIN\",\"GNB\",\"HTI\",\"HND\",\"IND\",\"JOR\",\"KEN\",\"KIR\",\"KGZ\",\"LAO\",\"LBN\",\"LSO\",\"LBR\",\"MDG\",\"MWI\",\"MLI\",\"MRT\",\"FSM\",\"MAR\",\"MOZ\",\"MMR\",\"NPL\",\"NIC\",\"NER\",\"NGA\",\"PAK\",\"PNG\",\"PHL\",\"RWA\",\"WSM\",\"STP\",\"SEN\",\"SLE\",\"SLB\",\"SOM\",\"SSD\",\"LKA\",\"SDN\",\"SYR\",\"TJK\",\"TZA\",\"TLS\",\"TGO\",\"TUN\",\"UGA\",\"UZB\",\"VUT\",\"VNM\",\"PSE\",\"YEM\",\"ZMB\",\"ZWE\"],\"marker\":{\"line\":{\"color\":\"darkgray\",\"width\":0.5}},\"reversescale\":true,\"text\":[\"Afghanistan\",\"Angola\",\"Bangladesh\",\"Benin\",\"Bhutan\",\"Bolivia\",\"Burkina Faso\",\"Burundi\",\"Cabo Verde\",\"Cambodia\",\"Cameroon\",\"Central African Republic\",\"Chad\",\"Comoros\",\"Congo\",\"Congo\",\"C\\u00f4te d\\u2019Ivoire\",\"Djibouti\",\"Egypt\",\"Eritrea\",\"Eswatini\",\"Ethiopia\",\"Gambia\",\"Ghana\",\"Guinea\",\"Guinea-Bissau\",\"Haiti\",\"Honduras\",\"India\",\"Jordan\",\"Kenya\",\"Kiribati\",\"Kyrgyz Republic\",\"Lao PDR\",\"Lebanon\",\"Lesotho\",\"Liberia\",\"Madagascar\",\"Malawi\",\"Mali\",\"Mauritania\",\"Micronesia\",\"Morocco\",\"Mozambique\",\"Myanmar\",\"Nepal\",\"Nicaragua\",\"Niger\",\"Nigeria\",\"Pakistan\",\"Papua New Guinea\",\"Philippines\",\"Rwanda\",\"Samoa\",\"S\\u00e3o Tom\\u00e9 and Pr\\u00edncipe\",\"Senegal\",\"Sierra Leone\",\"Solomon Islands\",\"Somalia\",\"South Sudan\",\"Sri Lanka\",\"Sudan\",\"Syrian Arab Republic\",\"Tajikistan\",\"Tanzania\",\"Timor-Leste\",\"Togo\",\"Tunisia\",\"Uganda\",\"Uzbekistan\",\"Vanuatu\",\"Vietnam\",\"West Bank and Gaza\",\"Yemen\",\"Zambia\",\"Zimbabwe\"],\"z\":[0,0,6,3,2,0,0,0,0,0,0,0,0,0,1,1,0,0,14,0,0,8,0,4,0,0,0,0,101,5,1,0,0,0,18,0,0,0,1,6,0,0,1,0,0,3,7,12,12,15,0,4,0,0,0,1,1,0,0,0,15,5,0,0,6,0,1,3,1,0,0,4,0,0,2,1],\"type\":\"choropleth\"}],                        {\"template\":{\"data\":{\"histogram2dcontour\":[{\"type\":\"histogram2dcontour\",\"colorbar\":{\"outlinewidth\":0,\"ticks\":\"\"},\"colorscale\":[[0.0,\"#0d0887\"],[0.1111111111111111,\"#46039f\"],[0.2222222222222222,\"#7201a8\"],[0.3333333333333333,\"#9c179e\"],[0.4444444444444444,\"#bd3786\"],[0.5555555555555556,\"#d8576b\"],[0.6666666666666666,\"#ed7953\"],[0.7777777777777778,\"#fb9f3a\"],[0.8888888888888888,\"#fdca26\"],[1.0,\"#f0f921\"]]}],\"choropleth\":[{\"type\":\"choropleth\",\"colorbar\":{\"outlinewidth\":0,\"ticks\":\"\"}}],\"histogram2d\":[{\"type\":\"histogram2d\",\"colorbar\":{\"outlinewidth\":0,\"ticks\":\"\"},\"colorscale\":[[0.0,\"#0d0887\"],[0.1111111111111111,\"#46039f\"],[0.2222222222222222,\"#7201a8\"],[0.3333333333333333,\"#9c179e\"],[0.4444444444444444,\"#bd3786\"],[0.5555555555555556,\"#d8576b\"],[0.6666666666666666,\"#ed7953\"],[0.7777777777777778,\"#fb9f3a\"],[0.8888888888888888,\"#fdca26\"],[1.0,\"#f0f921\"]]}],\"heatmap\":[{\"type\":\"heatmap\",\"colorbar\":{\"outlinewidth\":0,\"ticks\":\"\"},\"colorscale\":[[0.0,\"#0d0887\"],[0.1111111111111111,\"#46039f\"],[0.2222222222222222,\"#7201a8\"],[0.3333333333333333,\"#9c179e\"],[0.4444444444444444,\"#bd3786\"],[0.5555555555555556,\"#d8576b\"],[0.6666666666666666,\"#ed7953\"],[0.7777777777777778,\"#fb9f3a\"],[0.8888888888888888,\"#fdca26\"],[1.0,\"#f0f921\"]]}],\"heatmapgl\":[{\"type\":\"heatmapgl\",\"colorbar\":{\"outlinewidth\":0,\"ticks\":\"\"},\"colorscale\":[[0.0,\"#0d0887\"],[0.1111111111111111,\"#46039f\"],[0.2222222222222222,\"#7201a8\"],[0.3333333333333333,\"#9c179e\"],[0.4444444444444444,\"#bd3786\"],[0.5555555555555556,\"#d8576b\"],[0.6666666666666666,\"#ed7953\"],[0.7777777777777778,\"#fb9f3a\"],[0.8888888888888888,\"#fdca26\"],[1.0,\"#f0f921\"]]}],\"contourcarpet\":[{\"type\":\"contourcarpet\",\"colorbar\":{\"outlinewidth\":0,\"ticks\":\"\"}}],\"contour\":[{\"type\":\"contour\",\"colorbar\":{\"outlinewidth\":0,\"ticks\":\"\"},\"colorscale\":[[0.0,\"#0d0887\"],[0.1111111111111111,\"#46039f\"],[0.2222222222222222,\"#7201a8\"],[0.3333333333333333,\"#9c179e\"],[0.4444444444444444,\"#bd3786\"],[0.5555555555555556,\"#d8576b\"],[0.6666666666666666,\"#ed7953\"],[0.7777777777777778,\"#fb9f3a\"],[0.8888888888888888,\"#fdca26\"],[1.0,\"#f0f921\"]]}],\"surface\":[{\"type\":\"surface\",\"colorbar\":{\"outlinewidth\":0,\"ticks\":\"\"},\"colorscale\":[[0.0,\"#0d0887\"],[0.1111111111111111,\"#46039f\"],[0.2222222222222222,\"#7201a8\"],[0.3333333333333333,\"#9c179e\"],[0.4444444444444444,\"#bd3786\"],[0.5555555555555556,\"#d8576b\"],[0.6666666666666666,\"#ed7953\"],[0.7777777777777778,\"#fb9f3a\"],[0.8888888888888888,\"#fdca26\"],[1.0,\"#f0f921\"]]}],\"mesh3d\":[{\"type\":\"mesh3d\",\"colorbar\":{\"outlinewidth\":0,\"ticks\":\"\"}}],\"scatter\":[{\"fillpattern\":{\"fillmode\":\"overlay\",\"size\":10,\"solidity\":0.2},\"type\":\"scatter\"}],\"parcoords\":[{\"type\":\"parcoords\",\"line\":{\"colorbar\":{\"outlinewidth\":0,\"ticks\":\"\"}}}],\"scatterpolargl\":[{\"type\":\"scatterpolargl\",\"marker\":{\"colorbar\":{\"outlinewidth\":0,\"ticks\":\"\"}}}],\"bar\":[{\"error_x\":{\"color\":\"#2a3f5f\"},\"error_y\":{\"color\":\"#2a3f5f\"},\"marker\":{\"line\":{\"color\":\"#E5ECF6\",\"width\":0.5},\"pattern\":{\"fillmode\":\"overlay\",\"size\":10,\"solidity\":0.2}},\"type\":\"bar\"}],\"scattergeo\":[{\"type\":\"scattergeo\",\"marker\":{\"colorbar\":{\"outlinewidth\":0,\"ticks\":\"\"}}}],\"scatterpolar\":[{\"type\":\"scatterpolar\",\"marker\":{\"colorbar\":{\"outlinewidth\":0,\"ticks\":\"\"}}}],\"histogram\":[{\"marker\":{\"pattern\":{\"fillmode\":\"overlay\",\"size\":10,\"solidity\":0.2}},\"type\":\"histogram\"}],\"scattergl\":[{\"type\":\"scattergl\",\"marker\":{\"colorbar\":{\"outlinewidth\":0,\"ticks\":\"\"}}}],\"scatter3d\":[{\"type\":\"scatter3d\",\"line\":{\"colorbar\":{\"outlinewidth\":0,\"ticks\":\"\"}},\"marker\":{\"colorbar\":{\"outlinewidth\":0,\"ticks\":\"\"}}}],\"scattermapbox\":[{\"type\":\"scattermapbox\",\"marker\":{\"colorbar\":{\"outlinewidth\":0,\"ticks\":\"\"}}}],\"scatterternary\":[{\"type\":\"scatterternary\",\"marker\":{\"colorbar\":{\"outlinewidth\":0,\"ticks\":\"\"}}}],\"scattercarpet\":[{\"type\":\"scattercarpet\",\"marker\":{\"colorbar\":{\"outlinewidth\":0,\"ticks\":\"\"}}}],\"carpet\":[{\"aaxis\":{\"endlinecolor\":\"#2a3f5f\",\"gridcolor\":\"white\",\"linecolor\":\"white\",\"minorgridcolor\":\"white\",\"startlinecolor\":\"#2a3f5f\"},\"baxis\":{\"endlinecolor\":\"#2a3f5f\",\"gridcolor\":\"white\",\"linecolor\":\"white\",\"minorgridcolor\":\"white\",\"startlinecolor\":\"#2a3f5f\"},\"type\":\"carpet\"}],\"table\":[{\"cells\":{\"fill\":{\"color\":\"#EBF0F8\"},\"line\":{\"color\":\"white\"}},\"header\":{\"fill\":{\"color\":\"#C8D4E3\"},\"line\":{\"color\":\"white\"}},\"type\":\"table\"}],\"barpolar\":[{\"marker\":{\"line\":{\"color\":\"#E5ECF6\",\"width\":0.5},\"pattern\":{\"fillmode\":\"overlay\",\"size\":10,\"solidity\":0.2}},\"type\":\"barpolar\"}],\"pie\":[{\"automargin\":true,\"type\":\"pie\"}]},\"layout\":{\"autotypenumbers\":\"strict\",\"colorway\":[\"#636efa\",\"#EF553B\",\"#00cc96\",\"#ab63fa\",\"#FFA15A\",\"#19d3f3\",\"#FF6692\",\"#B6E880\",\"#FF97FF\",\"#FECB52\"],\"font\":{\"color\":\"#2a3f5f\"},\"hovermode\":\"closest\",\"hoverlabel\":{\"align\":\"left\"},\"paper_bgcolor\":\"white\",\"plot_bgcolor\":\"#E5ECF6\",\"polar\":{\"bgcolor\":\"#E5ECF6\",\"angularaxis\":{\"gridcolor\":\"white\",\"linecolor\":\"white\",\"ticks\":\"\"},\"radialaxis\":{\"gridcolor\":\"white\",\"linecolor\":\"white\",\"ticks\":\"\"}},\"ternary\":{\"bgcolor\":\"#E5ECF6\",\"aaxis\":{\"gridcolor\":\"white\",\"linecolor\":\"white\",\"ticks\":\"\"},\"baxis\":{\"gridcolor\":\"white\",\"linecolor\":\"white\",\"ticks\":\"\"},\"caxis\":{\"gridcolor\":\"white\",\"linecolor\":\"white\",\"ticks\":\"\"}},\"coloraxis\":{\"colorbar\":{\"outlinewidth\":0,\"ticks\":\"\"}},\"colorscale\":{\"sequential\":[[0.0,\"#0d0887\"],[0.1111111111111111,\"#46039f\"],[0.2222222222222222,\"#7201a8\"],[0.3333333333333333,\"#9c179e\"],[0.4444444444444444,\"#bd3786\"],[0.5555555555555556,\"#d8576b\"],[0.6666666666666666,\"#ed7953\"],[0.7777777777777778,\"#fb9f3a\"],[0.8888888888888888,\"#fdca26\"],[1.0,\"#f0f921\"]],\"sequentialminus\":[[0.0,\"#0d0887\"],[0.1111111111111111,\"#46039f\"],[0.2222222222222222,\"#7201a8\"],[0.3333333333333333,\"#9c179e\"],[0.4444444444444444,\"#bd3786\"],[0.5555555555555556,\"#d8576b\"],[0.6666666666666666,\"#ed7953\"],[0.7777777777777778,\"#fb9f3a\"],[0.8888888888888888,\"#fdca26\"],[1.0,\"#f0f921\"]],\"diverging\":[[0,\"#8e0152\"],[0.1,\"#c51b7d\"],[0.2,\"#de77ae\"],[0.3,\"#f1b6da\"],[0.4,\"#fde0ef\"],[0.5,\"#f7f7f7\"],[0.6,\"#e6f5d0\"],[0.7,\"#b8e186\"],[0.8,\"#7fbc41\"],[0.9,\"#4d9221\"],[1,\"#276419\"]]},\"xaxis\":{\"gridcolor\":\"white\",\"linecolor\":\"white\",\"ticks\":\"\",\"title\":{\"standoff\":15},\"zerolinecolor\":\"white\",\"automargin\":true,\"zerolinewidth\":2},\"yaxis\":{\"gridcolor\":\"white\",\"linecolor\":\"white\",\"ticks\":\"\",\"title\":{\"standoff\":15},\"zerolinecolor\":\"white\",\"automargin\":true,\"zerolinewidth\":2},\"scene\":{\"xaxis\":{\"backgroundcolor\":\"#E5ECF6\",\"gridcolor\":\"white\",\"linecolor\":\"white\",\"showbackground\":true,\"ticks\":\"\",\"zerolinecolor\":\"white\",\"gridwidth\":2},\"yaxis\":{\"backgroundcolor\":\"#E5ECF6\",\"gridcolor\":\"white\",\"linecolor\":\"white\",\"showbackground\":true,\"ticks\":\"\",\"zerolinecolor\":\"white\",\"gridwidth\":2},\"zaxis\":{\"backgroundcolor\":\"#E5ECF6\",\"gridcolor\":\"white\",\"linecolor\":\"white\",\"showbackground\":true,\"ticks\":\"\",\"zerolinecolor\":\"white\",\"gridwidth\":2}},\"shapedefaults\":{\"line\":{\"color\":\"#2a3f5f\"}},\"annotationdefaults\":{\"arrowcolor\":\"#2a3f5f\",\"arrowhead\":0,\"arrowwidth\":1},\"geo\":{\"bgcolor\":\"white\",\"landcolor\":\"#E5ECF6\",\"subunitcolor\":\"white\",\"showland\":true,\"showlakes\":true,\"lakecolor\":\"white\"},\"title\":{\"x\":0.05},\"mapbox\":{\"style\":\"light\"}}}},                        {\"responsive\": true}                    ).then(function(){\n",
       "                            \n",
       "var gd = document.getElementById('a5e14d1b-3099-4ad1-b5c9-0929954c0038');\n",
       "var x = new MutationObserver(function (mutations, observer) {{\n",
       "        var display = window.getComputedStyle(gd).display;\n",
       "        if (!display || display === 'none') {{\n",
       "            console.log([gd, 'removed!']);\n",
       "            Plotly.purge(gd);\n",
       "            observer.disconnect();\n",
       "        }}\n",
       "}});\n",
       "\n",
       "// Listen for the removal of the full notebook cells\n",
       "var notebookContainer = gd.closest('#notebook-container');\n",
       "if (notebookContainer) {{\n",
       "    x.observe(notebookContainer, {childList: true});\n",
       "}}\n",
       "\n",
       "// Listen for the clearing of the current output cell\n",
       "var outputEl = gd.closest('.output');\n",
       "if (outputEl) {{\n",
       "    x.observe(outputEl, {childList: true});\n",
       "}}\n",
       "\n",
       "                        })                };                });            </script>        </div>"
      ]
     },
     "metadata": {},
     "output_type": "display_data"
    }
   ],
   "source": [
    "# colorcale choice https://plotly.com/python/builtin-colorscales/\n",
    "\n",
    "fig = go.Figure(data=go.Choropleth(\n",
    "    locations = gdf['Code'],\n",
    "    z = gdf['N'],\n",
    "    text = gdf['Economy'],\n",
    "    colorscale = 'Viridis',\n",
    "    autocolorscale=False,\n",
    "    reversescale=True,\n",
    "    marker_line_color='darkgray',\n",
    "    marker_line_width=0.5,\n",
    "    colorbar_title = 'N of papers per LMIC'))\n",
    "\n",
    "fig.show()"
   ]
  },
  {
   "cell_type": "code",
   "execution_count": 54,
   "id": "9511adf2",
   "metadata": {},
   "outputs": [
    {
     "data": {
      "text/plain": [
       "'1987'"
      ]
     },
     "execution_count": 54,
     "metadata": {},
     "output_type": "execute_result"
    }
   ],
   "source": [
    "df.date.min()"
   ]
  },
  {
   "cell_type": "code",
   "execution_count": 55,
   "id": "fb1d163f",
   "metadata": {},
   "outputs": [
    {
     "data": {
      "text/plain": [
       "'2024'"
      ]
     },
     "execution_count": 55,
     "metadata": {},
     "output_type": "execute_result"
    }
   ],
   "source": [
    "df.date.max()[:4]"
   ]
  },
  {
   "cell_type": "code",
   "execution_count": 73,
   "id": "62093eaa",
   "metadata": {},
   "outputs": [
    {
     "name": "stdout",
     "output_type": "stream",
     "text": [
      "Python 3.10.12\r\n"
     ]
    }
   ],
   "source": [
    "!python --version"
   ]
  }
 ],
 "metadata": {
  "kernelspec": {
   "display_name": "Python 3 (ipykernel)",
   "language": "python",
   "name": "python3"
  },
  "language_info": {
   "codemirror_mode": {
    "name": "ipython",
    "version": 3
   },
   "file_extension": ".py",
   "mimetype": "text/x-python",
   "name": "python",
   "nbconvert_exporter": "python",
   "pygments_lexer": "ipython3",
   "version": "3.10.12"
  }
 },
 "nbformat": 4,
 "nbformat_minor": 5
}
