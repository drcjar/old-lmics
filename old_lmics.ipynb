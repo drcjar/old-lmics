{
 "cells": [
  {
   "cell_type": "code",
   "execution_count": 1,
   "id": "65af0181",
   "metadata": {},
   "outputs": [],
   "source": [
    "# issue of mis match with asaads online search\n",
    "# identified that not all entries have fields we desire e.g. abstract\n",
    "# I had been discarding them\n",
    "# now save 'notpapers'\n",
    "# and relax criteria e.g. do we really care if no abstract or key words?? \n",
    "# n.b we should prob do something useful with other fields (or not require them)"
   ]
  },
  {
   "cell_type": "code",
   "execution_count": 2,
   "id": "d72fd972",
   "metadata": {},
   "outputs": [],
   "source": [
    "from Bio import Entrez\n",
    "from Bio import Medline\n",
    "from tqdm import tqdm\n",
    "import pandas as pd\n",
    "import sqlite3\n",
    "import pandas as pd\n",
    "import geopandas as gpd\n",
    "from shapely.geometry import Point\n",
    "import xlrd\n",
    "import plotly.graph_objects as go\n",
    "%matplotlib inline"
   ]
  },
  {
   "cell_type": "code",
   "execution_count": 3,
   "id": "3a7419e4",
   "metadata": {},
   "outputs": [
    {
     "data": {
      "text/plain": [
       "'\\n# deprecated geocoding experiments, if did pursue this would start with named entity recognition\\n# we wanna know which author affiliations are LMIC countries\\n# initial tack, let\\'s geocode then use country boundaries.... \\n\\n# Import the geocoding tool\\nfrom geopandas.tools import geocode\\n\\n# Geocode addresses using Nominatim. Remember to provide a custom \"application name\" in the user_agent parameter!\\ngeo = geocode(df[\\'author_affiliation\\'][0][-10:], provider=\\'nominatim\\', user_agent=\\'drcjar_geotimes\\', timeout=4)\\n\\ngeocode(\"Imperial College London\", provider=\\'nominatim\\', user_agent=\\'drcjar_geotimes\\', timeout=4).values\\n\\ngeocode(\"From the American College of Occupational and Environmental Medicine, ElkGrove, Illinois.\", provider=\\'nominatim\\', user_agent=\\'drcjar_geotimes\\', timeout=4)\\n\\n# our datas author_affiliation field is not readily geocoded\\n# it gets pretty hacky fast e.g https://pypi.org/project/pubmed-author-affiliation/ chopping strings based on \\n# prescence of \\'university\\' or \\'institution\\' to make geocodeable\\n# more sensible approach is to search for LMIC names in strings\\n\\n'"
      ]
     },
     "execution_count": 3,
     "metadata": {},
     "output_type": "execute_result"
    }
   ],
   "source": [
    "def get_count(term):\n",
    "    \"\"\"\n",
    "    Use pubmed api to get a count of number of results for a search term\n",
    "    \"\"\"\n",
    "    \n",
    "    Entrez.email = \"carl.reynolds@imperial.ac.uk\"\n",
    "    count_handle = Entrez.esearch(db=\"pubmed\",\n",
    "                                  sort=\"relevance\",\n",
    "                                  retmode=\"xml\",\n",
    "                                  rettype=\"count\",\n",
    "                                  #field=\"DP\",\n",
    "                                  term=term)\n",
    "    count_results = Entrez.read(count_handle)\n",
    "    count = int(count_results[\"Count\"])\n",
    "    \n",
    "    return count\n",
    "\n",
    "def chunked_pmids(term, chunksize=1000):\n",
    "    \"\"\"\n",
    "    Use pubmed api to fetch blocks of pmids for a search term\n",
    "    \"\"\"\n",
    "    \n",
    "    count = get_count(term)\n",
    "    \n",
    "    retmax_requests = list(range(0, count, chunksize))\n",
    "                \n",
    "    pmids = []\n",
    "    \n",
    "    print(\"{} blocks of to process\".format(len(retmax_requests)))\n",
    "    \n",
    "    for i, retmax in enumerate(retmax_requests):\n",
    "        \n",
    "        print(\"Processing block {}\".format(i))\n",
    "        \n",
    "        pmid_handle = Entrez.esearch(db=\"pubmed\",\n",
    "                                     sort=\"relevance\",\n",
    "                                     retmode=\"xml\",\n",
    "                                     usehistory='y',\n",
    "                                     retstart=retmax,\n",
    "                                     retmax=chunksize,\n",
    "                                     #field=\"DP\",\n",
    "                                     term=term)\n",
    "        pmids.append(Entrez.read(pmid_handle)[\"IdList\"])\n",
    "            \n",
    "    return pmids\n",
    "\n",
    "def fetch_medline(pmids):\n",
    "    \"\"\"\n",
    "    Use pubmed api to fetch medline record for pmids\n",
    "    \"\"\"\n",
    "    \n",
    "    Entrez.email = \"carl.reynolds@imperial.ac.uk\"\n",
    "    handle = Entrez.efetch(db='pubmed',\n",
    "                           id=pmids,\n",
    "                           rettype='medline',\n",
    "                           retmode='text')\n",
    "    records = Medline.parse(handle)\n",
    "    \n",
    "    return records\n",
    "\n",
    "def getpapers(pmid_chunks):\n",
    "    \"\"\"\n",
    "    Fetch_medline(chunk) returns a generator object of medline records. we iterate through it saving the records \n",
    "    to a list. We make a dict of the list indexed by the pubmed id. \n",
    "    \"\"\"\n",
    "    \n",
    "    papers = []\n",
    "    notpapers = []\n",
    "    \n",
    "    print(\"fetching medline records:\")\n",
    "    \n",
    "    for chunk in tqdm(pmid_chunks):\n",
    "        records = fetch_medline(chunk)\n",
    "        for record in records:\n",
    "            try:\n",
    "                  papers.append((record['PMID'], (', '.join(record['AU'])),(', '.join(record['AD'])),\n",
    "                                 record['DP'], record['TI'], record['JT'], \n",
    "                                 (', '.join(record['PT']))))            \n",
    "            except: \n",
    "                notpapers.append(record)\n",
    "                continue\n",
    "            \n",
    "    return papers, notpapers\n",
    "\n",
    "\n",
    "def save_papers(papers):\n",
    "    \"\"\"\n",
    "    Save our papers to an sqlite database\n",
    "    \"\"\"\n",
    "    conn = sqlite3.connect('papers.db')\n",
    "    c = conn.cursor()\n",
    "    \n",
    "    # Drop table if already exists\n",
    "    c.execute(\"DROP TABLE IF EXISTS papers\")\n",
    "    \n",
    "    # Create table\n",
    "    c.execute('''CREATE TABLE papers\n",
    "             (pmid, author, author_affiliation, date, title, journal, pub_type)''')\n",
    "\n",
    "    # Insert a rows of data\n",
    "    c.executemany('INSERT INTO papers VALUES (?,?,?,?,?,?,?)', papers)\n",
    "\n",
    "    # Save (commit) the changes\n",
    "    conn.commit()\n",
    "\n",
    "    # We can also close the connection if we are done with it.\n",
    "    # Just be sure any changes have been committed or they will be lost.\n",
    "    conn.close()\n",
    "    \n",
    "def df_from_papers_database():\n",
    "    \"\"\"\n",
    "    Load our papers\n",
    "    \"\"\"\n",
    "    conn = sqlite3.connect('papers.db')\n",
    "    df = pd.read_sql_query('SELECT * FROM papers', conn)\n",
    "    return df\n",
    "\n",
    "def fetch_papers(year):\n",
    "    \"\"\"\n",
    "    Fetch our papers\n",
    "    \"\"\"\n",
    "    print(\"{} records to fetch\".format(get_count(year)))\n",
    "    pmid_chunks = chunked_pmids(year, 500)\n",
    "    papers, notpapers = getpapers(pmid_chunks)\n",
    "    \n",
    "    return papers, notpapers\n",
    "\n",
    "def results(df):\n",
    "    \"\"\"\n",
    "    Make some results\n",
    "    \"\"\"\n",
    "    print(df['journal'].unique())\n",
    "    print('\\n')\n",
    "    \n",
    "    print(df['author_affiliation'].str.contains('|'.join(list_of_lmics)).value_counts())\n",
    "    print('contains lmic\\n')\n",
    "\n",
    "    print(df['author_affiliation'].str.contains('|'.join(list_of_lmics)).value_counts(normalize=True))\n",
    "    print('contains lmic\\n')\n",
    "\n",
    "\"\"\"\n",
    "# deprecated geocoding experiments, if did pursue this would start with named entity recognition\n",
    "# we wanna know which author affiliations are LMIC countries\n",
    "# initial tack, let's geocode then use country boundaries.... \n",
    "\n",
    "# Import the geocoding tool\n",
    "from geopandas.tools import geocode\n",
    "\n",
    "# Geocode addresses using Nominatim. Remember to provide a custom \"application name\" in the user_agent parameter!\n",
    "geo = geocode(df['author_affiliation'][0][-10:], provider='nominatim', user_agent='drcjar_geotimes', timeout=4)\n",
    "\n",
    "geocode(\"Imperial College London\", provider='nominatim', user_agent='drcjar_geotimes', timeout=4).values\n",
    "\n",
    "geocode(\"From the American College of Occupational and Environmental Medicine, ElkGrove, Illinois.\", provider='nominatim', user_agent='drcjar_geotimes', timeout=4)\n",
    "\n",
    "# our datas author_affiliation field is not readily geocoded\n",
    "# it gets pretty hacky fast e.g https://pypi.org/project/pubmed-author-affiliation/ chopping strings based on \n",
    "# prescence of 'university' or 'institution' to make geocodeable\n",
    "# more sensible approach is to search for LMIC names in strings\n",
    "\n",
    "\"\"\""
   ]
  },
  {
   "cell_type": "code",
   "execution_count": 4,
   "id": "9cd78c02",
   "metadata": {},
   "outputs": [
    {
     "name": "stdout",
     "output_type": "stream",
     "text": [
      "['journal of occupational and environmental medicine [Journal]', 'occupational medicine [Journal]', 'the american journal of industrial medicine [journal]', 'occupational environmental medicine [journal]']\n",
      "\n",
      "\n",
      "fetching journal of occupational and environmental medicine [Journal]\n",
      "\n",
      "6078 records to fetch\n",
      "13 blocks of to process\n",
      "Processing block 0\n",
      "Processing block 1\n",
      "Processing block 2\n",
      "Processing block 3\n",
      "Processing block 4\n",
      "Processing block 5\n",
      "Processing block 6\n",
      "Processing block 7\n",
      "Processing block 8\n",
      "Processing block 9\n",
      "Processing block 10\n",
      "Processing block 11\n",
      "Processing block 12\n",
      "fetching medline records:\n"
     ]
    },
    {
     "name": "stderr",
     "output_type": "stream",
     "text": [
      "100%|███████████████████████████████████████████| 13/13 [00:39<00:00,  3.02s/it]\n"
     ]
    },
    {
     "name": "stdout",
     "output_type": "stream",
     "text": [
      "fetching occupational medicine [Journal]\n",
      "\n",
      "4840 records to fetch\n",
      "10 blocks of to process\n",
      "Processing block 0\n",
      "Processing block 1\n",
      "Processing block 2\n",
      "Processing block 3\n",
      "Processing block 4\n",
      "Processing block 5\n",
      "Processing block 6\n",
      "Processing block 7\n",
      "Processing block 8\n",
      "Processing block 9\n",
      "fetching medline records:\n"
     ]
    },
    {
     "name": "stderr",
     "output_type": "stream",
     "text": [
      "100%|███████████████████████████████████████████| 10/10 [00:27<00:00,  2.73s/it]\n"
     ]
    },
    {
     "name": "stdout",
     "output_type": "stream",
     "text": [
      "fetching the american journal of industrial medicine [journal]\n",
      "\n",
      "5854 records to fetch\n",
      "12 blocks of to process\n",
      "Processing block 0\n",
      "Processing block 1\n",
      "Processing block 2\n",
      "Processing block 3\n",
      "Processing block 4\n",
      "Processing block 5\n",
      "Processing block 6\n",
      "Processing block 7\n",
      "Processing block 8\n",
      "Processing block 9\n",
      "Processing block 10\n",
      "Processing block 11\n",
      "fetching medline records:\n"
     ]
    },
    {
     "name": "stderr",
     "output_type": "stream",
     "text": [
      "100%|███████████████████████████████████████████| 12/12 [00:34<00:00,  2.92s/it]\n"
     ]
    },
    {
     "name": "stdout",
     "output_type": "stream",
     "text": [
      "fetching occupational environmental medicine [journal]\n",
      "\n",
      "4733 records to fetch\n",
      "10 blocks of to process\n",
      "Processing block 0\n",
      "Processing block 1\n",
      "Processing block 2\n",
      "Processing block 3\n",
      "Processing block 4\n",
      "Processing block 5\n",
      "Processing block 6\n",
      "Processing block 7\n",
      "Processing block 8\n",
      "Processing block 9\n",
      "fetching medline records:\n"
     ]
    },
    {
     "name": "stderr",
     "output_type": "stream",
     "text": [
      "100%|███████████████████████████████████████████| 10/10 [00:35<00:00,  3.59s/it]\n"
     ]
    }
   ],
   "source": [
    "# make a dict of journal papers retrieved using our pubmed paper fetching function and save them\n",
    "# we currently save them to a sqllite database which is overkill for small number of results; could use \n",
    "# .csv instead but might be helpful for scaling or web apps\n",
    "# uncommment to run; commented out so we don't download afresh each run\n",
    "\n",
    "# target occ lung dis journals\n",
    "target_journals = [\"journal of occupational and environmental medicine [Journal]\", \"occupational medicine [Journal]\",\"the american journal of industrial medicine [journal]\",\"occupational environmental medicine [journal]\"]\n",
    "print(target_journals)\n",
    "print(\"\\n\")\n",
    "\n",
    "\n",
    "papers = {}\n",
    "notpapers = {}\n",
    "\n",
    "for journal in target_journals:\n",
    "    print(\"fetching {}\\n\".format(journal))\n",
    "    papers[journal], notpapers[journal] = fetch_papers(journal)"
   ]
  },
  {
   "cell_type": "code",
   "execution_count": 5,
   "id": "db9ca8f1",
   "metadata": {},
   "outputs": [
    {
     "data": {
      "text/plain": [
       "{'PMID': '38748237',\n",
       " 'OWN': 'NLM',\n",
       " 'STAT': 'Publisher',\n",
       " 'LR': '20240515',\n",
       " 'IS': '1536-5948 (Electronic) 1076-2752 (Linking)',\n",
       " 'DP': '2024 May 15',\n",
       " 'TI': 'Support needs for return to work among self-employed workers: A focus group study.',\n",
       " 'LID': '10.1097/JOM.0000000000003148 [doi]',\n",
       " 'AB': 'OBJECTIVE: The aim of this study is to gain insight into the facilitators, barriers, and support needs of Dutch self-employed workers when returning to work (RTW) after sick leave. METHODS: Three focus groups were conducted, involving 15 Dutch self-employed workers who were on sick leave due to health problems. The transcripts were analysed through thematic content analysis. RESULTS: Five main themes regarding barriers, facilitators and needs of self-employed workers to RTW were identified: autonomy, social support, client management, financial security and information on sick leave. Having autonomy was considered a facilitator for RTW. However, the participants expressed a need for more financial support, additional guidance from occupational health professionals, and tailored information regarding RTW. CONCLUSION: The results of this study emphasize a need for optimizing national policy and support for self-employed workers regarding sick leave and RTW.',\n",
       " 'CI': ['Copyright (c) 2024 American College of Occupational and Environmental Medicine.'],\n",
       " 'FAU': ['de Wit, Mariska',\n",
       "  'Montanus, Alexandra',\n",
       "  'Bosma, Astrid',\n",
       "  'Juurlink, Trees'],\n",
       " 'AU': ['de Wit M', 'Montanus A', 'Bosma A', 'Juurlink T'],\n",
       " 'AUID': ['ORCID: 0000-0002-5705-2763',\n",
       "  'ORCID: 0009-0002-6524-0139',\n",
       "  'ORCID: 0000-0003-3776-3215',\n",
       "  'ORCID: 0000-0003-1801-4067'],\n",
       " 'LA': ['eng'],\n",
       " 'PT': ['Journal Article'],\n",
       " 'DEP': '20240515',\n",
       " 'PL': 'United States',\n",
       " 'TA': 'J Occup Environ Med',\n",
       " 'JT': 'Journal of occupational and environmental medicine',\n",
       " 'JID': '9504688',\n",
       " 'SB': 'IM',\n",
       " 'COIS': ['Conflict of interest: None Declared.'],\n",
       " 'EDAT': '2024/05/15 12:45',\n",
       " 'MHDA': '2024/05/15 12:45',\n",
       " 'CRDT': ['2024/05/15 11:13'],\n",
       " 'PHST': ['2024/05/15 12:45 [medline]',\n",
       "  '2024/05/15 12:45 [pubmed]',\n",
       "  '2024/05/15 11:13 [entrez]'],\n",
       " 'AID': ['00043764-990000000-00576 [pii]',\n",
       "  '10.1097/JOM.0000000000003148 [doi]'],\n",
       " 'PST': 'aheadofprint',\n",
       " 'SO': 'J Occup Environ Med. 2024 May 15. doi: 10.1097/JOM.0000000000003148.'}"
      ]
     },
     "execution_count": 5,
     "metadata": {},
     "output_type": "execute_result"
    }
   ],
   "source": [
    "\"\"\"\n",
    "example of 'not a paper' for our purposes this is a pubmed record that does not have all the fields \n",
    "of interest for our analysis. \n",
    "\n",
    "this is why N of records in pubmed search is not equal to N of records in our analysis.  \n",
    "\n",
    "we consider records that have the following fields: AU, AD, DP, TI, JT, and PT. These correspond to \n",
    "author, affiliation, date of publication, title, journal title, and publication type.\n",
    "\n",
    "                                 \n",
    "see https://www.nlm.nih.gov/bsd/mms/medlineelements.html for more information.\n",
    "\"\"\"\n",
    "\n",
    "notpapers['journal of occupational and environmental medicine [Journal]'][9]"
   ]
  },
  {
   "cell_type": "code",
   "execution_count": 6,
   "id": "4d22a149",
   "metadata": {},
   "outputs": [
    {
     "data": {
      "text/plain": [
       "5504"
      ]
     },
     "execution_count": 6,
     "metadata": {},
     "output_type": "execute_result"
    }
   ],
   "source": [
    "len(papers['journal of occupational and environmental medicine [Journal]'])"
   ]
  },
  {
   "cell_type": "code",
   "execution_count": 7,
   "id": "9df2082b",
   "metadata": {},
   "outputs": [
    {
     "data": {
      "text/plain": [
       "574"
      ]
     },
     "execution_count": 7,
     "metadata": {},
     "output_type": "execute_result"
    }
   ],
   "source": [
    "len(notpapers['journal of occupational and environmental medicine [Journal]'])"
   ]
  },
  {
   "cell_type": "code",
   "execution_count": 8,
   "id": "d9afb3dd",
   "metadata": {},
   "outputs": [
    {
     "data": {
      "text/plain": [
       "6078"
      ]
     },
     "execution_count": 8,
     "metadata": {},
     "output_type": "execute_result"
    }
   ],
   "source": [
    "len(papers['journal of occupational and environmental medicine [Journal]'])+len(notpapers['journal of occupational and environmental medicine [Journal]'])"
   ]
  },
  {
   "cell_type": "code",
   "execution_count": 9,
   "id": "77fbf82e",
   "metadata": {},
   "outputs": [
    {
     "data": {
      "text/plain": [
       "3806"
      ]
     },
     "execution_count": 9,
     "metadata": {},
     "output_type": "execute_result"
    }
   ],
   "source": [
    "len(papers[\"occupational medicine [Journal]\"])"
   ]
  },
  {
   "cell_type": "code",
   "execution_count": 10,
   "id": "c4eecb92",
   "metadata": {},
   "outputs": [
    {
     "data": {
      "text/plain": [
       "4955"
      ]
     },
     "execution_count": 10,
     "metadata": {},
     "output_type": "execute_result"
    }
   ],
   "source": [
    "len(papers[\"the american journal of industrial medicine [journal]\"])"
   ]
  },
  {
   "cell_type": "code",
   "execution_count": 11,
   "id": "56f612fc",
   "metadata": {},
   "outputs": [
    {
     "data": {
      "text/plain": [
       "4187"
      ]
     },
     "execution_count": 11,
     "metadata": {},
     "output_type": "execute_result"
    }
   ],
   "source": [
    "len(papers[\"occupational environmental medicine [journal]\"])"
   ]
  },
  {
   "cell_type": "code",
   "execution_count": null,
   "id": "281a1d99",
   "metadata": {},
   "outputs": [],
   "source": [
    "# smash together our dict of lists into a single list\n",
    "papers = list(set().union(*papers.values()))\n",
    "# notpapers = list(set().union(*notpapers.values()))\n",
    "\n",
    "save_papers(papers)"
   ]
  },
  {
   "cell_type": "code",
   "execution_count": 15,
   "id": "c5d973bd",
   "metadata": {},
   "outputs": [],
   "source": [
    "# load our papers database as a dataframe\n",
    "df = df_from_papers_database()"
   ]
  },
  {
   "cell_type": "code",
   "execution_count": 16,
   "id": "d86f5619",
   "metadata": {},
   "outputs": [
    {
     "data": {
      "text/plain": [
       "18452"
      ]
     },
     "execution_count": 16,
     "metadata": {},
     "output_type": "execute_result"
    }
   ],
   "source": [
    "len(df)"
   ]
  },
  {
   "cell_type": "code",
   "execution_count": 17,
   "id": "d4ec566d",
   "metadata": {},
   "outputs": [
    {
     "data": {
      "text/plain": [
       "array(['Environment and Lifestyle Epidemiology Branch, International Agency for Research on Cancer (IARC), Lyon, France., Cancer Research Center, Cancer Institute of the Islamic Republic of Iran, Tehran, The Islamic Republic of Iran., Environment and Lifestyle Epidemiology Branch, International Agency for Research on Cancer (IARC), Lyon, France., Environment and Lifestyle Epidemiology Branch, International Agency for Research on Cancer (IARC), Lyon, France., Research Directorate, Veterans Affairs Canada, Charlottetown, Prince Edward Island, Canada., Cancer Research Center, Cancer Institute of the Islamic Republic of Iran, Tehran, The Islamic Republic of Iran., Health Sciences Unit, Faculty of Social Sciences, University of Tampere Faculty of Social Sciences, Tampere, Finland., Cancer Research Center, Cancer Institute of the Islamic Republic of Iran, Tehran, The Islamic Republic of Iran., Department of Epidemiology and Biostatistics, Kerman University of Medical Sciences, Kerman, The Islamic Republic of Iran., Social Determinants of Health Research Center, Institute for Futures Studies in Health, Kerman University of Medical Sciences, Kerman, The Islamic Republic of Iran., Clinical Research Development Center, The Persian Gulf Martyrs, Boushehr University of Medical Sciences, Bushehr, The Islamic Republic of Iran., Research Center for Environmental Determinants of Health, School of Public Health, Kermanshah University of Medical Sciences, Kermanshah, The Islamic Republic of Iran., Social Development and Health Promotion Research Center, Kermanshah University of Medical Sciences, Kermanshah, The Islamic Republic of Iran., Kerman University of Medical Sciences Department of Epidemiology and Biostatistics, Kerman, The Islamic Republic of Iran., Stony Brook Cancer Center, Stony Brook University, Stony Brook, New York, USA., Department of Medical and Surgical Sciences, University of Bologna, Bologna, Italy., Department of Biology, Morgan State University School of Computer Mathematical and Natural Sciences, Baltimore, Maryland, USA., Health Sciences Unit, Faculty of Social Sciences, Tampere University, Tampere, Finland., Finnish Cancer Registry, Cancer Society of Finland Institute for Statistical and Epidemiological Cancer Research, Helsinki, Finland., National Cancer Institute Division of Cancer Epidemiology and Genetics, Bethesda, Maryland, USA., Environment and Lifestyle Epidemiology Branch, International Agency for Research on Cancer (IARC), Lyon, France., Environment and Lifestyle Epidemiology Branch, International Agency for Research on Cancer (IARC), Lyon, France schuzj@iarc.fr., Cancer Research Center, Cancer Institute of the Islamic Republic of Iran, Tehran, The Islamic Republic of Iran., Cancer Biology Research Center, Cancer Institute of the Islamic Republic of Iran, Tehran, The Islamic Republic of Iran.'],\n",
       "      dtype=object)"
      ]
     },
     "execution_count": 17,
     "metadata": {},
     "output_type": "execute_result"
    }
   ],
   "source": [
    "df[df.pmid == \"36379677\"].author_affiliation.values"
   ]
  },
  {
   "cell_type": "code",
   "execution_count": 18,
   "id": "579bdaeb",
   "metadata": {},
   "outputs": [
    {
     "data": {
      "text/plain": [
       "array(['Unit of Epidemiology, Regional Health Service ASL TO3, Grugliasco (Turin), Italy., Unit of Epidemiology, Regional Health Service ASL TO3, Grugliasco (Turin), Italy., Department of Clinical and Biological Sciences, University of Turin, Orbassano (Turin), Italy., Department of Epidemiology and Environmental Health, Regional Environmental Protection Agency (ARPA Piemonte), Turin, Italy., Department of Public Health, Prevention and Security Area Work Environments, Local Health Authority, Bologna, Italy., Department of Public Health, Prevention and Security Area Work Environments, Local Health Authority, Bologna, Italy., Department of Public Health, Prevention and Security Area Work Environments, Local Health Authority, Bologna, Italy., Unit of Epidemiology, Regional Health Service ASL TO3, Grugliasco (Turin), Italy.',\n",
       "       'Department of Primary and Interdisciplinary Care, University of Antwerp, Antwerp, Belgium. kathleen.vanroyen@ua.ac.be',\n",
       "       'From the Research Group on Psychosocial Risks, Organization of Work and Health (POWAH), Universitat Autonoma de Barcelona (UAB), Cerdanyola del Valles, Spain (A.G-.D., P.F-R., L.E-M., S.S-N., A.N-G.); Biostatistics Unit, Department of Paediatrics, Obstetrics & Gynaecology, Preventive Medicine and Public Health, Universitat Autonoma de Barcelona (UAB), Cerdanyola del Valles, Spain (A.G-.D., P.F-R., L.E-M., S.S-N., A.N-G.); Universidad Nacional de Educacion a Distancia (UNED), Madrid, Spain (A.G-.D.); Business Networks Dynamics Research Group, Department of Operations Management and Innovation, ESADE Business School-Ramon Llull University (S.S-N.); and Institute for Labour Studies, Universitat Autonoma de Barcelona (UAB), Cerdanyola del Valles, Spain (A.N-G.).',\n",
       "       'Primary Care Sciences Research Centre, School of Postgraduate Medicine, Keele University, Keele, UK. veys11@tesco.net',\n",
       "       'Center for Occupational and Environmental Health, School of Public Health, University of California, Berkeley 94720, USA.'],\n",
       "      dtype=object)"
      ]
     },
     "execution_count": 18,
     "metadata": {},
     "output_type": "execute_result"
    }
   ],
   "source": [
    "df['author_affiliation'].head().values"
   ]
  },
  {
   "cell_type": "code",
   "execution_count": 19,
   "id": "95ac46f2",
   "metadata": {},
   "outputs": [],
   "source": [
    "# seems like a reasonable source of countries\n",
    "countries = pd.read_excel('https://datacatalogfiles.worldbank.org/ddh-published/0037712/DR0090755/CLASS.xlsx')\n",
    "countries = countries.head(218) # junk we don't need after this row\n",
    "countries = countries[['Economy', 'Code', 'Income group']] # lose columns we don't need\n",
    "countries['Economy'] = countries['Economy'].str.replace(\"(\",\"\") # it's best not to have brackets for later regex \n",
    "countries['Economy'] = countries['Economy'].str.replace(\")\",\"\")"
   ]
  },
  {
   "cell_type": "code",
   "execution_count": 20,
   "id": "d389909f",
   "metadata": {},
   "outputs": [
    {
     "data": {
      "text/plain": [
       "array(['Low income', 'Upper middle income', 'High income',\n",
       "       'Lower middle income', nan], dtype=object)"
      ]
     },
     "execution_count": 20,
     "metadata": {},
     "output_type": "execute_result"
    }
   ],
   "source": [
    "countries['Income group'].unique()"
   ]
  },
  {
   "cell_type": "code",
   "execution_count": 21,
   "id": "2b408ad9",
   "metadata": {},
   "outputs": [],
   "source": [
    "# low and middle == 'Low income' or 'Lower middle income'\n",
    "list_of_lmics = countries[((countries['Income group'] == \"Low income\") | (countries['Income group'] == \"Lower middle income\"))].dropna().Economy.to_list()\n",
    "list_of_hics = countries[countries['Income group'] == 'High income'].dropna().Economy.to_list()"
   ]
  },
  {
   "cell_type": "code",
   "execution_count": 22,
   "id": "ab0758ed",
   "metadata": {},
   "outputs": [],
   "source": [
    "list_of_lmics_codes = countries[((countries['Income group'] == \"Low income\") | (countries['Income group'] == \"Lower middle income\"))].dropna().Code.to_list()"
   ]
  },
  {
   "cell_type": "code",
   "execution_count": 23,
   "id": "07a13b3a",
   "metadata": {},
   "outputs": [
    {
     "data": {
      "text/plain": [
       "['Afghanistan',\n",
       " 'Angola',\n",
       " 'Bangladesh',\n",
       " 'Benin',\n",
       " 'Bhutan',\n",
       " 'Bolivia',\n",
       " 'Burkina Faso',\n",
       " 'Burundi',\n",
       " 'Cabo Verde',\n",
       " 'Cambodia',\n",
       " 'Cameroon',\n",
       " 'Central African Republic',\n",
       " 'Chad',\n",
       " 'Comoros',\n",
       " 'Congo, Dem. Rep.',\n",
       " 'Congo, Rep.',\n",
       " 'Côte d’Ivoire',\n",
       " 'Djibouti',\n",
       " 'Egypt, Arab Rep.',\n",
       " 'Eritrea',\n",
       " 'Eswatini',\n",
       " 'Ethiopia',\n",
       " 'Gambia, The',\n",
       " 'Ghana',\n",
       " 'Guinea',\n",
       " 'Guinea-Bissau',\n",
       " 'Haiti',\n",
       " 'Honduras',\n",
       " 'India',\n",
       " 'Jordan',\n",
       " 'Kenya',\n",
       " 'Kiribati',\n",
       " \"Korea, Dem. People's Rep.\",\n",
       " 'Kyrgyz Republic',\n",
       " 'Lao PDR',\n",
       " 'Lebanon',\n",
       " 'Lesotho',\n",
       " 'Liberia',\n",
       " 'Madagascar',\n",
       " 'Malawi',\n",
       " 'Mali',\n",
       " 'Mauritania',\n",
       " 'Micronesia, Fed. Sts.',\n",
       " 'Morocco',\n",
       " 'Mozambique',\n",
       " 'Myanmar',\n",
       " 'Nepal',\n",
       " 'Nicaragua',\n",
       " 'Niger',\n",
       " 'Nigeria',\n",
       " 'Pakistan',\n",
       " 'Papua New Guinea',\n",
       " 'Philippines',\n",
       " 'Rwanda',\n",
       " 'Samoa',\n",
       " 'São Tomé and Príncipe',\n",
       " 'Senegal',\n",
       " 'Sierra Leone',\n",
       " 'Solomon Islands',\n",
       " 'Somalia',\n",
       " 'South Sudan',\n",
       " 'Sri Lanka',\n",
       " 'Sudan',\n",
       " 'Syrian Arab Republic',\n",
       " 'Tajikistan',\n",
       " 'Tanzania',\n",
       " 'Timor-Leste',\n",
       " 'Togo',\n",
       " 'Tunisia',\n",
       " 'Uganda',\n",
       " 'Uzbekistan',\n",
       " 'Vanuatu',\n",
       " 'Vietnam',\n",
       " 'West Bank and Gaza',\n",
       " 'Yemen, Rep.',\n",
       " 'Zambia',\n",
       " 'Zimbabwe']"
      ]
     },
     "execution_count": 23,
     "metadata": {},
     "output_type": "execute_result"
    }
   ],
   "source": [
    "list_of_lmics"
   ]
  },
  {
   "cell_type": "code",
   "execution_count": 24,
   "id": "dc5f1ab2",
   "metadata": {},
   "outputs": [],
   "source": [
    "list_of_lmics = [i.split(',')[0] for i in list_of_lmics] # simplify names (i.e throw away sting after ',')"
   ]
  },
  {
   "cell_type": "code",
   "execution_count": 25,
   "id": "bd5899b5",
   "metadata": {},
   "outputs": [
    {
     "data": {
      "text/html": [
       "<div>\n",
       "<style scoped>\n",
       "    .dataframe tbody tr th:only-of-type {\n",
       "        vertical-align: middle;\n",
       "    }\n",
       "\n",
       "    .dataframe tbody tr th {\n",
       "        vertical-align: top;\n",
       "    }\n",
       "\n",
       "    .dataframe thead th {\n",
       "        text-align: right;\n",
       "    }\n",
       "</style>\n",
       "<table border=\"1\" class=\"dataframe\">\n",
       "  <thead>\n",
       "    <tr style=\"text-align: right;\">\n",
       "      <th></th>\n",
       "      <th>pmid</th>\n",
       "      <th>author</th>\n",
       "      <th>author_affiliation</th>\n",
       "      <th>date</th>\n",
       "      <th>title</th>\n",
       "      <th>journal</th>\n",
       "      <th>pub_type</th>\n",
       "    </tr>\n",
       "  </thead>\n",
       "  <tbody>\n",
       "    <tr>\n",
       "      <th>2277</th>\n",
       "      <td>36572527</td>\n",
       "      <td>Das D, Dutta HK, Borbora D, Brahma RC, Das JM</td>\n",
       "      <td>Department of Surgery, Assam Medical College a...</td>\n",
       "      <td>2023 Feb</td>\n",
       "      <td>Assessing the relationship between hypospadias...</td>\n",
       "      <td>Occupational and environmental medicine</td>\n",
       "      <td>Journal Article</td>\n",
       "    </tr>\n",
       "    <tr>\n",
       "      <th>2664</th>\n",
       "      <td>15613613</td>\n",
       "      <td>Saha A, Kulkarni PK, Shah A, Patel M, Saiyed HN</td>\n",
       "      <td>Occupational Medicine Division, National Insti...</td>\n",
       "      <td>2005 Jan</td>\n",
       "      <td>Ocular morbidity and fuel use: an experience f...</td>\n",
       "      <td>Occupational and environmental medicine</td>\n",
       "      <td>Journal Article</td>\n",
       "    </tr>\n",
       "    <tr>\n",
       "      <th>5806</th>\n",
       "      <td>34799440</td>\n",
       "      <td>Nafees AA, Muneer MZ, De Matteis S, Amaral A, ...</td>\n",
       "      <td>Department of Community Health Sciences, Aga K...</td>\n",
       "      <td>2022 Apr</td>\n",
       "      <td>Impact of using different predictive equations...</td>\n",
       "      <td>Occupational and environmental medicine</td>\n",
       "      <td>Journal Article, Randomized Controlled Trial, ...</td>\n",
       "    </tr>\n",
       "    <tr>\n",
       "      <th>8964</th>\n",
       "      <td>19671533</td>\n",
       "      <td>Fullerton DG, Semple S, Kalambo F, Suseno A, M...</td>\n",
       "      <td>Malawi-Liverpool-Wellcome Clinical Research La...</td>\n",
       "      <td>2009 Nov</td>\n",
       "      <td>Biomass fuel use and indoor air pollution in h...</td>\n",
       "      <td>Occupational and environmental medicine</td>\n",
       "      <td>Journal Article, Research Support, Non-U.S. Gov't</td>\n",
       "    </tr>\n",
       "    <tr>\n",
       "      <th>10710</th>\n",
       "      <td>36280382</td>\n",
       "      <td>Rabbani G, Nimmi N, Benke GP, Dharmage SC, Bui...</td>\n",
       "      <td>Bangladesh Betar, Dhaka, Bangladesh., Institut...</td>\n",
       "      <td>2023 Jan</td>\n",
       "      <td>Ever and cumulative occupational exposure and ...</td>\n",
       "      <td>Occupational and environmental medicine</td>\n",
       "      <td>Journal Article, Meta-Analysis, Review, System...</td>\n",
       "    </tr>\n",
       "    <tr>\n",
       "      <th>10900</th>\n",
       "      <td>25794507</td>\n",
       "      <td>Phung D, Rutherford S, Chu C, Wang X, Nguyen M...</td>\n",
       "      <td>Centre for Environment and Population Health (...</td>\n",
       "      <td>2015 Jul</td>\n",
       "      <td>Temperature as a risk factor for hospitalisati...</td>\n",
       "      <td>Occupational and environmental medicine</td>\n",
       "      <td>Journal Article, Research Support, Non-U.S. Gov't</td>\n",
       "    </tr>\n",
       "    <tr>\n",
       "      <th>11732</th>\n",
       "      <td>35228261</td>\n",
       "      <td>Lee MS, Eum KD, Golam M, Quamruzzaman Q, Kile ...</td>\n",
       "      <td>Department of Environmental Health, Harvard T....</td>\n",
       "      <td>2022 May</td>\n",
       "      <td>Household use of crop residues and fuelwood fo...</td>\n",
       "      <td>Occupational and environmental medicine</td>\n",
       "      <td>Journal Article, Research Support, N.I.H., Ext...</td>\n",
       "    </tr>\n",
       "    <tr>\n",
       "      <th>12788</th>\n",
       "      <td>36379677</td>\n",
       "      <td>Hosseini B, Olsson A, Bouaoun L, Hall A, Hadji...</td>\n",
       "      <td>Environment and Lifestyle Epidemiology Branch,...</td>\n",
       "      <td>2022 Dec</td>\n",
       "      <td>Lung cancer risk in relation to jobs held in a...</td>\n",
       "      <td>Occupational and environmental medicine</td>\n",
       "      <td>Journal Article, Research Support, Non-U.S. Gov't</td>\n",
       "    </tr>\n",
       "    <tr>\n",
       "      <th>16394</th>\n",
       "      <td>30530485</td>\n",
       "      <td>Adler C, Friesen MC, Yeboah ED, Tettey Y, Biri...</td>\n",
       "      <td>Rollins School of Public Health, Emory Univers...</td>\n",
       "      <td>2019 Feb</td>\n",
       "      <td>Usual adult occupation and risk of prostate ca...</td>\n",
       "      <td>Occupational and environmental medicine</td>\n",
       "      <td>Journal Article, Research Support, N.I.H., Int...</td>\n",
       "    </tr>\n",
       "  </tbody>\n",
       "</table>\n",
       "</div>"
      ],
      "text/plain": [
       "           pmid                                             author  \\\n",
       "2277   36572527      Das D, Dutta HK, Borbora D, Brahma RC, Das JM   \n",
       "2664   15613613    Saha A, Kulkarni PK, Shah A, Patel M, Saiyed HN   \n",
       "5806   34799440  Nafees AA, Muneer MZ, De Matteis S, Amaral A, ...   \n",
       "8964   19671533  Fullerton DG, Semple S, Kalambo F, Suseno A, M...   \n",
       "10710  36280382  Rabbani G, Nimmi N, Benke GP, Dharmage SC, Bui...   \n",
       "10900  25794507  Phung D, Rutherford S, Chu C, Wang X, Nguyen M...   \n",
       "11732  35228261  Lee MS, Eum KD, Golam M, Quamruzzaman Q, Kile ...   \n",
       "12788  36379677  Hosseini B, Olsson A, Bouaoun L, Hall A, Hadji...   \n",
       "16394  30530485  Adler C, Friesen MC, Yeboah ED, Tettey Y, Biri...   \n",
       "\n",
       "                                      author_affiliation      date  \\\n",
       "2277   Department of Surgery, Assam Medical College a...  2023 Feb   \n",
       "2664   Occupational Medicine Division, National Insti...  2005 Jan   \n",
       "5806   Department of Community Health Sciences, Aga K...  2022 Apr   \n",
       "8964   Malawi-Liverpool-Wellcome Clinical Research La...  2009 Nov   \n",
       "10710  Bangladesh Betar, Dhaka, Bangladesh., Institut...  2023 Jan   \n",
       "10900  Centre for Environment and Population Health (...  2015 Jul   \n",
       "11732  Department of Environmental Health, Harvard T....  2022 May   \n",
       "12788  Environment and Lifestyle Epidemiology Branch,...  2022 Dec   \n",
       "16394  Rollins School of Public Health, Emory Univers...  2019 Feb   \n",
       "\n",
       "                                                   title  \\\n",
       "2277   Assessing the relationship between hypospadias...   \n",
       "2664   Ocular morbidity and fuel use: an experience f...   \n",
       "5806   Impact of using different predictive equations...   \n",
       "8964   Biomass fuel use and indoor air pollution in h...   \n",
       "10710  Ever and cumulative occupational exposure and ...   \n",
       "10900  Temperature as a risk factor for hospitalisati...   \n",
       "11732  Household use of crop residues and fuelwood fo...   \n",
       "12788  Lung cancer risk in relation to jobs held in a...   \n",
       "16394  Usual adult occupation and risk of prostate ca...   \n",
       "\n",
       "                                       journal  \\\n",
       "2277   Occupational and environmental medicine   \n",
       "2664   Occupational and environmental medicine   \n",
       "5806   Occupational and environmental medicine   \n",
       "8964   Occupational and environmental medicine   \n",
       "10710  Occupational and environmental medicine   \n",
       "10900  Occupational and environmental medicine   \n",
       "11732  Occupational and environmental medicine   \n",
       "12788  Occupational and environmental medicine   \n",
       "16394  Occupational and environmental medicine   \n",
       "\n",
       "                                                pub_type  \n",
       "2277                                     Journal Article  \n",
       "2664                                     Journal Article  \n",
       "5806   Journal Article, Randomized Controlled Trial, ...  \n",
       "8964   Journal Article, Research Support, Non-U.S. Gov't  \n",
       "10710  Journal Article, Meta-Analysis, Review, System...  \n",
       "10900  Journal Article, Research Support, Non-U.S. Gov't  \n",
       "11732  Journal Article, Research Support, N.I.H., Ext...  \n",
       "12788  Journal Article, Research Support, Non-U.S. Gov't  \n",
       "16394  Journal Article, Research Support, N.I.H., Int...  "
      ]
     },
     "execution_count": 25,
     "metadata": {},
     "output_type": "execute_result"
    }
   ],
   "source": [
    "# papers to check that Asaad gave us, now all present, Iran wasn't previously due to issue above\n",
    "df[df.pmid.isin([\"35228261\",\n",
    "\"36280382\",\n",
    "\"30530485\",\n",
    "\"15613613\",\n",
    "\"36572527\",\n",
    "\"36379677\",\n",
    "\"19671533\",\n",
    "\"34799440\",\n",
    "\"25794507\"])]"
   ]
  },
  {
   "cell_type": "code",
   "execution_count": 26,
   "id": "9cc53850",
   "metadata": {},
   "outputs": [
    {
     "data": {
      "text/plain": [
       "18452"
      ]
     },
     "execution_count": 26,
     "metadata": {},
     "output_type": "execute_result"
    }
   ],
   "source": [
    "len(df)"
   ]
  },
  {
   "cell_type": "code",
   "execution_count": 27,
   "id": "1bdf58f0",
   "metadata": {},
   "outputs": [
    {
     "name": "stdout",
     "output_type": "stream",
     "text": [
      "['American journal of industrial medicine'\n",
      " 'Occupational medicine (Philadelphia, Pa.)'\n",
      " 'Occupational medicine (Oxford, England)'\n",
      " 'Journal of occupational and environmental medicine'\n",
      " 'Occupational and environmental medicine']\n",
      "\n",
      "\n",
      "author_affiliation\n",
      "False    4406\n",
      "True       45\n",
      "Name: count, dtype: int64\n",
      "contains lmic\n",
      "\n",
      "author_affiliation\n",
      "False    0.98989\n",
      "True     0.01011\n",
      "Name: proportion, dtype: float64\n",
      "contains lmic\n",
      "\n"
     ]
    }
   ],
   "source": [
    "# pre 2000\n",
    "results(df[df['date'] < \"2000\"])"
   ]
  },
  {
   "cell_type": "code",
   "execution_count": 28,
   "id": "df20a364",
   "metadata": {},
   "outputs": [
    {
     "name": "stdout",
     "output_type": "stream",
     "text": [
      "['American journal of industrial medicine'\n",
      " 'Occupational medicine (Oxford, England)'\n",
      " 'Journal of occupational and environmental medicine'\n",
      " 'Occupational and environmental medicine'\n",
      " 'Occupational medicine (Philadelphia, Pa.)']\n",
      "\n",
      "\n",
      "author_affiliation\n",
      "False    13563\n",
      "True       438\n",
      "Name: count, dtype: int64\n",
      "contains lmic\n",
      "\n",
      "author_affiliation\n",
      "False    0.968717\n",
      "True     0.031283\n",
      "Name: proportion, dtype: float64\n",
      "contains lmic\n",
      "\n"
     ]
    }
   ],
   "source": [
    "# 2000 and later\n",
    "results(df[df['date'] >= \"2000\"])"
   ]
  },
  {
   "cell_type": "code",
   "execution_count": 29,
   "id": "a62046dc",
   "metadata": {},
   "outputs": [
    {
     "data": {
      "text/plain": [
       "array(['American journal of industrial medicine',\n",
       "       'Occupational medicine (Oxford, England)',\n",
       "       'Journal of occupational and environmental medicine',\n",
       "       'Occupational medicine (Philadelphia, Pa.)',\n",
       "       'Occupational and environmental medicine'], dtype=object)"
      ]
     },
     "execution_count": 29,
     "metadata": {},
     "output_type": "execute_result"
    }
   ],
   "source": [
    "df['journal'].unique()"
   ]
  },
  {
   "cell_type": "code",
   "execution_count": 30,
   "id": "95210e97",
   "metadata": {},
   "outputs": [],
   "source": [
    "# lets call OM Pa OM Ox.... \n",
    "df = df.replace('Occupational medicine (Philadelphia, Pa.)', 'Occupational medicine (Oxford, England)' )\n",
    "journals = df['journal'].unique()\n",
    "df.to_csv('for_asaad.csv')"
   ]
  },
  {
   "cell_type": "code",
   "execution_count": 31,
   "id": "9830b47d",
   "metadata": {},
   "outputs": [
    {
     "name": "stdout",
     "output_type": "stream",
     "text": [
      "['American journal of industrial medicine'\n",
      " 'Occupational medicine (Oxford, England)'\n",
      " 'Journal of occupational and environmental medicine'\n",
      " 'Occupational and environmental medicine']\n",
      "\n",
      "\n",
      "author_affiliation\n",
      "False    4406\n",
      "True       45\n",
      "Name: count, dtype: int64\n",
      "contains lmic\n",
      "\n",
      "author_affiliation\n",
      "False    0.98989\n",
      "True     0.01011\n",
      "Name: proportion, dtype: float64\n",
      "contains lmic\n",
      "\n"
     ]
    }
   ],
   "source": [
    "# pre 2000\n",
    "results(df[df['date'] < \"2000\"])"
   ]
  },
  {
   "cell_type": "code",
   "execution_count": 32,
   "id": "75858216",
   "metadata": {},
   "outputs": [
    {
     "name": "stdout",
     "output_type": "stream",
     "text": [
      "['American journal of industrial medicine']\n",
      "\n",
      "\n",
      "author_affiliation\n",
      "False    1925\n",
      "True       19\n",
      "Name: count, dtype: int64\n",
      "contains lmic\n",
      "\n",
      "author_affiliation\n",
      "False    0.990226\n",
      "True     0.009774\n",
      "Name: proportion, dtype: float64\n",
      "contains lmic\n",
      "\n",
      "['Occupational medicine (Oxford, England)']\n",
      "\n",
      "\n",
      "author_affiliation\n",
      "False    1116\n",
      "True       15\n",
      "Name: count, dtype: int64\n",
      "contains lmic\n",
      "\n",
      "author_affiliation\n",
      "False    0.986737\n",
      "True     0.013263\n",
      "Name: proportion, dtype: float64\n",
      "contains lmic\n",
      "\n",
      "['Journal of occupational and environmental medicine']\n",
      "\n",
      "\n",
      "author_affiliation\n",
      "False    559\n",
      "True       6\n",
      "Name: count, dtype: int64\n",
      "contains lmic\n",
      "\n",
      "author_affiliation\n",
      "False    0.989381\n",
      "True     0.010619\n",
      "Name: proportion, dtype: float64\n",
      "contains lmic\n",
      "\n",
      "['Occupational and environmental medicine']\n",
      "\n",
      "\n",
      "author_affiliation\n",
      "False    806\n",
      "True       5\n",
      "Name: count, dtype: int64\n",
      "contains lmic\n",
      "\n",
      "author_affiliation\n",
      "False    0.993835\n",
      "True     0.006165\n",
      "Name: proportion, dtype: float64\n",
      "contains lmic\n",
      "\n"
     ]
    },
    {
     "data": {
      "text/plain": [
       "[None, None, None, None]"
      ]
     },
     "execution_count": 32,
     "metadata": {},
     "output_type": "execute_result"
    }
   ],
   "source": [
    "# pre 2000 by journal\n",
    "[results(df[(df['date'] < \"2000\") & (df['journal'] == journal)]) for journal in journals]"
   ]
  },
  {
   "cell_type": "code",
   "execution_count": 45,
   "id": "656beee1",
   "metadata": {},
   "outputs": [
    {
     "name": "stdout",
     "output_type": "stream",
     "text": [
      "['American journal of industrial medicine'\n",
      " 'Occupational medicine (Oxford, England)'\n",
      " 'Journal of occupational and environmental medicine'\n",
      " 'Occupational and environmental medicine']\n",
      "\n",
      "\n",
      "author_affiliation\n",
      "False    13563\n",
      "True       438\n",
      "Name: count, dtype: int64\n",
      "contains lmic\n",
      "\n",
      "author_affiliation\n",
      "False    0.968717\n",
      "True     0.031283\n",
      "Name: proportion, dtype: float64\n",
      "contains lmic\n",
      "\n"
     ]
    }
   ],
   "source": [
    "# after 2000 by journal\n",
    "results(df[(df['date'] >= \"2000\")])"
   ]
  },
  {
   "cell_type": "code",
   "execution_count": 34,
   "id": "8eac2cb6",
   "metadata": {},
   "outputs": [
    {
     "name": "stdout",
     "output_type": "stream",
     "text": [
      "['American journal of industrial medicine']\n",
      "\n",
      "\n",
      "author_affiliation\n",
      "False    2906\n",
      "True      105\n",
      "Name: count, dtype: int64\n",
      "contains lmic\n",
      "\n",
      "author_affiliation\n",
      "False    0.965128\n",
      "True     0.034872\n",
      "Name: proportion, dtype: float64\n",
      "contains lmic\n",
      "\n",
      "['Occupational medicine (Oxford, England)']\n",
      "\n",
      "\n",
      "author_affiliation\n",
      "False    2617\n",
      "True       58\n",
      "Name: count, dtype: int64\n",
      "contains lmic\n",
      "\n",
      "author_affiliation\n",
      "False    0.978318\n",
      "True     0.021682\n",
      "Name: proportion, dtype: float64\n",
      "contains lmic\n",
      "\n",
      "['Journal of occupational and environmental medicine']\n",
      "\n",
      "\n",
      "author_affiliation\n",
      "False    4762\n",
      "True      177\n",
      "Name: count, dtype: int64\n",
      "contains lmic\n",
      "\n",
      "author_affiliation\n",
      "False    0.964163\n",
      "True     0.035837\n",
      "Name: proportion, dtype: float64\n",
      "contains lmic\n",
      "\n",
      "['Occupational and environmental medicine']\n",
      "\n",
      "\n",
      "author_affiliation\n",
      "False    3278\n",
      "True       98\n",
      "Name: count, dtype: int64\n",
      "contains lmic\n",
      "\n",
      "author_affiliation\n",
      "False    0.970972\n",
      "True     0.029028\n",
      "Name: proportion, dtype: float64\n",
      "contains lmic\n",
      "\n"
     ]
    },
    {
     "data": {
      "text/plain": [
       "[None, None, None, None]"
      ]
     },
     "execution_count": 34,
     "metadata": {},
     "output_type": "execute_result"
    }
   ],
   "source": [
    "# after 2000 by journal\n",
    "[results(df[(df['date'] >= \"2000\") & (df['journal'] == journal)]) for journal in journals]"
   ]
  },
  {
   "cell_type": "code",
   "execution_count": 35,
   "id": "73cf067a",
   "metadata": {},
   "outputs": [
    {
     "name": "stdout",
     "output_type": "stream",
     "text": [
      "Afghanistan 0\n",
      "Angola 0\n",
      "Bangladesh 7\n",
      "Benin 4\n",
      "Bhutan 2\n",
      "Bolivia 0\n",
      "Burkina Faso 0\n",
      "Burundi 0\n",
      "Cabo Verde 0\n",
      "Cambodia 0\n",
      "Cameroon 0\n",
      "Central African Republic 0\n",
      "Chad 0\n",
      "Comoros 0\n",
      "Congo 2\n",
      "Congo 2\n",
      "Côte d’Ivoire 0\n",
      "Djibouti 0\n",
      "Egypt 16\n",
      "Eritrea 0\n",
      "Eswatini 0\n",
      "Ethiopia 9\n",
      "Gambia 0\n",
      "Ghana 6\n",
      "Guinea 0\n",
      "Guinea-Bissau 0\n",
      "Haiti 0\n",
      "Honduras 1\n",
      "India 108\n",
      "Jordan 7\n",
      "Kenya 2\n",
      "Kiribati 0\n",
      "Korea 211\n",
      "Kyrgyz Republic 0\n",
      "Lao PDR 0\n",
      "Lebanon 20\n",
      "Lesotho 1\n",
      "Liberia 0\n",
      "Madagascar 0\n",
      "Malawi 1\n",
      "Mali 8\n",
      "Mauritania 0\n",
      "Micronesia 0\n",
      "Morocco 1\n",
      "Mozambique 0\n",
      "Myanmar 0\n",
      "Nepal 3\n",
      "Nicaragua 8\n",
      "Niger 13\n",
      "Nigeria 13\n",
      "Pakistan 19\n",
      "Papua New Guinea 0\n",
      "Philippines 4\n",
      "Rwanda 0\n",
      "Samoa 0\n",
      "São Tomé and Príncipe 0\n",
      "Senegal 1\n",
      "Sierra Leone 1\n",
      "Solomon Islands 0\n",
      "Somalia 0\n",
      "South Sudan 0\n",
      "Sri Lanka 18\n",
      "Sudan 5\n",
      "Syrian Arab Republic 0\n",
      "Tajikistan 0\n",
      "Tanzania 8\n",
      "Timor-Leste 0\n",
      "Togo 1\n",
      "Tunisia 3\n",
      "Uganda 1\n",
      "Uzbekistan 0\n",
      "Vanuatu 0\n",
      "Vietnam 4\n",
      "West Bank and Gaza 0\n",
      "Yemen 0\n",
      "Zambia 3\n",
      "Zimbabwe 3\n"
     ]
    }
   ],
   "source": [
    "lmic_dict_papers = {}\n",
    "for lmic in list_of_lmics:\n",
    "    print(lmic,len(df) - df.author_affiliation.str.contains(lmic).value_counts()[0])\n",
    "    lmic_dict_papers[lmic] = len(df) - df.author_affiliation.str.contains(lmic).value_counts()[0]"
   ]
  },
  {
   "cell_type": "code",
   "execution_count": 36,
   "id": "7157f622",
   "metadata": {},
   "outputs": [],
   "source": [
    "df_lmic_count = pd.DataFrame([lmic_dict_papers]).melt()\n",
    "df_lmic_count.columns = ['Economy','N']\n",
    "\n",
    "# use dataframe ealier \n",
    "countriesdf = countries[((countries['Income group'] == \"Low income\") | (countries['Income group'] == \"Lower middle income\"))]\n",
    "countriesdf.loc[:,'Economy'] = countriesdf['Economy'].str.split(\",\").str[0] #simplify names for consistency\n",
    "\n",
    "gdf = pd.merge(countriesdf.dropna(), df_lmic_count)"
   ]
  },
  {
   "cell_type": "code",
   "execution_count": 37,
   "id": "fccf946e",
   "metadata": {},
   "outputs": [],
   "source": [
    "# gdf = gdf[gdf['N'] > 0] # lets not include LMICS with zero papers"
   ]
  },
  {
   "cell_type": "code",
   "execution_count": 44,
   "id": "b0fc50f4",
   "metadata": {},
   "outputs": [
    {
     "data": {
      "application/vnd.plotly.v1+json": {
       "config": {
        "plotlyServerURL": "https://plot.ly"
       },
       "data": [
        {
         "autocolorscale": false,
         "colorbar": {
          "title": {
           "text": "Number of times country appears in a paper"
          }
         },
         "colorscale": [
          [
           0,
           "#440154"
          ],
          [
           0.1111111111111111,
           "#482878"
          ],
          [
           0.2222222222222222,
           "#3e4989"
          ],
          [
           0.3333333333333333,
           "#31688e"
          ],
          [
           0.4444444444444444,
           "#26828e"
          ],
          [
           0.5555555555555556,
           "#1f9e89"
          ],
          [
           0.6666666666666666,
           "#35b779"
          ],
          [
           0.7777777777777778,
           "#6ece58"
          ],
          [
           0.8888888888888888,
           "#b5de2b"
          ],
          [
           1,
           "#fde725"
          ]
         ],
         "locations": [
          "AFG",
          "AGO",
          "BGD",
          "BEN",
          "BTN",
          "BOL",
          "BFA",
          "BDI",
          "CPV",
          "KHM",
          "CMR",
          "CAF",
          "TCD",
          "COM",
          "COD",
          "COG",
          "CIV",
          "DJI",
          "EGY",
          "ERI",
          "SWZ",
          "ETH",
          "GMB",
          "GHA",
          "GIN",
          "GNB",
          "HTI",
          "HND",
          "IND",
          "JOR",
          "KEN",
          "KIR",
          "PRK",
          "KGZ",
          "LAO",
          "LBN",
          "LSO",
          "LBR",
          "MDG",
          "MWI",
          "MLI",
          "MRT",
          "FSM",
          "MAR",
          "MOZ",
          "MMR",
          "NPL",
          "NIC",
          "NER",
          "NGA",
          "PAK",
          "PNG",
          "PHL",
          "RWA",
          "WSM",
          "STP",
          "SEN",
          "SLE",
          "SLB",
          "SOM",
          "SSD",
          "LKA",
          "SDN",
          "SYR",
          "TJK",
          "TZA",
          "TLS",
          "TGO",
          "TUN",
          "UGA",
          "UZB",
          "VUT",
          "VNM",
          "PSE",
          "YEM",
          "ZMB",
          "ZWE"
         ],
         "marker": {
          "line": {
           "color": "darkgray",
           "width": 0.5
          }
         },
         "reversescale": true,
         "text": [
          "Afghanistan",
          "Angola",
          "Bangladesh",
          "Benin",
          "Bhutan",
          "Bolivia",
          "Burkina Faso",
          "Burundi",
          "Cabo Verde",
          "Cambodia",
          "Cameroon",
          "Central African Republic",
          "Chad",
          "Comoros",
          "Congo",
          "Congo",
          "Côte d’Ivoire",
          "Djibouti",
          "Egypt",
          "Eritrea",
          "Eswatini",
          "Ethiopia",
          "Gambia",
          "Ghana",
          "Guinea",
          "Guinea-Bissau",
          "Haiti",
          "Honduras",
          "India",
          "Jordan",
          "Kenya",
          "Kiribati",
          "Korea",
          "Kyrgyz Republic",
          "Lao PDR",
          "Lebanon",
          "Lesotho",
          "Liberia",
          "Madagascar",
          "Malawi",
          "Mali",
          "Mauritania",
          "Micronesia",
          "Morocco",
          "Mozambique",
          "Myanmar",
          "Nepal",
          "Nicaragua",
          "Niger",
          "Nigeria",
          "Pakistan",
          "Papua New Guinea",
          "Philippines",
          "Rwanda",
          "Samoa",
          "São Tomé and Príncipe",
          "Senegal",
          "Sierra Leone",
          "Solomon Islands",
          "Somalia",
          "South Sudan",
          "Sri Lanka",
          "Sudan",
          "Syrian Arab Republic",
          "Tajikistan",
          "Tanzania",
          "Timor-Leste",
          "Togo",
          "Tunisia",
          "Uganda",
          "Uzbekistan",
          "Vanuatu",
          "Vietnam",
          "West Bank and Gaza",
          "Yemen",
          "Zambia",
          "Zimbabwe"
         ],
         "type": "choropleth",
         "z": [
          0,
          0,
          7,
          4,
          2,
          0,
          0,
          0,
          0,
          0,
          0,
          0,
          0,
          0,
          2,
          2,
          0,
          0,
          16,
          0,
          0,
          9,
          0,
          6,
          0,
          0,
          0,
          1,
          108,
          7,
          2,
          0,
          211,
          0,
          0,
          20,
          1,
          0,
          0,
          1,
          8,
          0,
          0,
          1,
          0,
          0,
          3,
          8,
          13,
          13,
          19,
          0,
          4,
          0,
          0,
          0,
          1,
          1,
          0,
          0,
          0,
          18,
          5,
          0,
          0,
          8,
          0,
          1,
          3,
          1,
          0,
          0,
          4,
          0,
          0,
          3,
          3
         ]
        }
       ],
       "layout": {
        "template": {
         "data": {
          "bar": [
           {
            "error_x": {
             "color": "#2a3f5f"
            },
            "error_y": {
             "color": "#2a3f5f"
            },
            "marker": {
             "line": {
              "color": "#E5ECF6",
              "width": 0.5
             },
             "pattern": {
              "fillmode": "overlay",
              "size": 10,
              "solidity": 0.2
             }
            },
            "type": "bar"
           }
          ],
          "barpolar": [
           {
            "marker": {
             "line": {
              "color": "#E5ECF6",
              "width": 0.5
             },
             "pattern": {
              "fillmode": "overlay",
              "size": 10,
              "solidity": 0.2
             }
            },
            "type": "barpolar"
           }
          ],
          "carpet": [
           {
            "aaxis": {
             "endlinecolor": "#2a3f5f",
             "gridcolor": "white",
             "linecolor": "white",
             "minorgridcolor": "white",
             "startlinecolor": "#2a3f5f"
            },
            "baxis": {
             "endlinecolor": "#2a3f5f",
             "gridcolor": "white",
             "linecolor": "white",
             "minorgridcolor": "white",
             "startlinecolor": "#2a3f5f"
            },
            "type": "carpet"
           }
          ],
          "choropleth": [
           {
            "colorbar": {
             "outlinewidth": 0,
             "ticks": ""
            },
            "type": "choropleth"
           }
          ],
          "contour": [
           {
            "colorbar": {
             "outlinewidth": 0,
             "ticks": ""
            },
            "colorscale": [
             [
              0,
              "#0d0887"
             ],
             [
              0.1111111111111111,
              "#46039f"
             ],
             [
              0.2222222222222222,
              "#7201a8"
             ],
             [
              0.3333333333333333,
              "#9c179e"
             ],
             [
              0.4444444444444444,
              "#bd3786"
             ],
             [
              0.5555555555555556,
              "#d8576b"
             ],
             [
              0.6666666666666666,
              "#ed7953"
             ],
             [
              0.7777777777777778,
              "#fb9f3a"
             ],
             [
              0.8888888888888888,
              "#fdca26"
             ],
             [
              1,
              "#f0f921"
             ]
            ],
            "type": "contour"
           }
          ],
          "contourcarpet": [
           {
            "colorbar": {
             "outlinewidth": 0,
             "ticks": ""
            },
            "type": "contourcarpet"
           }
          ],
          "heatmap": [
           {
            "colorbar": {
             "outlinewidth": 0,
             "ticks": ""
            },
            "colorscale": [
             [
              0,
              "#0d0887"
             ],
             [
              0.1111111111111111,
              "#46039f"
             ],
             [
              0.2222222222222222,
              "#7201a8"
             ],
             [
              0.3333333333333333,
              "#9c179e"
             ],
             [
              0.4444444444444444,
              "#bd3786"
             ],
             [
              0.5555555555555556,
              "#d8576b"
             ],
             [
              0.6666666666666666,
              "#ed7953"
             ],
             [
              0.7777777777777778,
              "#fb9f3a"
             ],
             [
              0.8888888888888888,
              "#fdca26"
             ],
             [
              1,
              "#f0f921"
             ]
            ],
            "type": "heatmap"
           }
          ],
          "heatmapgl": [
           {
            "colorbar": {
             "outlinewidth": 0,
             "ticks": ""
            },
            "colorscale": [
             [
              0,
              "#0d0887"
             ],
             [
              0.1111111111111111,
              "#46039f"
             ],
             [
              0.2222222222222222,
              "#7201a8"
             ],
             [
              0.3333333333333333,
              "#9c179e"
             ],
             [
              0.4444444444444444,
              "#bd3786"
             ],
             [
              0.5555555555555556,
              "#d8576b"
             ],
             [
              0.6666666666666666,
              "#ed7953"
             ],
             [
              0.7777777777777778,
              "#fb9f3a"
             ],
             [
              0.8888888888888888,
              "#fdca26"
             ],
             [
              1,
              "#f0f921"
             ]
            ],
            "type": "heatmapgl"
           }
          ],
          "histogram": [
           {
            "marker": {
             "pattern": {
              "fillmode": "overlay",
              "size": 10,
              "solidity": 0.2
             }
            },
            "type": "histogram"
           }
          ],
          "histogram2d": [
           {
            "colorbar": {
             "outlinewidth": 0,
             "ticks": ""
            },
            "colorscale": [
             [
              0,
              "#0d0887"
             ],
             [
              0.1111111111111111,
              "#46039f"
             ],
             [
              0.2222222222222222,
              "#7201a8"
             ],
             [
              0.3333333333333333,
              "#9c179e"
             ],
             [
              0.4444444444444444,
              "#bd3786"
             ],
             [
              0.5555555555555556,
              "#d8576b"
             ],
             [
              0.6666666666666666,
              "#ed7953"
             ],
             [
              0.7777777777777778,
              "#fb9f3a"
             ],
             [
              0.8888888888888888,
              "#fdca26"
             ],
             [
              1,
              "#f0f921"
             ]
            ],
            "type": "histogram2d"
           }
          ],
          "histogram2dcontour": [
           {
            "colorbar": {
             "outlinewidth": 0,
             "ticks": ""
            },
            "colorscale": [
             [
              0,
              "#0d0887"
             ],
             [
              0.1111111111111111,
              "#46039f"
             ],
             [
              0.2222222222222222,
              "#7201a8"
             ],
             [
              0.3333333333333333,
              "#9c179e"
             ],
             [
              0.4444444444444444,
              "#bd3786"
             ],
             [
              0.5555555555555556,
              "#d8576b"
             ],
             [
              0.6666666666666666,
              "#ed7953"
             ],
             [
              0.7777777777777778,
              "#fb9f3a"
             ],
             [
              0.8888888888888888,
              "#fdca26"
             ],
             [
              1,
              "#f0f921"
             ]
            ],
            "type": "histogram2dcontour"
           }
          ],
          "mesh3d": [
           {
            "colorbar": {
             "outlinewidth": 0,
             "ticks": ""
            },
            "type": "mesh3d"
           }
          ],
          "parcoords": [
           {
            "line": {
             "colorbar": {
              "outlinewidth": 0,
              "ticks": ""
             }
            },
            "type": "parcoords"
           }
          ],
          "pie": [
           {
            "automargin": true,
            "type": "pie"
           }
          ],
          "scatter": [
           {
            "fillpattern": {
             "fillmode": "overlay",
             "size": 10,
             "solidity": 0.2
            },
            "type": "scatter"
           }
          ],
          "scatter3d": [
           {
            "line": {
             "colorbar": {
              "outlinewidth": 0,
              "ticks": ""
             }
            },
            "marker": {
             "colorbar": {
              "outlinewidth": 0,
              "ticks": ""
             }
            },
            "type": "scatter3d"
           }
          ],
          "scattercarpet": [
           {
            "marker": {
             "colorbar": {
              "outlinewidth": 0,
              "ticks": ""
             }
            },
            "type": "scattercarpet"
           }
          ],
          "scattergeo": [
           {
            "marker": {
             "colorbar": {
              "outlinewidth": 0,
              "ticks": ""
             }
            },
            "type": "scattergeo"
           }
          ],
          "scattergl": [
           {
            "marker": {
             "colorbar": {
              "outlinewidth": 0,
              "ticks": ""
             }
            },
            "type": "scattergl"
           }
          ],
          "scattermapbox": [
           {
            "marker": {
             "colorbar": {
              "outlinewidth": 0,
              "ticks": ""
             }
            },
            "type": "scattermapbox"
           }
          ],
          "scatterpolar": [
           {
            "marker": {
             "colorbar": {
              "outlinewidth": 0,
              "ticks": ""
             }
            },
            "type": "scatterpolar"
           }
          ],
          "scatterpolargl": [
           {
            "marker": {
             "colorbar": {
              "outlinewidth": 0,
              "ticks": ""
             }
            },
            "type": "scatterpolargl"
           }
          ],
          "scatterternary": [
           {
            "marker": {
             "colorbar": {
              "outlinewidth": 0,
              "ticks": ""
             }
            },
            "type": "scatterternary"
           }
          ],
          "surface": [
           {
            "colorbar": {
             "outlinewidth": 0,
             "ticks": ""
            },
            "colorscale": [
             [
              0,
              "#0d0887"
             ],
             [
              0.1111111111111111,
              "#46039f"
             ],
             [
              0.2222222222222222,
              "#7201a8"
             ],
             [
              0.3333333333333333,
              "#9c179e"
             ],
             [
              0.4444444444444444,
              "#bd3786"
             ],
             [
              0.5555555555555556,
              "#d8576b"
             ],
             [
              0.6666666666666666,
              "#ed7953"
             ],
             [
              0.7777777777777778,
              "#fb9f3a"
             ],
             [
              0.8888888888888888,
              "#fdca26"
             ],
             [
              1,
              "#f0f921"
             ]
            ],
            "type": "surface"
           }
          ],
          "table": [
           {
            "cells": {
             "fill": {
              "color": "#EBF0F8"
             },
             "line": {
              "color": "white"
             }
            },
            "header": {
             "fill": {
              "color": "#C8D4E3"
             },
             "line": {
              "color": "white"
             }
            },
            "type": "table"
           }
          ]
         },
         "layout": {
          "annotationdefaults": {
           "arrowcolor": "#2a3f5f",
           "arrowhead": 0,
           "arrowwidth": 1
          },
          "autotypenumbers": "strict",
          "coloraxis": {
           "colorbar": {
            "outlinewidth": 0,
            "ticks": ""
           }
          },
          "colorscale": {
           "diverging": [
            [
             0,
             "#8e0152"
            ],
            [
             0.1,
             "#c51b7d"
            ],
            [
             0.2,
             "#de77ae"
            ],
            [
             0.3,
             "#f1b6da"
            ],
            [
             0.4,
             "#fde0ef"
            ],
            [
             0.5,
             "#f7f7f7"
            ],
            [
             0.6,
             "#e6f5d0"
            ],
            [
             0.7,
             "#b8e186"
            ],
            [
             0.8,
             "#7fbc41"
            ],
            [
             0.9,
             "#4d9221"
            ],
            [
             1,
             "#276419"
            ]
           ],
           "sequential": [
            [
             0,
             "#0d0887"
            ],
            [
             0.1111111111111111,
             "#46039f"
            ],
            [
             0.2222222222222222,
             "#7201a8"
            ],
            [
             0.3333333333333333,
             "#9c179e"
            ],
            [
             0.4444444444444444,
             "#bd3786"
            ],
            [
             0.5555555555555556,
             "#d8576b"
            ],
            [
             0.6666666666666666,
             "#ed7953"
            ],
            [
             0.7777777777777778,
             "#fb9f3a"
            ],
            [
             0.8888888888888888,
             "#fdca26"
            ],
            [
             1,
             "#f0f921"
            ]
           ],
           "sequentialminus": [
            [
             0,
             "#0d0887"
            ],
            [
             0.1111111111111111,
             "#46039f"
            ],
            [
             0.2222222222222222,
             "#7201a8"
            ],
            [
             0.3333333333333333,
             "#9c179e"
            ],
            [
             0.4444444444444444,
             "#bd3786"
            ],
            [
             0.5555555555555556,
             "#d8576b"
            ],
            [
             0.6666666666666666,
             "#ed7953"
            ],
            [
             0.7777777777777778,
             "#fb9f3a"
            ],
            [
             0.8888888888888888,
             "#fdca26"
            ],
            [
             1,
             "#f0f921"
            ]
           ]
          },
          "colorway": [
           "#636efa",
           "#EF553B",
           "#00cc96",
           "#ab63fa",
           "#FFA15A",
           "#19d3f3",
           "#FF6692",
           "#B6E880",
           "#FF97FF",
           "#FECB52"
          ],
          "font": {
           "color": "#2a3f5f"
          },
          "geo": {
           "bgcolor": "white",
           "lakecolor": "white",
           "landcolor": "#E5ECF6",
           "showlakes": true,
           "showland": true,
           "subunitcolor": "white"
          },
          "hoverlabel": {
           "align": "left"
          },
          "hovermode": "closest",
          "mapbox": {
           "style": "light"
          },
          "paper_bgcolor": "white",
          "plot_bgcolor": "#E5ECF6",
          "polar": {
           "angularaxis": {
            "gridcolor": "white",
            "linecolor": "white",
            "ticks": ""
           },
           "bgcolor": "#E5ECF6",
           "radialaxis": {
            "gridcolor": "white",
            "linecolor": "white",
            "ticks": ""
           }
          },
          "scene": {
           "xaxis": {
            "backgroundcolor": "#E5ECF6",
            "gridcolor": "white",
            "gridwidth": 2,
            "linecolor": "white",
            "showbackground": true,
            "ticks": "",
            "zerolinecolor": "white"
           },
           "yaxis": {
            "backgroundcolor": "#E5ECF6",
            "gridcolor": "white",
            "gridwidth": 2,
            "linecolor": "white",
            "showbackground": true,
            "ticks": "",
            "zerolinecolor": "white"
           },
           "zaxis": {
            "backgroundcolor": "#E5ECF6",
            "gridcolor": "white",
            "gridwidth": 2,
            "linecolor": "white",
            "showbackground": true,
            "ticks": "",
            "zerolinecolor": "white"
           }
          },
          "shapedefaults": {
           "line": {
            "color": "#2a3f5f"
           }
          },
          "ternary": {
           "aaxis": {
            "gridcolor": "white",
            "linecolor": "white",
            "ticks": ""
           },
           "baxis": {
            "gridcolor": "white",
            "linecolor": "white",
            "ticks": ""
           },
           "bgcolor": "#E5ECF6",
           "caxis": {
            "gridcolor": "white",
            "linecolor": "white",
            "ticks": ""
           }
          },
          "title": {
           "x": 0.05
          },
          "xaxis": {
           "automargin": true,
           "gridcolor": "white",
           "linecolor": "white",
           "ticks": "",
           "title": {
            "standoff": 15
           },
           "zerolinecolor": "white",
           "zerolinewidth": 2
          },
          "yaxis": {
           "automargin": true,
           "gridcolor": "white",
           "linecolor": "white",
           "ticks": "",
           "title": {
            "standoff": 15
           },
           "zerolinecolor": "white",
           "zerolinewidth": 2
          }
         }
        }
       }
      },
      "text/html": [
       "<div>                            <div id=\"9e9fd367-c436-4a2f-8f6d-50712b2a187f\" class=\"plotly-graph-div\" style=\"height:525px; width:100%;\"></div>            <script type=\"text/javascript\">                require([\"plotly\"], function(Plotly) {                    window.PLOTLYENV=window.PLOTLYENV || {};                                    if (document.getElementById(\"9e9fd367-c436-4a2f-8f6d-50712b2a187f\")) {                    Plotly.newPlot(                        \"9e9fd367-c436-4a2f-8f6d-50712b2a187f\",                        [{\"autocolorscale\":false,\"colorbar\":{\"title\":{\"text\":\"Number of times country appears in a paper\"}},\"colorscale\":[[0.0,\"#440154\"],[0.1111111111111111,\"#482878\"],[0.2222222222222222,\"#3e4989\"],[0.3333333333333333,\"#31688e\"],[0.4444444444444444,\"#26828e\"],[0.5555555555555556,\"#1f9e89\"],[0.6666666666666666,\"#35b779\"],[0.7777777777777778,\"#6ece58\"],[0.8888888888888888,\"#b5de2b\"],[1.0,\"#fde725\"]],\"locations\":[\"AFG\",\"AGO\",\"BGD\",\"BEN\",\"BTN\",\"BOL\",\"BFA\",\"BDI\",\"CPV\",\"KHM\",\"CMR\",\"CAF\",\"TCD\",\"COM\",\"COD\",\"COG\",\"CIV\",\"DJI\",\"EGY\",\"ERI\",\"SWZ\",\"ETH\",\"GMB\",\"GHA\",\"GIN\",\"GNB\",\"HTI\",\"HND\",\"IND\",\"JOR\",\"KEN\",\"KIR\",\"PRK\",\"KGZ\",\"LAO\",\"LBN\",\"LSO\",\"LBR\",\"MDG\",\"MWI\",\"MLI\",\"MRT\",\"FSM\",\"MAR\",\"MOZ\",\"MMR\",\"NPL\",\"NIC\",\"NER\",\"NGA\",\"PAK\",\"PNG\",\"PHL\",\"RWA\",\"WSM\",\"STP\",\"SEN\",\"SLE\",\"SLB\",\"SOM\",\"SSD\",\"LKA\",\"SDN\",\"SYR\",\"TJK\",\"TZA\",\"TLS\",\"TGO\",\"TUN\",\"UGA\",\"UZB\",\"VUT\",\"VNM\",\"PSE\",\"YEM\",\"ZMB\",\"ZWE\"],\"marker\":{\"line\":{\"color\":\"darkgray\",\"width\":0.5}},\"reversescale\":true,\"text\":[\"Afghanistan\",\"Angola\",\"Bangladesh\",\"Benin\",\"Bhutan\",\"Bolivia\",\"Burkina Faso\",\"Burundi\",\"Cabo Verde\",\"Cambodia\",\"Cameroon\",\"Central African Republic\",\"Chad\",\"Comoros\",\"Congo\",\"Congo\",\"C\\u00f4te d\\u2019Ivoire\",\"Djibouti\",\"Egypt\",\"Eritrea\",\"Eswatini\",\"Ethiopia\",\"Gambia\",\"Ghana\",\"Guinea\",\"Guinea-Bissau\",\"Haiti\",\"Honduras\",\"India\",\"Jordan\",\"Kenya\",\"Kiribati\",\"Korea\",\"Kyrgyz Republic\",\"Lao PDR\",\"Lebanon\",\"Lesotho\",\"Liberia\",\"Madagascar\",\"Malawi\",\"Mali\",\"Mauritania\",\"Micronesia\",\"Morocco\",\"Mozambique\",\"Myanmar\",\"Nepal\",\"Nicaragua\",\"Niger\",\"Nigeria\",\"Pakistan\",\"Papua New Guinea\",\"Philippines\",\"Rwanda\",\"Samoa\",\"S\\u00e3o Tom\\u00e9 and Pr\\u00edncipe\",\"Senegal\",\"Sierra Leone\",\"Solomon Islands\",\"Somalia\",\"South Sudan\",\"Sri Lanka\",\"Sudan\",\"Syrian Arab Republic\",\"Tajikistan\",\"Tanzania\",\"Timor-Leste\",\"Togo\",\"Tunisia\",\"Uganda\",\"Uzbekistan\",\"Vanuatu\",\"Vietnam\",\"West Bank and Gaza\",\"Yemen\",\"Zambia\",\"Zimbabwe\"],\"z\":[0,0,7,4,2,0,0,0,0,0,0,0,0,0,2,2,0,0,16,0,0,9,0,6,0,0,0,1,108,7,2,0,211,0,0,20,1,0,0,1,8,0,0,1,0,0,3,8,13,13,19,0,4,0,0,0,1,1,0,0,0,18,5,0,0,8,0,1,3,1,0,0,4,0,0,3,3],\"type\":\"choropleth\"}],                        {\"template\":{\"data\":{\"histogram2dcontour\":[{\"type\":\"histogram2dcontour\",\"colorbar\":{\"outlinewidth\":0,\"ticks\":\"\"},\"colorscale\":[[0.0,\"#0d0887\"],[0.1111111111111111,\"#46039f\"],[0.2222222222222222,\"#7201a8\"],[0.3333333333333333,\"#9c179e\"],[0.4444444444444444,\"#bd3786\"],[0.5555555555555556,\"#d8576b\"],[0.6666666666666666,\"#ed7953\"],[0.7777777777777778,\"#fb9f3a\"],[0.8888888888888888,\"#fdca26\"],[1.0,\"#f0f921\"]]}],\"choropleth\":[{\"type\":\"choropleth\",\"colorbar\":{\"outlinewidth\":0,\"ticks\":\"\"}}],\"histogram2d\":[{\"type\":\"histogram2d\",\"colorbar\":{\"outlinewidth\":0,\"ticks\":\"\"},\"colorscale\":[[0.0,\"#0d0887\"],[0.1111111111111111,\"#46039f\"],[0.2222222222222222,\"#7201a8\"],[0.3333333333333333,\"#9c179e\"],[0.4444444444444444,\"#bd3786\"],[0.5555555555555556,\"#d8576b\"],[0.6666666666666666,\"#ed7953\"],[0.7777777777777778,\"#fb9f3a\"],[0.8888888888888888,\"#fdca26\"],[1.0,\"#f0f921\"]]}],\"heatmap\":[{\"type\":\"heatmap\",\"colorbar\":{\"outlinewidth\":0,\"ticks\":\"\"},\"colorscale\":[[0.0,\"#0d0887\"],[0.1111111111111111,\"#46039f\"],[0.2222222222222222,\"#7201a8\"],[0.3333333333333333,\"#9c179e\"],[0.4444444444444444,\"#bd3786\"],[0.5555555555555556,\"#d8576b\"],[0.6666666666666666,\"#ed7953\"],[0.7777777777777778,\"#fb9f3a\"],[0.8888888888888888,\"#fdca26\"],[1.0,\"#f0f921\"]]}],\"heatmapgl\":[{\"type\":\"heatmapgl\",\"colorbar\":{\"outlinewidth\":0,\"ticks\":\"\"},\"colorscale\":[[0.0,\"#0d0887\"],[0.1111111111111111,\"#46039f\"],[0.2222222222222222,\"#7201a8\"],[0.3333333333333333,\"#9c179e\"],[0.4444444444444444,\"#bd3786\"],[0.5555555555555556,\"#d8576b\"],[0.6666666666666666,\"#ed7953\"],[0.7777777777777778,\"#fb9f3a\"],[0.8888888888888888,\"#fdca26\"],[1.0,\"#f0f921\"]]}],\"contourcarpet\":[{\"type\":\"contourcarpet\",\"colorbar\":{\"outlinewidth\":0,\"ticks\":\"\"}}],\"contour\":[{\"type\":\"contour\",\"colorbar\":{\"outlinewidth\":0,\"ticks\":\"\"},\"colorscale\":[[0.0,\"#0d0887\"],[0.1111111111111111,\"#46039f\"],[0.2222222222222222,\"#7201a8\"],[0.3333333333333333,\"#9c179e\"],[0.4444444444444444,\"#bd3786\"],[0.5555555555555556,\"#d8576b\"],[0.6666666666666666,\"#ed7953\"],[0.7777777777777778,\"#fb9f3a\"],[0.8888888888888888,\"#fdca26\"],[1.0,\"#f0f921\"]]}],\"surface\":[{\"type\":\"surface\",\"colorbar\":{\"outlinewidth\":0,\"ticks\":\"\"},\"colorscale\":[[0.0,\"#0d0887\"],[0.1111111111111111,\"#46039f\"],[0.2222222222222222,\"#7201a8\"],[0.3333333333333333,\"#9c179e\"],[0.4444444444444444,\"#bd3786\"],[0.5555555555555556,\"#d8576b\"],[0.6666666666666666,\"#ed7953\"],[0.7777777777777778,\"#fb9f3a\"],[0.8888888888888888,\"#fdca26\"],[1.0,\"#f0f921\"]]}],\"mesh3d\":[{\"type\":\"mesh3d\",\"colorbar\":{\"outlinewidth\":0,\"ticks\":\"\"}}],\"scatter\":[{\"fillpattern\":{\"fillmode\":\"overlay\",\"size\":10,\"solidity\":0.2},\"type\":\"scatter\"}],\"parcoords\":[{\"type\":\"parcoords\",\"line\":{\"colorbar\":{\"outlinewidth\":0,\"ticks\":\"\"}}}],\"scatterpolargl\":[{\"type\":\"scatterpolargl\",\"marker\":{\"colorbar\":{\"outlinewidth\":0,\"ticks\":\"\"}}}],\"bar\":[{\"error_x\":{\"color\":\"#2a3f5f\"},\"error_y\":{\"color\":\"#2a3f5f\"},\"marker\":{\"line\":{\"color\":\"#E5ECF6\",\"width\":0.5},\"pattern\":{\"fillmode\":\"overlay\",\"size\":10,\"solidity\":0.2}},\"type\":\"bar\"}],\"scattergeo\":[{\"type\":\"scattergeo\",\"marker\":{\"colorbar\":{\"outlinewidth\":0,\"ticks\":\"\"}}}],\"scatterpolar\":[{\"type\":\"scatterpolar\",\"marker\":{\"colorbar\":{\"outlinewidth\":0,\"ticks\":\"\"}}}],\"histogram\":[{\"marker\":{\"pattern\":{\"fillmode\":\"overlay\",\"size\":10,\"solidity\":0.2}},\"type\":\"histogram\"}],\"scattergl\":[{\"type\":\"scattergl\",\"marker\":{\"colorbar\":{\"outlinewidth\":0,\"ticks\":\"\"}}}],\"scatter3d\":[{\"type\":\"scatter3d\",\"line\":{\"colorbar\":{\"outlinewidth\":0,\"ticks\":\"\"}},\"marker\":{\"colorbar\":{\"outlinewidth\":0,\"ticks\":\"\"}}}],\"scattermapbox\":[{\"type\":\"scattermapbox\",\"marker\":{\"colorbar\":{\"outlinewidth\":0,\"ticks\":\"\"}}}],\"scatterternary\":[{\"type\":\"scatterternary\",\"marker\":{\"colorbar\":{\"outlinewidth\":0,\"ticks\":\"\"}}}],\"scattercarpet\":[{\"type\":\"scattercarpet\",\"marker\":{\"colorbar\":{\"outlinewidth\":0,\"ticks\":\"\"}}}],\"carpet\":[{\"aaxis\":{\"endlinecolor\":\"#2a3f5f\",\"gridcolor\":\"white\",\"linecolor\":\"white\",\"minorgridcolor\":\"white\",\"startlinecolor\":\"#2a3f5f\"},\"baxis\":{\"endlinecolor\":\"#2a3f5f\",\"gridcolor\":\"white\",\"linecolor\":\"white\",\"minorgridcolor\":\"white\",\"startlinecolor\":\"#2a3f5f\"},\"type\":\"carpet\"}],\"table\":[{\"cells\":{\"fill\":{\"color\":\"#EBF0F8\"},\"line\":{\"color\":\"white\"}},\"header\":{\"fill\":{\"color\":\"#C8D4E3\"},\"line\":{\"color\":\"white\"}},\"type\":\"table\"}],\"barpolar\":[{\"marker\":{\"line\":{\"color\":\"#E5ECF6\",\"width\":0.5},\"pattern\":{\"fillmode\":\"overlay\",\"size\":10,\"solidity\":0.2}},\"type\":\"barpolar\"}],\"pie\":[{\"automargin\":true,\"type\":\"pie\"}]},\"layout\":{\"autotypenumbers\":\"strict\",\"colorway\":[\"#636efa\",\"#EF553B\",\"#00cc96\",\"#ab63fa\",\"#FFA15A\",\"#19d3f3\",\"#FF6692\",\"#B6E880\",\"#FF97FF\",\"#FECB52\"],\"font\":{\"color\":\"#2a3f5f\"},\"hovermode\":\"closest\",\"hoverlabel\":{\"align\":\"left\"},\"paper_bgcolor\":\"white\",\"plot_bgcolor\":\"#E5ECF6\",\"polar\":{\"bgcolor\":\"#E5ECF6\",\"angularaxis\":{\"gridcolor\":\"white\",\"linecolor\":\"white\",\"ticks\":\"\"},\"radialaxis\":{\"gridcolor\":\"white\",\"linecolor\":\"white\",\"ticks\":\"\"}},\"ternary\":{\"bgcolor\":\"#E5ECF6\",\"aaxis\":{\"gridcolor\":\"white\",\"linecolor\":\"white\",\"ticks\":\"\"},\"baxis\":{\"gridcolor\":\"white\",\"linecolor\":\"white\",\"ticks\":\"\"},\"caxis\":{\"gridcolor\":\"white\",\"linecolor\":\"white\",\"ticks\":\"\"}},\"coloraxis\":{\"colorbar\":{\"outlinewidth\":0,\"ticks\":\"\"}},\"colorscale\":{\"sequential\":[[0.0,\"#0d0887\"],[0.1111111111111111,\"#46039f\"],[0.2222222222222222,\"#7201a8\"],[0.3333333333333333,\"#9c179e\"],[0.4444444444444444,\"#bd3786\"],[0.5555555555555556,\"#d8576b\"],[0.6666666666666666,\"#ed7953\"],[0.7777777777777778,\"#fb9f3a\"],[0.8888888888888888,\"#fdca26\"],[1.0,\"#f0f921\"]],\"sequentialminus\":[[0.0,\"#0d0887\"],[0.1111111111111111,\"#46039f\"],[0.2222222222222222,\"#7201a8\"],[0.3333333333333333,\"#9c179e\"],[0.4444444444444444,\"#bd3786\"],[0.5555555555555556,\"#d8576b\"],[0.6666666666666666,\"#ed7953\"],[0.7777777777777778,\"#fb9f3a\"],[0.8888888888888888,\"#fdca26\"],[1.0,\"#f0f921\"]],\"diverging\":[[0,\"#8e0152\"],[0.1,\"#c51b7d\"],[0.2,\"#de77ae\"],[0.3,\"#f1b6da\"],[0.4,\"#fde0ef\"],[0.5,\"#f7f7f7\"],[0.6,\"#e6f5d0\"],[0.7,\"#b8e186\"],[0.8,\"#7fbc41\"],[0.9,\"#4d9221\"],[1,\"#276419\"]]},\"xaxis\":{\"gridcolor\":\"white\",\"linecolor\":\"white\",\"ticks\":\"\",\"title\":{\"standoff\":15},\"zerolinecolor\":\"white\",\"automargin\":true,\"zerolinewidth\":2},\"yaxis\":{\"gridcolor\":\"white\",\"linecolor\":\"white\",\"ticks\":\"\",\"title\":{\"standoff\":15},\"zerolinecolor\":\"white\",\"automargin\":true,\"zerolinewidth\":2},\"scene\":{\"xaxis\":{\"backgroundcolor\":\"#E5ECF6\",\"gridcolor\":\"white\",\"linecolor\":\"white\",\"showbackground\":true,\"ticks\":\"\",\"zerolinecolor\":\"white\",\"gridwidth\":2},\"yaxis\":{\"backgroundcolor\":\"#E5ECF6\",\"gridcolor\":\"white\",\"linecolor\":\"white\",\"showbackground\":true,\"ticks\":\"\",\"zerolinecolor\":\"white\",\"gridwidth\":2},\"zaxis\":{\"backgroundcolor\":\"#E5ECF6\",\"gridcolor\":\"white\",\"linecolor\":\"white\",\"showbackground\":true,\"ticks\":\"\",\"zerolinecolor\":\"white\",\"gridwidth\":2}},\"shapedefaults\":{\"line\":{\"color\":\"#2a3f5f\"}},\"annotationdefaults\":{\"arrowcolor\":\"#2a3f5f\",\"arrowhead\":0,\"arrowwidth\":1},\"geo\":{\"bgcolor\":\"white\",\"landcolor\":\"#E5ECF6\",\"subunitcolor\":\"white\",\"showland\":true,\"showlakes\":true,\"lakecolor\":\"white\"},\"title\":{\"x\":0.05},\"mapbox\":{\"style\":\"light\"}}}},                        {\"responsive\": true}                    ).then(function(){\n",
       "                            \n",
       "var gd = document.getElementById('9e9fd367-c436-4a2f-8f6d-50712b2a187f');\n",
       "var x = new MutationObserver(function (mutations, observer) {{\n",
       "        var display = window.getComputedStyle(gd).display;\n",
       "        if (!display || display === 'none') {{\n",
       "            console.log([gd, 'removed!']);\n",
       "            Plotly.purge(gd);\n",
       "            observer.disconnect();\n",
       "        }}\n",
       "}});\n",
       "\n",
       "// Listen for the removal of the full notebook cells\n",
       "var notebookContainer = gd.closest('#notebook-container');\n",
       "if (notebookContainer) {{\n",
       "    x.observe(notebookContainer, {childList: true});\n",
       "}}\n",
       "\n",
       "// Listen for the clearing of the current output cell\n",
       "var outputEl = gd.closest('.output');\n",
       "if (outputEl) {{\n",
       "    x.observe(outputEl, {childList: true});\n",
       "}}\n",
       "\n",
       "                        })                };                });            </script>        </div>"
      ]
     },
     "metadata": {},
     "output_type": "display_data"
    }
   ],
   "source": [
    "# colorcale choice https://plotly.com/python/builtin-colorscales/\n",
    "\n",
    "fig = go.Figure(data=go.Choropleth(\n",
    "    locations = gdf['Code'],\n",
    "    z = gdf['N'],\n",
    "    text = gdf['Economy'],\n",
    "    colorscale = 'Viridis',\n",
    "    autocolorscale=False,\n",
    "    reversescale=True,\n",
    "    marker_line_color='darkgray',\n",
    "    marker_line_width=0.5,\n",
    "    colorbar_title = 'Number of times country appears in a paper',\n",
    "))\n",
    "\n",
    "fig.show()"
   ]
  }
 ],
 "metadata": {
  "kernelspec": {
   "display_name": "Python 3 (ipykernel)",
   "language": "python",
   "name": "python3"
  },
  "language_info": {
   "codemirror_mode": {
    "name": "ipython",
    "version": 3
   },
   "file_extension": ".py",
   "mimetype": "text/x-python",
   "name": "python",
   "nbconvert_exporter": "python",
   "pygments_lexer": "ipython3",
   "version": "3.10.12"
  }
 },
 "nbformat": 4,
 "nbformat_minor": 5
}
