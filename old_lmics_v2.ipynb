{
 "cells": [
  {
   "cell_type": "code",
   "execution_count": 1,
   "id": "ec36c561",
   "metadata": {},
   "outputs": [],
   "source": [
    "import Bio\n",
    "from Bio import Entrez\n",
    "Entrez.email = \"carl.reynolds@imperial.ac.uk\"\n",
    "from Bio import Medline\n",
    "from tqdm import tqdm\n",
    "import pandas as pd\n",
    "import sqlite3\n",
    "import pandas as pd\n",
    "import geopandas as gpd\n",
    "from shapely.geometry import Point\n",
    "import xlrd\n",
    "import plotly.graph_objects as go\n",
    "import time\n",
    "from retrying import retry\n",
    "%matplotlib inline"
   ]
  },
  {
   "cell_type": "code",
   "execution_count": 2,
   "id": "fcecd0ca",
   "metadata": {},
   "outputs": [
    {
     "data": {
      "text/plain": [
       "'\\n# deprecated geocoding experiments, if did pursue this would start with named entity recognition\\n# we wanna know which author affiliations are LMIC countries\\n# initial tack, let\\'s geocode then use country boundaries.... \\n\\n# Import the geocoding tool\\nfrom geopandas.tools import geocode\\n\\n# Geocode addresses using Nominatim. Remember to provide a custom \"application name\" in the user_agent parameter!\\ngeo = geocode(df[\\'author_affiliation\\'][0][-10:], provider=\\'nominatim\\', user_agent=\\'drcjar_geotimes\\', timeout=4)\\n\\ngeocode(\"Imperial College London\", provider=\\'nominatim\\', user_agent=\\'drcjar_geotimes\\', timeout=4).values\\n\\ngeocode(\"From the American College of Occupational and Environmental Medicine, ElkGrove, Illinois.\", provider=\\'nominatim\\', user_agent=\\'drcjar_geotimes\\', timeout=4)\\n\\n# our datas author_affiliation field is not readily geocoded\\n# it gets pretty hacky fast e.g https://pypi.org/project/pubmed-author-affiliation/ chopping strings based on \\n# prescence of \\'university\\' or \\'institution\\' to make geocodeable\\n# more sensible approach is to search for LMIC names in strings\\n'"
      ]
     },
     "execution_count": 2,
     "metadata": {},
     "output_type": "execute_result"
    }
   ],
   "source": [
    "def get_count(term):\n",
    "    \"\"\"\n",
    "    Use pubmed API to get a count of number of results for a search term\n",
    "    \"\"\"\n",
    "    count_handle = Entrez.esearch(db=\"pubmed\",\n",
    "                                  sort=\"relevance\",\n",
    "                                  retmode=\"xml\",\n",
    "                                  retmax=0,  # Request only the count\n",
    "                                  term=term)\n",
    "    count_results = Entrez.read(count_handle)\n",
    "    count = int(count_results[\"Count\"])\n",
    "    \n",
    "    return count\n",
    "\n",
    "\n",
    "def chunked_pmids(term, chunksize):\n",
    "    \"\"\"\n",
    "    Use pubmed API to fetch blocks of PMIDs for a search term\n",
    "    \"\"\"\n",
    "    \n",
    "    count = get_count(term)\n",
    "    \n",
    "    retmax_requests = list(range(0, count, chunksize))\n",
    "                \n",
    "    pmids = []\n",
    "    \n",
    "    print(f\"{len(retmax_requests)} blocks to process, total papers count: {count}\")\n",
    "    \n",
    "    for i, retmax in enumerate(retmax_requests):\n",
    "        \n",
    "        print(f\"Processing block {i + 1}/{len(retmax_requests)}\")\n",
    "        \n",
    "        try: \n",
    "            pmid_handle = Entrez.esearch(db=\"pubmed\",\n",
    "                                         sort=\"relevance\",\n",
    "                                         retmode=\"xml\",\n",
    "                                         usehistory='y',\n",
    "                                         retstart=retmax,\n",
    "                                         retmax=chunksize,\n",
    "                                         term=term)\n",
    "            result = Entrez.read(pmid_handle)\n",
    "            id_list = result[\"IdList\"]\n",
    "            \n",
    "            # Check if the IdList is empty\n",
    "            if not id_list:\n",
    "                print(f\"No PMIDs found for block {i + 1}\")\n",
    "                continue\n",
    "            \n",
    "            pmids.append(id_list)\n",
    "        \n",
    "        except Exception as e:\n",
    "            print(f\"Error fetching block {i}: {e}\")\n",
    "            continue\n",
    "            \n",
    "        # Add a delay to respect API rate limits\n",
    "        time.sleep(5)  # Adjust the delay as needed based on API limits\n",
    "            \n",
    "    return pmids\n",
    "\n",
    "def fetch_medline(pmids):\n",
    "    \"\"\"\n",
    "    Use pubmed api to fetch medline record for pmids\n",
    "    \"\"\"\n",
    "    handle = Entrez.efetch(db='pubmed',\n",
    "                           id=pmids,\n",
    "                           rettype='medline',\n",
    "                           retmode='text')\n",
    "    records = Medline.parse(handle)\n",
    "    \n",
    "    return records\n",
    "    \n",
    "\n",
    "def save_new_papers(papers):\n",
    "    \"\"\"\n",
    "    Save only new papers (that are not already in the database) to the SQLite database.\n",
    "    \"\"\"\n",
    "    conn = sqlite3.connect('papers.db')\n",
    "    c = conn.cursor()\n",
    "\n",
    "    # Create table if it doesn't already exist\n",
    "    c.execute('''CREATE TABLE IF NOT EXISTS papers\n",
    "                 (pmid TEXT PRIMARY KEY, author TEXT, author_affiliation TEXT, date TEXT, \n",
    "                 title TEXT, journal TEXT, pub_type TEXT)''')\n",
    "\n",
    "    # Fetch existing PMIDs from the database\n",
    "    existing_pmids = set(row[0] for row in c.execute('SELECT pmid FROM papers').fetchall())\n",
    "\n",
    "    new_papers = []\n",
    "    for paper in papers:\n",
    "        pmid = paper[0]\n",
    "        if pmid not in existing_pmids:\n",
    "            new_papers.append(paper)\n",
    "\n",
    "    # Insert new papers into the database\n",
    "    if new_papers:\n",
    "        c.executemany('INSERT INTO papers VALUES (?,?,?,?,?,?,?)', new_papers)\n",
    "        conn.commit()\n",
    "        print(f\"{len(new_papers)} new papers added to the database.\")\n",
    "    else:\n",
    "        print(\"No new papers to add.\")\n",
    "\n",
    "    conn.close()\n",
    "\n",
    "def getpapers(pmid_chunks, max_retries=10):\n",
    "    \"\"\"\n",
    "    Fetch medline records for PMIDs with a retry mechanism if an error occurs.\n",
    "    Append newly found complete papers to the database.\n",
    "    \"\"\"\n",
    "    papers = []\n",
    "    notpapers = []\n",
    "\n",
    "    print(\"Fetching MEDLINE records:\")\n",
    "\n",
    "    total_fetched = 0  # To track total number of papers processed\n",
    "\n",
    "    for i, chunk in enumerate(tqdm(pmid_chunks)):\n",
    "        retries = 0\n",
    "        success = False\n",
    "\n",
    "        while retries < max_retries and not success:\n",
    "            try:\n",
    "                print(f\"Fetching chunk {i + 1}/{len(pmid_chunks)} (attempt {retries + 1})\")\n",
    "                records = fetch_medline(chunk)\n",
    "                records_list = list(records)  # Convert generator to list to count easily\n",
    "                chunk_size = len(records_list)\n",
    "                print(f\"Fetched {chunk_size} records for chunk {i + 1}/{len(pmid_chunks)}\")\n",
    "\n",
    "                total_fetched += chunk_size\n",
    "\n",
    "                for record in records_list:\n",
    "                    try:\n",
    "                        paper = (\n",
    "                            record['PMID'], \n",
    "                            ', '.join(record.get('AU', ['Unknown'])), \n",
    "                            ', '.join(record.get('AD', ['Unknown'])),\n",
    "                            record.get('DP', 'Unknown'), \n",
    "                            record.get('TI', 'Unknown'), \n",
    "                            record.get('JT', 'Unknown'), \n",
    "                            ', '.join(record.get('PT', ['Unknown']))\n",
    "                        )\n",
    "                        # Check if paper has missing fields\n",
    "                        if 'Unknown' not in paper:\n",
    "                            papers.append(paper)  # Add to the list of complete papers\n",
    "                        else:\n",
    "                            notpapers.append(record)  # Incomplete record\n",
    "                    except KeyError as e:\n",
    "                        print(f\"Missing field {e} in record with PMID {record.get('PMID', 'N/A')}\")\n",
    "                        notpapers.append(record)\n",
    "                        continue\n",
    "\n",
    "                success = True\n",
    "\n",
    "            except Exception as e:\n",
    "                retries += 1\n",
    "                print(f\"Error fetching chunk {i + 1}: {e}. Retrying {retries}/{max_retries}...\")\n",
    "                time.sleep(2)  # Wait for 2 seconds before retrying\n",
    "\n",
    "        if not success:\n",
    "            print(f\"Failed to fetch chunk {i + 1} after {max_retries} attempts. Skipping...\")\n",
    "\n",
    "    print(f\"Total fetched records: {total_fetched}\")\n",
    "    print(f\"Total complete papers: {len(papers)}\")\n",
    "    print(f\"Total papers with missing fields: {len(notpapers)}\")\n",
    "\n",
    "    # Save only new, complete papers to the database\n",
    "    save_new_papers(papers)\n",
    "\n",
    "    return papers, notpapers\n",
    "\n",
    "    \n",
    "\n",
    "def save_papers(papers):\n",
    "    \"\"\"\n",
    "    Save our papers to an sqlite database\n",
    "    \"\"\"\n",
    "    conn = sqlite3.connect('papers.db')\n",
    "    c = conn.cursor()\n",
    "    \n",
    "    # Drop table if already exists\n",
    "    c.execute(\"DROP TABLE IF EXISTS papers\")\n",
    "    \n",
    "    # Create table\n",
    "    c.execute('''CREATE TABLE papers\n",
    "             (pmid, author, author_affiliation, date, title, journal, pub_type)''')\n",
    "\n",
    "    # Insert a rows of data\n",
    "    c.executemany('INSERT INTO papers VALUES (?,?,?,?,?,?,?)', papers)\n",
    "\n",
    "    # Save (commit) the changes\n",
    "    conn.commit()\n",
    "\n",
    "    # We can also close the connection if we are done with it.\n",
    "    # Just be sure any changes have been committed or they will be lost.\n",
    "    conn.close()\n",
    "    \n",
    "def df_from_papers_database():\n",
    "    \"\"\"\n",
    "    Load our papers\n",
    "    \"\"\"\n",
    "    conn = sqlite3.connect('papers.db')\n",
    "    df = pd.read_sql_query('SELECT * FROM papers', conn)\n",
    "    conn.close()  # Close the connection\n",
    "    return df\n",
    "\n",
    "def fetch_papers(term):\n",
    "    \"\"\"\n",
    "    Fetch our papers\n",
    "    \"\"\"\n",
    "    print(\"{} records to fetch\".format(get_count(term)))\n",
    "    pmid_chunks = chunked_pmids(term, 500)\n",
    "    papers, notpapers = getpapers(pmid_chunks)\n",
    "    \n",
    "    return papers, notpapers\n",
    "\n",
    "def results(df):\n",
    "    \"\"\"\n",
    "    Make some results\n",
    "    \"\"\"\n",
    "    print(df['journal'].unique())\n",
    "    print('\\n')\n",
    "    \n",
    "    print(df['author_affiliation'].str.contains('|'.join(list_of_lmics)).value_counts())\n",
    "    print('contains lmic\\n')\n",
    "\n",
    "    print(df['author_affiliation'].str.contains('|'.join(list_of_lmics)).value_counts(normalize=True))\n",
    "    print('contains lmic\\n')\n",
    "\n",
    "\"\"\"\n",
    "# deprecated geocoding experiments, if did pursue this would start with named entity recognition\n",
    "# we wanna know which author affiliations are LMIC countries\n",
    "# initial tack, let's geocode then use country boundaries.... \n",
    "\n",
    "# Import the geocoding tool\n",
    "from geopandas.tools import geocode\n",
    "\n",
    "# Geocode addresses using Nominatim. Remember to provide a custom \"application name\" in the user_agent parameter!\n",
    "geo = geocode(df['author_affiliation'][0][-10:], provider='nominatim', user_agent='drcjar_geotimes', timeout=4)\n",
    "\n",
    "geocode(\"Imperial College London\", provider='nominatim', user_agent='drcjar_geotimes', timeout=4).values\n",
    "\n",
    "geocode(\"From the American College of Occupational and Environmental Medicine, ElkGrove, Illinois.\", provider='nominatim', user_agent='drcjar_geotimes', timeout=4)\n",
    "\n",
    "# our datas author_affiliation field is not readily geocoded\n",
    "# it gets pretty hacky fast e.g https://pypi.org/project/pubmed-author-affiliation/ chopping strings based on \n",
    "# prescence of 'university' or 'institution' to make geocodeable\n",
    "# more sensible approach is to search for LMIC names in strings\n",
    "\"\"\""
   ]
  },
  {
   "cell_type": "code",
   "execution_count": 3,
   "id": "b7d8171e",
   "metadata": {},
   "outputs": [
    {
     "name": "stdout",
     "output_type": "stream",
     "text": [
      "['journal of occupational and environmental medicine [Journal]', 'occupational medicine [Journal]', 'the american journal of industrial medicine [journal]', 'occupational environmental medicine [journal]']\n",
      "\n",
      "\n"
     ]
    },
    {
     "data": {
      "text/plain": [
       "'\\nfor journal in target_journals:\\n    print(\"fetching {}\\n\".format(journal))\\n    papers[journal], notpapers[journal] = fetch_papers(journal)\\n'"
      ]
     },
     "execution_count": 3,
     "metadata": {},
     "output_type": "execute_result"
    }
   ],
   "source": [
    "# make a dict of journal papers retrieved using our pubmed paper fetching function and save them\n",
    "# we currently save them to a sqllite database which is overkill for small number of results; could use \n",
    "# .csv instead but might be helpful for scaling or web apps\n",
    "# uncommment to run; commented out so we don't download afresh each run\n",
    "\n",
    "# target occ lung dis journals\n",
    "\n",
    "\n",
    "target_journals = [\"journal of occupational and environmental medicine [Journal]\", \n",
    "                   \"occupational medicine [Journal]\",\n",
    "                   \"the american journal of industrial medicine [journal]\",\n",
    "                   \"occupational environmental medicine [journal]\"]\n",
    "print(target_journals)\n",
    "print(\"\\n\")\n",
    "\n",
    "\n",
    "papers = {}\n",
    "notpapers = {}\n",
    "\n",
    "\"\"\"\n",
    "for journal in target_journals:\n",
    "    print(\"fetching {}\\n\".format(journal))\n",
    "    papers[journal], notpapers[journal] = fetch_papers(journal)\n",
    "\"\"\""
   ]
  },
  {
   "cell_type": "code",
   "execution_count": 4,
   "id": "986a649d",
   "metadata": {},
   "outputs": [
    {
     "name": "stdout",
     "output_type": "stream",
     "text": [
      "6352 records to fetch\n",
      "13 blocks to process, total papers count: 6352\n",
      "Processing block 1/13\n",
      "Processing block 2/13\n",
      "Processing block 3/13\n",
      "Processing block 4/13\n",
      "Processing block 5/13\n",
      "Processing block 6/13\n",
      "Processing block 7/13\n",
      "Processing block 8/13\n",
      "Processing block 9/13\n",
      "Processing block 10/13\n",
      "Processing block 11/13\n",
      "Processing block 12/13\n",
      "Processing block 13/13\n",
      "Fetching MEDLINE records:\n"
     ]
    },
    {
     "name": "stderr",
     "output_type": "stream",
     "text": [
      "\r",
      "  0%|                                                                                                                                                                               | 0/13 [00:00<?, ?it/s]"
     ]
    },
    {
     "name": "stdout",
     "output_type": "stream",
     "text": [
      "Fetching chunk 1/13 (attempt 1)\n"
     ]
    },
    {
     "name": "stderr",
     "output_type": "stream",
     "text": [
      "\r",
      "  8%|████████████▊                                                                                                                                                          | 1/13 [00:02<00:33,  2.78s/it]"
     ]
    },
    {
     "name": "stdout",
     "output_type": "stream",
     "text": [
      "Fetched 500 records for chunk 1/13\n",
      "Fetching chunk 2/13 (attempt 1)\n"
     ]
    },
    {
     "name": "stderr",
     "output_type": "stream",
     "text": [
      "\r",
      " 15%|█████████████████████████▋                                                                                                                                             | 2/13 [00:05<00:29,  2.66s/it]"
     ]
    },
    {
     "name": "stdout",
     "output_type": "stream",
     "text": [
      "Fetched 500 records for chunk 2/13\n",
      "Fetching chunk 3/13 (attempt 1)\n"
     ]
    },
    {
     "name": "stderr",
     "output_type": "stream",
     "text": [
      "\r",
      " 23%|██████████████████████████████████████▌                                                                                                                                | 3/13 [00:08<00:26,  2.67s/it]"
     ]
    },
    {
     "name": "stdout",
     "output_type": "stream",
     "text": [
      "Fetched 500 records for chunk 3/13\n",
      "Fetching chunk 4/13 (attempt 1)\n"
     ]
    },
    {
     "name": "stderr",
     "output_type": "stream",
     "text": [
      "\r",
      " 31%|███████████████████████████████████████████████████▍                                                                                                                   | 4/13 [00:10<00:23,  2.59s/it]"
     ]
    },
    {
     "name": "stdout",
     "output_type": "stream",
     "text": [
      "Fetched 500 records for chunk 4/13\n",
      "Fetching chunk 5/13 (attempt 1)\n"
     ]
    },
    {
     "name": "stderr",
     "output_type": "stream",
     "text": [
      "\r",
      " 38%|████████████████████████████████████████████████████████████████▏                                                                                                      | 5/13 [00:13<00:21,  2.72s/it]"
     ]
    },
    {
     "name": "stdout",
     "output_type": "stream",
     "text": [
      "Fetched 500 records for chunk 5/13\n",
      "Fetching chunk 6/13 (attempt 1)\n"
     ]
    },
    {
     "name": "stderr",
     "output_type": "stream",
     "text": [
      "\r",
      " 46%|█████████████████████████████████████████████████████████████████████████████                                                                                          | 6/13 [00:15<00:18,  2.61s/it]"
     ]
    },
    {
     "name": "stdout",
     "output_type": "stream",
     "text": [
      "Fetched 500 records for chunk 6/13\n",
      "Fetching chunk 7/13 (attempt 1)\n"
     ]
    },
    {
     "name": "stderr",
     "output_type": "stream",
     "text": [
      "\r",
      " 54%|█████████████████████████████████████████████████████████████████████████████████████████▉                                                                             | 7/13 [00:18<00:14,  2.48s/it]"
     ]
    },
    {
     "name": "stdout",
     "output_type": "stream",
     "text": [
      "Fetched 500 records for chunk 7/13\n",
      "Fetching chunk 8/13 (attempt 1)\n"
     ]
    },
    {
     "name": "stderr",
     "output_type": "stream",
     "text": [
      "\r",
      " 62%|██████████████████████████████████████████████████████████████████████████████████████████████████████▊                                                                | 8/13 [00:20<00:11,  2.38s/it]"
     ]
    },
    {
     "name": "stdout",
     "output_type": "stream",
     "text": [
      "Fetched 500 records for chunk 8/13\n",
      "Fetching chunk 9/13 (attempt 1)\n"
     ]
    },
    {
     "name": "stderr",
     "output_type": "stream",
     "text": [
      "\r",
      " 69%|███████████████████████████████████████████████████████████████████████████████████████████████████████████████████▌                                                   | 9/13 [00:22<00:09,  2.47s/it]"
     ]
    },
    {
     "name": "stdout",
     "output_type": "stream",
     "text": [
      "Fetched 500 records for chunk 9/13\n",
      "Fetching chunk 10/13 (attempt 1)\n"
     ]
    },
    {
     "name": "stderr",
     "output_type": "stream",
     "text": [
      "\r",
      " 77%|███████████████████████████████████████████████████████████████████████████████████████████████████████████████████████████████▋                                      | 10/13 [00:25<00:07,  2.52s/it]"
     ]
    },
    {
     "name": "stdout",
     "output_type": "stream",
     "text": [
      "Fetched 500 records for chunk 10/13\n",
      "Fetching chunk 11/13 (attempt 1)\n"
     ]
    },
    {
     "name": "stderr",
     "output_type": "stream",
     "text": [
      "\r",
      " 85%|████████████████████████████████████████████████████████████████████████████████████████████████████████████████████████████████████████████▍                         | 11/13 [00:27<00:04,  2.48s/it]"
     ]
    },
    {
     "name": "stdout",
     "output_type": "stream",
     "text": [
      "Fetched 500 records for chunk 11/13\n",
      "Fetching chunk 12/13 (attempt 1)\n"
     ]
    },
    {
     "name": "stderr",
     "output_type": "stream",
     "text": [
      "\r",
      " 92%|█████████████████████████████████████████████████████████████████████████████████████████████████████████████████████████████████████████████████████████▏            | 12/13 [00:30<00:02,  2.43s/it]"
     ]
    },
    {
     "name": "stdout",
     "output_type": "stream",
     "text": [
      "Fetched 500 records for chunk 12/13\n",
      "Fetching chunk 13/13 (attempt 1)\n"
     ]
    },
    {
     "name": "stderr",
     "output_type": "stream",
     "text": [
      "100%|██████████████████████████████████████████████████████████████████████████████████████████████████████████████████████████████████████████████████████████████████████| 13/13 [00:32<00:00,  2.47s/it]"
     ]
    },
    {
     "name": "stdout",
     "output_type": "stream",
     "text": [
      "Fetched 352 records for chunk 13/13\n",
      "Total fetched records: 6352\n",
      "Total complete papers: 5792\n",
      "Total papers with missing fields: 560\n",
      "297 new papers added to the database.\n"
     ]
    },
    {
     "name": "stderr",
     "output_type": "stream",
     "text": [
      "\n"
     ]
    }
   ],
   "source": [
    "journal = \"journal of occupational and environmental medicine [Journal]\"\n",
    "papers[journal], notpapers[journal] = fetch_papers(journal)"
   ]
  },
  {
   "cell_type": "code",
   "execution_count": 5,
   "id": "ceca7f4f",
   "metadata": {},
   "outputs": [
    {
     "name": "stdout",
     "output_type": "stream",
     "text": [
      "4922 records to fetch\n",
      "10 blocks to process, total papers count: 4922\n",
      "Processing block 1/10\n",
      "Processing block 2/10\n",
      "Processing block 3/10\n",
      "Processing block 4/10\n",
      "Processing block 5/10\n",
      "Processing block 6/10\n",
      "Processing block 7/10\n",
      "Processing block 8/10\n",
      "Processing block 9/10\n",
      "Processing block 10/10\n",
      "Fetching MEDLINE records:\n"
     ]
    },
    {
     "name": "stderr",
     "output_type": "stream",
     "text": [
      "\r",
      "  0%|                                                                                                                                                                               | 0/10 [00:00<?, ?it/s]"
     ]
    },
    {
     "name": "stdout",
     "output_type": "stream",
     "text": [
      "Fetching chunk 1/10 (attempt 1)\n"
     ]
    },
    {
     "name": "stderr",
     "output_type": "stream",
     "text": [
      "\r",
      " 10%|████████████████▋                                                                                                                                                      | 1/10 [00:03<00:31,  3.47s/it]"
     ]
    },
    {
     "name": "stdout",
     "output_type": "stream",
     "text": [
      "Fetched 500 records for chunk 1/10\n",
      "Fetching chunk 2/10 (attempt 1)\n"
     ]
    },
    {
     "name": "stderr",
     "output_type": "stream",
     "text": [
      "\r",
      " 20%|█████████████████████████████████▍                                                                                                                                     | 2/10 [00:06<00:25,  3.18s/it]"
     ]
    },
    {
     "name": "stdout",
     "output_type": "stream",
     "text": [
      "Fetched 500 records for chunk 2/10\n",
      "Fetching chunk 3/10 (attempt 1)\n"
     ]
    },
    {
     "name": "stderr",
     "output_type": "stream",
     "text": [
      "\r",
      " 30%|██████████████████████████████████████████████████                                                                                                                     | 3/10 [00:08<00:18,  2.69s/it]"
     ]
    },
    {
     "name": "stdout",
     "output_type": "stream",
     "text": [
      "Fetched 500 records for chunk 3/10\n",
      "Fetching chunk 4/10 (attempt 1)\n"
     ]
    },
    {
     "name": "stderr",
     "output_type": "stream",
     "text": [
      "\r",
      " 40%|██████████████████████████████████████████████████████████████████▊                                                                                                    | 4/10 [00:10<00:14,  2.50s/it]"
     ]
    },
    {
     "name": "stdout",
     "output_type": "stream",
     "text": [
      "Fetched 500 records for chunk 4/10\n",
      "Fetching chunk 5/10 (attempt 1)\n"
     ]
    },
    {
     "name": "stderr",
     "output_type": "stream",
     "text": [
      "\r",
      " 50%|███████████████████████████████████████████████████████████████████████████████████▌                                                                                   | 5/10 [00:13<00:12,  2.52s/it]"
     ]
    },
    {
     "name": "stdout",
     "output_type": "stream",
     "text": [
      "Fetched 500 records for chunk 5/10\n",
      "Fetching chunk 6/10 (attempt 1)\n"
     ]
    },
    {
     "name": "stderr",
     "output_type": "stream",
     "text": [
      "\r",
      " 60%|████████████████████████████████████████████████████████████████████████████████████████████████████▏                                                                  | 6/10 [00:16<00:11,  2.78s/it]"
     ]
    },
    {
     "name": "stdout",
     "output_type": "stream",
     "text": [
      "Fetched 500 records for chunk 6/10\n",
      "Fetching chunk 7/10 (attempt 1)\n"
     ]
    },
    {
     "name": "stderr",
     "output_type": "stream",
     "text": [
      "\r",
      " 70%|████████████████████████████████████████████████████████████████████████████████████████████████████████████████████▉                                                  | 7/10 [00:19<00:07,  2.67s/it]"
     ]
    },
    {
     "name": "stdout",
     "output_type": "stream",
     "text": [
      "Fetched 500 records for chunk 7/10\n",
      "Fetching chunk 8/10 (attempt 1)\n"
     ]
    },
    {
     "name": "stderr",
     "output_type": "stream",
     "text": [
      "\r",
      " 80%|█████████████████████████████████████████████████████████████████████████████████████████████████████████████████████████████████████▌                                 | 8/10 [00:21<00:05,  2.73s/it]"
     ]
    },
    {
     "name": "stdout",
     "output_type": "stream",
     "text": [
      "Fetched 500 records for chunk 8/10\n",
      "Fetching chunk 9/10 (attempt 1)\n"
     ]
    },
    {
     "name": "stderr",
     "output_type": "stream",
     "text": [
      "\r",
      " 90%|██████████████████████████████████████████████████████████████████████████████████████████████████████████████████████████████████████████████████████▎                | 9/10 [00:24<00:02,  2.63s/it]"
     ]
    },
    {
     "name": "stdout",
     "output_type": "stream",
     "text": [
      "Fetched 500 records for chunk 9/10\n",
      "Fetching chunk 10/10 (attempt 1)\n"
     ]
    },
    {
     "name": "stderr",
     "output_type": "stream",
     "text": [
      "100%|██████████████████████████████████████████████████████████████████████████████████████████████████████████████████████████████████████████████████████████████████████| 10/10 [00:26<00:00,  2.61s/it]"
     ]
    },
    {
     "name": "stdout",
     "output_type": "stream",
     "text": [
      "Fetched 422 records for chunk 10/10\n",
      "Total fetched records: 4922\n",
      "Total complete papers: 3881\n",
      "Total papers with missing fields: 1041\n",
      "65 new papers added to the database.\n"
     ]
    },
    {
     "name": "stderr",
     "output_type": "stream",
     "text": [
      "\n"
     ]
    }
   ],
   "source": [
    "journal =  \"occupational medicine [Journal]\"\n",
    "papers[journal], notpapers[journal] = fetch_papers(journal)"
   ]
  },
  {
   "cell_type": "code",
   "execution_count": 6,
   "id": "3166f5d6",
   "metadata": {},
   "outputs": [
    {
     "name": "stdout",
     "output_type": "stream",
     "text": [
      "5949 records to fetch\n",
      "12 blocks to process, total papers count: 5949\n",
      "Processing block 1/12\n",
      "Processing block 2/12\n",
      "Processing block 3/12\n",
      "Processing block 4/12\n",
      "Processing block 5/12\n",
      "Processing block 6/12\n",
      "Processing block 7/12\n",
      "Processing block 8/12\n",
      "Processing block 9/12\n",
      "Processing block 10/12\n",
      "Processing block 11/12\n",
      "Processing block 12/12\n",
      "Fetching MEDLINE records:\n"
     ]
    },
    {
     "name": "stderr",
     "output_type": "stream",
     "text": [
      "\r",
      "  0%|                                                                                                                                                                               | 0/12 [00:00<?, ?it/s]"
     ]
    },
    {
     "name": "stdout",
     "output_type": "stream",
     "text": [
      "Fetching chunk 1/12 (attempt 1)\n"
     ]
    },
    {
     "name": "stderr",
     "output_type": "stream",
     "text": [
      "\r",
      "  8%|█████████████▉                                                                                                                                                         | 1/12 [00:02<00:27,  2.51s/it]"
     ]
    },
    {
     "name": "stdout",
     "output_type": "stream",
     "text": [
      "Fetched 500 records for chunk 1/12\n",
      "Fetching chunk 2/12 (attempt 1)\n"
     ]
    },
    {
     "name": "stderr",
     "output_type": "stream",
     "text": [
      "\r",
      " 17%|███████████████████████████▊                                                                                                                                           | 2/12 [00:05<00:25,  2.51s/it]"
     ]
    },
    {
     "name": "stdout",
     "output_type": "stream",
     "text": [
      "Fetched 500 records for chunk 2/12\n",
      "Fetching chunk 3/12 (attempt 1)\n"
     ]
    },
    {
     "name": "stderr",
     "output_type": "stream",
     "text": [
      "\r",
      " 25%|█████████████████████████████████████████▊                                                                                                                             | 3/12 [00:07<00:22,  2.49s/it]"
     ]
    },
    {
     "name": "stdout",
     "output_type": "stream",
     "text": [
      "Fetched 500 records for chunk 3/12\n",
      "Fetching chunk 4/12 (attempt 1)\n"
     ]
    },
    {
     "name": "stderr",
     "output_type": "stream",
     "text": [
      "\r",
      " 33%|███████████████████████████████████████████████████████▋                                                                                                               | 4/12 [00:09<00:19,  2.40s/it]"
     ]
    },
    {
     "name": "stdout",
     "output_type": "stream",
     "text": [
      "Fetched 500 records for chunk 4/12\n",
      "Fetching chunk 5/12 (attempt 1)\n"
     ]
    },
    {
     "name": "stderr",
     "output_type": "stream",
     "text": [
      "\r",
      " 42%|█████████████████████████████████████████████████████████████████████▌                                                                                                 | 5/12 [00:12<00:17,  2.45s/it]"
     ]
    },
    {
     "name": "stdout",
     "output_type": "stream",
     "text": [
      "Fetched 500 records for chunk 5/12\n",
      "Fetching chunk 6/12 (attempt 1)\n"
     ]
    },
    {
     "name": "stderr",
     "output_type": "stream",
     "text": [
      "\r",
      " 50%|███████████████████████████████████████████████████████████████████████████████████▌                                                                                   | 6/12 [00:14<00:14,  2.39s/it]"
     ]
    },
    {
     "name": "stdout",
     "output_type": "stream",
     "text": [
      "Fetched 500 records for chunk 6/12\n",
      "Fetching chunk 7/12 (attempt 1)\n"
     ]
    },
    {
     "name": "stderr",
     "output_type": "stream",
     "text": [
      "\r",
      " 58%|█████████████████████████████████████████████████████████████████████████████████████████████████▍                                                                     | 7/12 [00:16<00:11,  2.31s/it]"
     ]
    },
    {
     "name": "stdout",
     "output_type": "stream",
     "text": [
      "Fetched 500 records for chunk 7/12\n",
      "Fetching chunk 8/12 (attempt 1)\n"
     ]
    },
    {
     "name": "stderr",
     "output_type": "stream",
     "text": [
      "\r",
      " 67%|███████████████████████████████████████████████████████████████████████████████████████████████████████████████▎                                                       | 8/12 [00:18<00:08,  2.22s/it]"
     ]
    },
    {
     "name": "stdout",
     "output_type": "stream",
     "text": [
      "Fetched 500 records for chunk 8/12\n",
      "Fetching chunk 9/12 (attempt 1)\n"
     ]
    },
    {
     "name": "stderr",
     "output_type": "stream",
     "text": [
      "\r",
      " 75%|█████████████████████████████████████████████████████████████████████████████████████████████████████████████████████████████▎                                         | 9/12 [00:21<00:06,  2.28s/it]"
     ]
    },
    {
     "name": "stdout",
     "output_type": "stream",
     "text": [
      "Fetched 500 records for chunk 9/12\n",
      "Fetching chunk 10/12 (attempt 1)\n"
     ]
    },
    {
     "name": "stderr",
     "output_type": "stream",
     "text": [
      "\r",
      " 83%|██████████████████████████████████████████████████████████████████████████████████████████████████████████████████████████████████████████▎                           | 10/12 [00:23<00:04,  2.19s/it]"
     ]
    },
    {
     "name": "stdout",
     "output_type": "stream",
     "text": [
      "Fetched 500 records for chunk 10/12\n",
      "Fetching chunk 11/12 (attempt 1)\n"
     ]
    },
    {
     "name": "stderr",
     "output_type": "stream",
     "text": [
      "\r",
      " 92%|████████████████████████████████████████████████████████████████████████████████████████████████████████████████████████████████████████████████████████▏             | 11/12 [00:25<00:02,  2.28s/it]"
     ]
    },
    {
     "name": "stdout",
     "output_type": "stream",
     "text": [
      "Fetched 500 records for chunk 11/12\n",
      "Fetching chunk 12/12 (attempt 1)\n"
     ]
    },
    {
     "name": "stderr",
     "output_type": "stream",
     "text": [
      "100%|██████████████████████████████████████████████████████████████████████████████████████████████████████████████████████████████████████████████████████████████████████| 12/12 [00:27<00:00,  2.29s/it]"
     ]
    },
    {
     "name": "stdout",
     "output_type": "stream",
     "text": [
      "Fetched 449 records for chunk 12/12\n",
      "Total fetched records: 5949\n",
      "Total complete papers: 5130\n",
      "Total papers with missing fields: 819\n",
      "68 new papers added to the database.\n"
     ]
    },
    {
     "name": "stderr",
     "output_type": "stream",
     "text": [
      "\n"
     ]
    }
   ],
   "source": [
    "journal = \"the american journal of industrial medicine [journal]\"\n",
    "papers[journal], notpapers[journal] = fetch_papers(journal)"
   ]
  },
  {
   "cell_type": "code",
   "execution_count": 7,
   "id": "48aa1b74",
   "metadata": {},
   "outputs": [
    {
     "name": "stdout",
     "output_type": "stream",
     "text": [
      "4807 records to fetch\n",
      "10 blocks to process, total papers count: 4807\n",
      "Processing block 1/10\n",
      "Processing block 2/10\n",
      "Processing block 3/10\n",
      "Processing block 4/10\n",
      "Processing block 5/10\n",
      "Processing block 6/10\n",
      "Processing block 7/10\n",
      "Processing block 8/10\n",
      "Processing block 9/10\n",
      "Processing block 10/10\n",
      "Fetching MEDLINE records:\n"
     ]
    },
    {
     "name": "stderr",
     "output_type": "stream",
     "text": [
      "\r",
      "  0%|                                                                                                                                                                               | 0/10 [00:00<?, ?it/s]"
     ]
    },
    {
     "name": "stdout",
     "output_type": "stream",
     "text": [
      "Fetching chunk 1/10 (attempt 1)\n"
     ]
    },
    {
     "name": "stderr",
     "output_type": "stream",
     "text": [
      "\r",
      " 10%|████████████████▋                                                                                                                                                      | 1/10 [00:03<00:31,  3.50s/it]"
     ]
    },
    {
     "name": "stdout",
     "output_type": "stream",
     "text": [
      "Fetched 500 records for chunk 1/10\n",
      "Fetching chunk 2/10 (attempt 1)\n"
     ]
    },
    {
     "name": "stderr",
     "output_type": "stream",
     "text": [
      "\r",
      " 20%|█████████████████████████████████▍                                                                                                                                     | 2/10 [00:06<00:25,  3.22s/it]"
     ]
    },
    {
     "name": "stdout",
     "output_type": "stream",
     "text": [
      "Fetched 500 records for chunk 2/10\n",
      "Fetching chunk 3/10 (attempt 1)\n"
     ]
    },
    {
     "name": "stderr",
     "output_type": "stream",
     "text": [
      "\r",
      " 30%|██████████████████████████████████████████████████                                                                                                                     | 3/10 [00:09<00:21,  3.08s/it]"
     ]
    },
    {
     "name": "stdout",
     "output_type": "stream",
     "text": [
      "Fetched 500 records for chunk 3/10\n",
      "Fetching chunk 4/10 (attempt 1)\n"
     ]
    },
    {
     "name": "stderr",
     "output_type": "stream",
     "text": [
      "\r",
      " 40%|██████████████████████████████████████████████████████████████████▊                                                                                                    | 4/10 [00:11<00:17,  2.86s/it]"
     ]
    },
    {
     "name": "stdout",
     "output_type": "stream",
     "text": [
      "Fetched 500 records for chunk 4/10\n",
      "Fetching chunk 5/10 (attempt 1)\n"
     ]
    },
    {
     "name": "stderr",
     "output_type": "stream",
     "text": [
      "\r",
      " 50%|███████████████████████████████████████████████████████████████████████████████████▌                                                                                   | 5/10 [00:15<00:14,  2.96s/it]"
     ]
    },
    {
     "name": "stdout",
     "output_type": "stream",
     "text": [
      "Fetched 500 records for chunk 5/10\n",
      "Fetching chunk 6/10 (attempt 1)\n"
     ]
    },
    {
     "name": "stderr",
     "output_type": "stream",
     "text": [
      "\r",
      " 60%|████████████████████████████████████████████████████████████████████████████████████████████████████▏                                                                  | 6/10 [00:18<00:11,  2.99s/it]"
     ]
    },
    {
     "name": "stdout",
     "output_type": "stream",
     "text": [
      "Fetched 500 records for chunk 6/10\n",
      "Fetching chunk 7/10 (attempt 1)\n"
     ]
    },
    {
     "name": "stderr",
     "output_type": "stream",
     "text": [
      "\r",
      " 70%|████████████████████████████████████████████████████████████████████████████████████████████████████████████████████▉                                                  | 7/10 [00:20<00:08,  2.92s/it]"
     ]
    },
    {
     "name": "stdout",
     "output_type": "stream",
     "text": [
      "Fetched 500 records for chunk 7/10\n",
      "Fetching chunk 8/10 (attempt 1)\n"
     ]
    },
    {
     "name": "stderr",
     "output_type": "stream",
     "text": [
      "\r",
      " 80%|█████████████████████████████████████████████████████████████████████████████████████████████████████████████████████████████████████▌                                 | 8/10 [00:23<00:05,  2.84s/it]"
     ]
    },
    {
     "name": "stdout",
     "output_type": "stream",
     "text": [
      "Fetched 500 records for chunk 8/10\n",
      "Fetching chunk 9/10 (attempt 1)\n"
     ]
    },
    {
     "name": "stderr",
     "output_type": "stream",
     "text": [
      "\r",
      " 90%|██████████████████████████████████████████████████████████████████████████████████████████████████████████████████████████████████████████████████████▎                | 9/10 [00:26<00:02,  2.91s/it]"
     ]
    },
    {
     "name": "stdout",
     "output_type": "stream",
     "text": [
      "Fetched 500 records for chunk 9/10\n",
      "Fetching chunk 10/10 (attempt 1)\n"
     ]
    },
    {
     "name": "stderr",
     "output_type": "stream",
     "text": [
      "100%|██████████████████████████████████████████████████████████████████████████████████████████████████████████████████████████████████████████████████████████████████████| 10/10 [00:28<00:00,  2.86s/it]"
     ]
    },
    {
     "name": "stdout",
     "output_type": "stream",
     "text": [
      "Fetched 307 records for chunk 10/10\n",
      "Total fetched records: 4807\n",
      "Total complete papers: 4245\n",
      "Total papers with missing fields: 562\n",
      "61 new papers added to the database.\n"
     ]
    },
    {
     "name": "stderr",
     "output_type": "stream",
     "text": [
      "\n"
     ]
    }
   ],
   "source": [
    "journal =  \"occupational environmental medicine [journal]\"\n",
    "papers[journal], notpapers[journal] = fetch_papers(journal)"
   ]
  },
  {
   "cell_type": "code",
   "execution_count": 8,
   "id": "40aed0c7",
   "metadata": {},
   "outputs": [
    {
     "data": {
      "text/plain": [
       "\"\\nexample of 'not a paper' for our purposes this is a pubmed record that does not have all the fields \\nof interest for our analysis. \\n\\nthis is why N of records in pubmed search is not equal to N of records in our analysis.  \\n\\nwe consider records that have the following fields: AU, AD, DP, TI, JT, and PT. These correspond to \\nauthor, affiliation, date of publication, title, journal title, and publication type.\\n\\n                                 \\nsee https://www.nlm.nih.gov/bsd/mms/medlineelements.html for more information.\\n\""
      ]
     },
     "execution_count": 8,
     "metadata": {},
     "output_type": "execute_result"
    }
   ],
   "source": [
    "\"\"\"\n",
    "example of 'not a paper' for our purposes this is a pubmed record that does not have all the fields \n",
    "of interest for our analysis. \n",
    "\n",
    "this is why N of records in pubmed search is not equal to N of records in our analysis.  \n",
    "\n",
    "we consider records that have the following fields: AU, AD, DP, TI, JT, and PT. These correspond to \n",
    "author, affiliation, date of publication, title, journal title, and publication type.\n",
    "\n",
    "                                 \n",
    "see https://www.nlm.nih.gov/bsd/mms/medlineelements.html for more information.\n",
    "\"\"\"\n",
    "\n",
    "# notpapers['journal of occupational and environmental medicine [Journal]'][9]"
   ]
  },
  {
   "cell_type": "code",
   "execution_count": 9,
   "id": "7f94ae39",
   "metadata": {},
   "outputs": [],
   "source": [
    "# load our papers database as a dataframe\n",
    "df = df_from_papers_database()"
   ]
  },
  {
   "cell_type": "code",
   "execution_count": 10,
   "id": "1bf720e8",
   "metadata": {},
   "outputs": [
    {
     "data": {
      "text/plain": [
       "19938"
      ]
     },
     "execution_count": 10,
     "metadata": {},
     "output_type": "execute_result"
    }
   ],
   "source": [
    "len(df) #16577 #16266 #16092 #16189 16734 #15370 #16260 #15796 #15921 #16346 #18702(total 21578 records)"
   ]
  },
  {
   "cell_type": "code",
   "execution_count": 11,
   "id": "6d8d44ba",
   "metadata": {},
   "outputs": [
    {
     "data": {
      "text/plain": [
       "18895"
      ]
     },
     "execution_count": 11,
     "metadata": {},
     "output_type": "execute_result"
    }
   ],
   "source": [
    "df.pmid.nunique() #18522"
   ]
  },
  {
   "cell_type": "code",
   "execution_count": 12,
   "id": "a8db61cd",
   "metadata": {},
   "outputs": [],
   "source": [
    "df = df.drop_duplicates() # we've duplicates in database at present"
   ]
  },
  {
   "cell_type": "code",
   "execution_count": 13,
   "id": "97feaad3",
   "metadata": {},
   "outputs": [
    {
     "data": {
      "text/plain": [
       "5024"
      ]
     },
     "execution_count": 13,
     "metadata": {},
     "output_type": "execute_result"
    }
   ],
   "source": [
    "len(df[df.journal ==  'American journal of industrial medicine'])"
   ]
  },
  {
   "cell_type": "code",
   "execution_count": 14,
   "id": "4227720a",
   "metadata": {},
   "outputs": [
    {
     "data": {
      "text/plain": [
       "819"
      ]
     },
     "execution_count": 14,
     "metadata": {},
     "output_type": "execute_result"
    }
   ],
   "source": [
    "len(notpapers['the american journal of industrial medicine [journal]']) "
   ]
  },
  {
   "cell_type": "code",
   "execution_count": 15,
   "id": "da5fa06f",
   "metadata": {},
   "outputs": [
    {
     "data": {
      "text/plain": [
       "5843"
      ]
     },
     "execution_count": 15,
     "metadata": {},
     "output_type": "execute_result"
    }
   ],
   "source": [
    "len(df[df.journal ==  'American journal of industrial medicine']) + len(notpapers['the american journal of industrial medicine [journal]']) "
   ]
  },
  {
   "cell_type": "code",
   "execution_count": 16,
   "id": "ea1770e9",
   "metadata": {},
   "outputs": [],
   "source": [
    "# seems like a reasonable source of countries\n",
    "countries = pd.read_excel('https://datacatalogfiles.worldbank.org/ddh-published/0037712/DR0090755/CLASS.xlsx')\n",
    "countries = countries.head(218) # junk we don't need after this row\n",
    "countries = countries[['Economy', 'Code', 'Income group']] # lose columns we don't need\n",
    "countries['Economy'] = countries['Economy'].str.replace(\"(\",\"\") # it's best not to have brackets for later regex \n",
    "countries['Economy'] = countries['Economy'].str.replace(\")\",\"\")"
   ]
  },
  {
   "cell_type": "code",
   "execution_count": 17,
   "id": "6eb078ec",
   "metadata": {},
   "outputs": [
    {
     "data": {
      "text/plain": [
       "array(['Low income', 'Upper middle income', 'High income',\n",
       "       'Lower middle income', nan], dtype=object)"
      ]
     },
     "execution_count": 17,
     "metadata": {},
     "output_type": "execute_result"
    }
   ],
   "source": [
    "countries['Income group'].unique()"
   ]
  },
  {
   "cell_type": "code",
   "execution_count": 20,
   "id": "e7ad35a9",
   "metadata": {},
   "outputs": [],
   "source": [
    "list_of_hics = countries[countries['Income group'] == 'High income'].dropna().Economy.to_list()"
   ]
  },
  {
   "cell_type": "code",
   "execution_count": 23,
   "id": "bd8f6532",
   "metadata": {},
   "outputs": [],
   "source": [
    "# low and middle == 'Low income' or 'Lower middle income'\n",
    "list_of_lmics = countries[((countries['Income group'] == \"Low income\") | (countries['Income group'] == \"Lower middle income\") | (countries['Income group'] == \"Upper middle income\"))].dropna().Economy.to_list()"
   ]
  },
  {
   "cell_type": "code",
   "execution_count": 24,
   "id": "46aeb84b",
   "metadata": {},
   "outputs": [],
   "source": [
    "list_of_lmics_codes = countries[((countries['Income group'] == \"Low income\") | (countries['Income group'] == \"Lower middle income\") | (countries['Income group'] == \"Upper middle income\") )].dropna().Code.to_list()"
   ]
  },
  {
   "cell_type": "code",
   "execution_count": 25,
   "id": "70c4519c",
   "metadata": {},
   "outputs": [
    {
     "data": {
      "text/plain": [
       "['Afghanistan',\n",
       " 'Albania',\n",
       " 'Algeria',\n",
       " 'Angola',\n",
       " 'Argentina',\n",
       " 'Armenia',\n",
       " 'Azerbaijan',\n",
       " 'Bangladesh',\n",
       " 'Belarus',\n",
       " 'Belize',\n",
       " 'Benin',\n",
       " 'Bhutan',\n",
       " 'Bolivia',\n",
       " 'Bosnia and Herzegovina',\n",
       " 'Botswana',\n",
       " 'Brazil',\n",
       " 'Burkina Faso',\n",
       " 'Burundi',\n",
       " 'Cabo Verde',\n",
       " 'Cambodia',\n",
       " 'Cameroon',\n",
       " 'Central African Republic',\n",
       " 'Chad',\n",
       " 'China',\n",
       " 'Colombia',\n",
       " 'Comoros',\n",
       " 'Congo, Dem. Rep.',\n",
       " 'Congo, Rep.',\n",
       " 'Costa Rica',\n",
       " 'Côte d’Ivoire',\n",
       " 'Cuba',\n",
       " 'Djibouti',\n",
       " 'Dominica',\n",
       " 'Dominican Republic',\n",
       " 'Ecuador',\n",
       " 'Egypt, Arab Rep.',\n",
       " 'El Salvador',\n",
       " 'Equatorial Guinea',\n",
       " 'Eritrea',\n",
       " 'Eswatini',\n",
       " 'Ethiopia',\n",
       " 'Fiji',\n",
       " 'Gabon',\n",
       " 'Gambia, The',\n",
       " 'Georgia',\n",
       " 'Ghana',\n",
       " 'Grenada',\n",
       " 'Guatemala',\n",
       " 'Guinea',\n",
       " 'Guinea-Bissau',\n",
       " 'Haiti',\n",
       " 'Honduras',\n",
       " 'India',\n",
       " 'Indonesia',\n",
       " 'Iran, Islamic Rep.',\n",
       " 'Iraq',\n",
       " 'Jamaica',\n",
       " 'Jordan',\n",
       " 'Kazakhstan',\n",
       " 'Kenya',\n",
       " 'Kiribati',\n",
       " \"Korea, Dem. People's Rep.\",\n",
       " 'Kosovo',\n",
       " 'Kyrgyz Republic',\n",
       " 'Lao PDR',\n",
       " 'Lebanon',\n",
       " 'Lesotho',\n",
       " 'Liberia',\n",
       " 'Libya',\n",
       " 'Madagascar',\n",
       " 'Malawi',\n",
       " 'Malaysia',\n",
       " 'Maldives',\n",
       " 'Mali',\n",
       " 'Marshall Islands',\n",
       " 'Mauritania',\n",
       " 'Mauritius',\n",
       " 'Mexico',\n",
       " 'Micronesia, Fed. Sts.',\n",
       " 'Moldova',\n",
       " 'Mongolia',\n",
       " 'Montenegro',\n",
       " 'Morocco',\n",
       " 'Mozambique',\n",
       " 'Myanmar',\n",
       " 'Namibia',\n",
       " 'Nepal',\n",
       " 'Nicaragua',\n",
       " 'Niger',\n",
       " 'Nigeria',\n",
       " 'North Macedonia',\n",
       " 'Pakistan',\n",
       " 'Papua New Guinea',\n",
       " 'Paraguay',\n",
       " 'Peru',\n",
       " 'Philippines',\n",
       " 'Rwanda',\n",
       " 'Samoa',\n",
       " 'São Tomé and Príncipe',\n",
       " 'Senegal',\n",
       " 'Serbia',\n",
       " 'Sierra Leone',\n",
       " 'Solomon Islands',\n",
       " 'Somalia',\n",
       " 'South Africa',\n",
       " 'South Sudan',\n",
       " 'Sri Lanka',\n",
       " 'St. Lucia',\n",
       " 'St. Vincent and the Grenadines',\n",
       " 'Sudan',\n",
       " 'Suriname',\n",
       " 'Syrian Arab Republic',\n",
       " 'Tajikistan',\n",
       " 'Tanzania',\n",
       " 'Thailand',\n",
       " 'Timor-Leste',\n",
       " 'Togo',\n",
       " 'Tonga',\n",
       " 'Tunisia',\n",
       " 'Türkiye',\n",
       " 'Turkmenistan',\n",
       " 'Tuvalu',\n",
       " 'Uganda',\n",
       " 'Ukraine',\n",
       " 'Uzbekistan',\n",
       " 'Vanuatu',\n",
       " 'Vietnam',\n",
       " 'West Bank and Gaza',\n",
       " 'Yemen, Rep.',\n",
       " 'Zambia',\n",
       " 'Zimbabwe']"
      ]
     },
     "execution_count": 25,
     "metadata": {},
     "output_type": "execute_result"
    }
   ],
   "source": [
    "list_of_lmics"
   ]
  },
  {
   "cell_type": "code",
   "execution_count": 26,
   "id": "e9b97e59",
   "metadata": {},
   "outputs": [],
   "source": [
    "# v probably don't need to do this / doesn't help\n",
    "list_of_lmics = [i.split(',')[0] for i in list_of_lmics] # simplify names (i.e throw away sting after ',')"
   ]
  },
  {
   "cell_type": "code",
   "execution_count": 27,
   "id": "a5162aa0",
   "metadata": {},
   "outputs": [
    {
     "data": {
      "text/plain": [
       "['Afghanistan',\n",
       " 'Albania',\n",
       " 'Algeria',\n",
       " 'Angola',\n",
       " 'Argentina',\n",
       " 'Armenia',\n",
       " 'Azerbaijan',\n",
       " 'Bangladesh',\n",
       " 'Belarus',\n",
       " 'Belize',\n",
       " 'Benin',\n",
       " 'Bhutan',\n",
       " 'Bolivia',\n",
       " 'Bosnia and Herzegovina',\n",
       " 'Botswana',\n",
       " 'Brazil',\n",
       " 'Burkina Faso',\n",
       " 'Burundi',\n",
       " 'Cabo Verde',\n",
       " 'Cambodia',\n",
       " 'Cameroon',\n",
       " 'Central African Republic',\n",
       " 'Chad',\n",
       " 'China',\n",
       " 'Colombia',\n",
       " 'Comoros',\n",
       " 'Congo',\n",
       " 'Congo',\n",
       " 'Costa Rica',\n",
       " 'Côte d’Ivoire',\n",
       " 'Cuba',\n",
       " 'Djibouti',\n",
       " 'Dominica',\n",
       " 'Dominican Republic',\n",
       " 'Ecuador',\n",
       " 'Egypt',\n",
       " 'El Salvador',\n",
       " 'Equatorial Guinea',\n",
       " 'Eritrea',\n",
       " 'Eswatini',\n",
       " 'Ethiopia',\n",
       " 'Fiji',\n",
       " 'Gabon',\n",
       " 'Gambia',\n",
       " 'Georgia',\n",
       " 'Ghana',\n",
       " 'Grenada',\n",
       " 'Guatemala',\n",
       " 'Guinea',\n",
       " 'Guinea-Bissau',\n",
       " 'Haiti',\n",
       " 'Honduras',\n",
       " 'India',\n",
       " 'Indonesia',\n",
       " 'Iran',\n",
       " 'Iraq',\n",
       " 'Jamaica',\n",
       " 'Jordan',\n",
       " 'Kazakhstan',\n",
       " 'Kenya',\n",
       " 'Kiribati',\n",
       " 'Korea',\n",
       " 'Kosovo',\n",
       " 'Kyrgyz Republic',\n",
       " 'Lao PDR',\n",
       " 'Lebanon',\n",
       " 'Lesotho',\n",
       " 'Liberia',\n",
       " 'Libya',\n",
       " 'Madagascar',\n",
       " 'Malawi',\n",
       " 'Malaysia',\n",
       " 'Maldives',\n",
       " 'Mali',\n",
       " 'Marshall Islands',\n",
       " 'Mauritania',\n",
       " 'Mauritius',\n",
       " 'Mexico',\n",
       " 'Micronesia',\n",
       " 'Moldova',\n",
       " 'Mongolia',\n",
       " 'Montenegro',\n",
       " 'Morocco',\n",
       " 'Mozambique',\n",
       " 'Myanmar',\n",
       " 'Namibia',\n",
       " 'Nepal',\n",
       " 'Nicaragua',\n",
       " 'Niger',\n",
       " 'Nigeria',\n",
       " 'North Macedonia',\n",
       " 'Pakistan',\n",
       " 'Papua New Guinea',\n",
       " 'Paraguay',\n",
       " 'Peru',\n",
       " 'Philippines',\n",
       " 'Rwanda',\n",
       " 'Samoa',\n",
       " 'São Tomé and Príncipe',\n",
       " 'Senegal',\n",
       " 'Serbia',\n",
       " 'Sierra Leone',\n",
       " 'Solomon Islands',\n",
       " 'Somalia',\n",
       " 'South Africa',\n",
       " 'South Sudan',\n",
       " 'Sri Lanka',\n",
       " 'St. Lucia',\n",
       " 'St. Vincent and the Grenadines',\n",
       " 'Sudan',\n",
       " 'Suriname',\n",
       " 'Syrian Arab Republic',\n",
       " 'Tajikistan',\n",
       " 'Tanzania',\n",
       " 'Thailand',\n",
       " 'Timor-Leste',\n",
       " 'Togo',\n",
       " 'Tonga',\n",
       " 'Tunisia',\n",
       " 'Türkiye',\n",
       " 'Turkmenistan',\n",
       " 'Tuvalu',\n",
       " 'Uganda',\n",
       " 'Ukraine',\n",
       " 'Uzbekistan',\n",
       " 'Vanuatu',\n",
       " 'Vietnam',\n",
       " 'West Bank and Gaza',\n",
       " 'Yemen',\n",
       " 'Zambia',\n",
       " 'Zimbabwe']"
      ]
     },
     "execution_count": 27,
     "metadata": {},
     "output_type": "execute_result"
    }
   ],
   "source": [
    "# this is list we're using for matching\n",
    "# obviously it'll go wrong for korea\n",
    "list_of_lmics"
   ]
  },
  {
   "cell_type": "code",
   "execution_count": 28,
   "id": "805ddc51",
   "metadata": {},
   "outputs": [
    {
     "data": {
      "text/plain": [
       "array(['Department of Preventive Medicine, Dongguk University College of Medicine, Gyeongju-si, South Korea., Department of Preventive Medicine, Dongguk University College of Medicine, Gyeongju-si, South Korea., Department of Preventive Medicine, College of Medicine and Medical Research Institute, Chungbuk National University, Cheongju-si, South Korea.',\n",
       "       'School of Public Health, Seoul National University, Seoul, Korea.',\n",
       "       'Department of Preventive Medicine, Korea University College of Medicine, Seoul, South Korea., Department of Epidemiology and Health Informatics, Graduate School of Public Health, Korea University, Seoul, South Korea., Department of Preventive Medicine, Korea University College of Medicine, Seoul, South Korea., Department of Epidemiology and Health Informatics, Graduate School of Public Health, Korea University, Seoul, South Korea., Department of Preventive Medicine, Korea University College of Medicine, Seoul, South Korea., Department of Epidemiology and Health Informatics, Graduate School of Public Health, Korea University, Seoul, South Korea., Department of Preventive Medicine, Korea University College of Medicine, Seoul, South Korea., Department of Epidemiology and Health Informatics, Graduate School of Public Health, Korea University, Seoul, South Korea., Department of Environmental Health, Korea National Open University, Seoul, South Korea.',\n",
       "       'Department of Internal Medicine, Seonam University College of Medicine, Kwangju, Korea.',\n",
       "       'Department of Preventive Medicine, Seoul National University College of Medicine, Seoul, South Korea., Public Health Medical Service, Seoul National University Hospital, Seoul, South Korea., Department of Preventive Medicine, Seoul National University College of Medicine, Seoul, South Korea., Institute of Environmental Medicine, Seoul National University Medical Research Center, Seoul, South Korea., Environmental Health Center, Seoul National University College of Medicine, Seoul, South Korea., Department of Preventive Medicine, Seoul National University College of Medicine, Seoul, South Korea., Institute of Environmental Medicine, Seoul National University Medical Research Center, Seoul, South Korea., Environmental Health Center, Seoul National University College of Medicine, Seoul, South Korea.',\n",
       "       'Occupational Safety and Health Research Institute, Korea Occupational Safety and Health Agency, Ulsan, Korea.',\n",
       "       'Division of Cancer Epidemiology and Genetics, National Cancer Institute, National Institutes of Health, Department of Health and Human Services, Bethesda, MD, USA., Division of Cancer Epidemiology and Genetics, National Cancer Institute, National Institutes of Health, Department of Health and Human Services, Bethesda, MD, USA., Stewart Exposure Assessments, LLC, Arlington, VA, USA., Korea National Open University, Seoul, Republic of Korea., Vermont Cancer Registry, Burlington, VT, USA., Maine Cancer Registry, Augusta, ME, USA., Geisel School of Medicine at Dartmouth, Hanover, NH, USA., New Hampshire Department of Health and Human Services, Concord, NH, USA., Geisel School of Medicine at Dartmouth, Hanover, NH, USA., Maine Cancer Registry, Augusta, ME, USA., Division of Cancer Epidemiology and Genetics, National Cancer Institute, National Institutes of Health, Department of Health and Human Services, Bethesda, MD, USA., Division of Cancer Epidemiology and Genetics, National Cancer Institute, National Institutes of Health, Department of Health and Human Services, Bethesda, MD, USA., Division of Cancer Epidemiology and Genetics, National Cancer Institute, National Institutes of Health, Department of Health and Human Services, Bethesda, MD, USA., Division of Cancer Epidemiology and Genetics, National Cancer Institute, National Institutes of Health, Department of Health and Human Services, Bethesda, MD, USA., Division of Cancer Epidemiology and Genetics, National Cancer Institute, National Institutes of Health, Department of Health and Human Services, Bethesda, MD, USA.',\n",
       "       'From the Red Cross College of Nursing, Chung-Ang University, Seoul, Republic of Korea (S.C.); and Department of Health Care Policy Research, Korea Institute for Health and Social Affairs, Sejong, Republic of Korea (Y.J.).',\n",
       "       'Department of Public Health, Graduate School, Yonsei University, Seoul 03722, Republic of Korea., Institute of Health Services Research, Yonsei University, Seoul 03722, Republic of Korea., Institute of Health Services Research, Yonsei University, Seoul 03722, Republic of Korea., Graduate School of Public Heath, Yonsei University, Seoul 03722, Republic of Korea., Department of Public Health, Graduate School, Yonsei University, Seoul 03722, Republic of Korea., Institute of Health Services Research, Yonsei University, Seoul 03722, Republic of Korea., Department of Public Health, Graduate School, Yonsei University, Seoul 03722, Republic of Korea., Institute of Health Services Research, Yonsei University, Seoul 03722, Republic of Korea., Department of Public Health, Graduate School, Yonsei University, Seoul 03722, Republic of Korea., Institute of Health Services Research, Yonsei University, Seoul 03722, Republic of Korea., Institute of Health Services Research, Yonsei University, Seoul 03722, Republic of Korea., Department of Preventive Medicine, Yonsei University College of Medicine, Seoul 03722, Republic of Korea.',\n",
       "       'Center for Occupational and Environmental Health, University of California Irvine, Irvine, California., Enviromental Health Sciences Graduate Program, University of California Irvine, Irvine, California., Program in Public Health, University of California Irvine, Irvine, California., Center for Occupational and Environmental Health, University of California Irvine, Irvine, California., Department of Preventive Medicine, Yonsei University Wonju College of Medicine, Wonju, South Korea., Center for Occupational and Environmental Health, University of California Irvine, Irvine, California.',\n",
       "       \"COMWEL Incheon Hospital, Korea Workers' Compensation & Welfare Service, Incheon (Dr Kang); Department of Preventive Medicine, Seoul National University College of Medicine (Dr Lee); Department of Occupational and Environmental Medicine, Seoul St. Mary's Hospital, College of Medicine, The Catholic University of Korea (Dr Park, Dr Kang), Seoul, Republic of Korea.\",\n",
       "       'Department of Occupational and Environmental Medicine, Ajou University School of Medicine, Suwon, Republic of Korea.',\n",
       "       'Department of Pharmaceutical Toxicology, Faculty of Pharmacy (Ms Cetin, Mrs Karacan Dincer, Dr Sabuncuoglu); Department of Biochemistry, Faculty of Medicine (Dr Yalcinkaya, Dr Oztas Dr Lay); Department of Analytical Chemistry, Faculty of Pharmacy (Ms Recber, Dr Nemutlu), Hacettepe University; Research and Development Center, University of Health Sciences (Ms Eser), Ankara, Turkey; and Korea Institute of Science and Technology Europe (KIST EU), Joint Laboratory of Applied Ecotoxicology, Saarbrucken, Germany (Dr Samadi).',\n",
       "       'Department of Public Health, Graduate School (Mr Kim, Mr Jeong, Mr Kim); Institute of Health Services Research (Mr Kim, Mr Jeong, Ms Kim, Dr Jang, Dr Park), Yonsei University; Department of Preventive Medicine, Yonsei University College of Medicine (Dr Jang, Dr Park), Seoul, Republic of Korea.',\n",
       "       'Department of Occupational and Environmental Medicine, Korea University Ansan Hospital, Ansan, Republic of Korea., Department of Environmental Sciences, Seoul National University Graduate School of Public Health, Seoul, Republic of Korea., Department of Environmental Sciences, Seoul National University Graduate School of Public Health, Seoul, Republic of Korea., Institute of Health and Environment, Seoul National University, Seoul, Republic of Korea., Department of Occupational and Environmental Medicine, Korea University Ansan Hospital, Ansan, Republic of Korea.',\n",
       "       'Korea Occupational Safety and Health Agency, Incheon, South Korea.',\n",
       "       \"Department of Preventive Medicine, Korea University College of Medicine, Seoul, South Korea leewj@korea.ac.kr., Department of Preventive Medicine, Korea University College of Medicine, Seoul, South Korea., Department of Preventive Medicine, Korea University College of Medicine, Seoul, South Korea., Department of Preventive Medicine, Korea University College of Medicine, Seoul, South Korea., Seoul Workers' Health Center, Ewha Womans University, Seoul, South Korea., Hirosoft International, Eureka, California, USA.\",\n",
       "       'Department of Epidemiology and Biostatistics, School of Public Health, Seoul National University, Seoul, Korea.',\n",
       "       \"From the Department of Rehabilitation Medicine, Seoul National University Hospital, Seoul 03080, Korea (S.W.B., M.-Y.L., S.W.P., J-H.L.); Rehabilitation Medical Center, Korea Workers' Compensation and Welfare Service Incheon Hospital, Incheon 21417, Korea (M.-Y.L., S.W.P., G.L.); Rehabilitation Medical Research Center, Korea Workers' Compensation and Welfare Service Incheon Hospital, Incheon 21417, Korea (G.L.); National Traffic Injury Rehabilitation Research Institute, National Traffic Injury Rehabilitation Hospital, Yangpyeong 12564, Korea (J.-H.L.).\",\n",
       "       \"Asian Citizen's Center for Environment and Health, Department of Occupational and Environmental Health, School of Public Health, Seoul National University, Seoul, Korea.\",\n",
       "       'Department of Occupational and Environmental Medicine, Dongguk University Seoul, Graduate School of Medicine, Goyang, South Korea.',\n",
       "       'Kyonggi University, Seoul, South Korea.',\n",
       "       'Korea Insurance Research Institutes, Seoul, Korea.',\n",
       "       'Department of Occupational and Environmental Medicine, Soonchunhyang University Cheonan Hospital (Dr Park, Dr Nam); and Department of Preventive Medicine, College of Medicine, Soonchunhyang University (Dr Hwangbo), Dongnam-gu, Cheonan-si, Republic of Korea.',\n",
       "       'Department of Environmental Health Sciences, Seoul National University Graduate School of Public Health, Seoul, Republic of Korea., Department of Occupational and Environmental Medicine, Korea University Ansan Hospital, Ansan, Republic of Korea., Department of Environmental Health Sciences, Seoul National University Graduate School of Public Health, Seoul, Republic of Korea., Institute of Health and Environment, Seoul National University, Seoul, Republic of Korea., Department of Environmental Health Sciences, Seoul National University Graduate School of Public Health, Seoul, Republic of Korea kezoh@snu.ac.kr.',\n",
       "       'Department of Preventive Medicine, College of Medicine, Korea University, Seoul, Korea. eunil@korea.ac.kr',\n",
       "       'Department of Human Systems Medicine, Seoul National University College of Medicine, Seoul, Korea (Dr Yun, Ms Choi, and Ms Chae); Department of Family Medicine, Seoul National University College of Medicine, Seoul, Korea (Dr Yun); Department of Health Policy and Management, Seoul National University College of Medicine, Seoul, Korea (Ms Choi).',\n",
       "       'Department of Occupational and Environmental Medicine, Inha University, Incheon, Republic of Korea.',\n",
       "       'College of Nursing, ShinHan University, Dongducheon-si, Republic of Korea.',\n",
       "       'From the Department of Emergency Medicine, Chungbuk National University Hospital, Seowon-gu, Cheongju-si, Chungcheongbuk-do, South Korea (Shin, Dr Park, Dr Chai, Dr Kim, Dr Lee, and Dr Kim); Strategic Research, Laerdal Medical, Stavanger, Norway (Dr Kong); Department of Paramedic Science, Korea National University of Transportation, Jeungpyeong-gun, Chungcheongbuk-do, South Korea (Shin); Department of Emergency Medicine, College of Medicine, Chungbuk National University, Seowongu, Cheongjusi, Chungcheongbuk-do, South Korea (Dr Kim, Dr Lee, and Dr Kim).',\n",
       "       \"The Institute for Occupational Health, Yonsei University College of Medicine, Seoul, Korea., Graduate School of Public Health, Yonsei University College of Medicine, Seoul, Korea., Incheon Worker's Health Center, Incheon, Korea., Department of Preventive Medicine, Yonsei University College of Medicine, Seoul, Korea., The Institute for Occupational Health, Yonsei University College of Medicine, Seoul, Korea., Graduate School of Public Health, Yonsei University College of Medicine, Seoul, Korea., Incheon Worker's Health Center, Incheon, Korea., Department of Preventive Medicine, Yonsei University College of Medicine, Seoul, Korea., The Institute for Occupational Health, Yonsei University College of Medicine, Seoul, Korea., Graduate School of Public Health, Yonsei University College of Medicine, Seoul, Korea., Incheon Worker's Health Center, Incheon, Korea., Department of Preventive Medicine, Yonsei University College of Medicine, Seoul, Korea., Department of Occupational and Environmental Medicine, Sahmyook Medical Center, Seoul, Korea., Department of Occupational and Environmental Medicine, Soon Chun Hyang University Hospital, Seoul, Korea., The Institute for Occupational Health, Yonsei University College of Medicine, Seoul, Korea., Graduate School of Public Health, Yonsei University College of Medicine, Seoul, Korea., Incheon Worker's Health Center, Incheon, Korea., The Institute for Occupational Health, Yonsei University College of Medicine, Seoul, Korea., Graduate School of Public Health, Yonsei University College of Medicine, Seoul, Korea., Incheon Worker's Health Center, Incheon, Korea., Department of Preventive Medicine, Yonsei University College of Medicine, Seoul, Korea.\",\n",
       "       'From the Department of Preventive Medicine, College of Medicine, Seoul National University, Seoul, Republic of Korea (Dr Kim); Department of Human Systems Medicine, College of Medicine, Seoul National University, Seoul, Republic of Korea (Dr Hong, Dr N. Lee); Public Healthcare Center, Seoul National University Hospital, Seoul, Republic of Korea (Dr N. Lee, Dr D-W. Lee); Human Rights Center, Seoul National University Hospital, Seoul, Republic of Korea (Dr N. Lee); Department of Big Data Medical Convergence, Eulji University, Seongnam, Republic of Korea (Dr Park); Research Institute for Public Healthcare, National Medical Center, Seoul, Korea (Dr K-S. Lee); and Yeongeon Student Support Center, Seoul National University College of Medicine, Seoul, Republic of Korea (Dr Yun).',\n",
       "       'Department of Preventive Medicine and Public Health, College of Medicine, Chungnam National University, Taejeon, Korea.',\n",
       "       'Occupational Safety and Health Research Institute, Korea Safety and Health Agency, Incheon, South Korea.',\n",
       "       'Department of Preventive Medicine, School of Medicine, Ewha Womans University, Seoul, South Korea (Ms Kwon, Drs Kim, Kulkarni, Park, Ha); Department of Pediatrics, School of Medicine, Ewha Womans University, Seoul, South Korea (Dr Park); Department of Obstetrics and Gynecology, School of Medicine, Ewha Womans University, Seoul, South Korea (Ms Kwon, Dr Kim); Department of Health, Environment & Safety, Eulji University, Seongnam, South Korea (Dr Kho); Cancer Policy Branch (Dr Kim), National Cancer Center, Goyang, South Korea; and Chicago Medical School (Mr Shin), Rosalind Franklin University of Medicine and Science, Lake County, Illinois.',\n",
       "       'Department of Preventive Medicine, College of Medicine, Korea University, Seoul 136-705, South Korea.',\n",
       "       'Department of Preventive Medicine, College of Medicine, Seoul National University, 103 Daehangno, Jongno-gu, Seoul 110-799, Republic of Korea.',\n",
       "       'Department of Occupational Health, Catholic University of Daegu, Daegu, South Korea., Department of Sociology, Yonsei University, Seoul, South Korea., Department of Occupational and Environmental Medicine, Ulsan University Hospital, University of Ulsan College of Medicine, Ulsan, South Korea.',\n",
       "       \"Department of Occupational and Environmental Medicine, Seoul St. Mary's Hospital, College of Medicine, The Catholic University of Korea, Seoul, Republic of Korea., Department of Occupational and Environmental Medicine, Inha University Hospital, Incheon, Republic of Korea., Department of Global Economics, Sungkyunkwan University, Seoul, Republic of Korea., Department of Occupational and Environmental Medicine, H plus Yangji Hospital, Seoul, Republic of Korea., Department of Occupational and Environmental Medicine, Seoul St. Mary's Hospital, College of Medicine, The Catholic University of Korea, Seoul, Republic of Korea.\",\n",
       "       \"Department of Preventive Medicine, Occupational and Environmental Medicine, Seoul National University, Seoul, Korea (the Republic of)., Department of Occupational and Environmental Medicine, Seoul St. Mary's Hospital, College of Medicine, The Catholic University of Korea, Seoul, Korea (the Republic of)., Department of Occupational and Environmental Medicine, Seoul St. Mary's Hospital, College of Medicine, The Catholic University of Korea, Seoul, Korea (the Republic of)., Occupational Safety and Health Research Institute, Korea Occupational Safety and Health Agency, Incheon, Korea (the Republic of)., Department of Occupational and Environmental Medicine, Seoul St. Mary's Hospital, College of Medicine, The Catholic University of Korea, Seoul, Korea (the Republic of) snaptoon@naver.com.\",\n",
       "       \"Department of Occupational and Environmental Medicine, Seoul St. Mary's Hospital, College of Medicine, The Catholic University of Korea, Seoul, Republic of Korea (Dr Ahn, Dr Kang); Incheon Hospital, Korea Workers' Compensation & Welfare Service, Incheon, Republic of Korea (Prof Kang); Health Care Center, Boramae Medical Center, College of Medicine, Seoul National University, Seoul, Republic of Korea (Dr Kim).\",\n",
       "       'From the School of Nursing, Gachon University, Incheon, Republic of Korea (Dr Kim); Red Cross College of Nursing, Chung-Ang University, Seoul, Republic of Korea (Dr Choi).',\n",
       "       'Environmental & Occupational Medicine and Epidemiology Program, Department of Environmental Health, Harvard T.H. Chan School of Public Health Department of Medicine, Boston University School of Medicine Department of Medicine, University of Massachusetts Medical School, Worcester, MA School of Public Health, Seoul National University, Seoul, Korea.',\n",
       "       \"Department of Occupational and Environmental Medicine, Seoul St. Mary's Hospital, Seocho-gu, Seoul, Republic of Korea., Department of Occupational and Environmental Medicine, Seoul St. Mary's Hospital, Seocho-gu, Seoul, Republic of Korea., Department of Occupational and Environmental Medicine, College of Medicine, The Catholic University of Korea, Seoul, Republic of Korea., Department of Occupational and Environmental Medicine, Hanyang University College of Medicine, Seoul, Republic of Korea., Department of Preventive Medicine, Seoul National University College of Medicine, Seoul, Republic of Korea., Department of Occupational and Environmental Medicine, Seoul St. Mary's Hospital, Seocho-gu, Seoul, Republic of Korea., Department of Occupational and Environmental Medicine, Seoul St. Mary's Hospital, Seocho-gu, Seoul, Republic of Korea snaptoon@naver.com., Department of Occupational and Environmental Medicine, College of Medicine, The Catholic University of Korea, Seoul, Republic of Korea.\",\n",
       "       \"Incheon Hospital, Korea Workers' Compensation & Welfare Service, Incheon (Dr Kang); Health Care Center, SMG-SNU Boramae Medical Center, College of Medicine, Seoul National University (Dr Kim); Department of Preventive Medicine, Seoul National University College of Medicine (Dr Lee); Department of Occupational and Environmental Medicine, Seoul St. Mary's Hospital, College of Medicine, The Catholic University of Korea (Dr Kang), Seoul, Republic of Korea.\",\n",
       "       \"Division of Business, Hallym University, Chuncheon, Gangwon-do, South Korea., Institute on the Environment, University of Minnesota, St. Paul, Minnesota, USA Department of Epidemiology, Biostatistics and Occupational Health, Institute for Health and Social Policy, McGill University, Montreal, Quebec, Canada., Division of Biostatistics, School of Public Health, University of Minnesota, Minneapolis, Minnesota, USA., Division of Environmental Health Sciences, School of Public Health, University of Minnesota, Minneapolis, Minnesota, USA., Department of Health Care Management, The Wharton School, University of Pennsylvania, Philadelphia, Pennsylvania, USA National Bureau of Economic Research, Cambridge, Massachusetts, USA., Department of Chest Diseases, St John's Medical College Hospital, Bangalore, Karnataka, India., Division of Environmental Health Sciences, School of Public Health, University of Minnesota, Minneapolis, Minnesota, USA.\",\n",
       "       'Department of Communication, Seoul National University, Gwanak-gu, Seoul, Korea (the Republic of)., Department of Sociology, Seoul National University, Gwanak-gu, Seoul, Korea (the Republic of)., Department of Public Health Sciences, Seoul National University Graduate School of Public Health, Gwanak-gu, Seoul, Korea (the Republic of) msyou@snu.ac.kr., Institute of Health and Environment, Seoul National University, Gwanak-gu, Seoul, Korea (the Republic of)., Center for Preventive Medicine and Public Health, Seoul National University Bundang Hospital, Seongnam, Korea (the Republic of).',\n",
       "       'Samsung Health Research Institute, Samsung Electronics, Yongin-City 446-711, Korea., Department of Occupational Medicine, Kangbuk Samsung Hospital, Sungkyunkwan University School of Medicine, Seoul 110-746, Korea, k01052683211@gmail.com soogeun.kim@samsung.com., Department of Occupational Medicine, Myong Ji Hospital, Seonam University School of Medicine, Gyeonggi 412-826, Korea. k01052683211@gmail.com soogeun.kim@samsung.com.',\n",
       "       'Department of Occupational Health, Catholic University of Daegu, Gyeongsan, South Korea., Department of Occupational and Environmental Medicine, Ulsan University Hospital, University of Ulsan College of Medicine, Ulsan, South Korea., Department of Occupational and Environmental Medicine, Ulsan University Hospital, University of Ulsan College of Medicine, Ulsan, South Korea.',\n",
       "       'Department of Occupational and Environmental Medicine, Samsung Changwon Hospital, Sungkyunkwan University School of Medicine, Changwon, Republic of Korea., Department of Occupational and Environmental Medicine, Inha University Hospital, Incheon, Republic of Korea.',\n",
       "       'Institute of Health and Environment, Seoul National University, Seoul, Republic of Korea.',\n",
       "       \"Busan Workers' Health Center, Korea & Pusan National University (Dr Kim), Occupational and Environmental Medicine, Pusan National University Yangsan Hospital (Dr Kang), Division of Pulmonary and Critical Care Medicine, Department of Internal Medicine, Inje University Busan Paik Hospital (Dr Lee), Department of Occupational and Environmental Medicine & Institute of Environmental and Occupational Medicine, Pusan Paik Hospital, Inje University (Drs Kim, Choi), Gyeongsangnam-do, South Korea.\",\n",
       "       'Department of Dose Assessment, National Radiation Emergency Medical Center, Korea Institute of Radiological and Medical Sciences, Seoul, South Korea., Department of Dose Assessment, National Radiation Emergency Medical Center, Korea Institute of Radiological and Medical Sciences, Seoul, South Korea Department of Laboratory Medicine, Korea Cancer Center Hospital, Korea Institute of Radiological and Medical Sciences, Seoul, South Korea., Department of Dose Assessment, National Radiation Emergency Medical Center, Korea Institute of Radiological and Medical Sciences, Seoul, South Korea., Department of Dose Assessment, National Radiation Emergency Medical Center, Korea Institute of Radiological and Medical Sciences, Seoul, South Korea., Department of Dose Assessment, National Radiation Emergency Medical Center, Korea Institute of Radiological and Medical Sciences, Seoul, South Korea., Division of Radiation Regulation, Korea Institute of Nuclear Safety, Daejeon, South Korea.',\n",
       "       'Korea Occupational Safety and Health Agency, Bupyung, Incheon, Korea. ysahn@kosha.net',\n",
       "       \"Department of Occupational and Environmental Medicine, Seoul St. Mary's Hospital, College of Medicine, The Catholic University of Korea, Seoul, Republic of Korea (Dr Jung, Dr J. Lee, Dr Y.M. Lee, Dr Kim, Dr Kang); Department of Preventive Medicine, College of Medicine, Seoul National University, Seoul, Republic of Korea (Dr D.W. Lee).\",\n",
       "       'Department of Anesthesiology and Pain Medicine, Seoul National University Bundang Hospital, Seongnam, Republic of Korea.',\n",
       "       'From the Department of Emergency Medicine, Chonnam National University Medical School, Gwangju, Republic of Korea (E.J., H.H.R.); Department of Nursing, Nambu University, Gwangju, Republic of Korea (H.Y.K.); and Department of Obstetrics and Gynecology, Chonnam National University Medical School, Gwangju, Republic of Korea (U.C.J.).',\n",
       "       \"Department of Occupational and Environmental Medicine, Seoul St. Mary's Hospital, College of Medicine, Catholic University of Korea, Seoul, Republic of Korea., Department of Occupational and Environmental Medicine, Seoul St. Mary's Hospital, College of Medicine, Catholic University of Korea, Seoul, Republic of Korea., Department of Occupational and Environmental Medicine, Seoul St. Mary's Hospital, College of Medicine, Catholic University of Korea, Seoul, Republic of Korea., Department of Preventive Medicine, Occupational & Environmental Medicine, Seoul National University College of Medicine, Seoul, Republic of Korea., Department of Occupational and Environmental Medicine, Seoul St. Mary's Hospital, College of Medicine, Catholic University of Korea, Seoul, Republic of Korea., Department of Occupational and Environmental Medicine, Seoul St. Mary's Hospital, College of Medicine, Catholic University of Korea, Seoul, Republic of Korea snaptoon@naver.com.\",\n",
       "       'Human Anti-Aging Standards Research Institute, Uiryeong-gun, Gyeongsangnam-do, Republic of Korea (Dr Choi, Mr Cha); Department of Preventive Medicine, College of Medicine, Dong-A University, Busan, Republic of Korea (Dr Hong); Heavy Metal Exposure Environmental Health Center, Dong-A University, Busan, Republic of Korea (Dr Hong); Department of Plant Quarantine, Animal and Plant Quarantine Agency (APQA), Gyeongsangbuk-do, Republic of Korea (Dr Mo, Mr Park); Institute of Agriculture and Life Science, Gyeongsang National University, Gyeongsangnam-do, Republic of Korea (Mr Park).',\n",
       "       'Institute of Health and Environment, Seoul National University, Seoul, Republic of Korea.',\n",
       "       'Department of Emergency Medicine, Chungbuk National University Hospital, 776, 1st Sunhwan-ro, Seowon-gu, Cheongju-si, Chungcheongbuk-do 28646, South Korea (Dr Park and Dr Kim); Strategic Research, Laerdal Medical Tanke Svilandsgate 30, 4002 Stavanger, Norway (Dr Kong); Department of Paramedic Science, Korea National University of Transportation, 61, Daehak-ro, Jeungpyeong-gun, Chungcheongbuk-do, 27909, South of Korea (Dr Shin); Division of Cardiology, Chungbuk National University Hospital, 776, 1st Sunhwan-ro, Seowon-gu, Cheongju-si, Chungcheongbuk-do 28646, South Korea (Dr Lee); Department of Fire Investigation and Analysis, Yongin Fire Station, 45, Myongji-ro, Cheoin-gu, Yongin-si, Gyeonggi-do, 17057, South Korea (Mr Ku); Icheon Fire Station, 2739, Gyeongchung-daero, Icheon-si, Gyeonggi-do, 17379, South Korea (Mr Oh); Department of Emergency Medicine, College of Medicine, Chungbuk National University, 1 Chungdae-ro, Seowongu, Cheongju-si, Chungcheongbuk-do 28646, South Korea (Dr Kim).',\n",
       "       'Department of Preventive Medicine, Seoul National University College of Medicine, Seoul, South Korea., Department of Otolaryngology, Seoul National University College of Medicine, Seoul, South Korea., Department of Otolaryngology, Seoul National University College of Medicine, Seoul, South Korea., Environmental Health Center, Seoul National University College of Medicine, Seoul, South Korea., Institute of Environmental Medicine, Seoul National University Medical Research Center, Seoul, South Korea., Department of Preventive Medicine, Seoul National University College of Medicine, Seoul, South Korea., Environmental Health Center, Seoul National University College of Medicine, Seoul, South Korea., Institute of Environmental Medicine, Seoul National University Medical Research Center, Seoul, South Korea.',\n",
       "       'Yonsei University Graduate School, Seoul (Dr Park); Department of Occupational and Environmental Medicine, Hongseong Medical Center, Hongseong (Dr Park); Division of Cardiology, Korea University Medical Center, Seoul (Dr S-k Oh); Department of Occupational and Environmental Medicine, Busan Adventist Hospital, Sahmyook Medical Center, Busan (Dr Seok); Department of Occupational and Environmental Medicine, Wonju Severance Christian Hospital (Drs Kim, S-S Oh, Koh); Department of Preventive Medicine and Institute of Occupational and Environmental Medicine (Drs Kim, S-S Oh, Koh); Institute of Genomic Cohort (Drs Choi, Koh), Wonju College of Medicine; Center for Global Health and Social Medicine, Institute of Poverty Alleviation and International Development (Dr Koh), Yonsei University, Wonju, Republic of Korea.',\n",
       "       'Department of Occupational and Environmental Medicine, Hallym University Sacred Heart Hospital, Anyang, Korea (Drs Cho, Ju); Department of Occupational & Environmental Health, Graduate School of Public Health, Seoul National University, Seoul, Korea (Drs Cho, Paek); Department of Occupational & Environmental Medicine, Ewha Womans University Mokdong Hospital, Seoul, Korea (Dr Kim); and Department of Occupational and Environmental Medicine, Ewha Womans University School of Medicine, Seoul, Korea (Dr Jung-Choi).',\n",
       "       'Graduate School of Public Health, Korea University, Seoul, South Korea., Department of Preventive Medicine, Korea University College of Medicine, Seoul, South Korea., Department of Radiology, Seoul National University Bundang Hospital, Gyeonggi-do, South Korea., Program in Biomedical Radiation Sciences, Department of Transdisciplinary Studies, Graduate School of Convergence Science and Technology, Seoul National University, Seoul, South Korea., Graduate School of Public Health, Korea University, Seoul, South Korea., Department of Preventive Medicine, Korea University College of Medicine, Seoul, South Korea., Graduate School of Public Health, Korea University, Seoul, South Korea., Department of Preventive Medicine, Korea University College of Medicine, Seoul, South Korea.',\n",
       "       \"Department of Research for Occupational Health, Institute of Occupation and Environment, Korea Workers' compensation & Welfare Service, Incheon, Republic of Korea.\",\n",
       "       'Department of Occupational and Environmental Medicine, Ulsan University Hospital, Dong-Gu, Ulsan, South Korea. chungang@dreamwiz.com',\n",
       "       \"From the Department of Rehabilitation Medicine, Seoul National University Hospital, Seoul, Republic of Korea (S.W.B., H.-I.S., M.S.B., M.-Y.L.); Department of Rehabilitation Medicine, Seoul National University College of Medicine, Seoul, Republic of Korea (H.-I.S., M.S.B.); Department of Rehabilitation Medicine, National Traffic Injury Rehabilitation Hospital, Yangpyeong, Republic of Korea (M.S.B.); Rehabilitation Medical Center, Korea Workers' Compensation and Welfare Service Incheon Hospital, Incheon, Republic of Korea (M.-Y.L.).\",\n",
       "       'Department of Preventive Medicine, Korea University College of Medicine, Seoul, South Korea., Department of Epidemiology and Biostatistics, University of California, San Francisco School of Medicine, San Francisco, California, USA., Department of Preventive Medicine, Korea University College of Medicine, Seoul, South Korea., Department of Preventive Medicine, Korea University College of Medicine, Seoul, South Korea leewj@korea.ac.kr.',\n",
       "       'Korea Institute for Health and Social Affairs, Sejong, Republic of Korea., Department of Public Health Sciences, Korea University, Seoul, Republic of Korea., Gyeonggi public health policy institute, Seongnam, Gyeonggi, Republic of Korea., Department of Public Health Sciences, Korea University, Seoul, Republic of Korea., Department of Social and Behavioral Sciences, Harvard T.H. Chan School of Public Health, Boston, Massachusetts.',\n",
       "       'Institute of Health and Environment, Seoul National University, Seoul, Republic of Korea., Department of Occupational & Environmental Medicine, Inha University Hospital, Incheon, Republic of Korea., Department of Dentistry, Keimyung University School of Medicine, Dalseo-Gu, Daegu, Republic of Korea., Department of Preventive Medicine, College of Medicine, Seoul National University, Seoul, Republic of Korea.',\n",
       "       'Department of Occupational and Environmental Medicine, Gil Medical Center, Gachon University College of Medicine, Incheon (Dr Lee, Dr Lee, Dr Kim, Dr Choi, Dr Ham, Dr Kang); The Institute for Occupational Health, Department of Preventive Medicine, Yonsei University College of Medicine, Seoul (Dr Yoon); and Professional Engineer Work Environment Research Bureau, the Occupational Safety and Health Research Institute, Ulsan, Republic of Korea (Dr Chung).',\n",
       "       'Department of Preventive Medicine, College of Medicine, Seoul National University, Seoul, Republic of Korea., Department of Preventive Medicine, College of Medicine, Seoul National University, Seoul, Republic of Korea., Institute of Health Policy and Management, Medical Research Center, Seoul National University, Seoul, Republic of Korea., Department of Preventive Medicine, College of Medicine, Seoul National University, Seoul, Republic of Korea., Veterans Medical Research Institute, Veterans Health Service Medical Center, Seoul, Republic of Korea.',\n",
       "       'School of Medicine, Eulji University, Jung-gu, Daejeon, South Korea (Dr Kim); Department of Healthcare Management, Graduate School of Public Health, Yonsei University, Seodaemun-gu, Seoul, South Korea (Dr Jang).',\n",
       "       'Department of Preventive Medicine, College of Medicine, Korea University, Seoul, South Korea. leewj@korea.ac.kr.',\n",
       "       'Department of Preventive Medicine, College of Medicine, Seoul National University, Seoul, Republic of Korea (Dr Lee, Dr Hong, and Dr Park); Public Health Medical Service, Seoul National University Hospital, Seoul, Republic of Korea (Dr Seo); Department of Psychiatry, Kangbuk Samsung Hospital, Sungkyunkwan University School of Medicine, Seoul, Republic of Korea (Dr Cho); Human Rights Center, Seoul National University Hospital, Seoul, Republic of Korea (Ms Nam and Dr Lee); and Department of Psychiatry, Seoul National University Hospital, Seoul, Republic of Korea (Dr Lee).',\n",
       "       'Department of Occupational Health, Korea Occupational Safety and Health Agency, Inchon, South Korea. jsunpark@chol.com',\n",
       "       'Tilburg University, Tilburg School of Social and Behavioral Sciences, Tranzo Scientific Center for Care and Welfare, Tilburg, The Netherlands., Tilburg University, Tilburg School of Social and Behavioral Sciences, Tranzo Scientific Center for Care and Welfare, Tilburg, The Netherlands., Tilburg University, Tilburg School of Social and Behavioral Sciences, Tranzo Scientific Center for Care and Welfare, Tilburg, The Netherlands., Department of General Practice and Elderly Care Medicine, VU University Medical Center Amsterdam, EMGO Institute for Health and Care Research, Amsterdam, The Netherlands., Cochrane Occupational Safety and Health Review Group, Finnish Institute of Occupational Health, Kuopio, Finland., Department of Psychiatry and Stress Research Institute, Seoul Paik Hospital, Inje University School of Medicine, Seoul, Republic of Korea., Department of Neuropsychiatry, Eulji University Hospital, Eulji University School of Medicine, Daejeon, Republic of Korea., Department of Public Health, Kitasto University School of Medicine, Sagamihara, Kanagawa, Japan., Department of Occupational Health Promotion, Kyoto Industrial Health Association, Kyoto, Japan., Tilburg University, Tilburg School of Social and Behavioral Sciences, Tranzo Scientific Center for Care and Welfare, Tilburg, The Netherlands Department of Health Sciences, Division of Community and Occupational Medicine, University Medical Center Groningen, University of Groningen, Groningen, The Netherlands., Tilburg University, Tilburg School of Social and Behavioral Sciences, Tranzo Scientific Center for Care and Welfare, Tilburg, The Netherlands Phrenos Centre of Expertise, Utrecht, The Netherlands Parnassia Group, Dijk en Duin Mental Health Center, Castricum, The Netherlands.',\n",
       "       'Department of Occupational and Environmental Medicine, Cheonan Medical Center, Cheonan (Dr Park); Department of Occupational and Environmental Medicine, The Catholic University College of Medicine (Dr Kang); Department of Occupational and Environmental Medicine, Soonchunhyang University College of Medicine (Dr Lee), Seoul, Republic of Korea.',\n",
       "       'From the Department of Occupational and Environmental Medicine, Soonchunhyang University Hospital, Seoul, South Korea.',\n",
       "       'Department of Family Medicine, Gil Medical Center, Gachon University College of Medicine, Incheon, South Korea., Department of Statistics, Dongguk University, Seoul, South Korea., Department of Family Medicine, Gil Medical Center, Gachon University College of Medicine, Incheon, South Korea.',\n",
       "       'Department of Healthcare Management, Korea University, Seoul, Republic of Korea. ssk3@korea.ac.kr',\n",
       "       'Department of Occupational and Environmental Medicine, Cheonan Medical Center, Cheonan, Republic of Korea (Dr Park); Department of Preventive Medicine, Yonsei University College of Medicine, Seodaemun-gu, Seoul, Republic of Korea (Dr Lee and Dr Jung); Department of Emergency Medicine, Cheonan Medical Center, Cheonan, Republic of Korea (Dr Kim); Department of Emergency Medicine, College of Medicine, Dankook University, Cheonan, Republic of Korea (Dr Kim); Department of Epidemiology, Harvard T.H. Chan School of Public Health, Boston, Massachusetts (Dr Jung).',\n",
       "       'Department of Preventive Medicine, Seoul National University College of Medicine, Seoul, Republic of Korea., Department of Preventive Medicine, Seoul National University College of Medicine, Seoul, Republic of Korea., Institute of Environmental Medicine, Seoul National University Medical Research Center, Seoul, Republic of Korea.',\n",
       "       'Department of Occupational and Environmental Medicine, Gumi CHA Medical Center, College of Medicine, Pochon CHA University, Gumi, Korea (South). ycy4@korea.com',\n",
       "       'Department of Preventive Medicine, Inha University College of Medicine, Inchon, Korea. ychong@dragon.inha.ac.kr',\n",
       "       \"Division of Sleep and Circadian Disorders, Departments of Medicine and Neurology, Brigham and Women's Hospital, Boston, Massachusetts, USA., Division of Sleep Medicine, Department of Medicine, Harvard Medical School, Boston, Massachusetts, USA., Warfighter Performance Department, Naval Health Research Center, San Diego, California, USAdouble dagger., Division of Sleep and Circadian Disorders, Departments of Medicine and Neurology, Brigham and Women's Hospital, Boston, Massachusetts, USA., Division of Sleep and Circadian Disorders, Departments of Medicine and Neurology, Brigham and Women's Hospital, Boston, Massachusetts, USA., Division of Sleep Medicine, Department of Medicine, Harvard Medical School, Boston, Massachusetts, USA., Department of Neurology, Davos Hospital, Yongin, Koreadouble dagger., Division of Sleep and Circadian Disorders, Departments of Medicine and Neurology, Brigham and Women's Hospital, Boston, Massachusetts, USA., Division of Sleep Medicine, Department of Medicine, Harvard Medical School, Boston, Massachusetts, USA., Division of Sleep and Circadian Disorders, Departments of Medicine and Neurology, Brigham and Women's Hospital, Boston, Massachusetts, USA., Division of Sleep Medicine, Department of Medicine, Harvard Medical School, Boston, Massachusetts, USA.\",\n",
       "       'Center for Sport Marketing Research, Sport Management, School of Kinesiology, University of Michigan, Ann Arbor, Michigan (Dr Kwon); Department of Sports Industry, College of Physical Education, Chosun University, Dong-gu, Gwangju-si, South Korea (Dr Seo).',\n",
       "       'Department of Occupational and Environmental Medicine, Soonchunhyang University Hospital, Seoul, Republic of Korea (Dr Lee); Department of Occupational and Environmental Medicine, College of Medicine, The Catholic University of Korea, Seoul, Republic of Korea (Dr Kang).',\n",
       "       'Department of Nephrology, Ulsan University Hospital, University of Ulsan College of Medicine, Ulsan, South Korea., Department of Neurology, Ulsan University Hospital, University of Ulsan College of Medicine, Ulsan, South Korea., Department of Laboratory Medicine, Ulsan University Hospital, University of Ulsan College of Medicine, Ulsan, South Korea., Department of Plastic Surgery, Ulsan University Hospital, University of Ulsan College of Medicine, Ulsan, South Korea., Department of Occupational and Environmental Medicine, Ulsan University Hospital, University of Ulsan College of Medicine, Ulsan, South Korea., Department of Occupational and Environmental Medicine, Ulsan University Hospital, University of Ulsan College of Medicine, Ulsan, South Korea., Department of Occupational and Environmental Medicine, Ulsan University Hospital, University of Ulsan College of Medicine, Ulsan, South Korea.',\n",
       "       'Department of Preventive Medicine, Korea University College of Medicine, Seoul, Republic of Korea leewj@korea.ac.kr., Graduate School of Public Health, Korea University, Seoul, Republic of Korea., Department of Preventive Medicine, Korea University College of Medicine, Seoul, Republic of Korea., Department of Preventive Medicine, Korea University College of Medicine, Seoul, Republic of Korea., Department of Psychiatry, Wan Fang Hospital, Taipei Medical University, Taipei, Taiwan., Department of Psychiatry, School of Medicine, College of Medicine, Taipei Medical University, Taipei, Taiwan., Psychiatric Research Center, Wan Fang Hospital, Taipei Medical University, Taipei, Taiwan., Psychiatric Research Center, Wan Fang Hospital, Taipei Medical University, Taipei, Taiwan., Institute of Health Behaviors and Community Sciences and Department of Public Health, College of Public Health, National Taiwan University, Taipei, Taiwan.',\n",
       "       'Department of Preventive Medicine, Seoul National University College of Medicine, Seoul, Republic of Korea., Institute of Environmental Medicine, Seoul National University Medical Research Center, Seoul, Republic of Korea Environmental Health Center, Seoul National University College of Medicine, Seoul, Republic of Korea., Department of Preventive Medicine, Seoul National University College of Medicine, Seoul, Republic of Korea Institute of Environmental Medicine, Seoul National University Medical Research Center, Seoul, Republic of Korea Environmental Health Center, Seoul National University College of Medicine, Seoul, Republic of Korea.',\n",
       "       'College of Nursing, Korea University, Seoul, Republic of Korea.',\n",
       "       'Department of Preventive Medicine, Seoul National University College of Medicine, Seoul, Republic of Korea., Institute of Environmental Medicine, Seoul National University Medical Research Center, Seoul, Republic of Korea Environmental Health Center, Seoul National University College of Medicine, Seoul, Republic of Korea., Department of Preventive Medicine, Seoul National University College of Medicine, Seoul, Republic of Korea Institute of Environmental Medicine, Seoul National University Medical Research Center, Seoul, Republic of Korea Environmental Health Center, Seoul National University College of Medicine, Seoul, Republic of Korea.',\n",
       "       \"First Department of Internal Medicine, School of Medicine, University of Occupational and Environmental Health, Kitakyushu, Japan (Lee); The Institute for Occupational Health (Drs Lee, Roh, Won, Yoon); Graduate School of Public Health, Yonsei University College of Medicine, Seoul (Drs Roh, Won, Yoon); Incheon Worker's Health Center, Namdong-gu (Drs Lee, Roh, Won, Yoon); and Department of Preventive Medicine, Yonsei University College of Medicine, Seoul, Republic of Korea (Drs Roh, Won, Yoon).\",\n",
       "       'Department of Rehabilitation Medicine, Asan Medical Center, University of Ulsan College of Medicine, Songpa-gu, Seoul, Republic of Korea.',\n",
       "       'Department of Occupational and Environmental Medicine, Inha University Hospital, Inha University, 3 Shinheung-dong, Jung-gu, Incheon 400-700, Republic of Korea.',\n",
       "       'Department of Occupational and Environmental Medicine, Dongguk University, Ilsan Hospital, Goyang, Republic of Korea. ysahn@dongguk.ac.kr',\n",
       "       'Department of Occupational Health, Catholic University of Daegu, Gyeongsan, South Korea (Dr Park), Department of Occupational and Environmental Medicine, Ulsan University Hospital, University of Ulsan College of Medicine, Ulsan, South Korea (Dr Kim).',\n",
       "       'Department of Preventive Medicine (Ms Jung, Dr Chang, Dr Kim, Dr Koh); Department of Psychiatry (Dr Min); National Academy of Agricultural Science, Rural Development Administration, Jeonju (Dr Lee); and Institute of Genomic Cohort (Dr Koh, Dr Choi), Yonsei University Wonju College of Medicine, Wonju, Republic of Korea.',\n",
       "       'Department of Occupational and Environmental Medicine, Seegene Medical Foundation, Seoul, Korea., Department of Occupational and Environmental Medicine, Hallym University Sacred Heart Hospital, Seoul, Korea., Department of Occupational and Environmental Medicine, Hallym University Sacred Heart Hospital, Seoul, Korea., Department of Occupational and Environmental Medicine, Changwon Samsung Hospital, Sungkyunkwan College of Medicine, Changwon, Korea., Department of Occupational Medicine, Graduate School of Public Health, School of medicine, the Catholic University of Korea, Seoul, Korea.',\n",
       "       'National Cancer Control Institute, National Cancer Center, Goyang 410-769, Korea., Department of Occupational and Environmental Medicine, Dong-A University, Busan 602-715, Korea, kimji@dau.ac.kr., Department of Occupational and Environmental Medicine, Busan Paik Hospital, Inje University, Busan 614-735, Korea., Occupational Safety and Health Research Institute, Korea Occupational Safety and Health Agency, Incheon 403-711, Korea.',\n",
       "       'Department of Occupational and Environmental Medicine, College of Medicine, The Catholic University of Korea, Seoul, Republic of Korea., Department of Occupational and Environmental Medicine, College of Medicine, The Catholic University of Korea, Seoul, Republic of Korea., Department of Occupational and Environmental Medicine, Hallym University Sacred Heart Hospital, Republic of Korea., Korea Occupational Safety and Health Agency, Ulsan, Republic of Korea., Occupational Safety and Health Research Institute, Korea Occupational Safety and Health Agency, Ulsan, Republic of Korea.',\n",
       "       'Department of Occupational and Environmental Medicine, Cheonan Medical Center, Cheonan (Dr Park); Department of Occupational and Environmental Medicine, Gil Medical Center, Gachon University College of Medicine, Incheon (Dr Lee); Department of Occupational and Environmental Medicine, Soonchunhyang University College of Medicine, Seoul (Dr Lee), Republic of Korea.',\n",
       "       \"From the Department of Urology, Sanggye Paik Hospital, Inje University College of Medicine, Seoul, Republic of Korea (J.Y.K.); From the Department of Preventive Medicine, Yonsei University College of Medicine, Seoul, Republic of Korea (J.Y.); Division of Health Administration, College of Software and Digital Healthcare Convergence, Yonsei University, Wonju, Republic of Korea (K.Y.); Department of Research and Analysis, National Health Insurance Service Ilsan Hospital, Goyang, Republic of Korea (W.R.L.); Department of Occupational and Environmental Medicine, Gil Medical Center, Gachon University College of Medicine, Incheon, Republic of Korea (W.L.); and Department of Occupational and Environmental Medicine, Seoul St Mary's Hospital, College of Medicine, The Catholic University of Korea, Seoul, Republic of Korea (M.Y.K.).\",\n",
       "       'Department of Public Health, Graduate School, Yonsei University, Seoul, Republic of Korea (Mr Jeong, Ms Kim, Ms Oh); Institute of Health Services Research, Yonsei University, Seoul, Republic of Korea (Mr Jeong, Ms Kim, Ms Oh, Dr Park); Institute of Occupational Health, Yonsei University, Seoul, Republic of Korea (Ms Yoon) and Department of Preventive Medicine, Yonsei University College of Medicine, Seoul, Republic of Korea (Ms Yoon, Dr Park).',\n",
       "       \"Graduate School of Public Health (Mr Park); Public Health Center, Seoul National University College of Medicine (Dr Lee); Department of Occupational and Environmental Medicine, Soonchunhyang University College of Medicine (Dr Lee); Department of Occupational and Environmental Medicine, Dong-A University College of Medicine, Pusan (Dr Cho); Department of Occupational and Environmental Medicine, Seoul St. Mary's Hospital, College of Medicine, The Catholic University of Korea, Seoul, Republic of Korea (Dr Kim, Dr Kang).\",\n",
       "       'Department of Public Health Sciences, Graduate School of Korea University, Seoul, South Korea., Department of Public Health Sciences, Graduate School of Korea University, Seoul, South Korea.',\n",
       "       'School of Public Health and Institute of Health and Environment, Seoul National University, Seoul, Korea.',\n",
       "       'Department of Biomedical Science (Dr Yun, Ms Sim, Ms Park); Cancer Research Institute, Seoul National University College of Medicine (Dr Yun, Dr Noh); Integrated Care Center (Dr Yun), Department of Pediatrics (Dr Park), and Department of Surgery (Dr Noh), Seoul National University Hospital, Republic of Korea.',\n",
       "       'Department of Medical IT Engineering, College of Medical Sciences (Dr Ahn); Institute of Occupational and Environmental Medicine (Dr Kim), Soonchunhyang University, Asan; Department of Preventive Medicine, Soonchunhyang University, Asan (Dr Lee); Department of Occupational Health, Daegu Catholic University, Gyeongsan (Dr Park); Department of Occupational and Environmental Medicine, Ulsan University Hospital, University of Ulsan College of Medicine, Ulsan (Dr Kim), Republic of Korea.',\n",
       "       'Department of Occupational Health, Catholic University of Daegu, Gyeongsan, South Korea., Department of Sociology, Yonsei University, Seoul, South Korea., Department of Sociology, Yonsei University, Seoul, South Korea., Department of Occupational and Environmental Medicine, Ulsan University Hospital, University of Ulsan College of Medicine, Ulsan, South Korea.',\n",
       "       'From the Division of Sport Science, Pusan National University, Busan, Republic of Korea (J.-B.K., C.-B.K., Y.-Y.X., J.-J.P.); Department of Sports Science, Dongguk University, Gyeongju, Republic of Korea (S.D.-i.); Department of Physical Education, Institute of Sport Science, Seoul National University, Seoul, Republic of Korea (S.W., C.-G.L.); Institute on Aging, Seoul National University, Seoul, Republic of Korea (S.W.); School of Sport Science, University of Ulsan, Ulsan, Republic of Korea (H.-J.L.); Department of Sports Medicine, Soonchunhyang University, Asan, Republic of Korea (H.-J.K.); Department of Preventive Medicine and Genomic Cohort Institute, Yonsei Wonju College of Medicine, Yonsei University, Wonju, Republic of Korea (Y.S.A.).',\n",
       "       'Institute of Environmental and Occupational Medicine, Soonchunhyang University, Choongnam, South Korea.',\n",
       "       'Department of Occupational and Environmental Medicine, Soonchunhyang University Cheonan Hospital, Cheonan-si, South Korea., Department of Occupational and Environmental Medicine, Dongguk University Gyeongju Hospital, Gyeongju-si, South Korea., Department of Occupational and Environmental Medicine, Dankook University Cheonan Hospital, Cheonan-si, South Korea., Department of Preventive Medicine and Genomic Cohort Institute, Yonsei University Wonju College of Medicine, Wonju, South Korea.',\n",
       "       \"Occupational Safety and Health Research Institute, Korea Occupational Safety and Health Agency, Ulsan, Korea [Current affiliation] Department of Occupational and Environmental Medicine, International St. Mary's Hospital, Catholic Kwandong University, Incheon, Korea., Occupational Safety and Health Research Institute, Korea Occupational Safety and Health Agency, Ulsan, Korea., Occupational Safety and Health Research Institute, Korea Occupational Safety and Health Agency, Ulsan, Korea., Occupational Safety and Health Research Institute, Korea Occupational Safety and Health Agency, Ulsan, Korea.\",\n",
       "       'Department of Occupational Medicine, Dongguk University International Hospital, Dongguk University College of Medicine, Goyang, Korea.',\n",
       "       'College of Nursing, Korea University, Seoul, South Korea (Dr Jung, Dr Choo, Dr Park, Dr Moon, and Dr Noh); Transdisciplinary Major in Learning Health Systems, Graduate School, Korea University, South Korea (Dr Choo).',\n",
       "       'Institute of Industrial Medicine, Soonchunhyang University, Chunan, Republic of Korea.',\n",
       "       'Department of Preventive Medicine, College of Medicine, Seoul National University, Seoul, Republic of Korea., Institute of Health and Environment, Seoul National University, Seoul, Republic of Korea., Department of Preventive Medicine, College of Medicine, Seoul National University, Seoul, Republic of Korea.',\n",
       "       'Department of Occupational and Environmental Medicine, Chonnam National University Hwasun Hospital, Hwasun, Jeollanam-do, Republic of Korea., Department of Occupational and Environmental Medicine, Chonnam National University Hwasun Hospital, Hwasun, Jeollanam-do, Republic of Korea., Department of Occupational and Environmental Medicine, Chonnam National University Hwasun Hospital, Hwasun, Jeollanam-do, Republic of Korea.',\n",
       "       'Department of Environmental Health, Korea National Open University, Seoul, The Republic of Korea., Division of Cancer Epidemiology and Genetics, National Cancer Institute, NIH, Rockville, Maryland, USA., School of Public Health, University of California Berkeley, Berkeley, California, USA., Department of IRAS, Utrecht University, Utrecht, The Netherlands., National Cancer Institute, Rockville, Maryland, USA., National Cancer Institute, Rockville, Maryland, USA., Division of Cancer Epidemiology and Genetics, National Cancer Institute, NIH, Rockville, Maryland, USA., Division of Cancer Epidemiology and Genetics, National Cancer Institute, NIH, Rockville, Maryland, USA., Guangdong Poison Control Center, Guangzhou, China., DCEG/NCI/NIH, Bethesda, Maryland, USA., Guangdong Poison Control Center, Guangzhou, China., Department of Environmental Medicine and Public Health, Icahn School of Medicine at Mount Sinai, New York, New York, USA., Division of Pulmonary, Allergy and Critical Medicine, Emory University, Atlanta, Georgia., Guangdong Medical Laboratory Animal Center, Foshan City, Guangdong, China., Guangdong Poison Control Center, Guangzhou, China., Division of Cancer Epidemiology and Genetics, National Cancer Institute, NIH, Rockville, Maryland, USA., Division of Environmental Health Sciences, School of Public Health, University of California, Berkeley, Georgia, USA., Division of Cancer Epidemiology and Genetics, National Cancer Institute, NIH, Rockville, Maryland, USA.',\n",
       "       'Department of Occupational Health, Catholic University of Daegu, Gyeongsan (Dr Park); Department of Sociology, Yonsei University, Seoul (Ms Han); Department of Occupational and Environmental Medicine, Ulsan University Hospital, University of Ulsan College of Medicine, Ulsan (Dr Kim), South Korea.',\n",
       "       'Department of Mental Hygiene, Seoul National Hospital, an affiliate of the Ministry of Health and Welfare, 51 Neung dong Ro, Gwang-Jin Gu, Seoul 143-711, South Korea. tkleemd@gmail.com',\n",
       "       'Rural Development Administration (RDA), Jeonju, The Republic of Korea., Department of Preventive Medicine, University of Alberta, Edmonton, Alberta, Canada., School of Public Health, University of Alberta, Edmonton, Alberta, Canada., School of Geography and Earth Sciences, McMaster University, Hamilton, Ontario, Canada., Alberta Health, Edmonton, Canada., Rural Development Administration (RDA), Jeonju, The Republic of Korea., School of Public Health, University of Alberta, Edmonton, Alberta, Canada., The Injury Prevention Center, Edmonton, Alberta, Canada.',\n",
       "       'From the Center for Tobacco Research and Education (Dr Dutra), University of California San Francisco; Department of Epidemiology (Dr Kim), Korea University, Seoul, South Korea; and Department of Social and Behavioral Sciences (Drs Williams, Kawachi, and Okechukwu), Harvard School of Public Health, Boston, Mass.',\n",
       "       'Department of Pathology, Yonsei University Wonju College of Medicine, Wonju, Korea.',\n",
       "       'Department of Occupational and Environmental Medicine, Ajou University School of Medicine, Woncheon-dong, Yeongtong-gu, Suwon, South Korea.',\n",
       "       'From the Institute of Health and Environment, Seoul National University, Seoul, Republic of Korea (J.H.K., J.Y.K., S.S.K.), Department of Rehabilitation Medicine, Seoul National University Hospital, Seoul, Republic of Korea (J.Y.); National Traffic Injury Rehabilitation Research Institute, National Traffic Injury Rehabilitation Hospital, Yangpyeong, Republic of Korea (J.Y.); Department of Paramedicine, College of Health Sciences, Eulji University, Seongnam, Republic of Korea (S.J.K.); and Department of Environmental Health Sciences, Graduate School of Public Health, Seoul National University, Republic of Korea (S.S.K.).',\n",
       "       'Department of Environmental Health Sciences, Seoul National University Graduate School of Public Health, Seoul, Korea (the Republic of)., Department of Occupational and Environmental Medicine, Korea University Ansan Hospital, Ansan, Gyeonggi-do, Korea (the Republic of)., Department of Environmental Health Sciences, Seoul National University Graduate School of Public Health, Seoul, Korea (the Republic of)., Institute of Health and Environment, Seoul National University, Seoul, Korea (the Republic of)., Department of Environmental Health Sciences, Seoul National University Graduate School of Public Health, Seoul, Korea (the Republic of) kezoh@snu.ac.kr.',\n",
       "       'School of Nursing, University of Virginia, Charlottesville, Virginia., Korea Armed Forces Nursing Academy, Daejeon, Republic of Korea., David Grant Medical Center, Fairfield, California., College of Nursing, University of Tennessee Knoxville, Knoxville, Tennessee., School of Nursing, University of Virginia, Charlottesville, Virginia., Schools of Nursing and Medicine, University of Maryland, Baltimore, Maryland.',\n",
       "       'Department of Public Health Science, Graduate School of Public Health and Institute of Health and Environment, Seoul National University, Seoul, South Korea., Department of Public Health Science, Graduate School of Public Health and Institute of Health and Environment, Seoul National University, Seoul, South Korea.',\n",
       "       'Universidad Loyola Andalucia, Spain (Dr Ariza-Montes); The University of Faisalabad, Faisalabad (Dr Mahmood); College of Hospitality and Tourism Management, Sejong University, Seoul, Republic of Korea (Dr Han); and The University of Lahore, Lahore (Dr Saleem), Pakistan.',\n",
       "       'Department of Occupational & Environmental Medicine, College of Medicine, The Catholic University of Korea, Seoul, Republic of Korea.',\n",
       "       \"National Institute for Occupational Safety and Health, Centers for Disease Control and Prevention, Morgantown, West Virginia., National Institute for Occupational Safety and Health, Centers for Disease Control and Prevention, Morgantown, West Virginia., National Institute for Occupational Safety and Health, Centers for Disease Control and Prevention, Morgantown, West Virginia., Institute of Health and Environment, Seoul National University, Seoul, Republic of Korea., National Institute for Occupational Safety and Health, Centers for Disease Control and Prevention, Morgantown, West Virginia., National Institute for Occupational Safety and Health, Centers for Disease Control and Prevention, Morgantown, West Virginia., Translational Pulmonary Science Center, Cincinnati Children's Hospital Medical Center, Cincinnati, Ohio., Division of Pulmonary, Critical Care, and Sleep Medicine, University of Cincinnati College of Medicine, Cincinnati, Ohio., Translational Pulmonary Science Center, Cincinnati Children's Hospital Medical Center, Cincinnati, Ohio., National Institute for Occupational Safety and Health, Centers for Disease Control and Prevention, Morgantown, West Virginia., National Institute for Occupational Safety and Health, Centers for Disease Control and Prevention, Morgantown, West Virginia.\",\n",
       "       'Division of Colorectal Surgery, Department of Surgery, Chonnam National University Hospital, Gwangju, Republic of Korea., Division of Colorectal Surgery, Department of Surgery, Korea University Anam Hospital, Seoul, Republic of Korea., Division of Gastroenterology and Hepatology, Department of Internal Medicine, Korea University College of Medicine, Seoul, Republic of Korea., Department of Microbiology, Korea University College of Medicine, Seoul, Republic of Korea.',\n",
       "       'Department of Preventive Medicine and Institute of Occupational Medicine, Wonju College of Medicine, Yonsei University, Wonju, Gangwondo 220-701, South Korea. chang@wonju.yonsei.ac.kr',\n",
       "       'From the Division of Sport Science, Pusan National University, Busan, Republic of Korea (J.-B.K., Y.-Y.X., C.-B.K., J.-J.P.); Department of Physical Education, College of Education, Gyeongsang National University, Jinju, Republic of Korea (Y.-Y.X.); Department of Sports Science, Dongguk University, Gyeongju, Republic of Korea (D.S.); Department of Physical Education, Institute of Sport Science, Seoul National University, Seoul, Republic of Korea (W.S., C.G.L.); Institute on Aging, Seoul National University, Seoul, Republic of Korea (W.S.); School of Sport Science, University of Ulsan, Ulsan, Republic of Korea (H.L.); Department of Sports Medicine, Soonchunhyang University, Asan, Republic of Korea (H.K.); and Department of Preventive Medicine and Genomic Cohort Institute, Yonsei Wonju College of Medicine, Yonsei University, Wonju, Republic of Korea (Y.-S.A.).',\n",
       "       \"Division of Sleep and Circadian Disorders, Department of Medicine, Brigham and Women's Hospital, Boston, Massachusetts, USA., Division of Sleep Medicine, Harvard Medical School, Boston, Massachusetts, USA., Division of Sleep and Circadian Disorders, Department of Medicine, Brigham and Women's Hospital, Boston, Massachusetts, USA., Division of Sleep Medicine, Harvard Medical School, Boston, Massachusetts, USA., Division of Sleep and Circadian Disorders, Department of Medicine, Brigham and Women's Hospital, Boston, Massachusetts, USA., Division of Sleep and Circadian Disorders, Department of Medicine, Brigham and Women's Hospital, Boston, Massachusetts, USA., Division of Sleep Medicine, Harvard Medical School, Boston, Massachusetts, USA., Department of Neurology, Dankook University College of Medicine, Dankook University Hospital, Cheonan, Republic of Korea., Division of Sleep and Circadian Disorders, Department of Medicine, Brigham and Women's Hospital, Boston, Massachusetts, USA., Division of Sleep Medicine, Harvard Medical School, Boston, Massachusetts, USA., Division of Sleep and Circadian Disorders, Department of Medicine, Brigham and Women's Hospital, Boston, Massachusetts, USA jduffy@research.bwh.harvard.edu., Division of Sleep Medicine, Harvard Medical School, Boston, Massachusetts, USA.\",\n",
       "       \"The Institute for Occupational Health, Yonsei University College of Medicine, Seoul, Korea Graduate School of Public Health, Yonsei University College of Medicine, Seoul, Korea Incheon Worker's Health Center, Korea., Department of Occupational and Environmental Medicine, Dongguk University Ilsan Hospital, Goyang, Korea., The First Department of Internal Medicine, School of Medicine, University of Occupational and Environmental Health, Kitakyushu, Japan., Graduate School of Public Health, Yonsei University College of Medicine, Seoul, Korea Department of Preventive Medicine, Yonsei University College of Medicine, Seoul, Korea Cardiovascular and Metabolic Disease Etiology Research Center, Yonsei University College of Medicine, Seoul, Korea., Graduate School of Public Health, Yonsei University College of Medicine, Seoul, Korea Department of Preventive Medicine, Yonsei University College of Medicine, Seoul, Korea Institute for Health Promotion, Graduate School of Public Health, Yonsei University, Seoul, Korea., The Institute for Occupational Health, Yonsei University College of Medicine, Seoul, Korea Graduate School of Public Health, Yonsei University College of Medicine, Seoul, Korea Incheon Worker's Health Center, Korea Department of Preventive Medicine, Yonsei University College of Medicine, Seoul, Korea.\",\n",
       "       'Department of Occupational Health, Catholic University of Daegu, Gyeongsan (Dr Park); Department of Occupational and Environmental Medicine, Ulsan University Hospital, University of Ulsan College of Medicine, Ulsan (Dr Kim), South Korea.',\n",
       "       'From the Department of Human Ecology (Drs Yorifuji and Tsuda), Okayama University Graduate School of Environmental and Life Science, Japan; Public Health Medical Service (Dr Bae), Seoul National University Hospital, Korea; Department of Public Health and Health Policy (Dr Kashima), Institute of Biomedical & Health Sciences, Hiroshima University; Department of Epidemiology (Dr Doi), Okayama University Graduate School of Medicine, Dentistry and Pharmaceutical Sciences; Department of Health Care Policy and Health Economics (Dr Honda), Faculty of Medicine, University of Tsukuba, Japan; Department of Epidemiology and Biostatistics (Dr Kim), Graduate School of Public Health, Seoul National University; and Institute of Environmental Medicine (Dr Hong), Seoul National University Medical Research Center, Korea.',\n",
       "       'Department of Occupational and Environmental Medicine, Inha University College of Medicine, 7-241, 3rd Street Shinheung-Dong, Jung-Gu, Incheon 400-103, South Korea. ychong@inha.ac.kr',\n",
       "       \"Department of Occupational and Environmental Medicine, Seoul St. Mary's Hospital, College of Medicine, The Catholic University of Korea (Dr Park, Dr Lee, Dr Kim, Dr Lee, Dr Ahn, Dr Kang); Public Healthcare Center, Seoul National University Hospital, Seoul, Republic of Korea (Dr D.W. Lee).\",\n",
       "       'Department of Occupational and Environmental Medicine, Kangbuk Samsung Hospital, Sungkyunkwan University School of Medicine, Seoul, Republic of Korea., Department of Medical Humanities and Social Sciences, Yonsei University College of Medicine, Seoul, Republic of Korea., Division of Biostatistics, Department of R&D Management, Kangbuk Samsung Hospital, Sungkyunkwan University School of Medicine, Seoul, Republic of Korea., Department of Occupational and Environmental Medicine, Kangbuk Samsung Hospital, Sungkyunkwan University School of Medicine, Seoul, Republic of Korea., Center for Cohort Studies, Total Healthcare Center, Kangbuk Samsung Hospital, Sungkyunkwan University School of Medicine, Seoul, Republic of Korea., Department of Clinical Research Design & Evaluation, SAIHST, Sungkyunkwan University, Seoul, Republic of Korea., Department of Occupational and Environmental Medicine, Kangbuk Samsung Hospital, Sungkyunkwan University School of Medicine, Seoul, Republic of Korea., Center for Cohort Studies, Total Healthcare Center, Kangbuk Samsung Hospital, Sungkyunkwan University School of Medicine, Seoul, Republic of Korea., Department of Clinical Research Design & Evaluation, SAIHST, Sungkyunkwan University, Seoul, Republic of Korea.',\n",
       "       'Department of Occupational Health, Catholic University of Daegu, Gyeongsan (Dr Park), South Korea; Department of Occupational and Environmental Medicine, Ulsan University Hospital, University of Ulsan College of Medicine, Ulsan (Dr Kim), South Korea.',\n",
       "       'Department of Internal Medicine, Yonsei University College of Medicine, CPO Box 8044, Seoul, Korea.',\n",
       "       \"College of Nursing, Ewha Womans University, Seoul, South Korea., College of Nursing, Ewha Womans University, Seoul, South Korea., Department of Psychology, Ewha Womans University, Seoul, South Korea., Department of Dermatology and Epidemiology, Brown University, Providence, Rhode Island, USA., Channing Division of Network Medicine, Brigham and Women's Hospital and Harvard Medical School, Boston, Massachusetts, USA., Department of Nursing, Doowon Technical University, Anseong, South Korea., College of Nursing, Ewha Womans University, Seoul, South Korea., Department of Nursing Science, Seojeong University, Yangju, South Korea., Department of Psychology, Ewha Womans University, Seoul, South Korea., Department of Sports Industry Studies, Yonsei University, Seoul, South Korea., Department of Nutrition, Harvard T.H. Chan School of Public Health, Boston, Massachusetts, USA., Department of Nutrition and Epidemiology, Harvard T.H. Chan School of Public Health, Boston, Massachusetts, USA., Department of Precision Medicine, Korea National Institute of Health, Korea Disease Control and Prevention Agency, Cheongju, South Korea., College of Nursing, Mo-Im Kim Nursing Research Institute, Yonsei University, Seoul, South Korea suekim@yuhs.ac.\",\n",
       "       'Department of Occupational and Environmental Medicine, Ulsan University Hospital, University of Ulsan College of Medicine, Ulsan, South Korea. yanghokm@nuri.net',\n",
       "       'From the Department of Anesthesiology and Pain Medicine, Seoul National University Bundang Hospital, Seongnam, South Korea (T.K., I.A.S.); Department of Anesthesiology and Pain Medicine, College of Medicine, Seoul National University, Seoul, South Korea (T.K., I.A.S.); and Department of Occupational and Environmental Medicine, Shihwa Medical Center, Siheumg-si, South Korea.',\n",
       "       'Department of Public Health and Hygiene, Andong Public Health Center, Andong, Korea (Dr Lee); Department of Medicine, Graduate School, The Catholic University of Korea, Seoul, Korea (Dr Lee); and Department of Occupational and Environmental Medicine, College of Medicine, The Catholic University of Korea, Seoul, Korea (Dr Kim).',\n",
       "       'Department of Health and Human Services, Division of Cancer Epidemiology and Genetics, National Cancer Institute, National Institutes of Health, Bethesda, Maryland, USA., Department of Health and Human Services, Division of Cancer Epidemiology and Genetics, National Cancer Institute, National Institutes of Health, Bethesda, Maryland, USA., Department of Health and Human Services, Division of Cancer Epidemiology and Genetics, National Cancer Institute, National Institutes of Health, Bethesda, Maryland, USA Stewart Exposure Assessments, LLC, Arlington, Virginia, USA., Korea National Open University, Seoul, Korea., Vermont Cancer Registry, Burlington, Vermont, USA., Maine Cancer Registry, Augusta, Maine, USA., Geisel School of Medicine at Dartmouth, Hanover, New Hampshire, USA., New Hampshire Department of Health and Human Services, Concord, New Hampshire, USA., Geisel School of Medicine at Dartmouth, Hanover, New Hampshire, USA., Maine Cancer Registry, Augusta, Maine, USA., Department of Health and Human Services, Division of Cancer Epidemiology and Genetics, National Cancer Institute, National Institutes of Health, Bethesda, Maryland, USA., Department of Health and Human Services, Division of Cancer Epidemiology and Genetics, National Cancer Institute, National Institutes of Health, Bethesda, Maryland, USA., Department of Health and Human Services, Division of Cancer Epidemiology and Genetics, National Cancer Institute, National Institutes of Health, Bethesda, Maryland, USA., Department of Health and Human Services, Division of Cancer Epidemiology and Genetics, National Cancer Institute, National Institutes of Health, Bethesda, Maryland, USA., Department of Health and Human Services, Division of Cancer Epidemiology and Genetics, National Cancer Institute, National Institutes of Health, Bethesda, Maryland, USA., Department of Health and Human Services, Division of Cancer Epidemiology and Genetics, National Cancer Institute, National Institutes of Health, Bethesda, Maryland, USA.',\n",
       "       'From the Korea Energy Economics Institute (Dr Chung), Seoul, South Korea; and Center for Healthcare Policy and Research and Department of Public Health Sciences (Dr Leigh), University of California Davis School of Medicine.',\n",
       "       \"Occupational and Environmental Epidemiology Branch, Division of Cancer Epidemiology and Genetics, National Cancer Institute, Rockville, Maryland., Department of Occupational and Environmental Medicine, International St.Mary's Hospital, Catholic Kwandong University, Incheon, Korea., Department of Occupational and Environmental Medicine, International St.Mary's Hospital, Catholic Kwandong University, Incheon, Korea., Occupational and Environmental Epidemiology Branch, Division of Cancer Epidemiology and Genetics, National Cancer Institute, Rockville, Maryland., National Environmental Health Research Center, National Health Research Institutes, Zhunan, Taiwan., Occupational and Environmental Epidemiology Branch, Division of Cancer Epidemiology and Genetics, National Cancer Institute, Rockville, Maryland., Occupational and Environmental Epidemiology Branch, Division of Cancer Epidemiology and Genetics, National Cancer Institute, Rockville, Maryland.\",\n",
       "       'Department of Biomedical Science (Dr Yun, Ms Sim, and Ms Lim), Cancer Research Institute, Seoul National University College of Medicine (Drs Yun, Noh); Institute of Health Policy and Management, Seoul National University College of Medicine and Hospital (Dr Yun); Department of Educational Technology, Seoul National University College of Education (Dr Lim); Department of Business Administration, Seoul National University Business School (Dr Kang); Department of Physical Education, Seoul National University College of Education (Dr Kang); Department of Pediatrics (Dr Park); Department of Surgery, Seoul National University College of Medicine and Hospital (Dr Noh), Republic of Korea.',\n",
       "       'Department of Occupational Health, Catholic University of Daegu, Gyeongsan, South Korea., Department of Sociology, Yonsei University, Seoul, South Korea., Department of Occupational and Environmental Medicine, Ulsan University Hospital, University of Ulsan College of Medicine, Ulsan, South Korea.',\n",
       "       'Department of Occupational and Environmental Medicine, College of Medicine, Hanyang University, Seoul, South Korea.',\n",
       "       'From the Department of Occupational and Environmental Medicine, Kangbuk Samsung Hospital, Sungkyunkwan University School of Medicine, Seoul, Republic of Korea.',\n",
       "       'College of Nursing, Kyungpook National University, Daegu, Korea.',\n",
       "       'Department of Public Health, Graduate School, Yonsei University, Seoul, Republic of Korea., Institute of Health Services Research, Yonsei University, Seoul, Republic of Korea., Institute of Health Services Research, Yonsei University, Seoul, Republic of Korea., Department of Preventive Medicine, Yonsei University College of Medicine, Seoul, Republic of Korea., Department of Public Health, Graduate School, Yonsei University, Seoul, Republic of Korea., Institute of Health Services Research, Yonsei University, Seoul, Republic of Korea., Institute of Health Services Research, Yonsei University, Seoul, Republic of Korea., Graduate School of Public Heath, Yonsei University, Seoul, Republic of Korea.',\n",
       "       'University of Iowa, College of Nursing, Iowa City, Iowa (Drs Ramey and Perkhounkova, Ms Hein), University of Iowa College of Public Health, Iowa City, Iowa (Dr Ramey), University of Ulsan, Ulsan, South Korea (Dr Chung), and Iowa State University, Department of Kinesiology, Ames, Iowa (Dr Franke and Ms Anderson).',\n",
       "       'School of Public Health, Seoul National University, 28 Yeunkun-Dong, Chongno-Ku, Seoul 110-799, Korea.',\n",
       "       'From the Division of Cancer Prevention, National Cancer Control Institute, Goyang, Republic of Korea (Dr Choi); School of the Environment, Yale University, New Haven, CT (Dr Choi); Department of Public Health Science, Seoul National University, Seoul, Republic of Korea (Dr Choi); Occupational and Environmental Medicine, Hanyang University College of Medicine, Seoul, Republic of Korea (Dr Kim); and Department of Public Health Sciences, Graduate School of Public Health, Seoul National University, Seoul, Republic of Korea (Dr Hwang).',\n",
       "       'Department of Molecular Medicine, Kyungpook National University College of Medicine, Kyungpook National University Hospital, Daegu, South Korea.',\n",
       "       'Department of Preventive and Occupational Medicine, Pusan National University School of Medicine, Busan, Korea.',\n",
       "       'Occupational Safety and Health Research Institute, Korea Occupational Safety and Health Agency, Ulsan, Korea., Occupational Safety and Health Research Institute, Korea Occupational Safety and Health Agency, Ulsan, Korea., Occupational Safety and Health Research Institute, Korea Occupational Safety and Health Agency, Ulsan, Korea.',\n",
       "       'Department of Occupational and Environmental Medicine, Kangbuk Samsung Hospital, Sungkyunkwan University School of Medicine, Seoul, Republic of Korea.',\n",
       "       \"Gachon University College of Medicine, Gil Medical Center, Incheon, Republic of Korea (Dr Na); Korea Workers' Compensation & Welfare Service Ansan Hospital, Ansan, Republic of Korea (Dr Kim).\",\n",
       "       'Department of Public Health Sciences, Graduate School of Korea University, Seoul, South Korea., Department of Public Health Sciences, Graduate School of Korea University, Seoul, South Korea., Department of Public Health Sciences, Graduate School of Korea University, Seoul, South Korea., Department of Public Health Sciences, Graduate School of Korea University, Seoul, South Korea., Department of Social and Behavioral Sciences, Harvard T.H. Chan School of Public Health, Boston, Massachusetts.',\n",
       "       'Institute of Health and Environment, Seoul National University, Seoul, Republic of Korea., Department of Preventive Medicine, College of Medicine, Seoul National University, Seoul, Republic of Korea., Department of Occupational and Environmental Medicine, Inha University Hospital, Incheon, Republic of Korea., Department of Dentistry, Keimyung University School of Medicine, Daegu, Republic of Korea., Department of Preventive Medicine, College of Medicine, Seoul National University, Seoul, Republic of Korea.',\n",
       "       'Department of Occupational Health, Catholic University of Daegu, Gyeongsan, South Korea., Department of Sociology, Yonsei University, Seoul, South Korea., Department of Sociology, Yonsei University, Seoul, South Korea., Environmental Health Center, Ulsan University Hospital, University of Ulsan College of Medicine, Ulsan, South Korea., Department of Occupational and Environmental Medicine, Ulsan University Hospital, University of Ulsan College of Medicine, Ulsan, South Korea.',\n",
       "       'Department of Nursing, College of Medicine, Wonkwang University, Iksan, Korea (Dr Min), Division of Nursing, Hyejeon College, Chungcheongnam-do, Korea (Dr Lee).',\n",
       "       'Department of Occupational and Environmental Medicine, Chonnam National University Hwasun Hospital, Hwasun, Jeollanam-do, Republic of Korea., Department of Occupational and Environmental Medicine, Chonnam National University Hwasun Hospital, Hwasun, Jeollanam-do, Republic of Korea., Department of Occupational and Environmental Medicine, Mokpo Christian Hospital, Mokpo, Jeollanam-do, Republic of Korea., Department of Occupational and Environmental Medicine, Chonnam National University Hwasun Hospital, Hwasun, Jeollanam-do, Republic of Korea., Department of Occupational and Environmental Medicine, Chonnam National University Hwasun Hospital, Hwasun, Jeollanam-do, Republic of Korea., Department of Occupational and Environmental Medicine, Chonnam National University Hwasun Hospital, Hwasun, Jeollanam-do, Republic of Korea., Department of Occupational and Environmental Medicine, Chonnam National University Hwasun Hospital, Hwasun, Jeollanam-do, Republic of Korea., Department of Occupational and Environmental Medicine, Chonnam National University Hwasun Hospital, Hwasun, Jeollanam-do, Republic of Korea.',\n",
       "       'Occupational Safety and Health Research Institute (OSHRI), Korea Safety and Health Agency (KOSHA), #34-4, Gusan-dong, Bupyeong-gu, Incheon, 403-711, Republic of Korea. koh.donghee@gmail.com',\n",
       "       \"Department of Occupational and Environmental Medicine, Gil Medical Center, Gachon University College of Medicine, Incheon, Republic of Korea (Dr Lee); Incheon Hospital, Korea Workers' Compensation & Welfare Service, Incheon, Republic of Korea (Dr YJ Kang); Health Care Center, SMG-SNU Boramae Medical Center, College of Medicine, Seoul National University, Seoul, Republic of Korea (Dr Kim); Department of Global Economics, Sungkyunkwan University, Seoul, Republic of Korea (Dr Choi); Department of Occupational and Environmental Medicine, Seoul St. Mary's Hospital, College of Medicine, The Catholic University of Korea, Seoul, Republic of Korea (Dr M-Y Kang).\",\n",
       "       \"Department of Occupational and Environmental Medicine, COMWEL Incheon Hospital, Incheon, Republic of Korea., Department of Occupational and Environmental Medicine, Seoul St. Mary's Hospital, College of Medicine, The Catholic University of Korea, Seoul, Republic of Korea.\",\n",
       "       'From the Department of Nursing, College of Nursing, Gachon University, Incheon, Republic of Korea.',\n",
       "       'From the Department of Rehabilitation Medicine, Seoul National University Hospital, Seoul, Republic of Korea (Dr Bae); The Institute for Occupational Health, Yonsei University College of Medicine, Seoul, Republic of Korea (Dr Won, Dr Park); Graduate School of Public Health, Yonsei University, Seoul, Republic of Korea (Dr Won, Dr Park); and Department of Occupational and Environmental Medicine, Severance Hospital, Yonsei University College of Medicine, Seoul, Republic of Korea (Dr Won).',\n",
       "       \"From the Department of Rehabilitation Medicine, Seoul National University Hospital, Seoul, South Korea (Dr Bae, Dr Lee); and Rehabilitation Medicine Center, Korea Workers' Compensation and Welfare Service Incheon Hospital, Incheon, South Korea (Dr Lee).\",\n",
       "       'From the Department of Surgery, Yonsei University Wonju College of Medicine, Wonju, Republic of Korea (Pf An); Department of Occupational and Environmental Medicine, Incheon Nasaret International Hospital, Incheon, Republic of Korea (Dr Park).',\n",
       "       'Department of Occupational and Environmental Medicine, Kangbuk Samsung Hospital, School of Medicine, Sungkyunkwan University, Seoul, Republic of Korea.',\n",
       "       \"From the Department of Dental Hygiene, Hanyang Women's University (Dr Jeung); Task Force for Launching Non-benefit Service Reporting, National Health Insurance Service (Dr Hyun); Department of Occupational and Environmental Medicine, Hanyang University College of Medicine (Dr Kim), Seoul; Department of Preventive Medicine & Institute of Occupational Environmental Medicine, Yonsei University Wonju College of Medicine (Dr Chang), Wonju, Republic of Korea..\",\n",
       "       'Institute of Social Sciences, Kookmin University (Dr Han); Department of Public Administration, The Catholic University of Korea (Dr Park, Dr Lee), Seoul, South Korea.',\n",
       "       \"Department of Social and Behavioral Sciences, Harvard T.H. Chan School of Public Health (Dr Kim, Dr Zaitsu, Dr Tsuno, Dr Li, Dr Jang, Dr Kawachi); Department of Public Health, Graduate School of Medicine, The University of Tokyo, Tokyo (Dr Zaitsu); School of Health Innovation, Kanagawa University of Human Services, Kanagawa (Dr Tsuno), Japan; Division of Sleep and Circadian Disorders, Departments of Medicine and Neurology, Brigham and Women's Hospital (Dr Li), Boston, Massachusetts; Department of Epidemiology and Biostatistics, University of Maryland School of Public Health, Maryland (Dr Lee); Red Cross College of Nursing, Chung-Ang University, Seoul, Republic of Korea (Dr Jang).\",\n",
       "       \"Department of Occupational and Environmental Medicine, Seoul St. Mary's Hospital, College of Medicine, The Catholic University of Korea (Dr Lee, Dr Koo, Dr Kang); Department of Research for Occupational Health, Institute of Occupation and Environment, Korea Workers' Compensation & Welfare Service (Dr Lee); Department of Preventive Medicine, Yonsei University College of Medicine (Dr Yoon); Incheon Hospital, Korea Workers' Compensation & Welfare Service (Dr Kang), Incheon; Health Care Center, Boramae Medical Center, College of Medicine, Seoul National University (Dr Kim), Seoul, Republic of Korea.\",\n",
       "       'Interdepartment of Critical Care Medicine (Dr Im); Department of Surgery (Dr Im); Department of Occupational and Environmental Medicine, Shihwa Medical Center, Siheumg-si (Dr Kim); Department of Anesthesiology and Pain Medicine (Dr Oh), Seoul National University Bundang Hospital, Seongnam, South Korea.',\n",
       "       'Department of Occupational & Environmental Medicine, Soonchunhyang University Hospital, Seoul, Republic of Korea.',\n",
       "       'Division of Cardiology, Department of Internal Medicine (Drs Ahn, Choe, Shin, Park, Lee, Oh, Choi, Lee, Cha, Hong); Biomedical Research Institute (Dr Ahn), Pusan National University Hospital; Department of Statistics, Pukyong National University (Dr Uhm); Department of Atmospheric Sciences, Pusan National University (Dr Won), Busan; Department of Statistics and Institute of Statistics, Hallym University, Chuncheon (Dr Han); and Division of Cardiology, Department of Internal Medicine, Korea University Medical Center, Seoul (Dr Kim), Republic of Korea.',\n",
       "       'National Cancer Control Institute, National Cancer Center, Goyang-si, Gyeonggi-do, South Korea (Dr Hwang); Department of Occupational and Environmental Medicine, Ajou University, School of Medicine, Yeongtong-gu, Suwon, South Korea (Drs Lee, Park).',\n",
       "       'Department of Community, Environment and Policy, Mel and Enid Zuckerman College of Public Health, University of Arizona, Tucson, Arizona (Dr Jeong, Dr Griffin, Ms Dearmon-Moore, Ms Littau, Dr Burgess); Department of Occupational and Environmental Medicine, Graduate School of Medicine Dongguk University-Seoul, Dongguk University Ilsan Hospital, Goyang, Republic of Korea (Dr Jeong); Department of Epidemiology and Biostatistics, Mel and Enid Zuckerman College of Public Health, University of Arizona, Tucson, Arizona (Drs Zhou, Jacobs, Ms Zhai); Tucson Fire Department, Tucson, Arizona (Mr Gulotta, Mr Moore); WellAmerica, Tucson, Arizona (Dr Peate); University of Arizona Genetics Core, Arizona Research Laboratories, University of Arizona, Tucson, Arizona (Richt).',\n",
       "       'College of Nursing, Chonnam National University, Gwangju 61469, Republic of Korea., College of Nursing, Chonnam National University, Gwangju 61469, Republic of Korea., College of Nursing, Chonnam National University, Gwangju 61469, Republic of Korea., College of Nursing, Chonnam National University, Gwangju 61469, Republic of Korea., Department of Nursing, Chonnam National University Hospital, Gwangju 61469, Republic of Korea., Department of Nursing, Chonnam National University Hospital, Gwangju 61469, Republic of Korea., Department of Nursing, Chonnam National University Hospital, Gwangju 61469, Republic of Korea.',\n",
       "       \"Department of Research for Occupational Health, Institute of Occupation and Environment, Korea Workers' Compensation & Welfare Service, Incheon, 21417, Republic of Korea., Department of Research for Occupational Health, Institute of Occupation and Environment, Korea Workers' Compensation & Welfare Service, Incheon, 21417, Republic of Korea., Department of Research for Occupational Health, Institute of Occupation and Environment, Korea Workers' Compensation & Welfare Service, Incheon, 21417, Republic of Korea., Department of Research for Occupational Health, Institute of Occupation and Environment, Korea Workers' Compensation & Welfare Service, Incheon, 21417, Republic of Korea.\",\n",
       "       'Department of Neurology, Keimyung University School of Medicine, Daegu, South Korea., Department of Neurology, Keimyung University School of Medicine, Daegu, South Korea.',\n",
       "       'Chonnam National University, College of Nursing, Gwangju 61469, Republic of Korea., Chonnam National University Hwasun Hospital, Hwasun 58128, Republic of Korea., Chonnam National University, College of Nursing, Gwangju 61469, Republic of Korea.',\n",
       "       'Department of Occupational and Environmental Medicine, Pusan National University Yangsan Hospital, Yangsan, Republic of Korea., Medical Research Institute, Pusan National University, Yangsan, Republic of Korea., Department of Preventive and Occupational & Environmental Medicine, School of Medicine, Pusan National University, Yangsan, Republic of Korea., Department of Occupational and Environmental Medicine, Pusan National University Yangsan Hospital, Yangsan, Republic of Korea., Department of Preventive and Occupational & Environmental Medicine, School of Medicine, Pusan National University, Yangsan, Republic of Korea., Department of Occupational and Environmental Medicine, Pusan National University Yangsan Hospital, Yangsan, Republic of Korea., Department of Preventive and Occupational & Environmental Medicine, School of Medicine, Pusan National University, Yangsan, Republic of Korea., Department of Occupational and Environmental Medicine, Pusan National University Yangsan Hospital, Yangsan, Republic of Korea., Department of Preventive and Occupational & Environmental Medicine, School of Medicine, Pusan National University, Yangsan, Republic of Korea.',\n",
       "       'Department of Surgery, Yonsei University Wonju College of Medicine, Wonju, Republic of Korea., Department of Occupational and Environmental Medicine, Gangnam Giein Hospital, Seoul, Republic of Korea.',\n",
       "       'Institute of Environmental & Occupational Medicine, Soonchunhyang University, 646 Eupnae-ri, Shinchang-myun, Asan-si, Choongnam 336-745, South Korea.',\n",
       "       'Occupational Safety and Health Research Institute (OSHRI) Korea Occupational Safety and Health Agency (KOSHA), Incheon, Republic of Korea. koh.donghee@gmail.com',\n",
       "       'Department of Community Health Systems, School of Nursing, University of California, San Francisco, California, USA., Department of Community Health Systems, School of Nursing, University of California, San Francisco, California, USA., Department of Nursing, Chodang University, Jeollanamdo, South Korea., Division of Occupational and Environmental Medicine, School of Medicine, University of California, San Francisco, California, USA.',\n",
       "       'Department of Public Health Sciences, Korea University, Seoul, Republic of Korea., Department of Public Health, Keimyung University, Daegu, Republic of Korea., Department of Public Health Sciences, Korea University, Seoul, Republic of Korea., Department of Public Health Sciences, Korea University, Seoul, Republic of Korea., Interdisciplinary Program in Precision Public Health, Department of Public Health Sciences, Korea University, Seoul, Republic of Korea., Department of Social and Behavioral Sciences, Harvard T.H. Chan School of Public Health, Boston, Massachusetts, USA.',\n",
       "       \"Department of Occupational and Environmental Medicine, Gangnam Giein Hospital, Seoul, Republic of Korea., Department of Occupational and Environmental Medicine, Seoul St. Mary's Hospital, College of Medicine, The Catholic University of Korea, Seoul, Republic of Korea., Department of Occupational and Environmental Medicine, Soonchunhyang University Hospital, Seoul, Republic of Korea.\",\n",
       "       'Department of Occupational Medicine, Hallym University Sacred Heart Hospital, Anyang, Korea.',\n",
       "       'Department of Occupational and Environmental Medicine, Dongguk University Gyeongju Hospital, Gyeongju-si, South Korea., Department of Occupational and Environmental Medicine, Dongguk University Ilsan Hospital, Goyang-si, South Korea.',\n",
       "       \"Division of Cancer Epidemiology and Genetics, Occupational and Environmental Epidemiology Branch, National Cancer Institute, Bethesda, Maryland., Yale School of Public Health, Yale University, New Haven, Connecticut., Department of Occupational and Environmental Medicine, International St. Mary's Hospital, Catholic Kwandong University, Incheon, Korea., Division of Cancer Epidemiology and Genetics, Biostatistics Branch, National Cancer Institute, Bethesda, Maryland., Division of Cancer Epidemiology and Genetics, Occupational and Environmental Epidemiology Branch, National Cancer Institute, Bethesda, Maryland., Division of Cancer Epidemiology and Genetics, Occupational and Environmental Epidemiology Branch, National Cancer Institute, Bethesda, Maryland.\",\n",
       "       'Occupational Safety and Health Research Institute, Korea Occupational Safety and Health Agency, Ulsan, Korea., Occupational Safety and Health Research Institute, Korea Occupational Safety and Health Agency, Ulsan, Korea., Occupational Safety and Health Research Institute, Korea Occupational Safety and Health Agency, Ulsan, Korea.',\n",
       "       'Industrial Health Research Institute, Korea Industrial Safety Corporation (KISCO) 34-6, Incheon, South Korea.',\n",
       "       'Department of Preventive Medicine, College of Medicine, Seoul National University, Seoul, Republic of Korea.',\n",
       "       'Department of Occupational and Environmental Medicine, Ulsan University Hospital, University of Ulsan College of Medicine, Dong-Ku, Ulsan, South Korea. yanghokm@nuri.net',\n",
       "       'Department of Occupational and Environmental Medicine, Korea University Ansan Hospital, Ansan, Republic of Korea., Department of Occupational and Environmental Medicine, Pusan National University Yangsan Hospital, Yangsan, Republic of Korea., Department of Preventive, Occupational and Environmental Medicine, Pusan National University College of Medicine, Yangsan, Republic of Korea., Department of Environmental Health Sciences, Seoul National University Graduate School of Public Health, Seoul, Republic of Korea paekdm@snu.ac.kr., Institute of Health and Environment, Seoul National University, Seoul, Republic of Korea.',\n",
       "       \"Department of Occupational and Enviornmental Medicine, Seoul Saint Mary's Hospital, The Catholic Uinversity of Korea, Seoul, Korea (the Republic of)., Department of Urology, Inje University Sanggye Paik Hospital, Seoul, Korea (the Republic of)., Department of Occupational and Environmental Medicine, Severance Hospital, Yonsei University College of Medicine, Seoul, Korea (the Republic of)., Department of Occupational and Enviornmental Medicine, Seoul Saint Mary's Hospital, The Catholic Uinversity of Korea, Seoul, Korea (the Republic of) snaptoon@naver.com.\",\n",
       "       \"Korea Institute of Labor Safety and Health, Seoul, The Republic of Korea., Department of Social and Behavioral Sciences, Harvard T.H. Chan School of Public Health, Boston, Massachusetts, USA., Occupational and Environmental Medicine, Hanyang University College of Medicine, Seongdong-gu, The Republic of Korea inahkim@hanyang.ac.kr., People's Health Institute, Seoul, The Republic of Korea., Department of Social and Behavioral Sciences, Harvard T.H. Chan School of Public Health, Boston, Massachusetts, USA.\",\n",
       "       'Department of Preventive Medicine, College of Medicine, Korea University, Seoul, South Korea. leewj@korea.ac.kr',\n",
       "       \"Department of Occupational and Environmental Medicine, International St. Mary's Hospital, Catholic Kwandong University, Incheon, South Korea., Department of Occupational and Environmental Medicine, The Catholic University of Korea, Seoul, South Korea., Center for Working Environment Health, Cheongju, South Korea., Department of Environmental Health, Korea National Open University, Seoul, South Korea.\",\n",
       "       'From the Department of Preventive Medicine, Graduate School, Kyung Hee University, Seoul, Republic of Korea (S.S.); Department of Occupational and Environmental Medicine, Kyung Hee University Hospital, Seoul, Republic of Korea (S.S.); and Department of Occupational and Environmental Medicine, School of Medicine, Kyung Hee University, Seoul, Korea (J.-H.R.).',\n",
       "       \"From the Department of Research for Occupational Health, Institute of Occupation and Environment, Korea Workers' Compensation & Welfare Service, Incheon, Republic of Korea.\",\n",
       "       \"From the Graduate School of Public Health and Healthcare Management, The Catholic University of Korea, Seoul, Republic of Korea (J.H.J.); Department of Occupational and Environmental Medicine, Severance Hospital, Yonsei University College of Medicine, Seoul, Republic of Korea (Y.M.L.); Department of Occupational and Environmental Medicine, Seoul St. Mary's Hospital, College of Medicine, The Catholic University of Korea, Seoul, Republic of Korea (J.L., H.-R.K., M.-Y.K.); and Department of Occupational and Environmental Medicine, Eulji University Hospital, Daejeon, Republic of Korea (H.A.C.).\",\n",
       "       'From the Department of Occupational and Environmental Medicine, Gachon University College of Medicine, Incheon, Republic of Korea (J.Y.); and Department of Preventive Medicine, College of Medicine, Chung-Ang University, Seoul, Republic of Korea (W.L.).',\n",
       "       'Department of Preventive Medicine, Yonsei University College of Medicine, Seoul 03722, Republic of Korea., Institute for Occupational Health, Yonsei University College of Medicine, Seoul 03722, Republic of Korea., Institute for Innovation in Digital Healthcare, Yonsei University Health System, Seoul 03722, Republic of Korea., Department of Public Health, Graduate School Yonsei University, Seoul 03722, Republic of Korea., Department of Public Health, Graduate School Yonsei University, Seoul 03722, Republic of Korea., Department of Preventive Medicine, Yonsei University College of Medicine, Seoul 03722, Republic of Korea., Department of Public Health, Graduate School Yonsei University, Seoul 03722, Republic of Korea., Department of Preventive Medicine, Yonsei University College of Medicine, Seoul 03722, Republic of Korea., Institute for Occupational Health, Yonsei University College of Medicine, Seoul 03722, Republic of Korea., Institute for Innovation in Digital Healthcare, Yonsei University Health System, Seoul 03722, Republic of Korea.',\n",
       "       'Department of Preventive Medicine, Yonsei University College of Medicine, Seoul, Republic of Korea 03722., The Institute for Occupational Health, Yonsei University College of Medicine, Seoul, Republic of Korea 03722., Department of Public Health, Graduate School, Yonsei University, Seoul, Republic of Korea 03722., Department of Internal Medicine, Yonsei University College of Medicine, Seoul, Republic of Korea 03722., Institute of Gastroenterology, Yonsei University College of Medicine, Seoul, Republic of Korea 03722., Yonsei Liver Center, Severance Hospital, Yonsei University Health System, Seoul, Republic of Korea 03722., Department of Internal Medicine, Yonsei University College of Medicine, Seoul, Republic of Korea 03722., Institute of Gastroenterology, Yonsei University College of Medicine, Seoul, Republic of Korea 03722., Yonsei Liver Center, Severance Hospital, Yonsei University Health System, Seoul, Republic of Korea 03722., Department of Preventive Medicine, Yonsei University College of Medicine, Seoul, Republic of Korea 03722., The Institute for Occupational Health, Yonsei University College of Medicine, Seoul, Republic of Korea 03722.',\n",
       "       'College of Nursing, Chonnam National University, Gwangju 61469, Republic of Korea., College of Nursing, Chonnam National University, Gwangju 61469, Republic of Korea., Department of Nursing, Mokpo National University, Mokpo 58554, Republic of Korea., College of Nursing, Chonnam National University, Gwangju 61469, Republic of Korea.',\n",
       "       \"Department of Occupational and Environmental Medicine, Seoul St. Mary's Hospital, College of Medicine, The Catholic University of Korea, Seoul 06591, Republic of Korea., Department of Occupational and Environmental Medicine, Seoul St. Mary's Hospital, College of Medicine, The Catholic University of Korea, Seoul 06591, Republic of Korea., Kuopio Musculoskeletal Research Unit (KMRU), Surgery, Institute of Clinical Medicine, University of Eastern Finland (UEF), P.O. Box 1627, 70211 Kuopio, Finland., Kuopio Musculoskeletal Research Unit (KMRU), Surgery, Institute of Clinical Medicine, University of Eastern Finland (UEF), P.O. Box 1627, 70211 Kuopio, Finland., Kuopio Musculoskeletal Research Unit (KMRU), Surgery, Institute of Clinical Medicine, University of Eastern Finland (UEF), P.O. Box 1627, 70211 Kuopio, Finland., Kuopio Musculoskeletal Research Unit (KMRU), Surgery, Institute of Clinical Medicine, University of Eastern Finland (UEF), P.O. Box 1627, 70211 Kuopio, Finland., Department of Occupational and Environmental Medicine, Seoul St. Mary's Hospital, College of Medicine, The Catholic University of Korea, Seoul 06591, Republic of Korea., Department of Occupational and Environmental Medicine, Seoul St. Mary's Hospital, College of Medicine, The Catholic University of Korea, Seoul 06591, Republic of Korea.\",\n",
       "       'Department of Occupational and Environmental Medicine, Soonchunhyang University Cheonan Hospital, Cheonan, Korea., Department of Statistics and Data Science, Korea National Open University, Korea., Department of Occupational and Environmental Medicine, Soonchunhyang University Cheonan Hospital, Cheonan, Korea.',\n",
       "       'Department of Biomedical Engineering, Yonsei University, Mirae Campus, Wonju-si, Gangwon-do, Korea (the Republic of)., Department of Biomedical Engineering, Yonsei University, Mirae Campus, Wonju-si, Gangwon-do, Korea (the Republic of)., Department of Preventive Medicine, Chung-Ang University, Dongjak-gu, Seoul, Korea (the Republic of)., Department of Convergence Medicine, Pusan National University, Geumjeong-gu, Busan, Korea (the Republic of)., Department of Biomedical Engineering, Yonsei University, Mirae Campus, Wonju-si, Gangwon-do, Korea (the Republic of) wanhyung@gmail.com jychoi717@yonsei.ac.kr., Department of Preventive Medicine, Chung-Ang University, Dongjak-gu, Seoul, Korea (the Republic of) wanhyung@gmail.com jychoi717@yonsei.ac.kr.'],\n",
       "      dtype=object)"
      ]
     },
     "execution_count": 28,
     "metadata": {},
     "output_type": "execute_result"
    }
   ],
   "source": [
    "# none of these relate to north korea so we can remove 'korea' as an lmic\n",
    "df[df['author_affiliation'].str.contains('Korea')]['author_affiliation'].values"
   ]
  },
  {
   "cell_type": "code",
   "execution_count": 29,
   "id": "9615cf88",
   "metadata": {},
   "outputs": [],
   "source": [
    "list_of_lmics.remove('Korea')"
   ]
  },
  {
   "cell_type": "code",
   "execution_count": 30,
   "id": "835d7dd4",
   "metadata": {},
   "outputs": [
    {
     "data": {
      "text/plain": [
       "['Afghanistan',\n",
       " 'Albania',\n",
       " 'Algeria',\n",
       " 'Angola',\n",
       " 'Argentina',\n",
       " 'Armenia',\n",
       " 'Azerbaijan',\n",
       " 'Bangladesh',\n",
       " 'Belarus',\n",
       " 'Belize',\n",
       " 'Benin',\n",
       " 'Bhutan',\n",
       " 'Bolivia',\n",
       " 'Bosnia and Herzegovina',\n",
       " 'Botswana',\n",
       " 'Brazil',\n",
       " 'Burkina Faso',\n",
       " 'Burundi',\n",
       " 'Cabo Verde',\n",
       " 'Cambodia',\n",
       " 'Cameroon',\n",
       " 'Central African Republic',\n",
       " 'Chad',\n",
       " 'China',\n",
       " 'Colombia',\n",
       " 'Comoros',\n",
       " 'Congo',\n",
       " 'Congo',\n",
       " 'Costa Rica',\n",
       " 'Côte d’Ivoire',\n",
       " 'Cuba',\n",
       " 'Djibouti',\n",
       " 'Dominica',\n",
       " 'Dominican Republic',\n",
       " 'Ecuador',\n",
       " 'Egypt',\n",
       " 'El Salvador',\n",
       " 'Equatorial Guinea',\n",
       " 'Eritrea',\n",
       " 'Eswatini',\n",
       " 'Ethiopia',\n",
       " 'Fiji',\n",
       " 'Gabon',\n",
       " 'Gambia',\n",
       " 'Georgia',\n",
       " 'Ghana',\n",
       " 'Grenada',\n",
       " 'Guatemala',\n",
       " 'Guinea',\n",
       " 'Guinea-Bissau',\n",
       " 'Haiti',\n",
       " 'Honduras',\n",
       " 'India',\n",
       " 'Indonesia',\n",
       " 'Iran',\n",
       " 'Iraq',\n",
       " 'Jamaica',\n",
       " 'Jordan',\n",
       " 'Kazakhstan',\n",
       " 'Kenya',\n",
       " 'Kiribati',\n",
       " 'Kosovo',\n",
       " 'Kyrgyz Republic',\n",
       " 'Lao PDR',\n",
       " 'Lebanon',\n",
       " 'Lesotho',\n",
       " 'Liberia',\n",
       " 'Libya',\n",
       " 'Madagascar',\n",
       " 'Malawi',\n",
       " 'Malaysia',\n",
       " 'Maldives',\n",
       " 'Mali',\n",
       " 'Marshall Islands',\n",
       " 'Mauritania',\n",
       " 'Mauritius',\n",
       " 'Mexico',\n",
       " 'Micronesia',\n",
       " 'Moldova',\n",
       " 'Mongolia',\n",
       " 'Montenegro',\n",
       " 'Morocco',\n",
       " 'Mozambique',\n",
       " 'Myanmar',\n",
       " 'Namibia',\n",
       " 'Nepal',\n",
       " 'Nicaragua',\n",
       " 'Niger',\n",
       " 'Nigeria',\n",
       " 'North Macedonia',\n",
       " 'Pakistan',\n",
       " 'Papua New Guinea',\n",
       " 'Paraguay',\n",
       " 'Peru',\n",
       " 'Philippines',\n",
       " 'Rwanda',\n",
       " 'Samoa',\n",
       " 'São Tomé and Príncipe',\n",
       " 'Senegal',\n",
       " 'Serbia',\n",
       " 'Sierra Leone',\n",
       " 'Solomon Islands',\n",
       " 'Somalia',\n",
       " 'South Africa',\n",
       " 'South Sudan',\n",
       " 'Sri Lanka',\n",
       " 'St. Lucia',\n",
       " 'St. Vincent and the Grenadines',\n",
       " 'Sudan',\n",
       " 'Suriname',\n",
       " 'Syrian Arab Republic',\n",
       " 'Tajikistan',\n",
       " 'Tanzania',\n",
       " 'Thailand',\n",
       " 'Timor-Leste',\n",
       " 'Togo',\n",
       " 'Tonga',\n",
       " 'Tunisia',\n",
       " 'Türkiye',\n",
       " 'Turkmenistan',\n",
       " 'Tuvalu',\n",
       " 'Uganda',\n",
       " 'Ukraine',\n",
       " 'Uzbekistan',\n",
       " 'Vanuatu',\n",
       " 'Vietnam',\n",
       " 'West Bank and Gaza',\n",
       " 'Yemen',\n",
       " 'Zambia',\n",
       " 'Zimbabwe']"
      ]
     },
     "execution_count": 30,
     "metadata": {},
     "output_type": "execute_result"
    }
   ],
   "source": [
    "list_of_lmics"
   ]
  },
  {
   "cell_type": "code",
   "execution_count": 31,
   "id": "50444008",
   "metadata": {},
   "outputs": [
    {
     "data": {
      "text/plain": [
       "array(['Journal of occupational and environmental medicine',\n",
       "       'American journal of industrial medicine',\n",
       "       'Occupational and environmental medicine',\n",
       "       'Occupational medicine (Oxford, England)',\n",
       "       'Occupational medicine (Philadelphia, Pa.)'], dtype=object)"
      ]
     },
     "execution_count": 31,
     "metadata": {},
     "output_type": "execute_result"
    }
   ],
   "source": [
    "df['journal'].unique()"
   ]
  },
  {
   "cell_type": "code",
   "execution_count": 32,
   "id": "51464917",
   "metadata": {},
   "outputs": [],
   "source": [
    "# lets call OM Pa OM Ox.... \n",
    "df = df.replace('Occupational medicine (Philadelphia, Pa.)', 'Occupational medicine (Oxford, England)' )\n",
    "journals = df['journal'].unique()"
   ]
  },
  {
   "cell_type": "code",
   "execution_count": 33,
   "id": "d0b5b696",
   "metadata": {},
   "outputs": [
    {
     "name": "stdout",
     "output_type": "stream",
     "text": [
      "['Journal of occupational and environmental medicine'\n",
      " 'American journal of industrial medicine'\n",
      " 'Occupational and environmental medicine'\n",
      " 'Occupational medicine (Oxford, England)']\n",
      "\n",
      "\n",
      "author_affiliation\n",
      "False    17425\n",
      "True      1470\n",
      "Name: count, dtype: int64\n",
      "contains lmic\n",
      "\n",
      "author_affiliation\n",
      "False    0.922202\n",
      "True     0.077798\n",
      "Name: proportion, dtype: float64\n",
      "contains lmic\n",
      "\n"
     ]
    }
   ],
   "source": [
    "# all the data\n",
    "results(df)"
   ]
  },
  {
   "cell_type": "code",
   "execution_count": 34,
   "id": "b2b4d3b3",
   "metadata": {},
   "outputs": [
    {
     "name": "stdout",
     "output_type": "stream",
     "text": [
      "['American journal of industrial medicine'\n",
      " 'Journal of occupational and environmental medicine'\n",
      " 'Occupational and environmental medicine'\n",
      " 'Occupational medicine (Oxford, England)']\n",
      "\n",
      "\n",
      "author_affiliation\n",
      "False    4271\n",
      "True      180\n",
      "Name: count, dtype: int64\n",
      "contains lmic\n",
      "\n",
      "author_affiliation\n",
      "False    0.95956\n",
      "True     0.04044\n",
      "Name: proportion, dtype: float64\n",
      "contains lmic\n",
      "\n"
     ]
    }
   ],
   "source": [
    "# pre 2000\n",
    "results(df[df['date'] < \"2000\"])"
   ]
  },
  {
   "cell_type": "code",
   "execution_count": 35,
   "id": "d16283b6",
   "metadata": {},
   "outputs": [
    {
     "name": "stdout",
     "output_type": "stream",
     "text": [
      "['Journal of occupational and environmental medicine']\n",
      "\n",
      "\n",
      "author_affiliation\n",
      "False    553\n",
      "True      12\n",
      "Name: count, dtype: int64\n",
      "contains lmic\n",
      "\n",
      "author_affiliation\n",
      "False    0.978761\n",
      "True     0.021239\n",
      "Name: proportion, dtype: float64\n",
      "contains lmic\n",
      "\n",
      "['American journal of industrial medicine']\n",
      "\n",
      "\n",
      "author_affiliation\n",
      "False    1849\n",
      "True       95\n",
      "Name: count, dtype: int64\n",
      "contains lmic\n",
      "\n",
      "author_affiliation\n",
      "False    0.951132\n",
      "True     0.048868\n",
      "Name: proportion, dtype: float64\n",
      "contains lmic\n",
      "\n",
      "['Occupational and environmental medicine']\n",
      "\n",
      "\n",
      "author_affiliation\n",
      "False    776\n",
      "True      35\n",
      "Name: count, dtype: int64\n",
      "contains lmic\n",
      "\n",
      "author_affiliation\n",
      "False    0.956843\n",
      "True     0.043157\n",
      "Name: proportion, dtype: float64\n",
      "contains lmic\n",
      "\n",
      "['Occupational medicine (Oxford, England)']\n",
      "\n",
      "\n",
      "author_affiliation\n",
      "False    1093\n",
      "True       38\n",
      "Name: count, dtype: int64\n",
      "contains lmic\n",
      "\n",
      "author_affiliation\n",
      "False    0.966401\n",
      "True     0.033599\n",
      "Name: proportion, dtype: float64\n",
      "contains lmic\n",
      "\n"
     ]
    },
    {
     "data": {
      "text/plain": [
       "[None, None, None, None]"
      ]
     },
     "execution_count": 35,
     "metadata": {},
     "output_type": "execute_result"
    }
   ],
   "source": [
    "# pre 2000 by journal\n",
    "[results(df[(df['date'] < \"2000\") & (df['journal'] == journal)]) for journal in journals]"
   ]
  },
  {
   "cell_type": "code",
   "execution_count": 36,
   "id": "1ce47531",
   "metadata": {},
   "outputs": [
    {
     "name": "stdout",
     "output_type": "stream",
     "text": [
      "['Journal of occupational and environmental medicine'\n",
      " 'Occupational and environmental medicine'\n",
      " 'American journal of industrial medicine'\n",
      " 'Occupational medicine (Oxford, England)']\n",
      "\n",
      "\n",
      "author_affiliation\n",
      "False    13154\n",
      "True      1290\n",
      "Name: count, dtype: int64\n",
      "contains lmic\n",
      "\n",
      "author_affiliation\n",
      "False    0.91069\n",
      "True     0.08931\n",
      "Name: proportion, dtype: float64\n",
      "contains lmic\n",
      "\n"
     ]
    }
   ],
   "source": [
    "# after 2000 \n",
    "results(df[(df['date'] >= \"2000\")])"
   ]
  },
  {
   "cell_type": "code",
   "execution_count": 37,
   "id": "903216bc",
   "metadata": {},
   "outputs": [
    {
     "name": "stdout",
     "output_type": "stream",
     "text": [
      "['Journal of occupational and environmental medicine']\n",
      "\n",
      "\n",
      "author_affiliation\n",
      "False    4635\n",
      "True      544\n",
      "Name: count, dtype: int64\n",
      "contains lmic\n",
      "\n",
      "author_affiliation\n",
      "False    0.89496\n",
      "True     0.10504\n",
      "Name: proportion, dtype: float64\n",
      "contains lmic\n",
      "\n",
      "['American journal of industrial medicine']\n",
      "\n",
      "\n",
      "author_affiliation\n",
      "False    2787\n",
      "True      293\n",
      "Name: count, dtype: int64\n",
      "contains lmic\n",
      "\n",
      "author_affiliation\n",
      "False    0.90487\n",
      "True     0.09513\n",
      "Name: proportion, dtype: float64\n",
      "contains lmic\n",
      "\n",
      "['Occupational and environmental medicine']\n",
      "\n",
      "\n",
      "author_affiliation\n",
      "False    3149\n",
      "True      289\n",
      "Name: count, dtype: int64\n",
      "contains lmic\n",
      "\n",
      "author_affiliation\n",
      "False    0.915939\n",
      "True     0.084061\n",
      "Name: proportion, dtype: float64\n",
      "contains lmic\n",
      "\n",
      "['Occupational medicine (Oxford, England)']\n",
      "\n",
      "\n",
      "author_affiliation\n",
      "False    2583\n",
      "True      164\n",
      "Name: count, dtype: int64\n",
      "contains lmic\n",
      "\n",
      "author_affiliation\n",
      "False    0.940299\n",
      "True     0.059701\n",
      "Name: proportion, dtype: float64\n",
      "contains lmic\n",
      "\n"
     ]
    },
    {
     "data": {
      "text/plain": [
       "[None, None, None, None]"
      ]
     },
     "execution_count": 37,
     "metadata": {},
     "output_type": "execute_result"
    }
   ],
   "source": [
    "# after 2000 by journal\n",
    "[results(df[(df['date'] >= \"2000\") & (df['journal'] == journal)]) for journal in journals]"
   ]
  },
  {
   "cell_type": "code",
   "execution_count": 38,
   "id": "f82debbe",
   "metadata": {},
   "outputs": [
    {
     "name": "stdout",
     "output_type": "stream",
     "text": [
      "Afghanistan 0\n",
      "Albania 0\n",
      "Algeria 2\n",
      "Angola 0\n",
      "Argentina 12\n",
      "Armenia 1\n",
      "Azerbaijan 0\n",
      "Bangladesh 7\n",
      "Belarus 4\n",
      "Belize 0\n",
      "Benin 4\n",
      "Bhutan 2\n",
      "Bolivia 0\n",
      "Bosnia and Herzegovina 2\n",
      "Botswana 4\n",
      "Brazil 161\n",
      "Burkina Faso 0\n",
      "Burundi 0\n",
      "Cabo Verde 0\n",
      "Cambodia 0\n",
      "Cameroon 0\n",
      "Central African Republic 0\n",
      "Chad 0\n",
      "China 398\n",
      "Colombia 23\n",
      "Comoros 0\n",
      "Congo 2\n",
      "Congo 2\n",
      "Costa Rica 18\n",
      "Côte d’Ivoire 0\n",
      "Cuba 1\n",
      "Djibouti 0\n",
      "Dominica 2\n",
      "Dominican Republic 2\n",
      "Ecuador 5\n",
      "Egypt 17\n",
      "El Salvador 5\n",
      "Equatorial Guinea 0\n",
      "Eritrea 0\n",
      "Eswatini 0\n",
      "Ethiopia 9\n",
      "Fiji 0\n",
      "Gabon 0\n",
      "Gambia 0\n",
      "Georgia 232\n",
      "Ghana 6\n",
      "Grenada 1\n",
      "Guatemala 5\n",
      "Guinea 0\n",
      "Guinea-Bissau 0\n",
      "Haiti 0\n",
      "Honduras 1\n",
      "India 117\n",
      "Indonesia 13\n",
      "Iran 36\n",
      "Iraq 3\n",
      "Jamaica 4\n",
      "Jordan 7\n",
      "Kazakhstan 7\n",
      "Kenya 2\n",
      "Kiribati 0\n",
      "Kosovo 0\n",
      "Kyrgyz Republic 0\n",
      "Lao PDR 0\n",
      "Lebanon 21\n",
      "Lesotho 1\n",
      "Liberia 0\n",
      "Libya 0\n",
      "Madagascar 0\n",
      "Malawi 1\n",
      "Malaysia 20\n",
      "Maldives 0\n",
      "Mali 8\n",
      "Marshall Islands 0\n",
      "Mauritania 0\n",
      "Mauritius 0\n",
      "Mexico 74\n",
      "Micronesia 0\n",
      "Moldova 1\n",
      "Mongolia 2\n",
      "Montenegro 3\n",
      "Morocco 1\n",
      "Mozambique 0\n",
      "Myanmar 0\n",
      "Namibia 0\n",
      "Nepal 3\n",
      "Nicaragua 8\n",
      "Niger 14\n",
      "Nigeria 14\n",
      "North Macedonia 1\n",
      "Pakistan 19\n",
      "Papua New Guinea 0\n",
      "Paraguay 1\n",
      "Peru 23\n",
      "Philippines 4\n",
      "Rwanda 0\n",
      "Samoa 0\n",
      "São Tomé and Príncipe 0\n",
      "Senegal 1\n",
      "Serbia 9\n",
      "Sierra Leone 1\n",
      "Solomon Islands 0\n",
      "Somalia 0\n",
      "South Africa 159\n",
      "South Sudan 0\n",
      "Sri Lanka 18\n",
      "St. Lucia 1\n",
      "St. Vincent and the Grenadines 0\n",
      "Sudan 5\n",
      "Suriname 0\n",
      "Syrian Arab Republic 0\n",
      "Tajikistan 0\n",
      "Tanzania 8\n",
      "Thailand 20\n",
      "Timor-Leste 0\n",
      "Togo 1\n",
      "Tonga 0\n",
      "Tunisia 4\n",
      "Türkiye 0\n",
      "Turkmenistan 0\n",
      "Tuvalu 0\n",
      "Uganda 1\n",
      "Ukraine 5\n",
      "Uzbekistan 0\n",
      "Vanuatu 0\n",
      "Vietnam 5\n",
      "West Bank and Gaza 0\n",
      "Yemen 0\n",
      "Zambia 3\n",
      "Zimbabwe 4\n"
     ]
    }
   ],
   "source": [
    "# we use this data to make our Choropleth\n",
    "lmic_dict_papers = {}\n",
    "for lmic in list_of_lmics:\n",
    "    print(lmic,len(df) - df.author_affiliation.str.contains(lmic).value_counts()[0])\n",
    "    lmic_dict_papers[lmic] = len(df) - df.author_affiliation.str.contains(lmic).value_counts()[0]"
   ]
  },
  {
   "cell_type": "code",
   "execution_count": 39,
   "id": "5981118a",
   "metadata": {},
   "outputs": [
    {
     "data": {
      "text/plain": [
       "{'Afghanistan': 0,\n",
       " 'Albania': 0,\n",
       " 'Algeria': 2,\n",
       " 'Angola': 0,\n",
       " 'Argentina': 12,\n",
       " 'Armenia': 1,\n",
       " 'Azerbaijan': 0,\n",
       " 'Bangladesh': 7,\n",
       " 'Belarus': 4,\n",
       " 'Belize': 0,\n",
       " 'Benin': 4,\n",
       " 'Bhutan': 2,\n",
       " 'Bolivia': 0,\n",
       " 'Bosnia and Herzegovina': 2,\n",
       " 'Botswana': 4,\n",
       " 'Brazil': 161,\n",
       " 'Burkina Faso': 0,\n",
       " 'Burundi': 0,\n",
       " 'Cabo Verde': 0,\n",
       " 'Cambodia': 0,\n",
       " 'Cameroon': 0,\n",
       " 'Central African Republic': 0,\n",
       " 'Chad': 0,\n",
       " 'China': 398,\n",
       " 'Colombia': 23,\n",
       " 'Comoros': 0,\n",
       " 'Congo': 2,\n",
       " 'Costa Rica': 18,\n",
       " 'Côte d’Ivoire': 0,\n",
       " 'Cuba': 1,\n",
       " 'Djibouti': 0,\n",
       " 'Dominica': 2,\n",
       " 'Dominican Republic': 2,\n",
       " 'Ecuador': 5,\n",
       " 'Egypt': 17,\n",
       " 'El Salvador': 5,\n",
       " 'Equatorial Guinea': 0,\n",
       " 'Eritrea': 0,\n",
       " 'Eswatini': 0,\n",
       " 'Ethiopia': 9,\n",
       " 'Fiji': 0,\n",
       " 'Gabon': 0,\n",
       " 'Gambia': 0,\n",
       " 'Georgia': 232,\n",
       " 'Ghana': 6,\n",
       " 'Grenada': 1,\n",
       " 'Guatemala': 5,\n",
       " 'Guinea': 0,\n",
       " 'Guinea-Bissau': 0,\n",
       " 'Haiti': 0,\n",
       " 'Honduras': 1,\n",
       " 'India': 117,\n",
       " 'Indonesia': 13,\n",
       " 'Iran': 36,\n",
       " 'Iraq': 3,\n",
       " 'Jamaica': 4,\n",
       " 'Jordan': 7,\n",
       " 'Kazakhstan': 7,\n",
       " 'Kenya': 2,\n",
       " 'Kiribati': 0,\n",
       " 'Kosovo': 0,\n",
       " 'Kyrgyz Republic': 0,\n",
       " 'Lao PDR': 0,\n",
       " 'Lebanon': 21,\n",
       " 'Lesotho': 1,\n",
       " 'Liberia': 0,\n",
       " 'Libya': 0,\n",
       " 'Madagascar': 0,\n",
       " 'Malawi': 1,\n",
       " 'Malaysia': 20,\n",
       " 'Maldives': 0,\n",
       " 'Mali': 8,\n",
       " 'Marshall Islands': 0,\n",
       " 'Mauritania': 0,\n",
       " 'Mauritius': 0,\n",
       " 'Mexico': 74,\n",
       " 'Micronesia': 0,\n",
       " 'Moldova': 1,\n",
       " 'Mongolia': 2,\n",
       " 'Montenegro': 3,\n",
       " 'Morocco': 1,\n",
       " 'Mozambique': 0,\n",
       " 'Myanmar': 0,\n",
       " 'Namibia': 0,\n",
       " 'Nepal': 3,\n",
       " 'Nicaragua': 8,\n",
       " 'Niger': 14,\n",
       " 'Nigeria': 14,\n",
       " 'North Macedonia': 1,\n",
       " 'Pakistan': 19,\n",
       " 'Papua New Guinea': 0,\n",
       " 'Paraguay': 1,\n",
       " 'Peru': 23,\n",
       " 'Philippines': 4,\n",
       " 'Rwanda': 0,\n",
       " 'Samoa': 0,\n",
       " 'São Tomé and Príncipe': 0,\n",
       " 'Senegal': 1,\n",
       " 'Serbia': 9,\n",
       " 'Sierra Leone': 1,\n",
       " 'Solomon Islands': 0,\n",
       " 'Somalia': 0,\n",
       " 'South Africa': 159,\n",
       " 'South Sudan': 0,\n",
       " 'Sri Lanka': 18,\n",
       " 'St. Lucia': 1,\n",
       " 'St. Vincent and the Grenadines': 0,\n",
       " 'Sudan': 5,\n",
       " 'Suriname': 0,\n",
       " 'Syrian Arab Republic': 0,\n",
       " 'Tajikistan': 0,\n",
       " 'Tanzania': 8,\n",
       " 'Thailand': 20,\n",
       " 'Timor-Leste': 0,\n",
       " 'Togo': 1,\n",
       " 'Tonga': 0,\n",
       " 'Tunisia': 4,\n",
       " 'Türkiye': 0,\n",
       " 'Turkmenistan': 0,\n",
       " 'Tuvalu': 0,\n",
       " 'Uganda': 1,\n",
       " 'Ukraine': 5,\n",
       " 'Uzbekistan': 0,\n",
       " 'Vanuatu': 0,\n",
       " 'Vietnam': 5,\n",
       " 'West Bank and Gaza': 0,\n",
       " 'Yemen': 0,\n",
       " 'Zambia': 3,\n",
       " 'Zimbabwe': 4}"
      ]
     },
     "execution_count": 39,
     "metadata": {},
     "output_type": "execute_result"
    }
   ],
   "source": [
    "lmic_dict_papers"
   ]
  },
  {
   "cell_type": "code",
   "execution_count": 40,
   "id": "172e9493",
   "metadata": {},
   "outputs": [],
   "source": [
    "# Countries, counts, and the pmids for fun\n",
    "# Loop through the data and update the dictionary based on LMIC countries found\n",
    "lmic_stats = {}\n",
    "\n",
    "for idx, row in df.iterrows():\n",
    "    pmid = row['pmid']\n",
    "    affiliation = str(row['author_affiliation'])\n",
    "    for country in list_of_lmics:\n",
    "        if country in affiliation:\n",
    "            if country not in lmic_stats:\n",
    "                # Initialize the country entry if it doesn't exist\n",
    "                lmic_stats[country] = {'Count': 0, 'PMIDs': []}\n",
    "            # Update the count and pmids    \n",
    "            lmic_stats[country]['Count'] += 1\n",
    "            lmic_stats[country]['PMIDs'].append(pmid)\n",
    "\n",
    "# Convert the dictionary to a DataFrame for easier display\n",
    "lmic_df = pd.DataFrame([(country, info['Count'], \", \".join(map(str, info['PMIDs']))) for country, info in lmic_stats.items()],\n",
    "                       columns=['Country', 'Count', 'PMIDs'])"
   ]
  },
  {
   "cell_type": "code",
   "execution_count": 41,
   "id": "3743a60f",
   "metadata": {},
   "outputs": [
    {
     "data": {
      "text/html": [
       "<div>\n",
       "<style scoped>\n",
       "    .dataframe tbody tr th:only-of-type {\n",
       "        vertical-align: middle;\n",
       "    }\n",
       "\n",
       "    .dataframe tbody tr th {\n",
       "        vertical-align: top;\n",
       "    }\n",
       "\n",
       "    .dataframe thead th {\n",
       "        text-align: right;\n",
       "    }\n",
       "</style>\n",
       "<table border=\"1\" class=\"dataframe\">\n",
       "  <thead>\n",
       "    <tr style=\"text-align: right;\">\n",
       "      <th></th>\n",
       "      <th>Country</th>\n",
       "      <th>Count</th>\n",
       "      <th>PMIDs</th>\n",
       "    </tr>\n",
       "  </thead>\n",
       "  <tbody>\n",
       "    <tr>\n",
       "      <th>0</th>\n",
       "      <td>Brazil</td>\n",
       "      <td>161</td>\n",
       "      <td>19233830, 11307685, 31090672, 34157150, 316251...</td>\n",
       "    </tr>\n",
       "    <tr>\n",
       "      <th>1</th>\n",
       "      <td>South Africa</td>\n",
       "      <td>159</td>\n",
       "      <td>29574825, 33298754, 19943319, 29210092, 131114...</td>\n",
       "    </tr>\n",
       "    <tr>\n",
       "      <th>2</th>\n",
       "      <td>Ethiopia</td>\n",
       "      <td>9</td>\n",
       "      <td>29419423, 16140842, 37875370, 21919031, 975094...</td>\n",
       "    </tr>\n",
       "    <tr>\n",
       "      <th>3</th>\n",
       "      <td>Serbia</td>\n",
       "      <td>9</td>\n",
       "      <td>31587045, 16421395, 36977359, 16627545, 362552...</td>\n",
       "    </tr>\n",
       "    <tr>\n",
       "      <th>4</th>\n",
       "      <td>Georgia</td>\n",
       "      <td>232</td>\n",
       "      <td>33484179, 27501104, 38272665, 35244089, 289902...</td>\n",
       "    </tr>\n",
       "    <tr>\n",
       "      <th>...</th>\n",
       "      <td>...</td>\n",
       "      <td>...</td>\n",
       "      <td>...</td>\n",
       "    </tr>\n",
       "    <tr>\n",
       "      <th>64</th>\n",
       "      <td>Sierra Leone</td>\n",
       "      <td>1</td>\n",
       "      <td>36257667</td>\n",
       "    </tr>\n",
       "    <tr>\n",
       "      <th>65</th>\n",
       "      <td>Bosnia and Herzegovina</td>\n",
       "      <td>2</td>\n",
       "      <td>30657988, 37984917</td>\n",
       "    </tr>\n",
       "    <tr>\n",
       "      <th>66</th>\n",
       "      <td>Lesotho</td>\n",
       "      <td>1</td>\n",
       "      <td>29211908</td>\n",
       "    </tr>\n",
       "    <tr>\n",
       "      <th>67</th>\n",
       "      <td>Moldova</td>\n",
       "      <td>1</td>\n",
       "      <td>37984917</td>\n",
       "    </tr>\n",
       "    <tr>\n",
       "      <th>68</th>\n",
       "      <td>North Macedonia</td>\n",
       "      <td>1</td>\n",
       "      <td>37984917</td>\n",
       "    </tr>\n",
       "  </tbody>\n",
       "</table>\n",
       "<p>69 rows × 3 columns</p>\n",
       "</div>"
      ],
      "text/plain": [
       "                   Country  Count  \\\n",
       "0                   Brazil    161   \n",
       "1             South Africa    159   \n",
       "2                 Ethiopia      9   \n",
       "3                   Serbia      9   \n",
       "4                  Georgia    232   \n",
       "..                     ...    ...   \n",
       "64            Sierra Leone      1   \n",
       "65  Bosnia and Herzegovina      2   \n",
       "66                 Lesotho      1   \n",
       "67                 Moldova      1   \n",
       "68         North Macedonia      1   \n",
       "\n",
       "                                                PMIDs  \n",
       "0   19233830, 11307685, 31090672, 34157150, 316251...  \n",
       "1   29574825, 33298754, 19943319, 29210092, 131114...  \n",
       "2   29419423, 16140842, 37875370, 21919031, 975094...  \n",
       "3   31587045, 16421395, 36977359, 16627545, 362552...  \n",
       "4   33484179, 27501104, 38272665, 35244089, 289902...  \n",
       "..                                                ...  \n",
       "64                                           36257667  \n",
       "65                                 30657988, 37984917  \n",
       "66                                           29211908  \n",
       "67                                           37984917  \n",
       "68                                           37984917  \n",
       "\n",
       "[69 rows x 3 columns]"
      ]
     },
     "execution_count": 41,
     "metadata": {},
     "output_type": "execute_result"
    }
   ],
   "source": [
    "lmic_df"
   ]
  },
  {
   "cell_type": "code",
   "execution_count": 42,
   "id": "2393b40b",
   "metadata": {},
   "outputs": [],
   "source": [
    "lmic_df.to_csv('lmic_df.csv', index=False)"
   ]
  },
  {
   "cell_type": "code",
   "execution_count": 43,
   "id": "b8ef67e1",
   "metadata": {},
   "outputs": [],
   "source": [
    "# Papers, lmic counts, and lmics for fun\n",
    "# Function to count the LMIC countries in a given affiliation string\n",
    "def count_lmic_countries(affiliation, list_of_lmics):\n",
    "    count = 0\n",
    "    for country in list_of_lmics:\n",
    "        if country in affiliation:\n",
    "            count += 1\n",
    "    return count\n",
    "\n",
    "# Apply the function to the affiliation field\n",
    "df['LMIC_Count'] = df['author_affiliation'].apply(lambda x: count_lmic_countries(str(x), list_of_lmics))\n",
    "\n",
    "def list_lmic_countries(affiliation, list_of_lmics):\n",
    "    countries_found = [country for country in list_of_lmics if country in affiliation]\n",
    "    return \", \".join(countries_found)\n",
    "\n",
    "# Apply the function to create a new column with the LMIC country names\n",
    "df['LMIC_Countries'] = df['author_affiliation'].apply(lambda x: list_lmic_countries(str(x), list_of_lmics))\n"
   ]
  },
  {
   "cell_type": "code",
   "execution_count": 44,
   "id": "3d07e714",
   "metadata": {},
   "outputs": [
    {
     "data": {
      "text/plain": [
       "LMIC_Count\n",
       "1     1394\n",
       "2       58\n",
       "3        9\n",
       "4        6\n",
       "5        2\n",
       "10       1\n",
       "Name: count, dtype: int64"
      ]
     },
     "execution_count": 44,
     "metadata": {},
     "output_type": "execute_result"
    }
   ],
   "source": [
    "df[df['LMIC_Count']>0]['LMIC_Count'].value_counts() # as in 225 papers have only a single LMIC, 1 has 4 etc"
   ]
  },
  {
   "cell_type": "code",
   "execution_count": 45,
   "id": "19782e0e",
   "metadata": {},
   "outputs": [
    {
     "data": {
      "text/html": [
       "<div>\n",
       "<style scoped>\n",
       "    .dataframe tbody tr th:only-of-type {\n",
       "        vertical-align: middle;\n",
       "    }\n",
       "\n",
       "    .dataframe tbody tr th {\n",
       "        vertical-align: top;\n",
       "    }\n",
       "\n",
       "    .dataframe thead th {\n",
       "        text-align: right;\n",
       "    }\n",
       "</style>\n",
       "<table border=\"1\" class=\"dataframe\">\n",
       "  <thead>\n",
       "    <tr style=\"text-align: right;\">\n",
       "      <th></th>\n",
       "      <th>pmid</th>\n",
       "      <th>author</th>\n",
       "      <th>author_affiliation</th>\n",
       "      <th>date</th>\n",
       "      <th>title</th>\n",
       "      <th>journal</th>\n",
       "      <th>pub_type</th>\n",
       "      <th>LMIC_Count</th>\n",
       "      <th>LMIC_Countries</th>\n",
       "    </tr>\n",
       "  </thead>\n",
       "  <tbody>\n",
       "    <tr>\n",
       "      <th>2735</th>\n",
       "      <td>32079717</td>\n",
       "      <td>Coggon D, Ntani G, Walker-Bone K, Felli VE, Ha...</td>\n",
       "      <td>Medical Research Council Lifecourse Epidemiolo...</td>\n",
       "      <td>2020 May</td>\n",
       "      <td>Associations of sickness absence for pain in t...</td>\n",
       "      <td>Occupational and environmental medicine</td>\n",
       "      <td>Journal Article, Research Support, Non-U.S. Gov't</td>\n",
       "      <td>10</td>\n",
       "      <td>Brazil, Colombia, Costa Rica, Ecuador, Georgia...</td>\n",
       "    </tr>\n",
       "    <tr>\n",
       "      <th>3432</th>\n",
       "      <td>27566784</td>\n",
       "      <td>Garcia-Trabanino R, Jakobsson K, Guzman Quilo ...</td>\n",
       "      <td>Centro de Hemodialisis, San Salvador, El Salva...</td>\n",
       "      <td>2016 Nov</td>\n",
       "      <td>In reply to: \"Should we consider renaming 'Mes...</td>\n",
       "      <td>Occupational and environmental medicine</td>\n",
       "      <td>Comment, Letter</td>\n",
       "      <td>5</td>\n",
       "      <td>Costa Rica, El Salvador, Guatemala, Mexico, Ni...</td>\n",
       "    </tr>\n",
       "    <tr>\n",
       "      <th>11958</th>\n",
       "      <td>33769403</td>\n",
       "      <td>Kalia N, Moraga JA, Manzanares M, Friede V, Ku...</td>\n",
       "      <td>Department of Medicine, Johns Hopkins School o...</td>\n",
       "      <td>2021 Apr 1</td>\n",
       "      <td>Use of Vinegar and Water to Identify COVID-19 ...</td>\n",
       "      <td>Journal of occupational and environmental medi...</td>\n",
       "      <td>Journal Article</td>\n",
       "      <td>4</td>\n",
       "      <td>Brazil, Costa Rica, Mexico, Nicaragua</td>\n",
       "    </tr>\n",
       "    <tr>\n",
       "      <th>13193</th>\n",
       "      <td>25919593</td>\n",
       "      <td>Juarez-Garcia A, Vera-Calzaretta A, Blanco-Gom...</td>\n",
       "      <td>Universidad Autonoma del Estado de Morelos, Mo...</td>\n",
       "      <td>2015 Jun</td>\n",
       "      <td>Validity of the effort/reward imbalance questi...</td>\n",
       "      <td>American journal of industrial medicine</td>\n",
       "      <td>Journal Article, Research Support, Non-U.S. Go...</td>\n",
       "      <td>4</td>\n",
       "      <td>Argentina, Colombia, Mexico, Peru</td>\n",
       "    </tr>\n",
       "    <tr>\n",
       "      <th>16083</th>\n",
       "      <td>28598943</td>\n",
       "      <td>Joob B, Wiwanitkit V</td>\n",
       "      <td>Sanitation Medical Academic Center, Bangkok, T...</td>\n",
       "      <td>2017 Jun</td>\n",
       "      <td>Mosquito Control Practices and Zika Knowledge ...</td>\n",
       "      <td>Journal of occupational and environmental medi...</td>\n",
       "      <td>Comment, Journal Article</td>\n",
       "      <td>4</td>\n",
       "      <td>India, Niger, Nigeria, Thailand</td>\n",
       "    </tr>\n",
       "    <tr>\n",
       "      <th>16389</th>\n",
       "      <td>36257667</td>\n",
       "      <td>Atwoli L, Erhabor GE, Gbakima AA, Haileamlak A...</td>\n",
       "      <td>Editor-in-Chief, East African Medical Journal....</td>\n",
       "      <td>2023 Feb 14</td>\n",
       "      <td>COP27 Climate Change Conference: urgent action...</td>\n",
       "      <td>Occupational medicine (Oxford, England)</td>\n",
       "      <td>Journal Article</td>\n",
       "      <td>4</td>\n",
       "      <td>Ethiopia, Ghana, Mali, Sierra Leone</td>\n",
       "    </tr>\n",
       "    <tr>\n",
       "      <th>16575</th>\n",
       "      <td>29211908</td>\n",
       "      <td>Moyo D, Zungu M, Erick P, Tumoyagae T, Mwansa ...</td>\n",
       "      <td>Baines Occupational and Travel Medicine Centre...</td>\n",
       "      <td>2017 Dec 2</td>\n",
       "      <td>Occupational health and safety in the Southern...</td>\n",
       "      <td>Occupational medicine (Oxford, England)</td>\n",
       "      <td>Journal Article</td>\n",
       "      <td>5</td>\n",
       "      <td>Botswana, Lesotho, South Africa, Zambia, Zimbabwe</td>\n",
       "    </tr>\n",
       "    <tr>\n",
       "      <th>19050</th>\n",
       "      <td>37984917</td>\n",
       "      <td>Nys E, Pauwels S, Adam B, Amaro J, Athanasiou ...</td>\n",
       "      <td>External Service for Prevention and Protection...</td>\n",
       "      <td>2023 Nov 23</td>\n",
       "      <td>Recognition of COVID-19 with occupational orig...</td>\n",
       "      <td>Occupational and environmental medicine</td>\n",
       "      <td>Journal Article</td>\n",
       "      <td>4</td>\n",
       "      <td>Bosnia and Herzegovina, Moldova, North Macedon...</td>\n",
       "    </tr>\n",
       "    <tr>\n",
       "      <th>19534</th>\n",
       "      <td>40063851</td>\n",
       "      <td>Stufano A, Omokhodion FO, Moyo D, de Maria L, ...</td>\n",
       "      <td>From the Section of Occupational Medicine, Int...</td>\n",
       "      <td>2025 Jun 1</td>\n",
       "      <td>Occupational Risk Management in the Context of...</td>\n",
       "      <td>Journal of occupational and environmental medi...</td>\n",
       "      <td>Journal Article</td>\n",
       "      <td>4</td>\n",
       "      <td>Niger, Nigeria, South Africa, Zimbabwe</td>\n",
       "    </tr>\n",
       "  </tbody>\n",
       "</table>\n",
       "</div>"
      ],
      "text/plain": [
       "           pmid                                             author  \\\n",
       "2735   32079717  Coggon D, Ntani G, Walker-Bone K, Felli VE, Ha...   \n",
       "3432   27566784  Garcia-Trabanino R, Jakobsson K, Guzman Quilo ...   \n",
       "11958  33769403  Kalia N, Moraga JA, Manzanares M, Friede V, Ku...   \n",
       "13193  25919593  Juarez-Garcia A, Vera-Calzaretta A, Blanco-Gom...   \n",
       "16083  28598943                               Joob B, Wiwanitkit V   \n",
       "16389  36257667  Atwoli L, Erhabor GE, Gbakima AA, Haileamlak A...   \n",
       "16575  29211908  Moyo D, Zungu M, Erick P, Tumoyagae T, Mwansa ...   \n",
       "19050  37984917  Nys E, Pauwels S, Adam B, Amaro J, Athanasiou ...   \n",
       "19534  40063851  Stufano A, Omokhodion FO, Moyo D, de Maria L, ...   \n",
       "\n",
       "                                      author_affiliation         date  \\\n",
       "2735   Medical Research Council Lifecourse Epidemiolo...     2020 May   \n",
       "3432   Centro de Hemodialisis, San Salvador, El Salva...     2016 Nov   \n",
       "11958  Department of Medicine, Johns Hopkins School o...   2021 Apr 1   \n",
       "13193  Universidad Autonoma del Estado de Morelos, Mo...     2015 Jun   \n",
       "16083  Sanitation Medical Academic Center, Bangkok, T...     2017 Jun   \n",
       "16389  Editor-in-Chief, East African Medical Journal....  2023 Feb 14   \n",
       "16575  Baines Occupational and Travel Medicine Centre...   2017 Dec 2   \n",
       "19050  External Service for Prevention and Protection...  2023 Nov 23   \n",
       "19534  From the Section of Occupational Medicine, Int...   2025 Jun 1   \n",
       "\n",
       "                                                   title  \\\n",
       "2735   Associations of sickness absence for pain in t...   \n",
       "3432   In reply to: \"Should we consider renaming 'Mes...   \n",
       "11958  Use of Vinegar and Water to Identify COVID-19 ...   \n",
       "13193  Validity of the effort/reward imbalance questi...   \n",
       "16083  Mosquito Control Practices and Zika Knowledge ...   \n",
       "16389  COP27 Climate Change Conference: urgent action...   \n",
       "16575  Occupational health and safety in the Southern...   \n",
       "19050  Recognition of COVID-19 with occupational orig...   \n",
       "19534  Occupational Risk Management in the Context of...   \n",
       "\n",
       "                                                 journal  \\\n",
       "2735             Occupational and environmental medicine   \n",
       "3432             Occupational and environmental medicine   \n",
       "11958  Journal of occupational and environmental medi...   \n",
       "13193            American journal of industrial medicine   \n",
       "16083  Journal of occupational and environmental medi...   \n",
       "16389            Occupational medicine (Oxford, England)   \n",
       "16575            Occupational medicine (Oxford, England)   \n",
       "19050            Occupational and environmental medicine   \n",
       "19534  Journal of occupational and environmental medi...   \n",
       "\n",
       "                                                pub_type  LMIC_Count  \\\n",
       "2735   Journal Article, Research Support, Non-U.S. Gov't          10   \n",
       "3432                                     Comment, Letter           5   \n",
       "11958                                    Journal Article           4   \n",
       "13193  Journal Article, Research Support, Non-U.S. Go...           4   \n",
       "16083                           Comment, Journal Article           4   \n",
       "16389                                    Journal Article           4   \n",
       "16575                                    Journal Article           5   \n",
       "19050                                    Journal Article           4   \n",
       "19534                                    Journal Article           4   \n",
       "\n",
       "                                          LMIC_Countries  \n",
       "2735   Brazil, Colombia, Costa Rica, Ecuador, Georgia...  \n",
       "3432   Costa Rica, El Salvador, Guatemala, Mexico, Ni...  \n",
       "11958              Brazil, Costa Rica, Mexico, Nicaragua  \n",
       "13193                  Argentina, Colombia, Mexico, Peru  \n",
       "16083                    India, Niger, Nigeria, Thailand  \n",
       "16389                Ethiopia, Ghana, Mali, Sierra Leone  \n",
       "16575  Botswana, Lesotho, South Africa, Zambia, Zimbabwe  \n",
       "19050  Bosnia and Herzegovina, Moldova, North Macedon...  \n",
       "19534             Niger, Nigeria, South Africa, Zimbabwe  "
      ]
     },
     "execution_count": 45,
     "metadata": {},
     "output_type": "execute_result"
    }
   ],
   "source": [
    "df[df['LMIC_Count']>3]"
   ]
  },
  {
   "cell_type": "code",
   "execution_count": 46,
   "id": "8c688fed",
   "metadata": {},
   "outputs": [
    {
     "data": {
      "text/html": [
       "<div>\n",
       "<style scoped>\n",
       "    .dataframe tbody tr th:only-of-type {\n",
       "        vertical-align: middle;\n",
       "    }\n",
       "\n",
       "    .dataframe tbody tr th {\n",
       "        vertical-align: top;\n",
       "    }\n",
       "\n",
       "    .dataframe thead th {\n",
       "        text-align: right;\n",
       "    }\n",
       "</style>\n",
       "<table border=\"1\" class=\"dataframe\">\n",
       "  <thead>\n",
       "    <tr style=\"text-align: right;\">\n",
       "      <th></th>\n",
       "      <th>pmid</th>\n",
       "      <th>author</th>\n",
       "      <th>author_affiliation</th>\n",
       "      <th>date</th>\n",
       "      <th>title</th>\n",
       "      <th>journal</th>\n",
       "      <th>pub_type</th>\n",
       "      <th>LMIC_Count</th>\n",
       "      <th>LMIC_Countries</th>\n",
       "    </tr>\n",
       "  </thead>\n",
       "  <tbody>\n",
       "    <tr>\n",
       "      <th>1416</th>\n",
       "      <td>32719018</td>\n",
       "      <td>Khisroon M, Humayun M, Khan A, Farooqi J, Huma...</td>\n",
       "      <td>Department of Zoology, University of Peshawar,...</td>\n",
       "      <td>2020 Nov</td>\n",
       "      <td>Polymorphism in GSTM1 and GSTT1 genes influenc...</td>\n",
       "      <td>Occupational and environmental medicine</td>\n",
       "      <td>Journal Article</td>\n",
       "      <td>1</td>\n",
       "      <td>Pakistan</td>\n",
       "    </tr>\n",
       "    <tr>\n",
       "      <th>1557</th>\n",
       "      <td>32890224</td>\n",
       "      <td>Khisroon M, Khan A, Hassan N, Zaidi F, Farooqi J</td>\n",
       "      <td>Department of Zoology, University of Peshawar,...</td>\n",
       "      <td>2020 Sep</td>\n",
       "      <td>Biomonitoring of DNA Damage in Photocopiers' W...</td>\n",
       "      <td>Journal of occupational and environmental medi...</td>\n",
       "      <td>Journal Article, Research Support, Non-U.S. Gov't</td>\n",
       "      <td>1</td>\n",
       "      <td>Pakistan</td>\n",
       "    </tr>\n",
       "    <tr>\n",
       "      <th>2082</th>\n",
       "      <td>26185127</td>\n",
       "      <td>Awais M, Hafeez S, Rehman A, Baloch NU</td>\n",
       "      <td>Department of Radiology, Aga Khan University H...</td>\n",
       "      <td>2015 Sep</td>\n",
       "      <td>Vibration-induced multifocal carpal osteonecro...</td>\n",
       "      <td>Occupational and environmental medicine</td>\n",
       "      <td>Case Reports, Letter</td>\n",
       "      <td>1</td>\n",
       "      <td>Pakistan</td>\n",
       "    </tr>\n",
       "    <tr>\n",
       "      <th>2234</th>\n",
       "      <td>33021515</td>\n",
       "      <td>Adnan S, Hanif M, Khan AH, Latif M, Ullah K, B...</td>\n",
       "      <td>Pakistan Meteorological Department (Dr Adnan, ...</td>\n",
       "      <td>2021 Feb 1</td>\n",
       "      <td>Impact of Heat Index and Ultraviolet Index on ...</td>\n",
       "      <td>Journal of occupational and environmental medi...</td>\n",
       "      <td>Journal Article, Multicenter Study</td>\n",
       "      <td>1</td>\n",
       "      <td>Pakistan</td>\n",
       "    </tr>\n",
       "    <tr>\n",
       "      <th>2735</th>\n",
       "      <td>32079717</td>\n",
       "      <td>Coggon D, Ntani G, Walker-Bone K, Felli VE, Ha...</td>\n",
       "      <td>Medical Research Council Lifecourse Epidemiolo...</td>\n",
       "      <td>2020 May</td>\n",
       "      <td>Associations of sickness absence for pain in t...</td>\n",
       "      <td>Occupational and environmental medicine</td>\n",
       "      <td>Journal Article, Research Support, Non-U.S. Gov't</td>\n",
       "      <td>10</td>\n",
       "      <td>Brazil, Colombia, Costa Rica, Ecuador, Georgia...</td>\n",
       "    </tr>\n",
       "    <tr>\n",
       "      <th>3385</th>\n",
       "      <td>33234873</td>\n",
       "      <td>Kumar D, Saghir T, Ali G, Yasin U, Furnaz S, K...</td>\n",
       "      <td>National Institute of Cardiovascular Diseases ...</td>\n",
       "      <td>2021 Feb 1</td>\n",
       "      <td>Psychosocial Impact of COVID-19 on Healthcare ...</td>\n",
       "      <td>Journal of occupational and environmental medi...</td>\n",
       "      <td>Journal Article</td>\n",
       "      <td>1</td>\n",
       "      <td>Pakistan</td>\n",
       "    </tr>\n",
       "    <tr>\n",
       "      <th>3695</th>\n",
       "      <td>36717255</td>\n",
       "      <td>Nafees AA, Muneer MZ, Irfan M, Kadir MM, Sempl...</td>\n",
       "      <td>Department of Community Health Sciences, Aga K...</td>\n",
       "      <td>2023 Mar</td>\n",
       "      <td>Byssinosis and lung health among cotton textil...</td>\n",
       "      <td>Occupational and environmental medicine</td>\n",
       "      <td>Journal Article, Research Support, Non-U.S. Gov't</td>\n",
       "      <td>1</td>\n",
       "      <td>Pakistan</td>\n",
       "    </tr>\n",
       "    <tr>\n",
       "      <th>4917</th>\n",
       "      <td>26265670</td>\n",
       "      <td>Khan AW, Kundi M, Moshammer H</td>\n",
       "      <td>Institute for Environmental Health, Center for...</td>\n",
       "      <td>2015 Oct</td>\n",
       "      <td>Diminished pulmonary function in long-term wor...</td>\n",
       "      <td>Occupational and environmental medicine</td>\n",
       "      <td>Comparative Study, Journal Article, Research S...</td>\n",
       "      <td>1</td>\n",
       "      <td>Pakistan</td>\n",
       "    </tr>\n",
       "    <tr>\n",
       "      <th>6063</th>\n",
       "      <td>14534448</td>\n",
       "      <td>Meo SA, Azeem MA, Subhan MM</td>\n",
       "      <td>Department of Physiology, Hamdard College of M...</td>\n",
       "      <td>2003 Oct</td>\n",
       "      <td>Lung function in Pakistani welding workers.</td>\n",
       "      <td>Journal of occupational and environmental medi...</td>\n",
       "      <td>Comparative Study, Journal Article</td>\n",
       "      <td>1</td>\n",
       "      <td>Pakistan</td>\n",
       "    </tr>\n",
       "    <tr>\n",
       "      <th>7699</th>\n",
       "      <td>35672913</td>\n",
       "      <td>Rabbani U, Razzaq S, Irfan M, Semple S, Nafees AA</td>\n",
       "      <td>From the Family Medicine Academy, Qassim Healt...</td>\n",
       "      <td>2022 Sep 1</td>\n",
       "      <td>Indoor Air Pollution and Respiratory Health in...</td>\n",
       "      <td>Journal of occupational and environmental medi...</td>\n",
       "      <td>Journal Article, Research Support, Non-U.S. Gov't</td>\n",
       "      <td>1</td>\n",
       "      <td>Pakistan</td>\n",
       "    </tr>\n",
       "    <tr>\n",
       "      <th>7834</th>\n",
       "      <td>34593542</td>\n",
       "      <td>Khan MW, Juutilainen J, Naarala J, Roivainen P</td>\n",
       "      <td>Department of Environmental and Biological Sci...</td>\n",
       "      <td>2022 Jan</td>\n",
       "      <td>Residential extremely low frequency magnetic f...</td>\n",
       "      <td>Occupational and environmental medicine</td>\n",
       "      <td>Journal Article, Research Support, Non-U.S. Gov't</td>\n",
       "      <td>1</td>\n",
       "      <td>Pakistan</td>\n",
       "    </tr>\n",
       "    <tr>\n",
       "      <th>11684</th>\n",
       "      <td>35608827</td>\n",
       "      <td>Ariza-Montes A, Mahmood F, Han H, Saleem M</td>\n",
       "      <td>Universidad Loyola Andalucia, Spain (Dr Ariza-...</td>\n",
       "      <td>2022 May 1</td>\n",
       "      <td>The Mental Well-Being of Health Care Professio...</td>\n",
       "      <td>Journal of occupational and environmental medi...</td>\n",
       "      <td>Journal Article</td>\n",
       "      <td>1</td>\n",
       "      <td>Pakistan</td>\n",
       "    </tr>\n",
       "    <tr>\n",
       "      <th>12081</th>\n",
       "      <td>22996806</td>\n",
       "      <td>Yousafzai MT, Siddiqui AR, Janjua NZ</td>\n",
       "      <td>Department of Community Health Sciences, The A...</td>\n",
       "      <td>2013 Apr</td>\n",
       "      <td>Health belief model to predict sharps injuries...</td>\n",
       "      <td>American journal of industrial medicine</td>\n",
       "      <td>Journal Article, Research Support, Non-U.S. Gov't</td>\n",
       "      <td>1</td>\n",
       "      <td>Pakistan</td>\n",
       "    </tr>\n",
       "    <tr>\n",
       "      <th>12108</th>\n",
       "      <td>32956236</td>\n",
       "      <td>Sarfraz A, Sarfraz Z, Anwer A, Sarfraz M, Sidd...</td>\n",
       "      <td>Aga Khan University, Karachi, Pakistan (Dr Azz...</td>\n",
       "      <td>2020 Nov</td>\n",
       "      <td>Availability, Use, and Satisfaction of Persona...</td>\n",
       "      <td>Journal of occupational and environmental medi...</td>\n",
       "      <td>Journal Article</td>\n",
       "      <td>1</td>\n",
       "      <td>Pakistan</td>\n",
       "    </tr>\n",
       "    <tr>\n",
       "      <th>13391</th>\n",
       "      <td>34799440</td>\n",
       "      <td>Nafees AA, Muneer MZ, De Matteis S, Amaral A, ...</td>\n",
       "      <td>Department of Community Health Sciences, Aga K...</td>\n",
       "      <td>2022 Apr</td>\n",
       "      <td>Impact of using different predictive equations...</td>\n",
       "      <td>Occupational and environmental medicine</td>\n",
       "      <td>Journal Article, Randomized Controlled Trial, ...</td>\n",
       "      <td>1</td>\n",
       "      <td>Pakistan</td>\n",
       "    </tr>\n",
       "    <tr>\n",
       "      <th>14289</th>\n",
       "      <td>35673262</td>\n",
       "      <td>Cui L, Huang N, Bai Y, Fu M, Zia S, Guo J</td>\n",
       "      <td>From the School of Sociology, Huazhong Univers...</td>\n",
       "      <td>2022 Aug 1</td>\n",
       "      <td>The Relationship Between Job Burnout and Depre...</td>\n",
       "      <td>Journal of occupational and environmental medi...</td>\n",
       "      <td>Journal Article</td>\n",
       "      <td>2</td>\n",
       "      <td>China, Pakistan</td>\n",
       "    </tr>\n",
       "    <tr>\n",
       "      <th>15823</th>\n",
       "      <td>36730251</td>\n",
       "      <td>Yu Y, Yang F, Fu M, Ahmed F, Shahid M, Guo J</td>\n",
       "      <td>From the Department of Social Medicine and Hea...</td>\n",
       "      <td>2023 Apr 1</td>\n",
       "      <td>Relationship Between Work-Family Conflict and ...</td>\n",
       "      <td>Journal of occupational and environmental medi...</td>\n",
       "      <td>Journal Article, Research Support, Non-U.S. Gov't</td>\n",
       "      <td>2</td>\n",
       "      <td>China, Pakistan</td>\n",
       "    </tr>\n",
       "    <tr>\n",
       "      <th>16869</th>\n",
       "      <td>27032413</td>\n",
       "      <td>Khattak I, Mushtaq MH, Ahmad MU, Khan MS, Haid...</td>\n",
       "      <td>Department of Epidemiology and Public Health, ...</td>\n",
       "      <td>2016 Jul</td>\n",
       "      <td>Zoonotic tuberculosis in occupationally expose...</td>\n",
       "      <td>Occupational medicine (Oxford, England)</td>\n",
       "      <td>Journal Article</td>\n",
       "      <td>1</td>\n",
       "      <td>Pakistan</td>\n",
       "    </tr>\n",
       "    <tr>\n",
       "      <th>18570</th>\n",
       "      <td>23155188</td>\n",
       "      <td>Nafees AA, Fatmi Z, Kadir MM, Sathiakumar N</td>\n",
       "      <td>Division of Environmental Health Sciences, Dep...</td>\n",
       "      <td>2013 Feb</td>\n",
       "      <td>Pattern and predictors for respiratory illness...</td>\n",
       "      <td>Occupational and environmental medicine</td>\n",
       "      <td>Journal Article, Research Support, N.I.H., Ext...</td>\n",
       "      <td>1</td>\n",
       "      <td>Pakistan</td>\n",
       "    </tr>\n",
       "  </tbody>\n",
       "</table>\n",
       "</div>"
      ],
      "text/plain": [
       "           pmid                                             author  \\\n",
       "1416   32719018  Khisroon M, Humayun M, Khan A, Farooqi J, Huma...   \n",
       "1557   32890224   Khisroon M, Khan A, Hassan N, Zaidi F, Farooqi J   \n",
       "2082   26185127             Awais M, Hafeez S, Rehman A, Baloch NU   \n",
       "2234   33021515  Adnan S, Hanif M, Khan AH, Latif M, Ullah K, B...   \n",
       "2735   32079717  Coggon D, Ntani G, Walker-Bone K, Felli VE, Ha...   \n",
       "3385   33234873  Kumar D, Saghir T, Ali G, Yasin U, Furnaz S, K...   \n",
       "3695   36717255  Nafees AA, Muneer MZ, Irfan M, Kadir MM, Sempl...   \n",
       "4917   26265670                      Khan AW, Kundi M, Moshammer H   \n",
       "6063   14534448                        Meo SA, Azeem MA, Subhan MM   \n",
       "7699   35672913  Rabbani U, Razzaq S, Irfan M, Semple S, Nafees AA   \n",
       "7834   34593542     Khan MW, Juutilainen J, Naarala J, Roivainen P   \n",
       "11684  35608827         Ariza-Montes A, Mahmood F, Han H, Saleem M   \n",
       "12081  22996806               Yousafzai MT, Siddiqui AR, Janjua NZ   \n",
       "12108  32956236  Sarfraz A, Sarfraz Z, Anwer A, Sarfraz M, Sidd...   \n",
       "13391  34799440  Nafees AA, Muneer MZ, De Matteis S, Amaral A, ...   \n",
       "14289  35673262          Cui L, Huang N, Bai Y, Fu M, Zia S, Guo J   \n",
       "15823  36730251       Yu Y, Yang F, Fu M, Ahmed F, Shahid M, Guo J   \n",
       "16869  27032413  Khattak I, Mushtaq MH, Ahmad MU, Khan MS, Haid...   \n",
       "18570  23155188        Nafees AA, Fatmi Z, Kadir MM, Sathiakumar N   \n",
       "\n",
       "                                      author_affiliation        date  \\\n",
       "1416   Department of Zoology, University of Peshawar,...    2020 Nov   \n",
       "1557   Department of Zoology, University of Peshawar,...    2020 Sep   \n",
       "2082   Department of Radiology, Aga Khan University H...    2015 Sep   \n",
       "2234   Pakistan Meteorological Department (Dr Adnan, ...  2021 Feb 1   \n",
       "2735   Medical Research Council Lifecourse Epidemiolo...    2020 May   \n",
       "3385   National Institute of Cardiovascular Diseases ...  2021 Feb 1   \n",
       "3695   Department of Community Health Sciences, Aga K...    2023 Mar   \n",
       "4917   Institute for Environmental Health, Center for...    2015 Oct   \n",
       "6063   Department of Physiology, Hamdard College of M...    2003 Oct   \n",
       "7699   From the Family Medicine Academy, Qassim Healt...  2022 Sep 1   \n",
       "7834   Department of Environmental and Biological Sci...    2022 Jan   \n",
       "11684  Universidad Loyola Andalucia, Spain (Dr Ariza-...  2022 May 1   \n",
       "12081  Department of Community Health Sciences, The A...    2013 Apr   \n",
       "12108  Aga Khan University, Karachi, Pakistan (Dr Azz...    2020 Nov   \n",
       "13391  Department of Community Health Sciences, Aga K...    2022 Apr   \n",
       "14289  From the School of Sociology, Huazhong Univers...  2022 Aug 1   \n",
       "15823  From the Department of Social Medicine and Hea...  2023 Apr 1   \n",
       "16869  Department of Epidemiology and Public Health, ...    2016 Jul   \n",
       "18570  Division of Environmental Health Sciences, Dep...    2013 Feb   \n",
       "\n",
       "                                                   title  \\\n",
       "1416   Polymorphism in GSTM1 and GSTT1 genes influenc...   \n",
       "1557   Biomonitoring of DNA Damage in Photocopiers' W...   \n",
       "2082   Vibration-induced multifocal carpal osteonecro...   \n",
       "2234   Impact of Heat Index and Ultraviolet Index on ...   \n",
       "2735   Associations of sickness absence for pain in t...   \n",
       "3385   Psychosocial Impact of COVID-19 on Healthcare ...   \n",
       "3695   Byssinosis and lung health among cotton textil...   \n",
       "4917   Diminished pulmonary function in long-term wor...   \n",
       "6063         Lung function in Pakistani welding workers.   \n",
       "7699   Indoor Air Pollution and Respiratory Health in...   \n",
       "7834   Residential extremely low frequency magnetic f...   \n",
       "11684  The Mental Well-Being of Health Care Professio...   \n",
       "12081  Health belief model to predict sharps injuries...   \n",
       "12108  Availability, Use, and Satisfaction of Persona...   \n",
       "13391  Impact of using different predictive equations...   \n",
       "14289  The Relationship Between Job Burnout and Depre...   \n",
       "15823  Relationship Between Work-Family Conflict and ...   \n",
       "16869  Zoonotic tuberculosis in occupationally expose...   \n",
       "18570  Pattern and predictors for respiratory illness...   \n",
       "\n",
       "                                                 journal  \\\n",
       "1416             Occupational and environmental medicine   \n",
       "1557   Journal of occupational and environmental medi...   \n",
       "2082             Occupational and environmental medicine   \n",
       "2234   Journal of occupational and environmental medi...   \n",
       "2735             Occupational and environmental medicine   \n",
       "3385   Journal of occupational and environmental medi...   \n",
       "3695             Occupational and environmental medicine   \n",
       "4917             Occupational and environmental medicine   \n",
       "6063   Journal of occupational and environmental medi...   \n",
       "7699   Journal of occupational and environmental medi...   \n",
       "7834             Occupational and environmental medicine   \n",
       "11684  Journal of occupational and environmental medi...   \n",
       "12081            American journal of industrial medicine   \n",
       "12108  Journal of occupational and environmental medi...   \n",
       "13391            Occupational and environmental medicine   \n",
       "14289  Journal of occupational and environmental medi...   \n",
       "15823  Journal of occupational and environmental medi...   \n",
       "16869            Occupational medicine (Oxford, England)   \n",
       "18570            Occupational and environmental medicine   \n",
       "\n",
       "                                                pub_type  LMIC_Count  \\\n",
       "1416                                     Journal Article           1   \n",
       "1557   Journal Article, Research Support, Non-U.S. Gov't           1   \n",
       "2082                                Case Reports, Letter           1   \n",
       "2234                  Journal Article, Multicenter Study           1   \n",
       "2735   Journal Article, Research Support, Non-U.S. Gov't          10   \n",
       "3385                                     Journal Article           1   \n",
       "3695   Journal Article, Research Support, Non-U.S. Gov't           1   \n",
       "4917   Comparative Study, Journal Article, Research S...           1   \n",
       "6063                  Comparative Study, Journal Article           1   \n",
       "7699   Journal Article, Research Support, Non-U.S. Gov't           1   \n",
       "7834   Journal Article, Research Support, Non-U.S. Gov't           1   \n",
       "11684                                    Journal Article           1   \n",
       "12081  Journal Article, Research Support, Non-U.S. Gov't           1   \n",
       "12108                                    Journal Article           1   \n",
       "13391  Journal Article, Randomized Controlled Trial, ...           1   \n",
       "14289                                    Journal Article           2   \n",
       "15823  Journal Article, Research Support, Non-U.S. Gov't           2   \n",
       "16869                                    Journal Article           1   \n",
       "18570  Journal Article, Research Support, N.I.H., Ext...           1   \n",
       "\n",
       "                                          LMIC_Countries  \n",
       "1416                                            Pakistan  \n",
       "1557                                            Pakistan  \n",
       "2082                                            Pakistan  \n",
       "2234                                            Pakistan  \n",
       "2735   Brazil, Colombia, Costa Rica, Ecuador, Georgia...  \n",
       "3385                                            Pakistan  \n",
       "3695                                            Pakistan  \n",
       "4917                                            Pakistan  \n",
       "6063                                            Pakistan  \n",
       "7699                                            Pakistan  \n",
       "7834                                            Pakistan  \n",
       "11684                                           Pakistan  \n",
       "12081                                           Pakistan  \n",
       "12108                                           Pakistan  \n",
       "13391                                           Pakistan  \n",
       "14289                                    China, Pakistan  \n",
       "15823                                    China, Pakistan  \n",
       "16869                                           Pakistan  \n",
       "18570                                           Pakistan  "
      ]
     },
     "execution_count": 46,
     "metadata": {},
     "output_type": "execute_result"
    }
   ],
   "source": [
    "# e.g\n",
    "df[df.author_affiliation.str.contains('Pakistan')]"
   ]
  },
  {
   "cell_type": "code",
   "execution_count": 53,
   "id": "fbea037a",
   "metadata": {},
   "outputs": [],
   "source": [
    "df_lmic_count = pd.DataFrame([lmic_dict_papers]).melt()\n",
    "df_lmic_count.columns = ['Economy','N']\n",
    "\n",
    "# use dataframe ealier \n",
    "countriesdf = countries[((countries['Income group'] == \"Low income\") | (countries['Income group'] == \"Lower middle income\") | (countries['Income group'] == \"Upper middle income\"))]\n",
    "countriesdf.loc[:,'Economy'] = countriesdf['Economy'].str.split(\",\").str[0] #simplify names for consistency\n",
    "\n",
    "gdf = pd.merge(countriesdf.dropna(), df_lmic_count)"
   ]
  },
  {
   "cell_type": "code",
   "execution_count": 54,
   "id": "34c3395f",
   "metadata": {},
   "outputs": [],
   "source": [
    "# replace North Korea for the map\n",
    "korea = countriesdf[countriesdf.Economy == 'Korea']\n",
    "korea = korea.assign(N=[0])\n",
    "gdf = pd.concat([gdf, korea])"
   ]
  },
  {
   "cell_type": "code",
   "execution_count": 55,
   "id": "1ef51818",
   "metadata": {},
   "outputs": [],
   "source": [
    "# gdf = gdf[gdf['N'] > 0] # lets not include LMICS with zero papers"
   ]
  },
  {
   "cell_type": "code",
   "execution_count": 56,
   "id": "f5a5b041",
   "metadata": {},
   "outputs": [
    {
     "name": "stdout",
     "output_type": "stream",
     "text": [
      "Number of papers where the author affiliation includes one or more instances of the country name. Low and lower middle income countries, as defined by the world bank, shown for four occupational lung disease journals (Journal of occupational and environmental medicine, Occupational medicine, American journal of industrial medicine, Occupational and environmental medicine) accessed via PubMed 1987-2024\n"
     ]
    }
   ],
   "source": [
    "print('Number of papers where the author affiliation includes one or more instances of the country name. Low and lower middle income countries, as defined by the world bank, shown for four occupational lung disease journals (Journal of occupational and environmental medicine, Occupational medicine, American journal of industrial medicine, Occupational and environmental medicine) accessed via PubMed 1987-2024')"
   ]
  },
  {
   "cell_type": "code",
   "execution_count": 57,
   "id": "878f1c18",
   "metadata": {},
   "outputs": [
    {
     "data": {
      "application/vnd.plotly.v1+json": {
       "config": {
        "plotlyServerURL": "https://plot.ly"
       },
       "data": [
        {
         "autocolorscale": false,
         "colorbar": {
          "title": {
           "text": "N of papers per LMIC"
          }
         },
         "colorscale": [
          [
           0,
           "#440154"
          ],
          [
           0.1111111111111111,
           "#482878"
          ],
          [
           0.2222222222222222,
           "#3e4989"
          ],
          [
           0.3333333333333333,
           "#31688e"
          ],
          [
           0.4444444444444444,
           "#26828e"
          ],
          [
           0.5555555555555556,
           "#1f9e89"
          ],
          [
           0.6666666666666666,
           "#35b779"
          ],
          [
           0.7777777777777778,
           "#6ece58"
          ],
          [
           0.8888888888888888,
           "#b5de2b"
          ],
          [
           1,
           "#fde725"
          ]
         ],
         "locations": [
          "AFG",
          "ALB",
          "DZA",
          "AGO",
          "ARG",
          "ARM",
          "AZE",
          "BGD",
          "BLR",
          "BLZ",
          "BEN",
          "BTN",
          "BOL",
          "BIH",
          "BWA",
          "BRA",
          "BFA",
          "BDI",
          "CPV",
          "KHM",
          "CMR",
          "CAF",
          "TCD",
          "CHN",
          "COL",
          "COM",
          "COD",
          "COG",
          "CRI",
          "CIV",
          "CUB",
          "DJI",
          "DMA",
          "DOM",
          "ECU",
          "EGY",
          "SLV",
          "GNQ",
          "ERI",
          "SWZ",
          "ETH",
          "FJI",
          "GAB",
          "GMB",
          "GEO",
          "GHA",
          "GRD",
          "GTM",
          "GIN",
          "GNB",
          "HTI",
          "HND",
          "IND",
          "IDN",
          "IRN",
          "IRQ",
          "JAM",
          "JOR",
          "KAZ",
          "KEN",
          "KIR",
          "XKX",
          "KGZ",
          "LAO",
          "LBN",
          "LSO",
          "LBR",
          "LBY",
          "MDG",
          "MWI",
          "MYS",
          "MDV",
          "MLI",
          "MHL",
          "MRT",
          "MUS",
          "MEX",
          "FSM",
          "MDA",
          "MNG",
          "MNE",
          "MAR",
          "MOZ",
          "MMR",
          "NAM",
          "NPL",
          "NIC",
          "NER",
          "NGA",
          "MKD",
          "PAK",
          "PNG",
          "PRY",
          "PER",
          "PHL",
          "RWA",
          "WSM",
          "STP",
          "SEN",
          "SRB",
          "SLE",
          "SLB",
          "SOM",
          "ZAF",
          "SSD",
          "LKA",
          "LCA",
          "VCT",
          "SDN",
          "SUR",
          "SYR",
          "TJK",
          "TZA",
          "THA",
          "TLS",
          "TGO",
          "TON",
          "TUN",
          "TUR",
          "TKM",
          "TUV",
          "UGA",
          "UKR",
          "UZB",
          "VUT",
          "VNM",
          "PSE",
          "YEM",
          "ZMB",
          "ZWE",
          "PRK"
         ],
         "marker": {
          "line": {
           "color": "darkgray",
           "width": 0.5
          }
         },
         "reversescale": true,
         "text": [
          "Afghanistan",
          "Albania",
          "Algeria",
          "Angola",
          "Argentina",
          "Armenia",
          "Azerbaijan",
          "Bangladesh",
          "Belarus",
          "Belize",
          "Benin",
          "Bhutan",
          "Bolivia",
          "Bosnia and Herzegovina",
          "Botswana",
          "Brazil",
          "Burkina Faso",
          "Burundi",
          "Cabo Verde",
          "Cambodia",
          "Cameroon",
          "Central African Republic",
          "Chad",
          "China",
          "Colombia",
          "Comoros",
          "Congo",
          "Congo",
          "Costa Rica",
          "Côte d’Ivoire",
          "Cuba",
          "Djibouti",
          "Dominica",
          "Dominican Republic",
          "Ecuador",
          "Egypt",
          "El Salvador",
          "Equatorial Guinea",
          "Eritrea",
          "Eswatini",
          "Ethiopia",
          "Fiji",
          "Gabon",
          "Gambia",
          "Georgia",
          "Ghana",
          "Grenada",
          "Guatemala",
          "Guinea",
          "Guinea-Bissau",
          "Haiti",
          "Honduras",
          "India",
          "Indonesia",
          "Iran",
          "Iraq",
          "Jamaica",
          "Jordan",
          "Kazakhstan",
          "Kenya",
          "Kiribati",
          "Kosovo",
          "Kyrgyz Republic",
          "Lao PDR",
          "Lebanon",
          "Lesotho",
          "Liberia",
          "Libya",
          "Madagascar",
          "Malawi",
          "Malaysia",
          "Maldives",
          "Mali",
          "Marshall Islands",
          "Mauritania",
          "Mauritius",
          "Mexico",
          "Micronesia",
          "Moldova",
          "Mongolia",
          "Montenegro",
          "Morocco",
          "Mozambique",
          "Myanmar",
          "Namibia",
          "Nepal",
          "Nicaragua",
          "Niger",
          "Nigeria",
          "North Macedonia",
          "Pakistan",
          "Papua New Guinea",
          "Paraguay",
          "Peru",
          "Philippines",
          "Rwanda",
          "Samoa",
          "São Tomé and Príncipe",
          "Senegal",
          "Serbia",
          "Sierra Leone",
          "Solomon Islands",
          "Somalia",
          "South Africa",
          "South Sudan",
          "Sri Lanka",
          "St. Lucia",
          "St. Vincent and the Grenadines",
          "Sudan",
          "Suriname",
          "Syrian Arab Republic",
          "Tajikistan",
          "Tanzania",
          "Thailand",
          "Timor-Leste",
          "Togo",
          "Tonga",
          "Tunisia",
          "Türkiye",
          "Turkmenistan",
          "Tuvalu",
          "Uganda",
          "Ukraine",
          "Uzbekistan",
          "Vanuatu",
          "Vietnam",
          "West Bank and Gaza",
          "Yemen",
          "Zambia",
          "Zimbabwe",
          "Korea"
         ],
         "type": "choropleth",
         "z": [
          0,
          0,
          2,
          0,
          12,
          1,
          0,
          7,
          4,
          0,
          4,
          2,
          0,
          2,
          4,
          161,
          0,
          0,
          0,
          0,
          0,
          0,
          0,
          398,
          23,
          0,
          2,
          2,
          18,
          0,
          1,
          0,
          2,
          2,
          5,
          17,
          5,
          0,
          0,
          0,
          9,
          0,
          0,
          0,
          232,
          6,
          1,
          5,
          0,
          0,
          0,
          1,
          117,
          13,
          36,
          3,
          4,
          7,
          7,
          2,
          0,
          0,
          0,
          0,
          21,
          1,
          0,
          0,
          0,
          1,
          20,
          0,
          8,
          0,
          0,
          0,
          74,
          0,
          1,
          2,
          3,
          1,
          0,
          0,
          0,
          3,
          8,
          14,
          14,
          1,
          19,
          0,
          1,
          23,
          4,
          0,
          0,
          0,
          1,
          9,
          1,
          0,
          0,
          159,
          0,
          18,
          1,
          0,
          5,
          0,
          0,
          0,
          8,
          20,
          0,
          1,
          0,
          4,
          0,
          0,
          0,
          1,
          5,
          0,
          0,
          5,
          0,
          0,
          3,
          4,
          0
         ]
        }
       ],
       "layout": {
        "template": {
         "data": {
          "bar": [
           {
            "error_x": {
             "color": "#2a3f5f"
            },
            "error_y": {
             "color": "#2a3f5f"
            },
            "marker": {
             "line": {
              "color": "#E5ECF6",
              "width": 0.5
             },
             "pattern": {
              "fillmode": "overlay",
              "size": 10,
              "solidity": 0.2
             }
            },
            "type": "bar"
           }
          ],
          "barpolar": [
           {
            "marker": {
             "line": {
              "color": "#E5ECF6",
              "width": 0.5
             },
             "pattern": {
              "fillmode": "overlay",
              "size": 10,
              "solidity": 0.2
             }
            },
            "type": "barpolar"
           }
          ],
          "carpet": [
           {
            "aaxis": {
             "endlinecolor": "#2a3f5f",
             "gridcolor": "white",
             "linecolor": "white",
             "minorgridcolor": "white",
             "startlinecolor": "#2a3f5f"
            },
            "baxis": {
             "endlinecolor": "#2a3f5f",
             "gridcolor": "white",
             "linecolor": "white",
             "minorgridcolor": "white",
             "startlinecolor": "#2a3f5f"
            },
            "type": "carpet"
           }
          ],
          "choropleth": [
           {
            "colorbar": {
             "outlinewidth": 0,
             "ticks": ""
            },
            "type": "choropleth"
           }
          ],
          "contour": [
           {
            "colorbar": {
             "outlinewidth": 0,
             "ticks": ""
            },
            "colorscale": [
             [
              0,
              "#0d0887"
             ],
             [
              0.1111111111111111,
              "#46039f"
             ],
             [
              0.2222222222222222,
              "#7201a8"
             ],
             [
              0.3333333333333333,
              "#9c179e"
             ],
             [
              0.4444444444444444,
              "#bd3786"
             ],
             [
              0.5555555555555556,
              "#d8576b"
             ],
             [
              0.6666666666666666,
              "#ed7953"
             ],
             [
              0.7777777777777778,
              "#fb9f3a"
             ],
             [
              0.8888888888888888,
              "#fdca26"
             ],
             [
              1,
              "#f0f921"
             ]
            ],
            "type": "contour"
           }
          ],
          "contourcarpet": [
           {
            "colorbar": {
             "outlinewidth": 0,
             "ticks": ""
            },
            "type": "contourcarpet"
           }
          ],
          "heatmap": [
           {
            "colorbar": {
             "outlinewidth": 0,
             "ticks": ""
            },
            "colorscale": [
             [
              0,
              "#0d0887"
             ],
             [
              0.1111111111111111,
              "#46039f"
             ],
             [
              0.2222222222222222,
              "#7201a8"
             ],
             [
              0.3333333333333333,
              "#9c179e"
             ],
             [
              0.4444444444444444,
              "#bd3786"
             ],
             [
              0.5555555555555556,
              "#d8576b"
             ],
             [
              0.6666666666666666,
              "#ed7953"
             ],
             [
              0.7777777777777778,
              "#fb9f3a"
             ],
             [
              0.8888888888888888,
              "#fdca26"
             ],
             [
              1,
              "#f0f921"
             ]
            ],
            "type": "heatmap"
           }
          ],
          "heatmapgl": [
           {
            "colorbar": {
             "outlinewidth": 0,
             "ticks": ""
            },
            "colorscale": [
             [
              0,
              "#0d0887"
             ],
             [
              0.1111111111111111,
              "#46039f"
             ],
             [
              0.2222222222222222,
              "#7201a8"
             ],
             [
              0.3333333333333333,
              "#9c179e"
             ],
             [
              0.4444444444444444,
              "#bd3786"
             ],
             [
              0.5555555555555556,
              "#d8576b"
             ],
             [
              0.6666666666666666,
              "#ed7953"
             ],
             [
              0.7777777777777778,
              "#fb9f3a"
             ],
             [
              0.8888888888888888,
              "#fdca26"
             ],
             [
              1,
              "#f0f921"
             ]
            ],
            "type": "heatmapgl"
           }
          ],
          "histogram": [
           {
            "marker": {
             "pattern": {
              "fillmode": "overlay",
              "size": 10,
              "solidity": 0.2
             }
            },
            "type": "histogram"
           }
          ],
          "histogram2d": [
           {
            "colorbar": {
             "outlinewidth": 0,
             "ticks": ""
            },
            "colorscale": [
             [
              0,
              "#0d0887"
             ],
             [
              0.1111111111111111,
              "#46039f"
             ],
             [
              0.2222222222222222,
              "#7201a8"
             ],
             [
              0.3333333333333333,
              "#9c179e"
             ],
             [
              0.4444444444444444,
              "#bd3786"
             ],
             [
              0.5555555555555556,
              "#d8576b"
             ],
             [
              0.6666666666666666,
              "#ed7953"
             ],
             [
              0.7777777777777778,
              "#fb9f3a"
             ],
             [
              0.8888888888888888,
              "#fdca26"
             ],
             [
              1,
              "#f0f921"
             ]
            ],
            "type": "histogram2d"
           }
          ],
          "histogram2dcontour": [
           {
            "colorbar": {
             "outlinewidth": 0,
             "ticks": ""
            },
            "colorscale": [
             [
              0,
              "#0d0887"
             ],
             [
              0.1111111111111111,
              "#46039f"
             ],
             [
              0.2222222222222222,
              "#7201a8"
             ],
             [
              0.3333333333333333,
              "#9c179e"
             ],
             [
              0.4444444444444444,
              "#bd3786"
             ],
             [
              0.5555555555555556,
              "#d8576b"
             ],
             [
              0.6666666666666666,
              "#ed7953"
             ],
             [
              0.7777777777777778,
              "#fb9f3a"
             ],
             [
              0.8888888888888888,
              "#fdca26"
             ],
             [
              1,
              "#f0f921"
             ]
            ],
            "type": "histogram2dcontour"
           }
          ],
          "mesh3d": [
           {
            "colorbar": {
             "outlinewidth": 0,
             "ticks": ""
            },
            "type": "mesh3d"
           }
          ],
          "parcoords": [
           {
            "line": {
             "colorbar": {
              "outlinewidth": 0,
              "ticks": ""
             }
            },
            "type": "parcoords"
           }
          ],
          "pie": [
           {
            "automargin": true,
            "type": "pie"
           }
          ],
          "scatter": [
           {
            "fillpattern": {
             "fillmode": "overlay",
             "size": 10,
             "solidity": 0.2
            },
            "type": "scatter"
           }
          ],
          "scatter3d": [
           {
            "line": {
             "colorbar": {
              "outlinewidth": 0,
              "ticks": ""
             }
            },
            "marker": {
             "colorbar": {
              "outlinewidth": 0,
              "ticks": ""
             }
            },
            "type": "scatter3d"
           }
          ],
          "scattercarpet": [
           {
            "marker": {
             "colorbar": {
              "outlinewidth": 0,
              "ticks": ""
             }
            },
            "type": "scattercarpet"
           }
          ],
          "scattergeo": [
           {
            "marker": {
             "colorbar": {
              "outlinewidth": 0,
              "ticks": ""
             }
            },
            "type": "scattergeo"
           }
          ],
          "scattergl": [
           {
            "marker": {
             "colorbar": {
              "outlinewidth": 0,
              "ticks": ""
             }
            },
            "type": "scattergl"
           }
          ],
          "scattermapbox": [
           {
            "marker": {
             "colorbar": {
              "outlinewidth": 0,
              "ticks": ""
             }
            },
            "type": "scattermapbox"
           }
          ],
          "scatterpolar": [
           {
            "marker": {
             "colorbar": {
              "outlinewidth": 0,
              "ticks": ""
             }
            },
            "type": "scatterpolar"
           }
          ],
          "scatterpolargl": [
           {
            "marker": {
             "colorbar": {
              "outlinewidth": 0,
              "ticks": ""
             }
            },
            "type": "scatterpolargl"
           }
          ],
          "scatterternary": [
           {
            "marker": {
             "colorbar": {
              "outlinewidth": 0,
              "ticks": ""
             }
            },
            "type": "scatterternary"
           }
          ],
          "surface": [
           {
            "colorbar": {
             "outlinewidth": 0,
             "ticks": ""
            },
            "colorscale": [
             [
              0,
              "#0d0887"
             ],
             [
              0.1111111111111111,
              "#46039f"
             ],
             [
              0.2222222222222222,
              "#7201a8"
             ],
             [
              0.3333333333333333,
              "#9c179e"
             ],
             [
              0.4444444444444444,
              "#bd3786"
             ],
             [
              0.5555555555555556,
              "#d8576b"
             ],
             [
              0.6666666666666666,
              "#ed7953"
             ],
             [
              0.7777777777777778,
              "#fb9f3a"
             ],
             [
              0.8888888888888888,
              "#fdca26"
             ],
             [
              1,
              "#f0f921"
             ]
            ],
            "type": "surface"
           }
          ],
          "table": [
           {
            "cells": {
             "fill": {
              "color": "#EBF0F8"
             },
             "line": {
              "color": "white"
             }
            },
            "header": {
             "fill": {
              "color": "#C8D4E3"
             },
             "line": {
              "color": "white"
             }
            },
            "type": "table"
           }
          ]
         },
         "layout": {
          "annotationdefaults": {
           "arrowcolor": "#2a3f5f",
           "arrowhead": 0,
           "arrowwidth": 1
          },
          "autotypenumbers": "strict",
          "coloraxis": {
           "colorbar": {
            "outlinewidth": 0,
            "ticks": ""
           }
          },
          "colorscale": {
           "diverging": [
            [
             0,
             "#8e0152"
            ],
            [
             0.1,
             "#c51b7d"
            ],
            [
             0.2,
             "#de77ae"
            ],
            [
             0.3,
             "#f1b6da"
            ],
            [
             0.4,
             "#fde0ef"
            ],
            [
             0.5,
             "#f7f7f7"
            ],
            [
             0.6,
             "#e6f5d0"
            ],
            [
             0.7,
             "#b8e186"
            ],
            [
             0.8,
             "#7fbc41"
            ],
            [
             0.9,
             "#4d9221"
            ],
            [
             1,
             "#276419"
            ]
           ],
           "sequential": [
            [
             0,
             "#0d0887"
            ],
            [
             0.1111111111111111,
             "#46039f"
            ],
            [
             0.2222222222222222,
             "#7201a8"
            ],
            [
             0.3333333333333333,
             "#9c179e"
            ],
            [
             0.4444444444444444,
             "#bd3786"
            ],
            [
             0.5555555555555556,
             "#d8576b"
            ],
            [
             0.6666666666666666,
             "#ed7953"
            ],
            [
             0.7777777777777778,
             "#fb9f3a"
            ],
            [
             0.8888888888888888,
             "#fdca26"
            ],
            [
             1,
             "#f0f921"
            ]
           ],
           "sequentialminus": [
            [
             0,
             "#0d0887"
            ],
            [
             0.1111111111111111,
             "#46039f"
            ],
            [
             0.2222222222222222,
             "#7201a8"
            ],
            [
             0.3333333333333333,
             "#9c179e"
            ],
            [
             0.4444444444444444,
             "#bd3786"
            ],
            [
             0.5555555555555556,
             "#d8576b"
            ],
            [
             0.6666666666666666,
             "#ed7953"
            ],
            [
             0.7777777777777778,
             "#fb9f3a"
            ],
            [
             0.8888888888888888,
             "#fdca26"
            ],
            [
             1,
             "#f0f921"
            ]
           ]
          },
          "colorway": [
           "#636efa",
           "#EF553B",
           "#00cc96",
           "#ab63fa",
           "#FFA15A",
           "#19d3f3",
           "#FF6692",
           "#B6E880",
           "#FF97FF",
           "#FECB52"
          ],
          "font": {
           "color": "#2a3f5f"
          },
          "geo": {
           "bgcolor": "white",
           "lakecolor": "white",
           "landcolor": "#E5ECF6",
           "showlakes": true,
           "showland": true,
           "subunitcolor": "white"
          },
          "hoverlabel": {
           "align": "left"
          },
          "hovermode": "closest",
          "mapbox": {
           "style": "light"
          },
          "paper_bgcolor": "white",
          "plot_bgcolor": "#E5ECF6",
          "polar": {
           "angularaxis": {
            "gridcolor": "white",
            "linecolor": "white",
            "ticks": ""
           },
           "bgcolor": "#E5ECF6",
           "radialaxis": {
            "gridcolor": "white",
            "linecolor": "white",
            "ticks": ""
           }
          },
          "scene": {
           "xaxis": {
            "backgroundcolor": "#E5ECF6",
            "gridcolor": "white",
            "gridwidth": 2,
            "linecolor": "white",
            "showbackground": true,
            "ticks": "",
            "zerolinecolor": "white"
           },
           "yaxis": {
            "backgroundcolor": "#E5ECF6",
            "gridcolor": "white",
            "gridwidth": 2,
            "linecolor": "white",
            "showbackground": true,
            "ticks": "",
            "zerolinecolor": "white"
           },
           "zaxis": {
            "backgroundcolor": "#E5ECF6",
            "gridcolor": "white",
            "gridwidth": 2,
            "linecolor": "white",
            "showbackground": true,
            "ticks": "",
            "zerolinecolor": "white"
           }
          },
          "shapedefaults": {
           "line": {
            "color": "#2a3f5f"
           }
          },
          "ternary": {
           "aaxis": {
            "gridcolor": "white",
            "linecolor": "white",
            "ticks": ""
           },
           "baxis": {
            "gridcolor": "white",
            "linecolor": "white",
            "ticks": ""
           },
           "bgcolor": "#E5ECF6",
           "caxis": {
            "gridcolor": "white",
            "linecolor": "white",
            "ticks": ""
           }
          },
          "title": {
           "x": 0.05
          },
          "xaxis": {
           "automargin": true,
           "gridcolor": "white",
           "linecolor": "white",
           "ticks": "",
           "title": {
            "standoff": 15
           },
           "zerolinecolor": "white",
           "zerolinewidth": 2
          },
          "yaxis": {
           "automargin": true,
           "gridcolor": "white",
           "linecolor": "white",
           "ticks": "",
           "title": {
            "standoff": 15
           },
           "zerolinecolor": "white",
           "zerolinewidth": 2
          }
         }
        }
       }
      },
      "text/html": [
       "<div>                            <div id=\"52fae194-036c-42ab-94fd-9ea0dcf811c3\" class=\"plotly-graph-div\" style=\"height:525px; width:100%;\"></div>            <script type=\"text/javascript\">                require([\"plotly\"], function(Plotly) {                    window.PLOTLYENV=window.PLOTLYENV || {};                                    if (document.getElementById(\"52fae194-036c-42ab-94fd-9ea0dcf811c3\")) {                    Plotly.newPlot(                        \"52fae194-036c-42ab-94fd-9ea0dcf811c3\",                        [{\"autocolorscale\":false,\"colorbar\":{\"title\":{\"text\":\"N of papers per LMIC\"}},\"colorscale\":[[0.0,\"#440154\"],[0.1111111111111111,\"#482878\"],[0.2222222222222222,\"#3e4989\"],[0.3333333333333333,\"#31688e\"],[0.4444444444444444,\"#26828e\"],[0.5555555555555556,\"#1f9e89\"],[0.6666666666666666,\"#35b779\"],[0.7777777777777778,\"#6ece58\"],[0.8888888888888888,\"#b5de2b\"],[1.0,\"#fde725\"]],\"locations\":[\"AFG\",\"ALB\",\"DZA\",\"AGO\",\"ARG\",\"ARM\",\"AZE\",\"BGD\",\"BLR\",\"BLZ\",\"BEN\",\"BTN\",\"BOL\",\"BIH\",\"BWA\",\"BRA\",\"BFA\",\"BDI\",\"CPV\",\"KHM\",\"CMR\",\"CAF\",\"TCD\",\"CHN\",\"COL\",\"COM\",\"COD\",\"COG\",\"CRI\",\"CIV\",\"CUB\",\"DJI\",\"DMA\",\"DOM\",\"ECU\",\"EGY\",\"SLV\",\"GNQ\",\"ERI\",\"SWZ\",\"ETH\",\"FJI\",\"GAB\",\"GMB\",\"GEO\",\"GHA\",\"GRD\",\"GTM\",\"GIN\",\"GNB\",\"HTI\",\"HND\",\"IND\",\"IDN\",\"IRN\",\"IRQ\",\"JAM\",\"JOR\",\"KAZ\",\"KEN\",\"KIR\",\"XKX\",\"KGZ\",\"LAO\",\"LBN\",\"LSO\",\"LBR\",\"LBY\",\"MDG\",\"MWI\",\"MYS\",\"MDV\",\"MLI\",\"MHL\",\"MRT\",\"MUS\",\"MEX\",\"FSM\",\"MDA\",\"MNG\",\"MNE\",\"MAR\",\"MOZ\",\"MMR\",\"NAM\",\"NPL\",\"NIC\",\"NER\",\"NGA\",\"MKD\",\"PAK\",\"PNG\",\"PRY\",\"PER\",\"PHL\",\"RWA\",\"WSM\",\"STP\",\"SEN\",\"SRB\",\"SLE\",\"SLB\",\"SOM\",\"ZAF\",\"SSD\",\"LKA\",\"LCA\",\"VCT\",\"SDN\",\"SUR\",\"SYR\",\"TJK\",\"TZA\",\"THA\",\"TLS\",\"TGO\",\"TON\",\"TUN\",\"TUR\",\"TKM\",\"TUV\",\"UGA\",\"UKR\",\"UZB\",\"VUT\",\"VNM\",\"PSE\",\"YEM\",\"ZMB\",\"ZWE\",\"PRK\"],\"marker\":{\"line\":{\"color\":\"darkgray\",\"width\":0.5}},\"reversescale\":true,\"text\":[\"Afghanistan\",\"Albania\",\"Algeria\",\"Angola\",\"Argentina\",\"Armenia\",\"Azerbaijan\",\"Bangladesh\",\"Belarus\",\"Belize\",\"Benin\",\"Bhutan\",\"Bolivia\",\"Bosnia and Herzegovina\",\"Botswana\",\"Brazil\",\"Burkina Faso\",\"Burundi\",\"Cabo Verde\",\"Cambodia\",\"Cameroon\",\"Central African Republic\",\"Chad\",\"China\",\"Colombia\",\"Comoros\",\"Congo\",\"Congo\",\"Costa Rica\",\"C\\u00f4te d\\u2019Ivoire\",\"Cuba\",\"Djibouti\",\"Dominica\",\"Dominican Republic\",\"Ecuador\",\"Egypt\",\"El Salvador\",\"Equatorial Guinea\",\"Eritrea\",\"Eswatini\",\"Ethiopia\",\"Fiji\",\"Gabon\",\"Gambia\",\"Georgia\",\"Ghana\",\"Grenada\",\"Guatemala\",\"Guinea\",\"Guinea-Bissau\",\"Haiti\",\"Honduras\",\"India\",\"Indonesia\",\"Iran\",\"Iraq\",\"Jamaica\",\"Jordan\",\"Kazakhstan\",\"Kenya\",\"Kiribati\",\"Kosovo\",\"Kyrgyz Republic\",\"Lao PDR\",\"Lebanon\",\"Lesotho\",\"Liberia\",\"Libya\",\"Madagascar\",\"Malawi\",\"Malaysia\",\"Maldives\",\"Mali\",\"Marshall Islands\",\"Mauritania\",\"Mauritius\",\"Mexico\",\"Micronesia\",\"Moldova\",\"Mongolia\",\"Montenegro\",\"Morocco\",\"Mozambique\",\"Myanmar\",\"Namibia\",\"Nepal\",\"Nicaragua\",\"Niger\",\"Nigeria\",\"North Macedonia\",\"Pakistan\",\"Papua New Guinea\",\"Paraguay\",\"Peru\",\"Philippines\",\"Rwanda\",\"Samoa\",\"S\\u00e3o Tom\\u00e9 and Pr\\u00edncipe\",\"Senegal\",\"Serbia\",\"Sierra Leone\",\"Solomon Islands\",\"Somalia\",\"South Africa\",\"South Sudan\",\"Sri Lanka\",\"St. Lucia\",\"St. Vincent and the Grenadines\",\"Sudan\",\"Suriname\",\"Syrian Arab Republic\",\"Tajikistan\",\"Tanzania\",\"Thailand\",\"Timor-Leste\",\"Togo\",\"Tonga\",\"Tunisia\",\"T\\u00fcrkiye\",\"Turkmenistan\",\"Tuvalu\",\"Uganda\",\"Ukraine\",\"Uzbekistan\",\"Vanuatu\",\"Vietnam\",\"West Bank and Gaza\",\"Yemen\",\"Zambia\",\"Zimbabwe\",\"Korea\"],\"z\":[0,0,2,0,12,1,0,7,4,0,4,2,0,2,4,161,0,0,0,0,0,0,0,398,23,0,2,2,18,0,1,0,2,2,5,17,5,0,0,0,9,0,0,0,232,6,1,5,0,0,0,1,117,13,36,3,4,7,7,2,0,0,0,0,21,1,0,0,0,1,20,0,8,0,0,0,74,0,1,2,3,1,0,0,0,3,8,14,14,1,19,0,1,23,4,0,0,0,1,9,1,0,0,159,0,18,1,0,5,0,0,0,8,20,0,1,0,4,0,0,0,1,5,0,0,5,0,0,3,4,0],\"type\":\"choropleth\"}],                        {\"template\":{\"data\":{\"histogram2dcontour\":[{\"type\":\"histogram2dcontour\",\"colorbar\":{\"outlinewidth\":0,\"ticks\":\"\"},\"colorscale\":[[0.0,\"#0d0887\"],[0.1111111111111111,\"#46039f\"],[0.2222222222222222,\"#7201a8\"],[0.3333333333333333,\"#9c179e\"],[0.4444444444444444,\"#bd3786\"],[0.5555555555555556,\"#d8576b\"],[0.6666666666666666,\"#ed7953\"],[0.7777777777777778,\"#fb9f3a\"],[0.8888888888888888,\"#fdca26\"],[1.0,\"#f0f921\"]]}],\"choropleth\":[{\"type\":\"choropleth\",\"colorbar\":{\"outlinewidth\":0,\"ticks\":\"\"}}],\"histogram2d\":[{\"type\":\"histogram2d\",\"colorbar\":{\"outlinewidth\":0,\"ticks\":\"\"},\"colorscale\":[[0.0,\"#0d0887\"],[0.1111111111111111,\"#46039f\"],[0.2222222222222222,\"#7201a8\"],[0.3333333333333333,\"#9c179e\"],[0.4444444444444444,\"#bd3786\"],[0.5555555555555556,\"#d8576b\"],[0.6666666666666666,\"#ed7953\"],[0.7777777777777778,\"#fb9f3a\"],[0.8888888888888888,\"#fdca26\"],[1.0,\"#f0f921\"]]}],\"heatmap\":[{\"type\":\"heatmap\",\"colorbar\":{\"outlinewidth\":0,\"ticks\":\"\"},\"colorscale\":[[0.0,\"#0d0887\"],[0.1111111111111111,\"#46039f\"],[0.2222222222222222,\"#7201a8\"],[0.3333333333333333,\"#9c179e\"],[0.4444444444444444,\"#bd3786\"],[0.5555555555555556,\"#d8576b\"],[0.6666666666666666,\"#ed7953\"],[0.7777777777777778,\"#fb9f3a\"],[0.8888888888888888,\"#fdca26\"],[1.0,\"#f0f921\"]]}],\"heatmapgl\":[{\"type\":\"heatmapgl\",\"colorbar\":{\"outlinewidth\":0,\"ticks\":\"\"},\"colorscale\":[[0.0,\"#0d0887\"],[0.1111111111111111,\"#46039f\"],[0.2222222222222222,\"#7201a8\"],[0.3333333333333333,\"#9c179e\"],[0.4444444444444444,\"#bd3786\"],[0.5555555555555556,\"#d8576b\"],[0.6666666666666666,\"#ed7953\"],[0.7777777777777778,\"#fb9f3a\"],[0.8888888888888888,\"#fdca26\"],[1.0,\"#f0f921\"]]}],\"contourcarpet\":[{\"type\":\"contourcarpet\",\"colorbar\":{\"outlinewidth\":0,\"ticks\":\"\"}}],\"contour\":[{\"type\":\"contour\",\"colorbar\":{\"outlinewidth\":0,\"ticks\":\"\"},\"colorscale\":[[0.0,\"#0d0887\"],[0.1111111111111111,\"#46039f\"],[0.2222222222222222,\"#7201a8\"],[0.3333333333333333,\"#9c179e\"],[0.4444444444444444,\"#bd3786\"],[0.5555555555555556,\"#d8576b\"],[0.6666666666666666,\"#ed7953\"],[0.7777777777777778,\"#fb9f3a\"],[0.8888888888888888,\"#fdca26\"],[1.0,\"#f0f921\"]]}],\"surface\":[{\"type\":\"surface\",\"colorbar\":{\"outlinewidth\":0,\"ticks\":\"\"},\"colorscale\":[[0.0,\"#0d0887\"],[0.1111111111111111,\"#46039f\"],[0.2222222222222222,\"#7201a8\"],[0.3333333333333333,\"#9c179e\"],[0.4444444444444444,\"#bd3786\"],[0.5555555555555556,\"#d8576b\"],[0.6666666666666666,\"#ed7953\"],[0.7777777777777778,\"#fb9f3a\"],[0.8888888888888888,\"#fdca26\"],[1.0,\"#f0f921\"]]}],\"mesh3d\":[{\"type\":\"mesh3d\",\"colorbar\":{\"outlinewidth\":0,\"ticks\":\"\"}}],\"scatter\":[{\"fillpattern\":{\"fillmode\":\"overlay\",\"size\":10,\"solidity\":0.2},\"type\":\"scatter\"}],\"parcoords\":[{\"type\":\"parcoords\",\"line\":{\"colorbar\":{\"outlinewidth\":0,\"ticks\":\"\"}}}],\"scatterpolargl\":[{\"type\":\"scatterpolargl\",\"marker\":{\"colorbar\":{\"outlinewidth\":0,\"ticks\":\"\"}}}],\"bar\":[{\"error_x\":{\"color\":\"#2a3f5f\"},\"error_y\":{\"color\":\"#2a3f5f\"},\"marker\":{\"line\":{\"color\":\"#E5ECF6\",\"width\":0.5},\"pattern\":{\"fillmode\":\"overlay\",\"size\":10,\"solidity\":0.2}},\"type\":\"bar\"}],\"scattergeo\":[{\"type\":\"scattergeo\",\"marker\":{\"colorbar\":{\"outlinewidth\":0,\"ticks\":\"\"}}}],\"scatterpolar\":[{\"type\":\"scatterpolar\",\"marker\":{\"colorbar\":{\"outlinewidth\":0,\"ticks\":\"\"}}}],\"histogram\":[{\"marker\":{\"pattern\":{\"fillmode\":\"overlay\",\"size\":10,\"solidity\":0.2}},\"type\":\"histogram\"}],\"scattergl\":[{\"type\":\"scattergl\",\"marker\":{\"colorbar\":{\"outlinewidth\":0,\"ticks\":\"\"}}}],\"scatter3d\":[{\"type\":\"scatter3d\",\"line\":{\"colorbar\":{\"outlinewidth\":0,\"ticks\":\"\"}},\"marker\":{\"colorbar\":{\"outlinewidth\":0,\"ticks\":\"\"}}}],\"scattermapbox\":[{\"type\":\"scattermapbox\",\"marker\":{\"colorbar\":{\"outlinewidth\":0,\"ticks\":\"\"}}}],\"scatterternary\":[{\"type\":\"scatterternary\",\"marker\":{\"colorbar\":{\"outlinewidth\":0,\"ticks\":\"\"}}}],\"scattercarpet\":[{\"type\":\"scattercarpet\",\"marker\":{\"colorbar\":{\"outlinewidth\":0,\"ticks\":\"\"}}}],\"carpet\":[{\"aaxis\":{\"endlinecolor\":\"#2a3f5f\",\"gridcolor\":\"white\",\"linecolor\":\"white\",\"minorgridcolor\":\"white\",\"startlinecolor\":\"#2a3f5f\"},\"baxis\":{\"endlinecolor\":\"#2a3f5f\",\"gridcolor\":\"white\",\"linecolor\":\"white\",\"minorgridcolor\":\"white\",\"startlinecolor\":\"#2a3f5f\"},\"type\":\"carpet\"}],\"table\":[{\"cells\":{\"fill\":{\"color\":\"#EBF0F8\"},\"line\":{\"color\":\"white\"}},\"header\":{\"fill\":{\"color\":\"#C8D4E3\"},\"line\":{\"color\":\"white\"}},\"type\":\"table\"}],\"barpolar\":[{\"marker\":{\"line\":{\"color\":\"#E5ECF6\",\"width\":0.5},\"pattern\":{\"fillmode\":\"overlay\",\"size\":10,\"solidity\":0.2}},\"type\":\"barpolar\"}],\"pie\":[{\"automargin\":true,\"type\":\"pie\"}]},\"layout\":{\"autotypenumbers\":\"strict\",\"colorway\":[\"#636efa\",\"#EF553B\",\"#00cc96\",\"#ab63fa\",\"#FFA15A\",\"#19d3f3\",\"#FF6692\",\"#B6E880\",\"#FF97FF\",\"#FECB52\"],\"font\":{\"color\":\"#2a3f5f\"},\"hovermode\":\"closest\",\"hoverlabel\":{\"align\":\"left\"},\"paper_bgcolor\":\"white\",\"plot_bgcolor\":\"#E5ECF6\",\"polar\":{\"bgcolor\":\"#E5ECF6\",\"angularaxis\":{\"gridcolor\":\"white\",\"linecolor\":\"white\",\"ticks\":\"\"},\"radialaxis\":{\"gridcolor\":\"white\",\"linecolor\":\"white\",\"ticks\":\"\"}},\"ternary\":{\"bgcolor\":\"#E5ECF6\",\"aaxis\":{\"gridcolor\":\"white\",\"linecolor\":\"white\",\"ticks\":\"\"},\"baxis\":{\"gridcolor\":\"white\",\"linecolor\":\"white\",\"ticks\":\"\"},\"caxis\":{\"gridcolor\":\"white\",\"linecolor\":\"white\",\"ticks\":\"\"}},\"coloraxis\":{\"colorbar\":{\"outlinewidth\":0,\"ticks\":\"\"}},\"colorscale\":{\"sequential\":[[0.0,\"#0d0887\"],[0.1111111111111111,\"#46039f\"],[0.2222222222222222,\"#7201a8\"],[0.3333333333333333,\"#9c179e\"],[0.4444444444444444,\"#bd3786\"],[0.5555555555555556,\"#d8576b\"],[0.6666666666666666,\"#ed7953\"],[0.7777777777777778,\"#fb9f3a\"],[0.8888888888888888,\"#fdca26\"],[1.0,\"#f0f921\"]],\"sequentialminus\":[[0.0,\"#0d0887\"],[0.1111111111111111,\"#46039f\"],[0.2222222222222222,\"#7201a8\"],[0.3333333333333333,\"#9c179e\"],[0.4444444444444444,\"#bd3786\"],[0.5555555555555556,\"#d8576b\"],[0.6666666666666666,\"#ed7953\"],[0.7777777777777778,\"#fb9f3a\"],[0.8888888888888888,\"#fdca26\"],[1.0,\"#f0f921\"]],\"diverging\":[[0,\"#8e0152\"],[0.1,\"#c51b7d\"],[0.2,\"#de77ae\"],[0.3,\"#f1b6da\"],[0.4,\"#fde0ef\"],[0.5,\"#f7f7f7\"],[0.6,\"#e6f5d0\"],[0.7,\"#b8e186\"],[0.8,\"#7fbc41\"],[0.9,\"#4d9221\"],[1,\"#276419\"]]},\"xaxis\":{\"gridcolor\":\"white\",\"linecolor\":\"white\",\"ticks\":\"\",\"title\":{\"standoff\":15},\"zerolinecolor\":\"white\",\"automargin\":true,\"zerolinewidth\":2},\"yaxis\":{\"gridcolor\":\"white\",\"linecolor\":\"white\",\"ticks\":\"\",\"title\":{\"standoff\":15},\"zerolinecolor\":\"white\",\"automargin\":true,\"zerolinewidth\":2},\"scene\":{\"xaxis\":{\"backgroundcolor\":\"#E5ECF6\",\"gridcolor\":\"white\",\"linecolor\":\"white\",\"showbackground\":true,\"ticks\":\"\",\"zerolinecolor\":\"white\",\"gridwidth\":2},\"yaxis\":{\"backgroundcolor\":\"#E5ECF6\",\"gridcolor\":\"white\",\"linecolor\":\"white\",\"showbackground\":true,\"ticks\":\"\",\"zerolinecolor\":\"white\",\"gridwidth\":2},\"zaxis\":{\"backgroundcolor\":\"#E5ECF6\",\"gridcolor\":\"white\",\"linecolor\":\"white\",\"showbackground\":true,\"ticks\":\"\",\"zerolinecolor\":\"white\",\"gridwidth\":2}},\"shapedefaults\":{\"line\":{\"color\":\"#2a3f5f\"}},\"annotationdefaults\":{\"arrowcolor\":\"#2a3f5f\",\"arrowhead\":0,\"arrowwidth\":1},\"geo\":{\"bgcolor\":\"white\",\"landcolor\":\"#E5ECF6\",\"subunitcolor\":\"white\",\"showland\":true,\"showlakes\":true,\"lakecolor\":\"white\"},\"title\":{\"x\":0.05},\"mapbox\":{\"style\":\"light\"}}}},                        {\"responsive\": true}                    ).then(function(){\n",
       "                            \n",
       "var gd = document.getElementById('52fae194-036c-42ab-94fd-9ea0dcf811c3');\n",
       "var x = new MutationObserver(function (mutations, observer) {{\n",
       "        var display = window.getComputedStyle(gd).display;\n",
       "        if (!display || display === 'none') {{\n",
       "            console.log([gd, 'removed!']);\n",
       "            Plotly.purge(gd);\n",
       "            observer.disconnect();\n",
       "        }}\n",
       "}});\n",
       "\n",
       "// Listen for the removal of the full notebook cells\n",
       "var notebookContainer = gd.closest('#notebook-container');\n",
       "if (notebookContainer) {{\n",
       "    x.observe(notebookContainer, {childList: true});\n",
       "}}\n",
       "\n",
       "// Listen for the clearing of the current output cell\n",
       "var outputEl = gd.closest('.output');\n",
       "if (outputEl) {{\n",
       "    x.observe(outputEl, {childList: true});\n",
       "}}\n",
       "\n",
       "                        })                };                });            </script>        </div>"
      ]
     },
     "metadata": {},
     "output_type": "display_data"
    }
   ],
   "source": [
    "# colorcale choice https://plotly.com/python/builtin-colorscales/\n",
    "\n",
    "fig = go.Figure(data=go.Choropleth(\n",
    "    locations = gdf['Code'],\n",
    "    z = gdf['N'],\n",
    "    text = gdf['Economy'],\n",
    "    colorscale = 'Viridis',\n",
    "    autocolorscale=False,\n",
    "    reversescale=True,\n",
    "    marker_line_color='darkgray',\n",
    "    marker_line_width=0.5,\n",
    "    colorbar_title = 'N of papers per LMIC'))\n",
    "\n",
    "fig.show()"
   ]
  },
  {
   "cell_type": "code",
   "execution_count": 58,
   "id": "d3bff4d1",
   "metadata": {},
   "outputs": [],
   "source": [
    "df.to_csv('main_df.csv', index=False)"
   ]
  }
 ],
 "metadata": {
  "kernelspec": {
   "display_name": "Python 3 (ipykernel)",
   "language": "python",
   "name": "python3"
  },
  "language_info": {
   "codemirror_mode": {
    "name": "ipython",
    "version": 3
   },
   "file_extension": ".py",
   "mimetype": "text/x-python",
   "name": "python",
   "nbconvert_exporter": "python",
   "pygments_lexer": "ipython3",
   "version": "3.10.12"
  }
 },
 "nbformat": 4,
 "nbformat_minor": 5
}
